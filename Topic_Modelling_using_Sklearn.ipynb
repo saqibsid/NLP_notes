{
  "metadata": {
    "kernelspec": {
      "language": "python",
      "display_name": "Python 3",
      "name": "python3"
    },
    "language_info": {
      "name": "python",
      "version": "3.6.6",
      "mimetype": "text/x-python",
      "codemirror_mode": {
        "name": "ipython",
        "version": 3
      },
      "pygments_lexer": "ipython3",
      "nbconvert_exporter": "python",
      "file_extension": ".py"
    },
    "colab": {
      "provenance": []
    }
  },
  "nbformat_minor": 0,
  "nbformat": 4,
  "cells": [
    {
      "cell_type": "markdown",
      "source": [
        "# Topic Modelling using Sci-kit Learn"
      ],
      "metadata": {
        "_uuid": "9341bf79ac503efb2b0c19cae84b17b48c30e211",
        "id": "E2ivmNk60W_T"
      }
    },
    {
      "cell_type": "markdown",
      "source": [
        "### Getting files from Kaggle"
      ],
      "metadata": {
        "id": "VoCW28eA1Ojd"
      }
    },
    {
      "cell_type": "code",
      "source": [
        "!pip install kaggle"
      ],
      "metadata": {
        "_uuid": "87d8d19cf6c49e0af3e33f6ccd77bad5ec5f46a6",
        "colab": {
          "base_uri": "https://localhost:8080/"
        },
        "id": "VBLtRipZ0W_W",
        "outputId": "3703371b-1e2f-4bb9-d191-96523c573600"
      },
      "execution_count": null,
      "outputs": [
        {
          "output_type": "stream",
          "name": "stdout",
          "text": [
            "Requirement already satisfied: kaggle in /usr/local/lib/python3.10/dist-packages (1.5.16)\n",
            "Requirement already satisfied: six>=1.10 in /usr/local/lib/python3.10/dist-packages (from kaggle) (1.16.0)\n",
            "Requirement already satisfied: certifi in /usr/local/lib/python3.10/dist-packages (from kaggle) (2023.7.22)\n",
            "Requirement already satisfied: python-dateutil in /usr/local/lib/python3.10/dist-packages (from kaggle) (2.8.2)\n",
            "Requirement already satisfied: requests in /usr/local/lib/python3.10/dist-packages (from kaggle) (2.31.0)\n",
            "Requirement already satisfied: tqdm in /usr/local/lib/python3.10/dist-packages (from kaggle) (4.66.1)\n",
            "Requirement already satisfied: python-slugify in /usr/local/lib/python3.10/dist-packages (from kaggle) (8.0.1)\n",
            "Requirement already satisfied: urllib3 in /usr/local/lib/python3.10/dist-packages (from kaggle) (2.0.4)\n",
            "Requirement already satisfied: bleach in /usr/local/lib/python3.10/dist-packages (from kaggle) (6.0.0)\n",
            "Requirement already satisfied: webencodings in /usr/local/lib/python3.10/dist-packages (from bleach->kaggle) (0.5.1)\n",
            "Requirement already satisfied: text-unidecode>=1.3 in /usr/local/lib/python3.10/dist-packages (from python-slugify->kaggle) (1.3)\n",
            "Requirement already satisfied: charset-normalizer<4,>=2 in /usr/local/lib/python3.10/dist-packages (from requests->kaggle) (3.2.0)\n",
            "Requirement already satisfied: idna<4,>=2.5 in /usr/local/lib/python3.10/dist-packages (from requests->kaggle) (3.4)\n"
          ]
        }
      ]
    },
    {
      "cell_type": "code",
      "source": [
        "!mkdir ~/.kaggle\n",
        "!cp /content/kaggle.json ~/.kaggle/kaggle.json\n",
        "!chmod 600 /root/.kaggle/kaggle.json"
      ],
      "metadata": {
        "colab": {
          "base_uri": "https://localhost:8080/"
        },
        "id": "XpfrasKI0wIU",
        "outputId": "706fbe3c-7f47-4c10-e5b6-a4370b74d36a"
      },
      "execution_count": null,
      "outputs": [
        {
          "output_type": "stream",
          "name": "stdout",
          "text": [
            "mkdir: cannot create directory ‘/root/.kaggle’: File exists\n"
          ]
        }
      ]
    },
    {
      "cell_type": "code",
      "source": [
        "! kaggle datasets download therohk/million-headlines"
      ],
      "metadata": {
        "colab": {
          "base_uri": "https://localhost:8080/"
        },
        "id": "RHuhtMIH04z_",
        "outputId": "a364c52b-2a43-4f96-f4bb-18d03398a246"
      },
      "execution_count": null,
      "outputs": [
        {
          "output_type": "stream",
          "name": "stdout",
          "text": [
            "million-headlines.zip: Skipping, found more recently modified local copy (use --force to force download)\n"
          ]
        }
      ]
    },
    {
      "cell_type": "code",
      "source": [
        "!unzip *.zip"
      ],
      "metadata": {
        "colab": {
          "base_uri": "https://localhost:8080/"
        },
        "id": "4lqm-KJK00Hq",
        "outputId": "1f9ffa22-5dba-4e98-a063-3234e73faae2"
      },
      "execution_count": null,
      "outputs": [
        {
          "output_type": "stream",
          "name": "stdout",
          "text": [
            "Archive:  million-headlines.zip\n",
            "replace abcnews-date-text.csv? [y]es, [n]o, [A]ll, [N]one, [r]ename: a\n",
            "error:  invalid response [a]\n",
            "replace abcnews-date-text.csv? [y]es, [n]o, [A]ll, [N]one, [r]ename: A\n",
            "  inflating: abcnews-date-text.csv   \n"
          ]
        }
      ]
    },
    {
      "cell_type": "markdown",
      "source": [
        "# Downloading NLTK Packages"
      ],
      "metadata": {
        "id": "qXGxLiBv2j_n"
      }
    },
    {
      "cell_type": "code",
      "source": [
        "import nltk\n",
        "nltk.download('stopwords')\n",
        "nltk.download('punkt')\n",
        "nltk.download('wordnet')"
      ],
      "metadata": {
        "colab": {
          "base_uri": "https://localhost:8080/"
        },
        "id": "X72ouppV1l8k",
        "outputId": "2704e568-d739-4dba-9749-903cee46e83e"
      },
      "execution_count": null,
      "outputs": [
        {
          "output_type": "stream",
          "name": "stderr",
          "text": [
            "[nltk_data] Downloading package stopwords to /root/nltk_data...\n",
            "[nltk_data]   Package stopwords is already up-to-date!\n",
            "[nltk_data] Downloading package punkt to /root/nltk_data...\n",
            "[nltk_data]   Package punkt is already up-to-date!\n",
            "[nltk_data] Downloading package wordnet to /root/nltk_data...\n",
            "[nltk_data]   Package wordnet is already up-to-date!\n"
          ]
        },
        {
          "output_type": "execute_result",
          "data": {
            "text/plain": [
              "True"
            ]
          },
          "metadata": {},
          "execution_count": 6
        }
      ]
    },
    {
      "cell_type": "markdown",
      "source": [
        "# Importing Libraries"
      ],
      "metadata": {
        "_uuid": "6a503c2851673a3d3ec1eb2c3d6c6e5566292af1",
        "id": "0Kvuph000W_W"
      }
    },
    {
      "cell_type": "code",
      "source": [
        "# data visualisation and manipulation\n",
        "import numpy as np\n",
        "import pandas as pd\n",
        "import matplotlib.pyplot as plt\n",
        "from matplotlib import style\n",
        "import seaborn as sns\n",
        "#configure\n",
        "# sets matplotlib to inline and displays graphs below the corressponding cell.\n",
        "%matplotlib inline\n",
        "style.use('fivethirtyeight')\n",
        "sns.set(style='whitegrid',color_codes=True)\n",
        "\n",
        "#import nltk\n",
        "import nltk\n",
        "from nltk.corpus import stopwords\n",
        "from nltk.tokenize import word_tokenize,sent_tokenize\n",
        "\n",
        "#preprocessing\n",
        "from nltk.corpus import stopwords  #stopwords\n",
        "from nltk import word_tokenize,sent_tokenize # tokenizing\n",
        "from nltk.stem import PorterStemmer,LancasterStemmer  # using the Porter Stemmer and Lancaster Stemmer and others\n",
        "from nltk.stem.snowball import SnowballStemmer\n",
        "from nltk.stem import WordNetLemmatizer  # lammatizer from WordNet\n",
        "\n",
        "# for named entity recognition (NER)\n",
        "from nltk import ne_chunk\n",
        "\n",
        "# vectorizers for creating the document-term-matrix (DTM)\n",
        "from sklearn.feature_extraction.text import TfidfVectorizer,CountVectorizer\n",
        "\n",
        "#stop-words\n",
        "stop_words=set(nltk.corpus.stopwords.words('english'))"
      ],
      "metadata": {
        "id": "5O5_-2kTGD6V",
        "_uuid": "39f140e85d319161012fb67f258dd6b339545b0a",
        "execution": {
          "iopub.status.busy": "2023-09-14T08:06:56.362229Z",
          "iopub.execute_input": "2023-09-14T08:06:56.362767Z",
          "iopub.status.idle": "2023-09-14T08:06:58.921556Z",
          "shell.execute_reply.started": "2023-09-14T08:06:56.362714Z",
          "shell.execute_reply": "2023-09-14T08:06:58.920513Z"
        },
        "trusted": true
      },
      "execution_count": null,
      "outputs": []
    },
    {
      "cell_type": "markdown",
      "source": [
        "# Loading the dataset"
      ],
      "metadata": {
        "_uuid": "a2b520342f1761de78285e76aa6327d9d37b1f4e",
        "id": "y3z9Q3Uh0W_X"
      }
    },
    {
      "cell_type": "code",
      "source": [
        "df=pd.read_csv('/content/abcnews-date-text.csv')"
      ],
      "metadata": {
        "id": "xaPWCpthHVIS",
        "_uuid": "aad495ed355e99947bc3b9816cfad0ff430c17e5",
        "execution": {
          "iopub.status.busy": "2023-09-14T08:06:58.923259Z",
          "iopub.execute_input": "2023-09-14T08:06:58.923879Z",
          "iopub.status.idle": "2023-09-14T08:07:01.711993Z",
          "shell.execute_reply.started": "2023-09-14T08:06:58.923805Z",
          "shell.execute_reply": "2023-09-14T08:07:01.710388Z"
        },
        "trusted": true
      },
      "execution_count": null,
      "outputs": []
    },
    {
      "cell_type": "code",
      "source": [
        "df.head()"
      ],
      "metadata": {
        "id": "Wwf4uKjTIYm2",
        "outputId": "4f6c9a6c-8828-485a-ef33-fb1260ea8559",
        "_uuid": "e09dd69ffa2bae1920f3e10b1af0a8ce0f8ae16d",
        "execution": {
          "iopub.status.busy": "2023-09-14T08:07:01.714763Z",
          "iopub.execute_input": "2023-09-14T08:07:01.715195Z",
          "iopub.status.idle": "2023-09-14T08:07:01.761889Z",
          "shell.execute_reply.started": "2023-09-14T08:07:01.715125Z",
          "shell.execute_reply": "2023-09-14T08:07:01.760609Z"
        },
        "trusted": true,
        "colab": {
          "base_uri": "https://localhost:8080/",
          "height": 206
        }
      },
      "execution_count": null,
      "outputs": [
        {
          "output_type": "execute_result",
          "data": {
            "text/plain": [
              "   publish_date                                      headline_text\n",
              "0      20030219  aba decides against community broadcasting lic...\n",
              "1      20030219     act fire witnesses must be aware of defamation\n",
              "2      20030219     a g calls for infrastructure protection summit\n",
              "3      20030219           air nz staff in aust strike for pay rise\n",
              "4      20030219      air nz strike to affect australian travellers"
            ],
            "text/html": [
              "\n",
              "  <div id=\"df-b1669d67-304e-4721-876a-7cb5871ef483\" class=\"colab-df-container\">\n",
              "    <div>\n",
              "<style scoped>\n",
              "    .dataframe tbody tr th:only-of-type {\n",
              "        vertical-align: middle;\n",
              "    }\n",
              "\n",
              "    .dataframe tbody tr th {\n",
              "        vertical-align: top;\n",
              "    }\n",
              "\n",
              "    .dataframe thead th {\n",
              "        text-align: right;\n",
              "    }\n",
              "</style>\n",
              "<table border=\"1\" class=\"dataframe\">\n",
              "  <thead>\n",
              "    <tr style=\"text-align: right;\">\n",
              "      <th></th>\n",
              "      <th>publish_date</th>\n",
              "      <th>headline_text</th>\n",
              "    </tr>\n",
              "  </thead>\n",
              "  <tbody>\n",
              "    <tr>\n",
              "      <th>0</th>\n",
              "      <td>20030219</td>\n",
              "      <td>aba decides against community broadcasting lic...</td>\n",
              "    </tr>\n",
              "    <tr>\n",
              "      <th>1</th>\n",
              "      <td>20030219</td>\n",
              "      <td>act fire witnesses must be aware of defamation</td>\n",
              "    </tr>\n",
              "    <tr>\n",
              "      <th>2</th>\n",
              "      <td>20030219</td>\n",
              "      <td>a g calls for infrastructure protection summit</td>\n",
              "    </tr>\n",
              "    <tr>\n",
              "      <th>3</th>\n",
              "      <td>20030219</td>\n",
              "      <td>air nz staff in aust strike for pay rise</td>\n",
              "    </tr>\n",
              "    <tr>\n",
              "      <th>4</th>\n",
              "      <td>20030219</td>\n",
              "      <td>air nz strike to affect australian travellers</td>\n",
              "    </tr>\n",
              "  </tbody>\n",
              "</table>\n",
              "</div>\n",
              "    <div class=\"colab-df-buttons\">\n",
              "\n",
              "  <div class=\"colab-df-container\">\n",
              "    <button class=\"colab-df-convert\" onclick=\"convertToInteractive('df-b1669d67-304e-4721-876a-7cb5871ef483')\"\n",
              "            title=\"Convert this dataframe to an interactive table.\"\n",
              "            style=\"display:none;\">\n",
              "\n",
              "  <svg xmlns=\"http://www.w3.org/2000/svg\" height=\"24px\" viewBox=\"0 -960 960 960\">\n",
              "    <path d=\"M120-120v-720h720v720H120Zm60-500h600v-160H180v160Zm220 220h160v-160H400v160Zm0 220h160v-160H400v160ZM180-400h160v-160H180v160Zm440 0h160v-160H620v160ZM180-180h160v-160H180v160Zm440 0h160v-160H620v160Z\"/>\n",
              "  </svg>\n",
              "    </button>\n",
              "\n",
              "  <style>\n",
              "    .colab-df-container {\n",
              "      display:flex;\n",
              "      gap: 12px;\n",
              "    }\n",
              "\n",
              "    .colab-df-convert {\n",
              "      background-color: #E8F0FE;\n",
              "      border: none;\n",
              "      border-radius: 50%;\n",
              "      cursor: pointer;\n",
              "      display: none;\n",
              "      fill: #1967D2;\n",
              "      height: 32px;\n",
              "      padding: 0 0 0 0;\n",
              "      width: 32px;\n",
              "    }\n",
              "\n",
              "    .colab-df-convert:hover {\n",
              "      background-color: #E2EBFA;\n",
              "      box-shadow: 0px 1px 2px rgba(60, 64, 67, 0.3), 0px 1px 3px 1px rgba(60, 64, 67, 0.15);\n",
              "      fill: #174EA6;\n",
              "    }\n",
              "\n",
              "    .colab-df-buttons div {\n",
              "      margin-bottom: 4px;\n",
              "    }\n",
              "\n",
              "    [theme=dark] .colab-df-convert {\n",
              "      background-color: #3B4455;\n",
              "      fill: #D2E3FC;\n",
              "    }\n",
              "\n",
              "    [theme=dark] .colab-df-convert:hover {\n",
              "      background-color: #434B5C;\n",
              "      box-shadow: 0px 1px 3px 1px rgba(0, 0, 0, 0.15);\n",
              "      filter: drop-shadow(0px 1px 2px rgba(0, 0, 0, 0.3));\n",
              "      fill: #FFFFFF;\n",
              "    }\n",
              "  </style>\n",
              "\n",
              "    <script>\n",
              "      const buttonEl =\n",
              "        document.querySelector('#df-b1669d67-304e-4721-876a-7cb5871ef483 button.colab-df-convert');\n",
              "      buttonEl.style.display =\n",
              "        google.colab.kernel.accessAllowed ? 'block' : 'none';\n",
              "\n",
              "      async function convertToInteractive(key) {\n",
              "        const element = document.querySelector('#df-b1669d67-304e-4721-876a-7cb5871ef483');\n",
              "        const dataTable =\n",
              "          await google.colab.kernel.invokeFunction('convertToInteractive',\n",
              "                                                    [key], {});\n",
              "        if (!dataTable) return;\n",
              "\n",
              "        const docLinkHtml = 'Like what you see? Visit the ' +\n",
              "          '<a target=\"_blank\" href=https://colab.research.google.com/notebooks/data_table.ipynb>data table notebook</a>'\n",
              "          + ' to learn more about interactive tables.';\n",
              "        element.innerHTML = '';\n",
              "        dataTable['output_type'] = 'display_data';\n",
              "        await google.colab.output.renderOutput(dataTable, element);\n",
              "        const docLink = document.createElement('div');\n",
              "        docLink.innerHTML = docLinkHtml;\n",
              "        element.appendChild(docLink);\n",
              "      }\n",
              "    </script>\n",
              "  </div>\n",
              "\n",
              "\n",
              "<div id=\"df-7dd072c8-8d86-410d-b019-d965894d9fb7\">\n",
              "  <button class=\"colab-df-quickchart\" onclick=\"quickchart('df-7dd072c8-8d86-410d-b019-d965894d9fb7')\"\n",
              "            title=\"Suggest charts.\"\n",
              "            style=\"display:none;\">\n",
              "\n",
              "<svg xmlns=\"http://www.w3.org/2000/svg\" height=\"24px\"viewBox=\"0 0 24 24\"\n",
              "     width=\"24px\">\n",
              "    <g>\n",
              "        <path d=\"M19 3H5c-1.1 0-2 .9-2 2v14c0 1.1.9 2 2 2h14c1.1 0 2-.9 2-2V5c0-1.1-.9-2-2-2zM9 17H7v-7h2v7zm4 0h-2V7h2v10zm4 0h-2v-4h2v4z\"/>\n",
              "    </g>\n",
              "</svg>\n",
              "  </button>\n",
              "\n",
              "<style>\n",
              "  .colab-df-quickchart {\n",
              "      --bg-color: #E8F0FE;\n",
              "      --fill-color: #1967D2;\n",
              "      --hover-bg-color: #E2EBFA;\n",
              "      --hover-fill-color: #174EA6;\n",
              "      --disabled-fill-color: #AAA;\n",
              "      --disabled-bg-color: #DDD;\n",
              "  }\n",
              "\n",
              "  [theme=dark] .colab-df-quickchart {\n",
              "      --bg-color: #3B4455;\n",
              "      --fill-color: #D2E3FC;\n",
              "      --hover-bg-color: #434B5C;\n",
              "      --hover-fill-color: #FFFFFF;\n",
              "      --disabled-bg-color: #3B4455;\n",
              "      --disabled-fill-color: #666;\n",
              "  }\n",
              "\n",
              "  .colab-df-quickchart {\n",
              "    background-color: var(--bg-color);\n",
              "    border: none;\n",
              "    border-radius: 50%;\n",
              "    cursor: pointer;\n",
              "    display: none;\n",
              "    fill: var(--fill-color);\n",
              "    height: 32px;\n",
              "    padding: 0;\n",
              "    width: 32px;\n",
              "  }\n",
              "\n",
              "  .colab-df-quickchart:hover {\n",
              "    background-color: var(--hover-bg-color);\n",
              "    box-shadow: 0 1px 2px rgba(60, 64, 67, 0.3), 0 1px 3px 1px rgba(60, 64, 67, 0.15);\n",
              "    fill: var(--button-hover-fill-color);\n",
              "  }\n",
              "\n",
              "  .colab-df-quickchart-complete:disabled,\n",
              "  .colab-df-quickchart-complete:disabled:hover {\n",
              "    background-color: var(--disabled-bg-color);\n",
              "    fill: var(--disabled-fill-color);\n",
              "    box-shadow: none;\n",
              "  }\n",
              "\n",
              "  .colab-df-spinner {\n",
              "    border: 2px solid var(--fill-color);\n",
              "    border-color: transparent;\n",
              "    border-bottom-color: var(--fill-color);\n",
              "    animation:\n",
              "      spin 1s steps(1) infinite;\n",
              "  }\n",
              "\n",
              "  @keyframes spin {\n",
              "    0% {\n",
              "      border-color: transparent;\n",
              "      border-bottom-color: var(--fill-color);\n",
              "      border-left-color: var(--fill-color);\n",
              "    }\n",
              "    20% {\n",
              "      border-color: transparent;\n",
              "      border-left-color: var(--fill-color);\n",
              "      border-top-color: var(--fill-color);\n",
              "    }\n",
              "    30% {\n",
              "      border-color: transparent;\n",
              "      border-left-color: var(--fill-color);\n",
              "      border-top-color: var(--fill-color);\n",
              "      border-right-color: var(--fill-color);\n",
              "    }\n",
              "    40% {\n",
              "      border-color: transparent;\n",
              "      border-right-color: var(--fill-color);\n",
              "      border-top-color: var(--fill-color);\n",
              "    }\n",
              "    60% {\n",
              "      border-color: transparent;\n",
              "      border-right-color: var(--fill-color);\n",
              "    }\n",
              "    80% {\n",
              "      border-color: transparent;\n",
              "      border-right-color: var(--fill-color);\n",
              "      border-bottom-color: var(--fill-color);\n",
              "    }\n",
              "    90% {\n",
              "      border-color: transparent;\n",
              "      border-bottom-color: var(--fill-color);\n",
              "    }\n",
              "  }\n",
              "</style>\n",
              "\n",
              "  <script>\n",
              "    async function quickchart(key) {\n",
              "      const quickchartButtonEl =\n",
              "        document.querySelector('#' + key + ' button');\n",
              "      quickchartButtonEl.disabled = true;  // To prevent multiple clicks.\n",
              "      quickchartButtonEl.classList.add('colab-df-spinner');\n",
              "      try {\n",
              "        const charts = await google.colab.kernel.invokeFunction(\n",
              "            'suggestCharts', [key], {});\n",
              "      } catch (error) {\n",
              "        console.error('Error during call to suggestCharts:', error);\n",
              "      }\n",
              "      quickchartButtonEl.classList.remove('colab-df-spinner');\n",
              "      quickchartButtonEl.classList.add('colab-df-quickchart-complete');\n",
              "    }\n",
              "    (() => {\n",
              "      let quickchartButtonEl =\n",
              "        document.querySelector('#df-7dd072c8-8d86-410d-b019-d965894d9fb7 button');\n",
              "      quickchartButtonEl.style.display =\n",
              "        google.colab.kernel.accessAllowed ? 'block' : 'none';\n",
              "    })();\n",
              "  </script>\n",
              "</div>\n",
              "    </div>\n",
              "  </div>\n"
            ]
          },
          "metadata": {},
          "execution_count": 9
        }
      ]
    },
    {
      "cell_type": "markdown",
      "source": [
        "We will drop the **'publish_date'** column as it is not required for Topic Modelling."
      ],
      "metadata": {
        "_uuid": "ece312ea148c498c5584e83f6a36fce2dc236198",
        "id": "JNk0sysM0W_Y"
      }
    },
    {
      "cell_type": "code",
      "source": [
        "df.drop(['publish_date'],axis=1,inplace=True)"
      ],
      "metadata": {
        "id": "wiuusKeEIr_o",
        "_uuid": "2a6df530624e3b9c3cfb43659ba9c0f67e2aa1d4",
        "execution": {
          "iopub.status.busy": "2023-09-14T08:07:01.763501Z",
          "iopub.execute_input": "2023-09-14T08:07:01.763783Z",
          "iopub.status.idle": "2023-09-14T08:07:01.797962Z",
          "shell.execute_reply.started": "2023-09-14T08:07:01.763736Z",
          "shell.execute_reply": "2023-09-14T08:07:01.796957Z"
        },
        "trusted": true
      },
      "execution_count": null,
      "outputs": []
    },
    {
      "cell_type": "code",
      "source": [
        "df.head(10)"
      ],
      "metadata": {
        "id": "FxegmHWtI3eJ",
        "outputId": "9929bbcf-46a5-4e50-eeae-84b68d32a707",
        "_uuid": "bd907b93c352fce35e8e6a886c01e9cf344ce455",
        "execution": {
          "iopub.status.busy": "2023-09-14T08:07:01.799371Z",
          "iopub.execute_input": "2023-09-14T08:07:01.799885Z",
          "iopub.status.idle": "2023-09-14T08:07:01.830031Z",
          "shell.execute_reply.started": "2023-09-14T08:07:01.799813Z",
          "shell.execute_reply": "2023-09-14T08:07:01.828203Z"
        },
        "trusted": true,
        "colab": {
          "base_uri": "https://localhost:8080/",
          "height": 363
        }
      },
      "execution_count": null,
      "outputs": [
        {
          "output_type": "execute_result",
          "data": {
            "text/plain": [
              "                                       headline_text\n",
              "0  aba decides against community broadcasting lic...\n",
              "1     act fire witnesses must be aware of defamation\n",
              "2     a g calls for infrastructure protection summit\n",
              "3           air nz staff in aust strike for pay rise\n",
              "4      air nz strike to affect australian travellers\n",
              "5                  ambitious olsson wins triple jump\n",
              "6         antic delighted with record breaking barca\n",
              "7  aussie qualifier stosur wastes four memphis match\n",
              "8       aust addresses un security council over iraq\n",
              "9         australia is locked into war timetable opp"
            ],
            "text/html": [
              "\n",
              "  <div id=\"df-6d3b9811-26dc-40a9-a481-ca12961523ca\" class=\"colab-df-container\">\n",
              "    <div>\n",
              "<style scoped>\n",
              "    .dataframe tbody tr th:only-of-type {\n",
              "        vertical-align: middle;\n",
              "    }\n",
              "\n",
              "    .dataframe tbody tr th {\n",
              "        vertical-align: top;\n",
              "    }\n",
              "\n",
              "    .dataframe thead th {\n",
              "        text-align: right;\n",
              "    }\n",
              "</style>\n",
              "<table border=\"1\" class=\"dataframe\">\n",
              "  <thead>\n",
              "    <tr style=\"text-align: right;\">\n",
              "      <th></th>\n",
              "      <th>headline_text</th>\n",
              "    </tr>\n",
              "  </thead>\n",
              "  <tbody>\n",
              "    <tr>\n",
              "      <th>0</th>\n",
              "      <td>aba decides against community broadcasting lic...</td>\n",
              "    </tr>\n",
              "    <tr>\n",
              "      <th>1</th>\n",
              "      <td>act fire witnesses must be aware of defamation</td>\n",
              "    </tr>\n",
              "    <tr>\n",
              "      <th>2</th>\n",
              "      <td>a g calls for infrastructure protection summit</td>\n",
              "    </tr>\n",
              "    <tr>\n",
              "      <th>3</th>\n",
              "      <td>air nz staff in aust strike for pay rise</td>\n",
              "    </tr>\n",
              "    <tr>\n",
              "      <th>4</th>\n",
              "      <td>air nz strike to affect australian travellers</td>\n",
              "    </tr>\n",
              "    <tr>\n",
              "      <th>5</th>\n",
              "      <td>ambitious olsson wins triple jump</td>\n",
              "    </tr>\n",
              "    <tr>\n",
              "      <th>6</th>\n",
              "      <td>antic delighted with record breaking barca</td>\n",
              "    </tr>\n",
              "    <tr>\n",
              "      <th>7</th>\n",
              "      <td>aussie qualifier stosur wastes four memphis match</td>\n",
              "    </tr>\n",
              "    <tr>\n",
              "      <th>8</th>\n",
              "      <td>aust addresses un security council over iraq</td>\n",
              "    </tr>\n",
              "    <tr>\n",
              "      <th>9</th>\n",
              "      <td>australia is locked into war timetable opp</td>\n",
              "    </tr>\n",
              "  </tbody>\n",
              "</table>\n",
              "</div>\n",
              "    <div class=\"colab-df-buttons\">\n",
              "\n",
              "  <div class=\"colab-df-container\">\n",
              "    <button class=\"colab-df-convert\" onclick=\"convertToInteractive('df-6d3b9811-26dc-40a9-a481-ca12961523ca')\"\n",
              "            title=\"Convert this dataframe to an interactive table.\"\n",
              "            style=\"display:none;\">\n",
              "\n",
              "  <svg xmlns=\"http://www.w3.org/2000/svg\" height=\"24px\" viewBox=\"0 -960 960 960\">\n",
              "    <path d=\"M120-120v-720h720v720H120Zm60-500h600v-160H180v160Zm220 220h160v-160H400v160Zm0 220h160v-160H400v160ZM180-400h160v-160H180v160Zm440 0h160v-160H620v160ZM180-180h160v-160H180v160Zm440 0h160v-160H620v160Z\"/>\n",
              "  </svg>\n",
              "    </button>\n",
              "\n",
              "  <style>\n",
              "    .colab-df-container {\n",
              "      display:flex;\n",
              "      gap: 12px;\n",
              "    }\n",
              "\n",
              "    .colab-df-convert {\n",
              "      background-color: #E8F0FE;\n",
              "      border: none;\n",
              "      border-radius: 50%;\n",
              "      cursor: pointer;\n",
              "      display: none;\n",
              "      fill: #1967D2;\n",
              "      height: 32px;\n",
              "      padding: 0 0 0 0;\n",
              "      width: 32px;\n",
              "    }\n",
              "\n",
              "    .colab-df-convert:hover {\n",
              "      background-color: #E2EBFA;\n",
              "      box-shadow: 0px 1px 2px rgba(60, 64, 67, 0.3), 0px 1px 3px 1px rgba(60, 64, 67, 0.15);\n",
              "      fill: #174EA6;\n",
              "    }\n",
              "\n",
              "    .colab-df-buttons div {\n",
              "      margin-bottom: 4px;\n",
              "    }\n",
              "\n",
              "    [theme=dark] .colab-df-convert {\n",
              "      background-color: #3B4455;\n",
              "      fill: #D2E3FC;\n",
              "    }\n",
              "\n",
              "    [theme=dark] .colab-df-convert:hover {\n",
              "      background-color: #434B5C;\n",
              "      box-shadow: 0px 1px 3px 1px rgba(0, 0, 0, 0.15);\n",
              "      filter: drop-shadow(0px 1px 2px rgba(0, 0, 0, 0.3));\n",
              "      fill: #FFFFFF;\n",
              "    }\n",
              "  </style>\n",
              "\n",
              "    <script>\n",
              "      const buttonEl =\n",
              "        document.querySelector('#df-6d3b9811-26dc-40a9-a481-ca12961523ca button.colab-df-convert');\n",
              "      buttonEl.style.display =\n",
              "        google.colab.kernel.accessAllowed ? 'block' : 'none';\n",
              "\n",
              "      async function convertToInteractive(key) {\n",
              "        const element = document.querySelector('#df-6d3b9811-26dc-40a9-a481-ca12961523ca');\n",
              "        const dataTable =\n",
              "          await google.colab.kernel.invokeFunction('convertToInteractive',\n",
              "                                                    [key], {});\n",
              "        if (!dataTable) return;\n",
              "\n",
              "        const docLinkHtml = 'Like what you see? Visit the ' +\n",
              "          '<a target=\"_blank\" href=https://colab.research.google.com/notebooks/data_table.ipynb>data table notebook</a>'\n",
              "          + ' to learn more about interactive tables.';\n",
              "        element.innerHTML = '';\n",
              "        dataTable['output_type'] = 'display_data';\n",
              "        await google.colab.output.renderOutput(dataTable, element);\n",
              "        const docLink = document.createElement('div');\n",
              "        docLink.innerHTML = docLinkHtml;\n",
              "        element.appendChild(docLink);\n",
              "      }\n",
              "    </script>\n",
              "  </div>\n",
              "\n",
              "\n",
              "<div id=\"df-f1cc72a6-c939-41f5-923c-a205ad899b0a\">\n",
              "  <button class=\"colab-df-quickchart\" onclick=\"quickchart('df-f1cc72a6-c939-41f5-923c-a205ad899b0a')\"\n",
              "            title=\"Suggest charts.\"\n",
              "            style=\"display:none;\">\n",
              "\n",
              "<svg xmlns=\"http://www.w3.org/2000/svg\" height=\"24px\"viewBox=\"0 0 24 24\"\n",
              "     width=\"24px\">\n",
              "    <g>\n",
              "        <path d=\"M19 3H5c-1.1 0-2 .9-2 2v14c0 1.1.9 2 2 2h14c1.1 0 2-.9 2-2V5c0-1.1-.9-2-2-2zM9 17H7v-7h2v7zm4 0h-2V7h2v10zm4 0h-2v-4h2v4z\"/>\n",
              "    </g>\n",
              "</svg>\n",
              "  </button>\n",
              "\n",
              "<style>\n",
              "  .colab-df-quickchart {\n",
              "      --bg-color: #E8F0FE;\n",
              "      --fill-color: #1967D2;\n",
              "      --hover-bg-color: #E2EBFA;\n",
              "      --hover-fill-color: #174EA6;\n",
              "      --disabled-fill-color: #AAA;\n",
              "      --disabled-bg-color: #DDD;\n",
              "  }\n",
              "\n",
              "  [theme=dark] .colab-df-quickchart {\n",
              "      --bg-color: #3B4455;\n",
              "      --fill-color: #D2E3FC;\n",
              "      --hover-bg-color: #434B5C;\n",
              "      --hover-fill-color: #FFFFFF;\n",
              "      --disabled-bg-color: #3B4455;\n",
              "      --disabled-fill-color: #666;\n",
              "  }\n",
              "\n",
              "  .colab-df-quickchart {\n",
              "    background-color: var(--bg-color);\n",
              "    border: none;\n",
              "    border-radius: 50%;\n",
              "    cursor: pointer;\n",
              "    display: none;\n",
              "    fill: var(--fill-color);\n",
              "    height: 32px;\n",
              "    padding: 0;\n",
              "    width: 32px;\n",
              "  }\n",
              "\n",
              "  .colab-df-quickchart:hover {\n",
              "    background-color: var(--hover-bg-color);\n",
              "    box-shadow: 0 1px 2px rgba(60, 64, 67, 0.3), 0 1px 3px 1px rgba(60, 64, 67, 0.15);\n",
              "    fill: var(--button-hover-fill-color);\n",
              "  }\n",
              "\n",
              "  .colab-df-quickchart-complete:disabled,\n",
              "  .colab-df-quickchart-complete:disabled:hover {\n",
              "    background-color: var(--disabled-bg-color);\n",
              "    fill: var(--disabled-fill-color);\n",
              "    box-shadow: none;\n",
              "  }\n",
              "\n",
              "  .colab-df-spinner {\n",
              "    border: 2px solid var(--fill-color);\n",
              "    border-color: transparent;\n",
              "    border-bottom-color: var(--fill-color);\n",
              "    animation:\n",
              "      spin 1s steps(1) infinite;\n",
              "  }\n",
              "\n",
              "  @keyframes spin {\n",
              "    0% {\n",
              "      border-color: transparent;\n",
              "      border-bottom-color: var(--fill-color);\n",
              "      border-left-color: var(--fill-color);\n",
              "    }\n",
              "    20% {\n",
              "      border-color: transparent;\n",
              "      border-left-color: var(--fill-color);\n",
              "      border-top-color: var(--fill-color);\n",
              "    }\n",
              "    30% {\n",
              "      border-color: transparent;\n",
              "      border-left-color: var(--fill-color);\n",
              "      border-top-color: var(--fill-color);\n",
              "      border-right-color: var(--fill-color);\n",
              "    }\n",
              "    40% {\n",
              "      border-color: transparent;\n",
              "      border-right-color: var(--fill-color);\n",
              "      border-top-color: var(--fill-color);\n",
              "    }\n",
              "    60% {\n",
              "      border-color: transparent;\n",
              "      border-right-color: var(--fill-color);\n",
              "    }\n",
              "    80% {\n",
              "      border-color: transparent;\n",
              "      border-right-color: var(--fill-color);\n",
              "      border-bottom-color: var(--fill-color);\n",
              "    }\n",
              "    90% {\n",
              "      border-color: transparent;\n",
              "      border-bottom-color: var(--fill-color);\n",
              "    }\n",
              "  }\n",
              "</style>\n",
              "\n",
              "  <script>\n",
              "    async function quickchart(key) {\n",
              "      const quickchartButtonEl =\n",
              "        document.querySelector('#' + key + ' button');\n",
              "      quickchartButtonEl.disabled = true;  // To prevent multiple clicks.\n",
              "      quickchartButtonEl.classList.add('colab-df-spinner');\n",
              "      try {\n",
              "        const charts = await google.colab.kernel.invokeFunction(\n",
              "            'suggestCharts', [key], {});\n",
              "      } catch (error) {\n",
              "        console.error('Error during call to suggestCharts:', error);\n",
              "      }\n",
              "      quickchartButtonEl.classList.remove('colab-df-spinner');\n",
              "      quickchartButtonEl.classList.add('colab-df-quickchart-complete');\n",
              "    }\n",
              "    (() => {\n",
              "      let quickchartButtonEl =\n",
              "        document.querySelector('#df-f1cc72a6-c939-41f5-923c-a205ad899b0a button');\n",
              "      quickchartButtonEl.style.display =\n",
              "        google.colab.kernel.accessAllowed ? 'block' : 'none';\n",
              "    })();\n",
              "  </script>\n",
              "</div>\n",
              "    </div>\n",
              "  </div>\n"
            ]
          },
          "metadata": {},
          "execution_count": 11
        }
      ]
    },
    {
      "cell_type": "code",
      "source": [
        "len(df)"
      ],
      "metadata": {
        "colab": {
          "base_uri": "https://localhost:8080/"
        },
        "id": "YP3x6LqR5ReZ",
        "outputId": "e7d1720f-ebca-4ce4-d955-afb5d71a0d10"
      },
      "execution_count": null,
      "outputs": [
        {
          "output_type": "execute_result",
          "data": {
            "text/plain": [
              "1244184"
            ]
          },
          "metadata": {},
          "execution_count": 12
        }
      ]
    },
    {
      "cell_type": "markdown",
      "source": [
        "# Text Preprocessing\n",
        "\n",
        "We will use the following steps in processing.\n",
        "1. Lemmatizer\n",
        "2. Stop word removal\n",
        "3. Removing words less than 3 characters\n"
      ],
      "metadata": {
        "_uuid": "2043c3fc7cb55f29282da53bf8ce8315aec19556",
        "id": "UbFINUCh0W_Z"
      }
    },
    {
      "cell_type": "code",
      "source": [
        "def clean_text(headline):\n",
        "  le=WordNetLemmatizer()\n",
        "  word_tokens=word_tokenize(headline)\n",
        "  tokens=[le.lemmatize(w) for w in word_tokens if w not in stop_words and len(w)>3]\n",
        "  cleaned_text=\" \".join(tokens)\n",
        "  return cleaned_text"
      ],
      "metadata": {
        "id": "10MF-YmnI7vp",
        "_uuid": "c01abf16fc6c3b72873a40246d88f4f2d84af6a6",
        "execution": {
          "iopub.status.busy": "2023-09-14T08:07:01.832463Z",
          "iopub.execute_input": "2023-09-14T08:07:01.832893Z",
          "iopub.status.idle": "2023-09-14T08:07:01.845887Z",
          "shell.execute_reply.started": "2023-09-14T08:07:01.832827Z",
          "shell.execute_reply": "2023-09-14T08:07:01.844595Z"
        },
        "trusted": true
      },
      "execution_count": null,
      "outputs": []
    },
    {
      "cell_type": "markdown",
      "source": [
        "The following text takes a long amount of time."
      ],
      "metadata": {
        "id": "zzyijAjr5Nj7"
      }
    },
    {
      "cell_type": "code",
      "source": [
        "%time\n",
        "df['headline_cleaned_text']=df['headline_text'].apply(clean_text)"
      ],
      "metadata": {
        "id": "J9cX-1YxSisp",
        "_uuid": "0249f1e9dc0d448aa55778d88b17380cbb099b27",
        "execution": {
          "iopub.status.busy": "2023-09-14T08:07:01.847444Z",
          "iopub.execute_input": "2023-09-14T08:07:01.847857Z",
          "iopub.status.idle": "2023-09-14T08:12:14.210338Z",
          "shell.execute_reply.started": "2023-09-14T08:07:01.847679Z",
          "shell.execute_reply": "2023-09-14T08:12:14.209148Z"
        },
        "trusted": true,
        "colab": {
          "base_uri": "https://localhost:8080/"
        },
        "outputId": "1c803925-b679-4f35-9de8-36ad3c27b61d"
      },
      "execution_count": null,
      "outputs": [
        {
          "output_type": "stream",
          "name": "stdout",
          "text": [
            "CPU times: user 3 µs, sys: 0 ns, total: 3 µs\n",
            "Wall time: 7.87 µs\n"
          ]
        }
      ]
    },
    {
      "cell_type": "code",
      "source": [
        "df.head()"
      ],
      "metadata": {
        "id": "Qw6e2o8SSzi2",
        "outputId": "46bd6344-ea5a-4300-a111-851fd5776ad5",
        "_uuid": "c81efcbf76b11b4a08c18e4ce6147fa35bfd2348",
        "execution": {
          "iopub.status.busy": "2023-09-14T08:12:14.212424Z",
          "iopub.execute_input": "2023-09-14T08:12:14.213031Z",
          "iopub.status.idle": "2023-09-14T08:12:14.233580Z",
          "shell.execute_reply.started": "2023-09-14T08:12:14.212776Z",
          "shell.execute_reply": "2023-09-14T08:12:14.232282Z"
        },
        "trusted": true,
        "colab": {
          "base_uri": "https://localhost:8080/",
          "height": 206
        }
      },
      "execution_count": null,
      "outputs": [
        {
          "output_type": "execute_result",
          "data": {
            "text/plain": [
              "                                       headline_text  \\\n",
              "0  aba decides against community broadcasting lic...   \n",
              "1     act fire witnesses must be aware of defamation   \n",
              "2     a g calls for infrastructure protection summit   \n",
              "3           air nz staff in aust strike for pay rise   \n",
              "4      air nz strike to affect australian travellers   \n",
              "\n",
              "                    headline_cleaned_text  \n",
              "0  decides community broadcasting licence  \n",
              "1      fire witness must aware defamation  \n",
              "2   call infrastructure protection summit  \n",
              "3                  staff aust strike rise  \n",
              "4      strike affect australian traveller  "
            ],
            "text/html": [
              "\n",
              "  <div id=\"df-c8599b4d-7578-4f25-8d30-ddfb7fb368da\" class=\"colab-df-container\">\n",
              "    <div>\n",
              "<style scoped>\n",
              "    .dataframe tbody tr th:only-of-type {\n",
              "        vertical-align: middle;\n",
              "    }\n",
              "\n",
              "    .dataframe tbody tr th {\n",
              "        vertical-align: top;\n",
              "    }\n",
              "\n",
              "    .dataframe thead th {\n",
              "        text-align: right;\n",
              "    }\n",
              "</style>\n",
              "<table border=\"1\" class=\"dataframe\">\n",
              "  <thead>\n",
              "    <tr style=\"text-align: right;\">\n",
              "      <th></th>\n",
              "      <th>headline_text</th>\n",
              "      <th>headline_cleaned_text</th>\n",
              "    </tr>\n",
              "  </thead>\n",
              "  <tbody>\n",
              "    <tr>\n",
              "      <th>0</th>\n",
              "      <td>aba decides against community broadcasting lic...</td>\n",
              "      <td>decides community broadcasting licence</td>\n",
              "    </tr>\n",
              "    <tr>\n",
              "      <th>1</th>\n",
              "      <td>act fire witnesses must be aware of defamation</td>\n",
              "      <td>fire witness must aware defamation</td>\n",
              "    </tr>\n",
              "    <tr>\n",
              "      <th>2</th>\n",
              "      <td>a g calls for infrastructure protection summit</td>\n",
              "      <td>call infrastructure protection summit</td>\n",
              "    </tr>\n",
              "    <tr>\n",
              "      <th>3</th>\n",
              "      <td>air nz staff in aust strike for pay rise</td>\n",
              "      <td>staff aust strike rise</td>\n",
              "    </tr>\n",
              "    <tr>\n",
              "      <th>4</th>\n",
              "      <td>air nz strike to affect australian travellers</td>\n",
              "      <td>strike affect australian traveller</td>\n",
              "    </tr>\n",
              "  </tbody>\n",
              "</table>\n",
              "</div>\n",
              "    <div class=\"colab-df-buttons\">\n",
              "\n",
              "  <div class=\"colab-df-container\">\n",
              "    <button class=\"colab-df-convert\" onclick=\"convertToInteractive('df-c8599b4d-7578-4f25-8d30-ddfb7fb368da')\"\n",
              "            title=\"Convert this dataframe to an interactive table.\"\n",
              "            style=\"display:none;\">\n",
              "\n",
              "  <svg xmlns=\"http://www.w3.org/2000/svg\" height=\"24px\" viewBox=\"0 -960 960 960\">\n",
              "    <path d=\"M120-120v-720h720v720H120Zm60-500h600v-160H180v160Zm220 220h160v-160H400v160Zm0 220h160v-160H400v160ZM180-400h160v-160H180v160Zm440 0h160v-160H620v160ZM180-180h160v-160H180v160Zm440 0h160v-160H620v160Z\"/>\n",
              "  </svg>\n",
              "    </button>\n",
              "\n",
              "  <style>\n",
              "    .colab-df-container {\n",
              "      display:flex;\n",
              "      gap: 12px;\n",
              "    }\n",
              "\n",
              "    .colab-df-convert {\n",
              "      background-color: #E8F0FE;\n",
              "      border: none;\n",
              "      border-radius: 50%;\n",
              "      cursor: pointer;\n",
              "      display: none;\n",
              "      fill: #1967D2;\n",
              "      height: 32px;\n",
              "      padding: 0 0 0 0;\n",
              "      width: 32px;\n",
              "    }\n",
              "\n",
              "    .colab-df-convert:hover {\n",
              "      background-color: #E2EBFA;\n",
              "      box-shadow: 0px 1px 2px rgba(60, 64, 67, 0.3), 0px 1px 3px 1px rgba(60, 64, 67, 0.15);\n",
              "      fill: #174EA6;\n",
              "    }\n",
              "\n",
              "    .colab-df-buttons div {\n",
              "      margin-bottom: 4px;\n",
              "    }\n",
              "\n",
              "    [theme=dark] .colab-df-convert {\n",
              "      background-color: #3B4455;\n",
              "      fill: #D2E3FC;\n",
              "    }\n",
              "\n",
              "    [theme=dark] .colab-df-convert:hover {\n",
              "      background-color: #434B5C;\n",
              "      box-shadow: 0px 1px 3px 1px rgba(0, 0, 0, 0.15);\n",
              "      filter: drop-shadow(0px 1px 2px rgba(0, 0, 0, 0.3));\n",
              "      fill: #FFFFFF;\n",
              "    }\n",
              "  </style>\n",
              "\n",
              "    <script>\n",
              "      const buttonEl =\n",
              "        document.querySelector('#df-c8599b4d-7578-4f25-8d30-ddfb7fb368da button.colab-df-convert');\n",
              "      buttonEl.style.display =\n",
              "        google.colab.kernel.accessAllowed ? 'block' : 'none';\n",
              "\n",
              "      async function convertToInteractive(key) {\n",
              "        const element = document.querySelector('#df-c8599b4d-7578-4f25-8d30-ddfb7fb368da');\n",
              "        const dataTable =\n",
              "          await google.colab.kernel.invokeFunction('convertToInteractive',\n",
              "                                                    [key], {});\n",
              "        if (!dataTable) return;\n",
              "\n",
              "        const docLinkHtml = 'Like what you see? Visit the ' +\n",
              "          '<a target=\"_blank\" href=https://colab.research.google.com/notebooks/data_table.ipynb>data table notebook</a>'\n",
              "          + ' to learn more about interactive tables.';\n",
              "        element.innerHTML = '';\n",
              "        dataTable['output_type'] = 'display_data';\n",
              "        await google.colab.output.renderOutput(dataTable, element);\n",
              "        const docLink = document.createElement('div');\n",
              "        docLink.innerHTML = docLinkHtml;\n",
              "        element.appendChild(docLink);\n",
              "      }\n",
              "    </script>\n",
              "  </div>\n",
              "\n",
              "\n",
              "<div id=\"df-f4703287-460c-4335-b4b7-a80f336832bb\">\n",
              "  <button class=\"colab-df-quickchart\" onclick=\"quickchart('df-f4703287-460c-4335-b4b7-a80f336832bb')\"\n",
              "            title=\"Suggest charts.\"\n",
              "            style=\"display:none;\">\n",
              "\n",
              "<svg xmlns=\"http://www.w3.org/2000/svg\" height=\"24px\"viewBox=\"0 0 24 24\"\n",
              "     width=\"24px\">\n",
              "    <g>\n",
              "        <path d=\"M19 3H5c-1.1 0-2 .9-2 2v14c0 1.1.9 2 2 2h14c1.1 0 2-.9 2-2V5c0-1.1-.9-2-2-2zM9 17H7v-7h2v7zm4 0h-2V7h2v10zm4 0h-2v-4h2v4z\"/>\n",
              "    </g>\n",
              "</svg>\n",
              "  </button>\n",
              "\n",
              "<style>\n",
              "  .colab-df-quickchart {\n",
              "      --bg-color: #E8F0FE;\n",
              "      --fill-color: #1967D2;\n",
              "      --hover-bg-color: #E2EBFA;\n",
              "      --hover-fill-color: #174EA6;\n",
              "      --disabled-fill-color: #AAA;\n",
              "      --disabled-bg-color: #DDD;\n",
              "  }\n",
              "\n",
              "  [theme=dark] .colab-df-quickchart {\n",
              "      --bg-color: #3B4455;\n",
              "      --fill-color: #D2E3FC;\n",
              "      --hover-bg-color: #434B5C;\n",
              "      --hover-fill-color: #FFFFFF;\n",
              "      --disabled-bg-color: #3B4455;\n",
              "      --disabled-fill-color: #666;\n",
              "  }\n",
              "\n",
              "  .colab-df-quickchart {\n",
              "    background-color: var(--bg-color);\n",
              "    border: none;\n",
              "    border-radius: 50%;\n",
              "    cursor: pointer;\n",
              "    display: none;\n",
              "    fill: var(--fill-color);\n",
              "    height: 32px;\n",
              "    padding: 0;\n",
              "    width: 32px;\n",
              "  }\n",
              "\n",
              "  .colab-df-quickchart:hover {\n",
              "    background-color: var(--hover-bg-color);\n",
              "    box-shadow: 0 1px 2px rgba(60, 64, 67, 0.3), 0 1px 3px 1px rgba(60, 64, 67, 0.15);\n",
              "    fill: var(--button-hover-fill-color);\n",
              "  }\n",
              "\n",
              "  .colab-df-quickchart-complete:disabled,\n",
              "  .colab-df-quickchart-complete:disabled:hover {\n",
              "    background-color: var(--disabled-bg-color);\n",
              "    fill: var(--disabled-fill-color);\n",
              "    box-shadow: none;\n",
              "  }\n",
              "\n",
              "  .colab-df-spinner {\n",
              "    border: 2px solid var(--fill-color);\n",
              "    border-color: transparent;\n",
              "    border-bottom-color: var(--fill-color);\n",
              "    animation:\n",
              "      spin 1s steps(1) infinite;\n",
              "  }\n",
              "\n",
              "  @keyframes spin {\n",
              "    0% {\n",
              "      border-color: transparent;\n",
              "      border-bottom-color: var(--fill-color);\n",
              "      border-left-color: var(--fill-color);\n",
              "    }\n",
              "    20% {\n",
              "      border-color: transparent;\n",
              "      border-left-color: var(--fill-color);\n",
              "      border-top-color: var(--fill-color);\n",
              "    }\n",
              "    30% {\n",
              "      border-color: transparent;\n",
              "      border-left-color: var(--fill-color);\n",
              "      border-top-color: var(--fill-color);\n",
              "      border-right-color: var(--fill-color);\n",
              "    }\n",
              "    40% {\n",
              "      border-color: transparent;\n",
              "      border-right-color: var(--fill-color);\n",
              "      border-top-color: var(--fill-color);\n",
              "    }\n",
              "    60% {\n",
              "      border-color: transparent;\n",
              "      border-right-color: var(--fill-color);\n",
              "    }\n",
              "    80% {\n",
              "      border-color: transparent;\n",
              "      border-right-color: var(--fill-color);\n",
              "      border-bottom-color: var(--fill-color);\n",
              "    }\n",
              "    90% {\n",
              "      border-color: transparent;\n",
              "      border-bottom-color: var(--fill-color);\n",
              "    }\n",
              "  }\n",
              "</style>\n",
              "\n",
              "  <script>\n",
              "    async function quickchart(key) {\n",
              "      const quickchartButtonEl =\n",
              "        document.querySelector('#' + key + ' button');\n",
              "      quickchartButtonEl.disabled = true;  // To prevent multiple clicks.\n",
              "      quickchartButtonEl.classList.add('colab-df-spinner');\n",
              "      try {\n",
              "        const charts = await google.colab.kernel.invokeFunction(\n",
              "            'suggestCharts', [key], {});\n",
              "      } catch (error) {\n",
              "        console.error('Error during call to suggestCharts:', error);\n",
              "      }\n",
              "      quickchartButtonEl.classList.remove('colab-df-spinner');\n",
              "      quickchartButtonEl.classList.add('colab-df-quickchart-complete');\n",
              "    }\n",
              "    (() => {\n",
              "      let quickchartButtonEl =\n",
              "        document.querySelector('#df-f4703287-460c-4335-b4b7-a80f336832bb button');\n",
              "      quickchartButtonEl.style.display =\n",
              "        google.colab.kernel.accessAllowed ? 'block' : 'none';\n",
              "    })();\n",
              "  </script>\n",
              "</div>\n",
              "    </div>\n",
              "  </div>\n"
            ]
          },
          "metadata": {},
          "execution_count": 15
        }
      ]
    },
    {
      "cell_type": "markdown",
      "source": [
        "Can see the difference after removal of stopwords and some shorter words. aslo the words have been lemmatized as in **'calls'--->'call'.**"
      ],
      "metadata": {
        "id": "Wuos0NVsVJFg",
        "_uuid": "79d7fa2c195ec7a4b5410885cea4dbc7e58db316"
      }
    },
    {
      "cell_type": "markdown",
      "source": [
        "Now drop the unpre-processed column."
      ],
      "metadata": {
        "id": "RDqxfd7VVhJx",
        "_uuid": "c46d3085571e5bd3224bfb6a51164816a5e2a613"
      }
    },
    {
      "cell_type": "code",
      "source": [
        "df.drop(['headline_text'],axis=1,inplace=True)"
      ],
      "metadata": {
        "id": "PTkgClkxV7MP",
        "_uuid": "64cc5de96668ec6e6f37cefb31c349f35ff81771",
        "execution": {
          "iopub.status.busy": "2023-09-14T08:12:14.235020Z",
          "iopub.execute_input": "2023-09-14T08:12:14.235527Z",
          "iopub.status.idle": "2023-09-14T08:12:14.401909Z",
          "shell.execute_reply.started": "2023-09-14T08:12:14.235450Z",
          "shell.execute_reply": "2023-09-14T08:12:14.400640Z"
        },
        "trusted": true
      },
      "execution_count": null,
      "outputs": []
    },
    {
      "cell_type": "code",
      "source": [
        "df.head()"
      ],
      "metadata": {
        "id": "PHPX62iRV_ux",
        "outputId": "b5019095-3e73-4b8b-c0c4-374e84ed06bb",
        "_uuid": "dc01093ea4f6bd35e492e5136bec2ef90f8a1bf5",
        "execution": {
          "iopub.status.busy": "2023-09-14T08:12:14.403458Z",
          "iopub.execute_input": "2023-09-14T08:12:14.403847Z",
          "iopub.status.idle": "2023-09-14T08:12:14.419558Z",
          "shell.execute_reply.started": "2023-09-14T08:12:14.403779Z",
          "shell.execute_reply": "2023-09-14T08:12:14.418550Z"
        },
        "trusted": true,
        "colab": {
          "base_uri": "https://localhost:8080/",
          "height": 206
        }
      },
      "execution_count": null,
      "outputs": [
        {
          "output_type": "execute_result",
          "data": {
            "text/plain": [
              "                    headline_cleaned_text\n",
              "0  decides community broadcasting licence\n",
              "1      fire witness must aware defamation\n",
              "2   call infrastructure protection summit\n",
              "3                  staff aust strike rise\n",
              "4      strike affect australian traveller"
            ],
            "text/html": [
              "\n",
              "  <div id=\"df-69c5160d-81ca-46a3-8449-75ca9625c128\" class=\"colab-df-container\">\n",
              "    <div>\n",
              "<style scoped>\n",
              "    .dataframe tbody tr th:only-of-type {\n",
              "        vertical-align: middle;\n",
              "    }\n",
              "\n",
              "    .dataframe tbody tr th {\n",
              "        vertical-align: top;\n",
              "    }\n",
              "\n",
              "    .dataframe thead th {\n",
              "        text-align: right;\n",
              "    }\n",
              "</style>\n",
              "<table border=\"1\" class=\"dataframe\">\n",
              "  <thead>\n",
              "    <tr style=\"text-align: right;\">\n",
              "      <th></th>\n",
              "      <th>headline_cleaned_text</th>\n",
              "    </tr>\n",
              "  </thead>\n",
              "  <tbody>\n",
              "    <tr>\n",
              "      <th>0</th>\n",
              "      <td>decides community broadcasting licence</td>\n",
              "    </tr>\n",
              "    <tr>\n",
              "      <th>1</th>\n",
              "      <td>fire witness must aware defamation</td>\n",
              "    </tr>\n",
              "    <tr>\n",
              "      <th>2</th>\n",
              "      <td>call infrastructure protection summit</td>\n",
              "    </tr>\n",
              "    <tr>\n",
              "      <th>3</th>\n",
              "      <td>staff aust strike rise</td>\n",
              "    </tr>\n",
              "    <tr>\n",
              "      <th>4</th>\n",
              "      <td>strike affect australian traveller</td>\n",
              "    </tr>\n",
              "  </tbody>\n",
              "</table>\n",
              "</div>\n",
              "    <div class=\"colab-df-buttons\">\n",
              "\n",
              "  <div class=\"colab-df-container\">\n",
              "    <button class=\"colab-df-convert\" onclick=\"convertToInteractive('df-69c5160d-81ca-46a3-8449-75ca9625c128')\"\n",
              "            title=\"Convert this dataframe to an interactive table.\"\n",
              "            style=\"display:none;\">\n",
              "\n",
              "  <svg xmlns=\"http://www.w3.org/2000/svg\" height=\"24px\" viewBox=\"0 -960 960 960\">\n",
              "    <path d=\"M120-120v-720h720v720H120Zm60-500h600v-160H180v160Zm220 220h160v-160H400v160Zm0 220h160v-160H400v160ZM180-400h160v-160H180v160Zm440 0h160v-160H620v160ZM180-180h160v-160H180v160Zm440 0h160v-160H620v160Z\"/>\n",
              "  </svg>\n",
              "    </button>\n",
              "\n",
              "  <style>\n",
              "    .colab-df-container {\n",
              "      display:flex;\n",
              "      gap: 12px;\n",
              "    }\n",
              "\n",
              "    .colab-df-convert {\n",
              "      background-color: #E8F0FE;\n",
              "      border: none;\n",
              "      border-radius: 50%;\n",
              "      cursor: pointer;\n",
              "      display: none;\n",
              "      fill: #1967D2;\n",
              "      height: 32px;\n",
              "      padding: 0 0 0 0;\n",
              "      width: 32px;\n",
              "    }\n",
              "\n",
              "    .colab-df-convert:hover {\n",
              "      background-color: #E2EBFA;\n",
              "      box-shadow: 0px 1px 2px rgba(60, 64, 67, 0.3), 0px 1px 3px 1px rgba(60, 64, 67, 0.15);\n",
              "      fill: #174EA6;\n",
              "    }\n",
              "\n",
              "    .colab-df-buttons div {\n",
              "      margin-bottom: 4px;\n",
              "    }\n",
              "\n",
              "    [theme=dark] .colab-df-convert {\n",
              "      background-color: #3B4455;\n",
              "      fill: #D2E3FC;\n",
              "    }\n",
              "\n",
              "    [theme=dark] .colab-df-convert:hover {\n",
              "      background-color: #434B5C;\n",
              "      box-shadow: 0px 1px 3px 1px rgba(0, 0, 0, 0.15);\n",
              "      filter: drop-shadow(0px 1px 2px rgba(0, 0, 0, 0.3));\n",
              "      fill: #FFFFFF;\n",
              "    }\n",
              "  </style>\n",
              "\n",
              "    <script>\n",
              "      const buttonEl =\n",
              "        document.querySelector('#df-69c5160d-81ca-46a3-8449-75ca9625c128 button.colab-df-convert');\n",
              "      buttonEl.style.display =\n",
              "        google.colab.kernel.accessAllowed ? 'block' : 'none';\n",
              "\n",
              "      async function convertToInteractive(key) {\n",
              "        const element = document.querySelector('#df-69c5160d-81ca-46a3-8449-75ca9625c128');\n",
              "        const dataTable =\n",
              "          await google.colab.kernel.invokeFunction('convertToInteractive',\n",
              "                                                    [key], {});\n",
              "        if (!dataTable) return;\n",
              "\n",
              "        const docLinkHtml = 'Like what you see? Visit the ' +\n",
              "          '<a target=\"_blank\" href=https://colab.research.google.com/notebooks/data_table.ipynb>data table notebook</a>'\n",
              "          + ' to learn more about interactive tables.';\n",
              "        element.innerHTML = '';\n",
              "        dataTable['output_type'] = 'display_data';\n",
              "        await google.colab.output.renderOutput(dataTable, element);\n",
              "        const docLink = document.createElement('div');\n",
              "        docLink.innerHTML = docLinkHtml;\n",
              "        element.appendChild(docLink);\n",
              "      }\n",
              "    </script>\n",
              "  </div>\n",
              "\n",
              "\n",
              "<div id=\"df-b4f54301-fe45-42e7-b0e3-233f52dce073\">\n",
              "  <button class=\"colab-df-quickchart\" onclick=\"quickchart('df-b4f54301-fe45-42e7-b0e3-233f52dce073')\"\n",
              "            title=\"Suggest charts.\"\n",
              "            style=\"display:none;\">\n",
              "\n",
              "<svg xmlns=\"http://www.w3.org/2000/svg\" height=\"24px\"viewBox=\"0 0 24 24\"\n",
              "     width=\"24px\">\n",
              "    <g>\n",
              "        <path d=\"M19 3H5c-1.1 0-2 .9-2 2v14c0 1.1.9 2 2 2h14c1.1 0 2-.9 2-2V5c0-1.1-.9-2-2-2zM9 17H7v-7h2v7zm4 0h-2V7h2v10zm4 0h-2v-4h2v4z\"/>\n",
              "    </g>\n",
              "</svg>\n",
              "  </button>\n",
              "\n",
              "<style>\n",
              "  .colab-df-quickchart {\n",
              "      --bg-color: #E8F0FE;\n",
              "      --fill-color: #1967D2;\n",
              "      --hover-bg-color: #E2EBFA;\n",
              "      --hover-fill-color: #174EA6;\n",
              "      --disabled-fill-color: #AAA;\n",
              "      --disabled-bg-color: #DDD;\n",
              "  }\n",
              "\n",
              "  [theme=dark] .colab-df-quickchart {\n",
              "      --bg-color: #3B4455;\n",
              "      --fill-color: #D2E3FC;\n",
              "      --hover-bg-color: #434B5C;\n",
              "      --hover-fill-color: #FFFFFF;\n",
              "      --disabled-bg-color: #3B4455;\n",
              "      --disabled-fill-color: #666;\n",
              "  }\n",
              "\n",
              "  .colab-df-quickchart {\n",
              "    background-color: var(--bg-color);\n",
              "    border: none;\n",
              "    border-radius: 50%;\n",
              "    cursor: pointer;\n",
              "    display: none;\n",
              "    fill: var(--fill-color);\n",
              "    height: 32px;\n",
              "    padding: 0;\n",
              "    width: 32px;\n",
              "  }\n",
              "\n",
              "  .colab-df-quickchart:hover {\n",
              "    background-color: var(--hover-bg-color);\n",
              "    box-shadow: 0 1px 2px rgba(60, 64, 67, 0.3), 0 1px 3px 1px rgba(60, 64, 67, 0.15);\n",
              "    fill: var(--button-hover-fill-color);\n",
              "  }\n",
              "\n",
              "  .colab-df-quickchart-complete:disabled,\n",
              "  .colab-df-quickchart-complete:disabled:hover {\n",
              "    background-color: var(--disabled-bg-color);\n",
              "    fill: var(--disabled-fill-color);\n",
              "    box-shadow: none;\n",
              "  }\n",
              "\n",
              "  .colab-df-spinner {\n",
              "    border: 2px solid var(--fill-color);\n",
              "    border-color: transparent;\n",
              "    border-bottom-color: var(--fill-color);\n",
              "    animation:\n",
              "      spin 1s steps(1) infinite;\n",
              "  }\n",
              "\n",
              "  @keyframes spin {\n",
              "    0% {\n",
              "      border-color: transparent;\n",
              "      border-bottom-color: var(--fill-color);\n",
              "      border-left-color: var(--fill-color);\n",
              "    }\n",
              "    20% {\n",
              "      border-color: transparent;\n",
              "      border-left-color: var(--fill-color);\n",
              "      border-top-color: var(--fill-color);\n",
              "    }\n",
              "    30% {\n",
              "      border-color: transparent;\n",
              "      border-left-color: var(--fill-color);\n",
              "      border-top-color: var(--fill-color);\n",
              "      border-right-color: var(--fill-color);\n",
              "    }\n",
              "    40% {\n",
              "      border-color: transparent;\n",
              "      border-right-color: var(--fill-color);\n",
              "      border-top-color: var(--fill-color);\n",
              "    }\n",
              "    60% {\n",
              "      border-color: transparent;\n",
              "      border-right-color: var(--fill-color);\n",
              "    }\n",
              "    80% {\n",
              "      border-color: transparent;\n",
              "      border-right-color: var(--fill-color);\n",
              "      border-bottom-color: var(--fill-color);\n",
              "    }\n",
              "    90% {\n",
              "      border-color: transparent;\n",
              "      border-bottom-color: var(--fill-color);\n",
              "    }\n",
              "  }\n",
              "</style>\n",
              "\n",
              "  <script>\n",
              "    async function quickchart(key) {\n",
              "      const quickchartButtonEl =\n",
              "        document.querySelector('#' + key + ' button');\n",
              "      quickchartButtonEl.disabled = true;  // To prevent multiple clicks.\n",
              "      quickchartButtonEl.classList.add('colab-df-spinner');\n",
              "      try {\n",
              "        const charts = await google.colab.kernel.invokeFunction(\n",
              "            'suggestCharts', [key], {});\n",
              "      } catch (error) {\n",
              "        console.error('Error during call to suggestCharts:', error);\n",
              "      }\n",
              "      quickchartButtonEl.classList.remove('colab-df-spinner');\n",
              "      quickchartButtonEl.classList.add('colab-df-quickchart-complete');\n",
              "    }\n",
              "    (() => {\n",
              "      let quickchartButtonEl =\n",
              "        document.querySelector('#df-b4f54301-fe45-42e7-b0e3-233f52dce073 button');\n",
              "      quickchartButtonEl.style.display =\n",
              "        google.colab.kernel.accessAllowed ? 'block' : 'none';\n",
              "    })();\n",
              "  </script>\n",
              "</div>\n",
              "    </div>\n",
              "  </div>\n"
            ]
          },
          "metadata": {},
          "execution_count": 17
        }
      ]
    },
    {
      "cell_type": "markdown",
      "source": [
        "Cross-verifying if our text has been processed properly."
      ],
      "metadata": {
        "_uuid": "ac1c4d306d9c1ea25c1b28250b386a8d8fde4134",
        "id": "9FJWPqvZ0W_Z"
      }
    },
    {
      "cell_type": "code",
      "source": [
        "df['headline_cleaned_text'][10]"
      ],
      "metadata": {
        "id": "zlVvCr7qWkqA",
        "outputId": "e408dcf8-5a79-46dd-ddc9-bb9ca2149bfd",
        "_uuid": "219d5fa37fbffff1c1acdeb46722a40cee1842a2",
        "execution": {
          "iopub.status.busy": "2023-09-14T08:12:14.421238Z",
          "iopub.execute_input": "2023-09-14T08:12:14.421666Z",
          "iopub.status.idle": "2023-09-14T08:12:14.438716Z",
          "shell.execute_reply.started": "2023-09-14T08:12:14.421567Z",
          "shell.execute_reply": "2023-09-14T08:12:14.437740Z"
        },
        "trusted": true,
        "colab": {
          "base_uri": "https://localhost:8080/",
          "height": 35
        }
      },
      "execution_count": null,
      "outputs": [
        {
          "output_type": "execute_result",
          "data": {
            "text/plain": [
              "'australia contribute million iraq'"
            ],
            "application/vnd.google.colaboratory.intrinsic+json": {
              "type": "string"
            }
          },
          "metadata": {},
          "execution_count": 18
        }
      ]
    },
    {
      "cell_type": "markdown",
      "source": [
        "# Latent Semantic Analysis\n",
        "\n",
        "Link - http://wordvec.colorado.edu/papers/Deerwester_1990.pdf"
      ],
      "metadata": {
        "id": "vN6mu5p05kLa"
      }
    },
    {
      "cell_type": "markdown",
      "source": [
        "# Feature Extraction"
      ],
      "metadata": {
        "id": "MHw95cn55eko"
      }
    },
    {
      "cell_type": "markdown",
      "source": [
        "Feature Extraction and creation of the Document-Term Matrix.\n",
        "\n",
        "The DTM is filled using TFidf values.\n"
      ],
      "metadata": {
        "id": "yQZpp5YMXPkb",
        "_uuid": "d36edc03b2cc88ef61651cd6c9deb470817e64df"
      }
    },
    {
      "cell_type": "code",
      "source": [
        "vect =TfidfVectorizer(stop_words=list(stop_words),max_features=1000)\n",
        "# Solution\n",
        "#https://stackoverflow.com/questions/75643277/how-can-i-solve-the-error-the-stop-words-parameter-of-tfidfvectorizer-must-be"
      ],
      "metadata": {
        "id": "UUxESGqhXX07",
        "_uuid": "d3998f5b7d7eaed5d18d08830d2ba9ba8dd7fcd6",
        "execution": {
          "iopub.status.busy": "2023-09-14T08:12:14.440457Z",
          "iopub.execute_input": "2023-09-14T08:12:14.440820Z",
          "iopub.status.idle": "2023-09-14T08:12:14.446762Z",
          "shell.execute_reply.started": "2023-09-14T08:12:14.440762Z",
          "shell.execute_reply": "2023-09-14T08:12:14.445390Z"
        },
        "trusted": true
      },
      "execution_count": null,
      "outputs": []
    },
    {
      "cell_type": "code",
      "source": [
        "vect_text=vect.fit_transform(df['headline_cleaned_text'])"
      ],
      "metadata": {
        "id": "z0CezNO4aUoh",
        "_uuid": "00cdefa5281e43ed4cd28af256490cf3cf4dbaf2",
        "execution": {
          "iopub.status.busy": "2023-09-14T08:12:14.448521Z",
          "iopub.execute_input": "2023-09-14T08:12:14.448858Z",
          "iopub.status.idle": "2023-09-14T08:12:33.405341Z",
          "shell.execute_reply.started": "2023-09-14T08:12:14.448792Z",
          "shell.execute_reply": "2023-09-14T08:12:33.403563Z"
        },
        "trusted": true
      },
      "execution_count": null,
      "outputs": []
    },
    {
      "cell_type": "markdown",
      "source": [
        " We can now see the most frequent and rare words in the news headlines based on idf score. The lesser the value, more common is the word in the news headlines."
      ],
      "metadata": {
        "_uuid": "bb0975cb5ba0e82f9e14eba53bd466c26b892a7e",
        "id": "nRqdBA8w0W_a"
      }
    },
    {
      "cell_type": "code",
      "source": [
        "print(vect_text.shape)\n",
        "print(vect_text)"
      ],
      "metadata": {
        "id": "5G-Zt5lUsUjx",
        "outputId": "9059e9f1-8132-44df-c7e3-bddfb8f89c86",
        "_uuid": "a75bc1a06e66fa4c8615822f703487424761570b",
        "execution": {
          "iopub.status.busy": "2023-09-14T08:12:33.406774Z",
          "iopub.execute_input": "2023-09-14T08:12:33.407143Z",
          "iopub.status.idle": "2023-09-14T08:12:33.486538Z",
          "shell.execute_reply.started": "2023-09-14T08:12:33.407074Z",
          "shell.execute_reply": "2023-09-14T08:12:33.485379Z"
        },
        "trusted": true,
        "colab": {
          "base_uri": "https://localhost:8080/"
        }
      },
      "execution_count": null,
      "outputs": [
        {
          "output_type": "stream",
          "name": "stdout",
          "text": [
            "(1244184, 1000)\n",
            "  (0, 507)\t0.7835866365343614\n",
            "  (0, 179)\t0.6212825307738553\n",
            "  (1, 575)\t0.6349880865942004\n",
            "  (1, 982)\t0.6342927179400741\n",
            "  (1, 322)\t0.4409794528678519\n",
            "  (2, 849)\t0.6547639702280009\n",
            "  (2, 680)\t0.6238273694257671\n",
            "  (2, 123)\t0.4267593659740731\n",
            "  (3, 742)\t0.4532976215030844\n",
            "  (3, 841)\t0.4902042737088293\n",
            "  (3, 55)\t0.5231144394497186\n",
            "  (3, 825)\t0.5296907773564236\n",
            "  (4, 57)\t0.6353226814247142\n",
            "  (4, 841)\t0.7722467808073474\n",
            "  (5, 977)\t1.0\n",
            "  (6, 708)\t1.0\n",
            "  (7, 542)\t0.5181893045688648\n",
            "  (7, 345)\t0.47999299809054896\n",
            "  (7, 960)\t0.536081350460646\n",
            "  (7, 54)\t0.4622805988820778\n",
            "  (8, 452)\t0.42971935152299656\n",
            "  (8, 201)\t0.35008746491576936\n",
            "  (8, 774)\t0.4480146252705608\n",
            "  (8, 12)\t0.5211813266275572\n",
            "  (8, 55)\t0.469502892593777\n",
            "  :\t:\n",
            "  (1244176, 523)\t0.7819690365488077\n",
            "  (1244176, 62)\t0.6233172754536243\n",
            "  (1244177, 994)\t0.6308823897546781\n",
            "  (1244177, 659)\t0.7758784765009443\n",
            "  (1244178, 174)\t0.6039082400840834\n",
            "  (1244178, 60)\t0.6158398551561406\n",
            "  (1244178, 373)\t0.5060001090511829\n",
            "  (1244179, 133)\t0.4637677208922959\n",
            "  (1244179, 18)\t0.49926168958224465\n",
            "  (1244179, 730)\t0.4295358790646897\n",
            "  (1244179, 830)\t0.4237410422714794\n",
            "  (1244179, 708)\t0.4142459704869228\n",
            "  (1244180, 941)\t0.4567266248536024\n",
            "  (1244180, 789)\t0.5365729536636149\n",
            "  (1244180, 134)\t0.4174777504272744\n",
            "  (1244180, 232)\t0.3812478386057761\n",
            "  (1244180, 708)\t0.4287804438207826\n",
            "  (1244181, 238)\t0.717814918355448\n",
            "  (1244181, 165)\t0.6962339714394592\n",
            "  (1244182, 344)\t0.6412029931276424\n",
            "  (1244182, 971)\t0.7673713062163273\n",
            "  (1244183, 206)\t0.5082631526240575\n",
            "  (1244183, 165)\t0.5019731415185534\n",
            "  (1244183, 534)\t0.4733964070295012\n",
            "  (1244183, 755)\t0.5153516999973972\n"
          ]
        }
      ]
    },
    {
      "cell_type": "code",
      "source": [
        "idf=vect.idf_"
      ],
      "metadata": {
        "id": "zbF-rC1va7tP",
        "_uuid": "fdf6846bf90d386f8361467a420af9b40b689521",
        "execution": {
          "iopub.status.busy": "2023-09-14T08:12:33.488302Z",
          "iopub.execute_input": "2023-09-14T08:12:33.488894Z",
          "iopub.status.idle": "2023-09-14T08:12:33.495329Z",
          "shell.execute_reply.started": "2023-09-14T08:12:33.488557Z",
          "shell.execute_reply": "2023-09-14T08:12:33.493441Z"
        },
        "trusted": true
      },
      "execution_count": null,
      "outputs": []
    },
    {
      "cell_type": "markdown",
      "source": [
        "police is most common and forecast is least common among the news headlines"
      ],
      "metadata": {
        "id": "z9ZVMIcc9CAQ"
      }
    },
    {
      "cell_type": "markdown",
      "source": [
        "Create a dictionary `dd` by zipping the feature names obtained from a vectorizer `vect.get_feature_names_out()` with inverse document frequency (IDF) values (idf). Then, it sorts the keys (feature names) of the dictionary dd based on their IDF values in ascending order."
      ],
      "metadata": {
        "id": "QXkxLkRrMMl2"
      }
    },
    {
      "cell_type": "code",
      "source": [
        "dd=dict(zip(vect.get_feature_names_out(), idf))\n",
        "l=sorted(dd, key=(dd).get)\n",
        "\n",
        "print(l[0],l[-1])\n",
        "print(dd['police'])\n",
        "print(dd['forecast'])"
      ],
      "metadata": {
        "id": "a0wQG_tZm53A",
        "outputId": "2dd6a2be-e6c2-4eb7-f778-2f2622b61d2d",
        "_uuid": "b5dc9f0d99d949a36cdb00be41b5ba4a424f093c",
        "execution": {
          "iopub.status.busy": "2023-09-14T08:12:33.497108Z",
          "iopub.execute_input": "2023-09-14T08:12:33.497543Z",
          "iopub.status.idle": "2023-09-14T08:12:33.514164Z",
          "shell.execute_reply.started": "2023-09-14T08:12:33.497463Z",
          "shell.execute_reply": "2023-09-14T08:12:33.513219Z"
        },
        "trusted": true,
        "colab": {
          "base_uri": "https://localhost:8080/"
        }
      },
      "execution_count": null,
      "outputs": [
        {
          "output_type": "stream",
          "name": "stdout",
          "text": [
            "police walk\n",
            "4.443299144410428\n",
            "7.91597505058549\n"
          ]
        }
      ]
    },
    {
      "cell_type": "markdown",
      "source": [
        "We can therefore see that on the basis of the **idf value** , **'police'** is the **most frequent** word while **'forecast'** is **least frequently** occuring among the news."
      ],
      "metadata": {
        "_uuid": "868e6b05bc280289edea4e14b31c98a435d8ebbc",
        "id": "4f4UTax80W_j"
      }
    },
    {
      "cell_type": "markdown",
      "source": [
        "# LSA Model\n"
      ],
      "metadata": {
        "_uuid": "3b96bb00ba3313b3fcab6735e73c56e89fc74365",
        "id": "ZIa_CmBK0W_j"
      }
    },
    {
      "cell_type": "code",
      "source": [
        "from sklearn.decomposition import TruncatedSVD\n",
        "lsa_model = TruncatedSVD(n_components=10, algorithm='randomized', n_iter=10, random_state=42)\n",
        "\n",
        "lsa_top=lsa_model.fit_transform(vect_text)"
      ],
      "metadata": {
        "id": "9xuGfFdtqTp5",
        "_uuid": "ac483df5e69eeb2b4b71af956c6987896eda7eb6",
        "execution": {
          "iopub.status.busy": "2023-09-14T08:12:33.515600Z",
          "iopub.execute_input": "2023-09-14T08:12:33.515951Z",
          "iopub.status.idle": "2023-09-14T08:12:52.893469Z",
          "shell.execute_reply.started": "2023-09-14T08:12:33.515903Z",
          "shell.execute_reply": "2023-09-14T08:12:52.892500Z"
        },
        "trusted": true
      },
      "execution_count": null,
      "outputs": []
    },
    {
      "cell_type": "code",
      "source": [
        "print(lsa_top)\n",
        "print(lsa_top.shape)"
      ],
      "metadata": {
        "id": "KdaVWPC6xmq-",
        "outputId": "c68a7406-7221-4697-b992-560de688c8d5",
        "_uuid": "0a8f4620d3c71db1275e4b5662bf4ab32c598266",
        "execution": {
          "iopub.status.busy": "2023-09-14T08:12:52.895006Z",
          "iopub.execute_input": "2023-09-14T08:12:52.895370Z",
          "iopub.status.idle": "2023-09-14T08:12:52.902187Z",
          "shell.execute_reply.started": "2023-09-14T08:12:52.895303Z",
          "shell.execute_reply": "2023-09-14T08:12:52.901076Z"
        },
        "trusted": true,
        "colab": {
          "base_uri": "https://localhost:8080/"
        }
      },
      "execution_count": null,
      "outputs": [
        {
          "output_type": "stream",
          "name": "stdout",
          "text": [
            "[[ 1.61076339e-04  1.03241034e-02  2.13718665e-02 ... -2.63818011e-03\n",
            "   2.98605658e-03 -2.23336827e-03]\n",
            " [ 7.70527787e-04  5.11253321e-02  7.27846132e-02 ...  1.50815019e-01\n",
            "  -8.41540804e-02  1.08404965e-02]\n",
            " [ 5.59199460e-04  3.71451404e-02  9.40825856e-02 ...  2.99762320e-01\n",
            "  -4.67794715e-02 -1.78673042e-02]\n",
            " ...\n",
            " [ 1.52236963e-04  1.13324316e-02  2.36916623e-02 ...  7.11851174e-04\n",
            "   7.40009415e-03 -4.71156851e-03]\n",
            " [ 3.36489824e-04  2.80750494e-02  2.45473562e-02 ...  2.39687089e-03\n",
            "   3.28186546e-02 -1.18650145e-02]\n",
            " [ 3.57211132e-04  2.00344330e-02  4.13513673e-02 ...  2.36488433e-03\n",
            "   1.39510835e-02 -3.79608346e-03]]\n",
            "(1244184, 10)\n"
          ]
        }
      ]
    },
    {
      "cell_type": "code",
      "source": [
        "l=lsa_top[0]\n",
        "print(\"Document 0 :\")\n",
        "for i,topic in enumerate(l):\n",
        "  print(\"Topic \",i,\" : \",topic*100)"
      ],
      "metadata": {
        "id": "d4dvIGIGxtAI",
        "outputId": "ba491751-579d-4fe2-93c3-756cabb1cbce",
        "_uuid": "2a259e5f3b8c11118368439eea8de0faa8b7a1c2",
        "execution": {
          "iopub.status.busy": "2023-09-14T08:12:52.903465Z",
          "iopub.execute_input": "2023-09-14T08:12:52.903958Z",
          "iopub.status.idle": "2023-09-14T08:12:52.920023Z",
          "shell.execute_reply.started": "2023-09-14T08:12:52.903902Z",
          "shell.execute_reply": "2023-09-14T08:12:52.919173Z"
        },
        "trusted": true,
        "colab": {
          "base_uri": "https://localhost:8080/"
        }
      },
      "execution_count": null,
      "outputs": [
        {
          "output_type": "stream",
          "name": "stdout",
          "text": [
            "Document 0 :\n",
            "Topic  0  :  0.01610763387661188\n",
            "Topic  1  :  1.0324103438360606\n",
            "Topic  2  :  2.137186645950668\n",
            "Topic  3  :  -0.762522857781075\n",
            "Topic  4  :  -1.0943428328948581\n",
            "Topic  5  :  -0.6906212140685632\n",
            "Topic  6  :  0.053735723458157574\n",
            "Topic  7  :  -0.2638180108737358\n",
            "Topic  8  :  0.2986056580443063\n",
            "Topic  9  :  -0.22333682738916016\n"
          ]
        }
      ]
    },
    {
      "cell_type": "markdown",
      "source": [
        "Similalry for other documents we can do this. However note that values dont add to 1 as in LSA it is not probabiltiy of a topic in a document."
      ],
      "metadata": {
        "_uuid": "2153bcbf45e7623efc213bb94f0dbba377ff34c3",
        "id": "ebvVfYEa0W_k"
      }
    },
    {
      "cell_type": "code",
      "source": [
        "print(lsa_model.components_.shape) # (no_of_topics*no_of_words)\n",
        "print(lsa_model.components_)"
      ],
      "metadata": {
        "id": "AI2kOuwitOGp",
        "outputId": "831953cd-68a3-4185-befe-47c5221d663b",
        "_uuid": "61bb8ff8b4b6cf0cd2fcde7890f3a3ebb8980452",
        "execution": {
          "iopub.status.busy": "2023-09-14T08:12:52.921399Z",
          "iopub.execute_input": "2023-09-14T08:12:52.921723Z",
          "iopub.status.idle": "2023-09-14T08:12:52.939259Z",
          "shell.execute_reply.started": "2023-09-14T08:12:52.921672Z",
          "shell.execute_reply": "2023-09-14T08:12:52.938096Z"
        },
        "trusted": true,
        "colab": {
          "base_uri": "https://localhost:8080/"
        }
      },
      "execution_count": null,
      "outputs": [
        {
          "output_type": "stream",
          "name": "stdout",
          "text": [
            "(10, 1000)\n",
            "[[ 2.77432475e-05  6.35912934e-05  6.82052976e-05 ...  1.27805339e-04\n",
            "   3.74182406e-05  5.22850655e-05]\n",
            " [ 1.05886216e-03  1.30603435e-03  1.54243773e-03 ...  2.74429068e-03\n",
            "   2.28582531e-03  2.62491583e-03]\n",
            " [ 3.25748651e-03  4.05123655e-03  4.89137619e-03 ...  8.60323665e-03\n",
            "   4.45700128e-03  4.84595536e-03]\n",
            " ...\n",
            " [ 9.70043882e-05 -9.85910225e-05  9.45915844e-05 ... -1.87287288e-04\n",
            "   1.36983711e-03 -1.60473169e-04]\n",
            " [ 2.87156904e-03  2.93943167e-03  4.05615743e-03 ...  2.20548296e-03\n",
            "   3.50032803e-05  5.64644592e-04]\n",
            " [-1.85271138e-04 -1.23516490e-04 -2.45466987e-05 ... -1.32027552e-04\n",
            "   6.86795900e-04 -1.20255015e-04]]\n"
          ]
        }
      ]
    },
    {
      "cell_type": "markdown",
      "source": [
        "#### Now e can get a list of the important words for each of the 10 topics as shown. For simplicity here I have shown 10 words for each topic."
      ],
      "metadata": {
        "_uuid": "a289f6e017d0c573d20ed386582df71437fab5cc",
        "id": "lRz4TYlQ0W_k"
      }
    },
    {
      "cell_type": "code",
      "source": [
        "# most important words for each topic\n",
        "\n",
        "# This line retrieves the feature names (words or terms) from the vectorizer vect\n",
        "vocab = vect.get_feature_names_out()\n",
        "\n",
        "for i, comp in enumerate(lsa_model.components_):\n",
        "    # This line combines the vocabulary (feature names) with the corresponding component values for the current topic.\n",
        "    vocab_comp = zip(vocab, comp) # It pairs each term with its importance score in the topic.\n",
        "    # Sorts the term-component pairs based on their importance scores in descending order and selects the top 10 terms.\n",
        "    sorted_words = sorted(vocab_comp, key= lambda x:x[1], reverse=True)[:10]\n",
        "    # The script then prints the topic number (index) along with the top 10 terms for that topic.\n",
        "    print(\"Topic \"+str(i)+\": \")\n",
        "    for t in sorted_words:\n",
        "        print(t[0],end=\" \")\n",
        "    print(\"\\n\")"
      ],
      "metadata": {
        "id": "GMMmSTbQqfdz",
        "outputId": "56cdca40-2260-409e-a8f0-5139f0e8d419",
        "_uuid": "c9860197f6d11e5583629cca322e19a93d4c0350",
        "execution": {
          "iopub.status.busy": "2023-09-14T08:12:52.940893Z",
          "iopub.execute_input": "2023-09-14T08:12:52.941318Z",
          "iopub.status.idle": "2023-09-14T08:12:52.974337Z",
          "shell.execute_reply.started": "2023-09-14T08:12:52.941258Z",
          "shell.execute_reply": "2023-09-14T08:12:52.972544Z"
        },
        "trusted": true,
        "colab": {
          "base_uri": "https://localhost:8080/"
        }
      },
      "execution_count": null,
      "outputs": [
        {
          "output_type": "stream",
          "name": "stdout",
          "text": [
            "Topic 0: \n",
            "interview extended michael john david smith james police andrew mark \n",
            "\n",
            "Topic 1: \n",
            "police death woman fire say crash court call probe murder \n",
            "\n",
            "Topic 2: \n",
            "say australia plan council call back govt fire court australian \n",
            "\n",
            "Topic 3: \n",
            "say police minister need trump must expert wont labor needed \n",
            "\n",
            "Topic 4: \n",
            "australia say police south world china coronavirus india test first \n",
            "\n",
            "Topic 5: \n",
            "court woman face murder charged fire charge death accused crash \n",
            "\n",
            "Topic 6: \n",
            "fire house plan home crew australia govt sydney damage blaze \n",
            "\n",
            "Topic 7: \n",
            "call fire say medium house home death australian inquiry spark \n",
            "\n",
            "Topic 8: \n",
            "australian woman crash year open dy charged back killed world \n",
            "\n",
            "Topic 9: \n",
            "back court police australian fight hit fire claim year track \n",
            "\n"
          ]
        }
      ]
    },
    {
      "cell_type": "markdown",
      "source": [
        "---"
      ],
      "metadata": {
        "id": "7JNHzWMD2LfU"
      }
    },
    {
      "cell_type": "markdown",
      "source": [
        "## Latent Dirichlet Allocation (LDA)  "
      ],
      "metadata": {
        "id": "gmMeb4METhm2",
        "_uuid": "2898911f7af52671923cf6bbc8cab6bc7871aa59"
      }
    },
    {
      "cell_type": "markdown",
      "source": [
        "LDA is the most popular technique.**The topics then generate words based on their probability distribution. Given a dataset of documents, LDA backtracks and tries to figure out what topics would create those documents in the first place.**\n",
        "\n",
        "**To understand the maths it seems as if knowledge of Dirichlet distribution (distribution of distributions) is required which is quite intricate and left for now.**\n",
        "\n",
        "More here - https://www.jmlr.org/papers/volume3/blei03a/blei03a.pdf"
      ],
      "metadata": {
        "_uuid": "dd861ec68f8272be78421f8bd76b98793009e836",
        "id": "HWiw1_ng0W_k"
      }
    },
    {
      "cell_type": "markdown",
      "source": [
        "`n_components` is the number of topics."
      ],
      "metadata": {
        "id": "l54EEc349nb8"
      }
    },
    {
      "cell_type": "code",
      "source": [
        "from sklearn.decomposition import LatentDirichletAllocation\n",
        "lda_model=LatentDirichletAllocation(n_components=10,learning_method='online',random_state=42,max_iter=1)"
      ],
      "metadata": {
        "id": "yPJFHVxxTiwh",
        "_uuid": "b21a29802cac8f469c65df49ba0ef04f592f3202",
        "execution": {
          "iopub.status.busy": "2023-09-14T08:12:52.976388Z",
          "iopub.execute_input": "2023-09-14T08:12:52.976670Z",
          "iopub.status.idle": "2023-09-14T08:12:52.988479Z",
          "shell.execute_reply.started": "2023-09-14T08:12:52.976619Z",
          "shell.execute_reply": "2023-09-14T08:12:52.987316Z"
        },
        "trusted": true
      },
      "execution_count": null,
      "outputs": []
    },
    {
      "cell_type": "code",
      "source": [
        "lda_top=lda_model.fit_transform(vect_text)"
      ],
      "metadata": {
        "id": "aeUPTUUIazvB",
        "_uuid": "8c0169b02a356e8cf8583218437d23f549c1e3da",
        "execution": {
          "iopub.status.busy": "2023-09-14T08:12:52.990130Z",
          "iopub.execute_input": "2023-09-14T08:12:52.990412Z",
          "iopub.status.idle": "2023-09-14T08:17:34.828284Z",
          "shell.execute_reply.started": "2023-09-14T08:12:52.990362Z",
          "shell.execute_reply": "2023-09-14T08:17:34.827249Z"
        },
        "trusted": true
      },
      "execution_count": null,
      "outputs": []
    },
    {
      "cell_type": "code",
      "source": [
        "print(lda_top.shape)\n",
        "print(lda_top)"
      ],
      "metadata": {
        "id": "h8LzsFixdkBt",
        "outputId": "e5ca32b8-518a-4e98-de74-e56826fc5b3b",
        "_uuid": "77425315af5c000fa30caefd6dcebb70c2970cfa",
        "execution": {
          "iopub.status.busy": "2023-09-14T08:17:34.830216Z",
          "iopub.execute_input": "2023-09-14T08:17:34.830602Z",
          "iopub.status.idle": "2023-09-14T08:17:34.837254Z",
          "shell.execute_reply.started": "2023-09-14T08:17:34.830527Z",
          "shell.execute_reply": "2023-09-14T08:17:34.836243Z"
        },
        "trusted": true,
        "colab": {
          "base_uri": "https://localhost:8080/"
        }
      },
      "execution_count": null,
      "outputs": [
        {
          "output_type": "stream",
          "name": "stdout",
          "text": [
            "(1244184, 10)\n",
            "[[0.0415823  0.0415823  0.0415823  ... 0.0415823  0.62575927 0.0415823 ]\n",
            " [0.19959635 0.03690472 0.03689683 ... 0.03689683 0.03689683 0.03689683]\n",
            " [0.03696378 0.03696378 0.19471019 ... 0.03696378 0.50957953 0.03696378]\n",
            " ...\n",
            " [0.04142418 0.33877314 0.04142418 ... 0.04142418 0.04142418 0.04142418]\n",
            " [0.04151834 0.04151834 0.04151834 ... 0.04151834 0.36011814 0.04151834]\n",
            " [0.20265722 0.03334462 0.03334462 ... 0.03334462 0.03334462 0.03334462]]\n"
          ]
        }
      ]
    },
    {
      "cell_type": "code",
      "source": [
        "sum=0\n",
        "for i in lda_top[0]:\n",
        "  sum=sum+i\n",
        "print(sum)"
      ],
      "metadata": {
        "id": "YNgP0S0eeVuO",
        "outputId": "ca5d5a02-09f0-401e-9ce2-605b879c122c",
        "_uuid": "2fc450b8316e62d050eb702b65eddbb1e898248f",
        "execution": {
          "iopub.status.busy": "2023-09-14T08:17:34.839189Z",
          "iopub.execute_input": "2023-09-14T08:17:34.839584Z",
          "iopub.status.idle": "2023-09-14T08:17:34.851282Z",
          "shell.execute_reply.started": "2023-09-14T08:17:34.839513Z",
          "shell.execute_reply": "2023-09-14T08:17:34.850247Z"
        },
        "trusted": true,
        "colab": {
          "base_uri": "https://localhost:8080/"
        }
      },
      "execution_count": null,
      "outputs": [
        {
          "output_type": "stream",
          "name": "stdout",
          "text": [
            "1.0\n"
          ]
        }
      ]
    },
    {
      "cell_type": "markdown",
      "source": [
        "Note that the values in a particular row adds to 1. This is beacuse each value denotes the % of contribution of the corressponding topic in the document."
      ],
      "metadata": {
        "_uuid": "0f6d8a55e8a513a9af61ae480eae5a0e2135f182",
        "id": "4gnU64390W_k"
      }
    },
    {
      "cell_type": "code",
      "source": [
        "print(\"Document 0: \")\n",
        "for i,topic in enumerate(lda_top[0]):\n",
        "  print(\"Topic \",i,\": \",topic*100,\"%\")"
      ],
      "metadata": {
        "id": "Z6WmZLp3ehbY",
        "outputId": "b2a01832-06df-4c16-b8f3-5d717c6496c5",
        "_uuid": "d896b8fcf2c398367de4e7b7142e144fb4944f2d",
        "execution": {
          "iopub.status.busy": "2023-09-14T08:17:34.853176Z",
          "iopub.execute_input": "2023-09-14T08:17:34.853564Z",
          "iopub.status.idle": "2023-09-14T08:17:34.870931Z",
          "shell.execute_reply.started": "2023-09-14T08:17:34.853493Z",
          "shell.execute_reply": "2023-09-14T08:17:34.869748Z"
        },
        "trusted": true,
        "colab": {
          "base_uri": "https://localhost:8080/"
        }
      },
      "execution_count": null,
      "outputs": [
        {
          "output_type": "stream",
          "name": "stdout",
          "text": [
            "Document 0: \n",
            "Topic  0 :  4.158230366964279 %\n",
            "Topic  1 :  4.158230366976006 %\n",
            "Topic  2 :  4.158230366969732 %\n",
            "Topic  3 :  4.1582303669724 %\n",
            "Topic  4 :  4.1582303669721075 %\n",
            "Topic  5 :  4.1582303669718925 %\n",
            "Topic  6 :  4.158230366967037 %\n",
            "Topic  7 :  4.158230366968324 %\n",
            "Topic  8 :  62.5759266972693 %\n",
            "Topic  9 :  4.158230366968913 %\n"
          ]
        }
      ]
    },
    {
      "cell_type": "markdown",
      "source": [
        "As we can see Topic 7 & 8 are dominantly present in document 0.\n",
        "\n"
      ],
      "metadata": {
        "id": "NVgtw_L_g8N2",
        "_uuid": "d24927b415ef64338a4b99e81c9cafd5225dfae5"
      }
    },
    {
      "cell_type": "code",
      "source": [
        "print(lda_model.components_)\n",
        "print(lda_model.components_.shape)  # (no_of_topics*no_of_words)"
      ],
      "metadata": {
        "id": "6OFxmyReiZIU",
        "outputId": "b648eff9-bb36-4208-c31c-69ac76e62cbd",
        "_uuid": "3ee132a423ca0bfe3107fa3dd2652d6c33d5bc4d",
        "execution": {
          "iopub.status.busy": "2023-09-14T08:17:34.872220Z",
          "iopub.execute_input": "2023-09-14T08:17:34.872492Z",
          "iopub.status.idle": "2023-09-14T08:17:34.881695Z",
          "shell.execute_reply.started": "2023-09-14T08:17:34.872444Z",
          "shell.execute_reply": "2023-09-14T08:17:34.880326Z"
        },
        "trusted": true,
        "colab": {
          "base_uri": "https://localhost:8080/"
        }
      },
      "execution_count": null,
      "outputs": [
        {
          "output_type": "stream",
          "name": "stdout",
          "text": [
            "[[1.00001363e-01 1.00000749e-01 1.01861138e+03 ... 1.00010968e-01\n",
            "  1.00004927e-01 1.00006924e-01]\n",
            " [1.00002223e-01 1.00001176e-01 1.00000832e-01 ... 1.00008798e-01\n",
            "  1.00001420e-01 1.00005772e-01]\n",
            " [1.00000381e-01 1.00000777e-01 1.00001103e-01 ... 1.00006172e-01\n",
            "  1.00001393e-01 1.00004973e-01]\n",
            " ...\n",
            " [1.00001183e-01 1.00001474e-01 1.00001614e-01 ... 1.00004791e-01\n",
            "  1.00001709e-01 1.00004789e-01]\n",
            " [1.00000184e-01 5.31736977e+02 1.00001697e-01 ... 2.87310871e+03\n",
            "  2.07560446e+02 1.00005909e-01]\n",
            " [1.00000380e-01 1.00001909e-01 1.00001589e-01 ... 1.00006382e-01\n",
            "  1.00002813e-01 1.00002584e-01]]\n",
            "(10, 1000)\n"
          ]
        }
      ]
    },
    {
      "cell_type": "markdown",
      "source": [
        "Most important words for a topic. (say 10 this time)"
      ],
      "metadata": {
        "id": "NoEr9qt1jgsM",
        "_uuid": "8bf169b07cefbe2cd8e36bc1e2bd65ca7c398374"
      }
    },
    {
      "cell_type": "code",
      "source": [
        "# This line retrieves the feature names (words or terms) from the vectorizer vect\n",
        "vocab = vect.get_feature_names_out()\n",
        "\n",
        "for i, comp in enumerate(lda_model.components_):\n",
        "    # This line combines the vocabulary (feature names) with the corresponding component values for the current topic.\n",
        "    vocab_comp = zip(vocab, comp) # It pairs each term with its importance score in the topic.\n",
        "    # Sorts the term-component pairs based on their importance scores in descending order and selects the top 10 terms.\n",
        "    sorted_words = sorted(vocab_comp, key= lambda x:x[1], reverse=True)[:10]\n",
        "    # The script then prints the topic number (index) along with the top 10 terms for that topic.\n",
        "    print(\"Topic \"+str(i)+\": \")\n",
        "    for t in sorted_words:\n",
        "        print(t[0],end=\" \")\n",
        "    print(\"\\n\")"
      ],
      "metadata": {
        "id": "hKJHM0C-l0an",
        "outputId": "acb11000-7751-4ade-9071-c00d487ca372",
        "_uuid": "5c13c5563657ac5103a33615272320065542fb40",
        "execution": {
          "iopub.status.busy": "2023-09-14T08:17:34.883381Z",
          "iopub.execute_input": "2023-09-14T08:17:34.883711Z",
          "iopub.status.idle": "2023-09-14T08:17:34.915509Z",
          "shell.execute_reply.started": "2023-09-14T08:17:34.883658Z",
          "shell.execute_reply": "2023-09-14T08:17:34.914335Z"
        },
        "trusted": true,
        "colab": {
          "base_uri": "https://localhost:8080/"
        }
      },
      "execution_count": null,
      "outputs": [
        {
          "output_type": "stream",
          "name": "stdout",
          "text": [
            "Topic 0: \n",
            "coronavirus covid case fire brisbane could house crash hotel street \n",
            "\n",
            "Topic 1: \n",
            "police victoria restriction open bushfire island premier water finance storm \n",
            "\n",
            "Topic 2: \n",
            "australia queensland call health indigenous north farmer student labor high \n",
            "\n",
            "Topic 3: \n",
            "say home change coast canberra worker former gold tasmanian three \n",
            "\n",
            "Topic 4: \n",
            "sydney woman government border first live help speaks regional climate \n",
            "\n",
            "Topic 5: \n",
            "election record south family tasmania school death found dead president \n",
            "\n",
            "Topic 6: \n",
            "donald court child adelaide victorian show national perth federal report \n",
            "\n",
            "Topic 7: \n",
            "australian trump year china news minister back trial charged andrew \n",
            "\n",
            "Topic 8: \n",
            "melbourne people community time final royal rise story commission game \n",
            "\n",
            "Topic 9: \n",
            "vaccine world state life market morrison business attack scott test \n",
            "\n"
          ]
        }
      ]
    },
    {
      "cell_type": "markdown",
      "source": [
        "#### To better visualize words in a topic we can see the word cloud. For each topic top 50 words are plotted."
      ],
      "metadata": {
        "_uuid": "854f0eb88cf78923db8137a2f41581eb9bbd5592",
        "id": "I123z5m90W_l"
      }
    },
    {
      "cell_type": "code",
      "source": [
        "from wordcloud import WordCloud\n",
        "# Generate a word cloud image for given topic\n",
        "def draw_word_cloud(index):\n",
        "  # Empty string to store important words for a topic\n",
        "  imp_words_topic=\"\"\n",
        "  # Extracts the topic's components from the LDA model\n",
        "  comp=lda_model.components_[index]\n",
        "  # This line combines the vocabulary (list of words) with the corresponding component values for the specified topic\n",
        "  vocab_comp = zip(vocab, comp)\n",
        "  # Sorts in desc and selects top 50 words\n",
        "  sorted_words = sorted(vocab_comp, key= lambda x:x[1], reverse=True)[:50]\n",
        "  # The following for loop iterates through the sorted words and appends them to the imp_words_topic string, separated by spaces\n",
        "  for word in sorted_words:\n",
        "    imp_words_topic=imp_words_topic+\" \"+word[0]\n",
        "  #This line creates a WordCloud object with a specified width and height\n",
        "  wordcloud = WordCloud(width=600, height=400).generate(imp_words_topic)\n",
        "  plt.figure( figsize=(5,5))\n",
        "  plt.imshow(wordcloud)\n",
        "  plt.axis(\"off\")\n",
        "  plt.tight_layout()\n",
        "  plt.show()"
      ],
      "metadata": {
        "id": "_ac73PUhmZmn",
        "_uuid": "5221ae4de021107ef757b87d45053460e50582c8",
        "execution": {
          "iopub.status.busy": "2023-09-14T08:17:34.917073Z",
          "iopub.execute_input": "2023-09-14T08:17:34.917365Z",
          "iopub.status.idle": "2023-09-14T08:17:34.952516Z",
          "shell.execute_reply.started": "2023-09-14T08:17:34.917314Z",
          "shell.execute_reply": "2023-09-14T08:17:34.951499Z"
        },
        "trusted": true
      },
      "execution_count": null,
      "outputs": []
    },
    {
      "cell_type": "markdown",
      "source": [
        "Word Cloud for topic 0"
      ],
      "metadata": {
        "id": "E9jp5c-qCtLd"
      }
    },
    {
      "cell_type": "code",
      "source": [
        "draw_word_cloud(0)"
      ],
      "metadata": {
        "id": "-tD4nZdRqnAk",
        "outputId": "ec6047d6-5bd9-4f99-ba4a-5d8859bd995b",
        "_uuid": "e5246db8bb1b751a1f3b96bb65d4da9e34dfc2ba",
        "execution": {
          "iopub.status.busy": "2023-09-14T08:17:34.953888Z",
          "iopub.execute_input": "2023-09-14T08:17:34.954215Z",
          "iopub.status.idle": "2023-09-14T08:17:35.663491Z",
          "shell.execute_reply.started": "2023-09-14T08:17:34.954157Z",
          "shell.execute_reply": "2023-09-14T08:17:35.661870Z"
        },
        "trusted": true,
        "colab": {
          "base_uri": "https://localhost:8080/",
          "height": 346
        }
      },
      "execution_count": null,
      "outputs": [
        {
          "output_type": "display_data",
          "data": {
            "text/plain": [
              "<Figure size 500x500 with 1 Axes>"
            ],
            "image/png": "[encoded data removed]"
          },
          "metadata": {}
        }
      ]
    },
    {
      "cell_type": "markdown",
      "source": [
        "Word Cloud for topic 1"
      ],
      "metadata": {
        "id": "wT6BFMCECwrA"
      }
    },
    {
      "cell_type": "code",
      "source": [
        "draw_word_cloud(1)"
      ],
      "metadata": {
        "id": "Jz_zGbSws1ns",
        "outputId": "372bdc1f-0b27-4d33-bb5e-1636bacfe3e4",
        "_uuid": "74872c17b12680171090690f62ce77019e03ef52",
        "execution": {
          "iopub.status.busy": "2023-09-14T08:17:35.669880Z",
          "iopub.execute_input": "2023-09-14T08:17:35.670500Z",
          "iopub.status.idle": "2023-09-14T08:17:36.277338Z",
          "shell.execute_reply.started": "2023-09-14T08:17:35.670404Z",
          "shell.execute_reply": "2023-09-14T08:17:36.275894Z"
        },
        "trusted": true,
        "colab": {
          "base_uri": "https://localhost:8080/",
          "height": 346
        }
      },
      "execution_count": null,
      "outputs": [
        {
          "output_type": "display_data",
          "data": {
            "text/plain": [
              "<Figure size 500x500 with 1 Axes>"
            ],
            "image/png": "[encoded data removed]"
          },
          "metadata": {}
        }
      ]
    },
    {
      "cell_type": "markdown",
      "source": [
        "---\n"
      ],
      "metadata": {
        "id": "AiZZE70x1_Vy"
      }
    },
    {
      "cell_type": "markdown",
      "source": [
        "### Try an implementation of BertTopic\n",
        "Link - https://maartengr.github.io/BERTopic/index.html"
      ],
      "metadata": {
        "id": "V3FIsnvv2AZp"
      }
    },
    {
      "cell_type": "markdown",
      "source": [
        "---"
      ],
      "metadata": {
        "id": "yw8yX1ST2XxP"
      }
    }
  ]
}