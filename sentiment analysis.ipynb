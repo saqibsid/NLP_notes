{
 "cells": [
  {
   "cell_type": "markdown",
   "id": "2e79c96c",
   "metadata": {},
   "source": [
    "# Sentiment analysis\n",
    "# Q2"
   ]
  },
  {
   "cell_type": "code",
   "execution_count": 1,
   "id": "e36eebf5",
   "metadata": {},
   "outputs": [],
   "source": [
    "# importing libraries\n",
    "\n",
    "import numpy as np\n",
    "import pandas as pd\n",
    "import re\n",
    "from sklearn.pipeline import Pipeline\n",
    "\n",
    "from sklearn.preprocessing import LabelEncoder\n",
    "from sklearn.model_selection import cross_val_score, GridSearchCV, cross_validate\n",
    "from sklearn.linear_model import LogisticRegression\n",
    "from sklearn.ensemble import RandomForestClassifier\n",
    "from sklearn.svm import SVC\n",
    "from sklearn.tree import DecisionTreeClassifier\n",
    "from sklearn.naive_bayes import MultinomialNB\n",
    "from sklearn.neighbors import KNeighborsClassifier\n",
    "from sklearn.naive_bayes import MultinomialNB\n",
    "from sklearn.svm import LinearSVC\n",
    "from sklearn.ensemble import GradientBoostingClassifier\n",
    "from sklearn.model_selection import train_test_split\n",
    "\n",
    "\n",
    "import nltk\n",
    "from nltk.corpus import stopwords\n",
    "from nltk.stem import PorterStemmer\n",
    "from nltk.sentiment import SentimentIntensityAnalyzer\n",
    "from sklearn.feature_extraction.text import TfidfVectorizer\n",
    "\n",
    "import matplotlib.pyplot as plt\n",
    "from wordcloud import WordCloud"
   ]
  },
  {
   "cell_type": "code",
   "execution_count": 6,
   "id": "0699c7ba",
   "metadata": {},
   "outputs": [
    {
     "data": {
      "text/html": [
       "<div>\n",
       "<style scoped>\n",
       "    .dataframe tbody tr th:only-of-type {\n",
       "        vertical-align: middle;\n",
       "    }\n",
       "\n",
       "    .dataframe tbody tr th {\n",
       "        vertical-align: top;\n",
       "    }\n",
       "\n",
       "    .dataframe thead th {\n",
       "        text-align: right;\n",
       "    }\n",
       "</style>\n",
       "<table border=\"1\" class=\"dataframe\">\n",
       "  <thead>\n",
       "    <tr style=\"text-align: right;\">\n",
       "      <th></th>\n",
       "      <th>review</th>\n",
       "      <th>sentiment</th>\n",
       "    </tr>\n",
       "  </thead>\n",
       "  <tbody>\n",
       "    <tr>\n",
       "      <th>0</th>\n",
       "      <td>One of the other reviewers has mentioned that ...</td>\n",
       "      <td>positive</td>\n",
       "    </tr>\n",
       "    <tr>\n",
       "      <th>1</th>\n",
       "      <td>A wonderful little production. &lt;br /&gt;&lt;br /&gt;The...</td>\n",
       "      <td>positive</td>\n",
       "    </tr>\n",
       "    <tr>\n",
       "      <th>2</th>\n",
       "      <td>I thought this was a wonderful way to spend ti...</td>\n",
       "      <td>positive</td>\n",
       "    </tr>\n",
       "    <tr>\n",
       "      <th>3</th>\n",
       "      <td>Basically there's a family where a little boy ...</td>\n",
       "      <td>negative</td>\n",
       "    </tr>\n",
       "    <tr>\n",
       "      <th>4</th>\n",
       "      <td>Petter Mattei's \"Love in the Time of Money\" is...</td>\n",
       "      <td>positive</td>\n",
       "    </tr>\n",
       "  </tbody>\n",
       "</table>\n",
       "</div>"
      ],
      "text/plain": [
       "                                              review sentiment\n",
       "0  One of the other reviewers has mentioned that ...  positive\n",
       "1  A wonderful little production. <br /><br />The...  positive\n",
       "2  I thought this was a wonderful way to spend ti...  positive\n",
       "3  Basically there's a family where a little boy ...  negative\n",
       "4  Petter Mattei's \"Love in the Time of Money\" is...  positive"
      ]
     },
     "execution_count": 6,
     "metadata": {},
     "output_type": "execute_result"
    }
   ],
   "source": [
    "df = pd.read_csv(\"IMDB Dataset.csv\")\n",
    "df.head()"
   ]
  },
  {
   "cell_type": "markdown",
   "id": "f21afc74",
   "metadata": {},
   "source": [
    "# selecting 10k observations"
   ]
  },
  {
   "cell_type": "code",
   "execution_count": 9,
   "id": "e993b8c4",
   "metadata": {},
   "outputs": [],
   "source": [
    "# selecting 10k rows\n",
    "df = df.sample(n=10000, random_state=42)"
   ]
  },
  {
   "cell_type": "code",
   "execution_count": 10,
   "id": "eb699efe",
   "metadata": {},
   "outputs": [],
   "source": [
    "# Shuffle the selected data\n",
    "df = df.sample(frac=1, random_state=42).reset_index(drop=True)"
   ]
  },
  {
   "cell_type": "code",
   "execution_count": 12,
   "id": "1e05172f",
   "metadata": {},
   "outputs": [
    {
     "data": {
      "text/html": [
       "<div>\n",
       "<style scoped>\n",
       "    .dataframe tbody tr th:only-of-type {\n",
       "        vertical-align: middle;\n",
       "    }\n",
       "\n",
       "    .dataframe tbody tr th {\n",
       "        vertical-align: top;\n",
       "    }\n",
       "\n",
       "    .dataframe thead th {\n",
       "        text-align: right;\n",
       "    }\n",
       "</style>\n",
       "<table border=\"1\" class=\"dataframe\">\n",
       "  <thead>\n",
       "    <tr style=\"text-align: right;\">\n",
       "      <th></th>\n",
       "      <th>review</th>\n",
       "      <th>sentiment</th>\n",
       "    </tr>\n",
       "  </thead>\n",
       "  <tbody>\n",
       "    <tr>\n",
       "      <th>0</th>\n",
       "      <td>the tortuous emotional impact is degrading, wh...</td>\n",
       "      <td>negative</td>\n",
       "    </tr>\n",
       "    <tr>\n",
       "      <th>1</th>\n",
       "      <td>Anyone who knows anything about evolution woul...</td>\n",
       "      <td>negative</td>\n",
       "    </tr>\n",
       "    <tr>\n",
       "      <th>2</th>\n",
       "      <td>I'm glad I rented this movie for one reason: i...</td>\n",
       "      <td>negative</td>\n",
       "    </tr>\n",
       "    <tr>\n",
       "      <th>3</th>\n",
       "      <td>Yes, the votes are in. This film may very well...</td>\n",
       "      <td>negative</td>\n",
       "    </tr>\n",
       "    <tr>\n",
       "      <th>4</th>\n",
       "      <td>This mini-series is actually more entertaining...</td>\n",
       "      <td>negative</td>\n",
       "    </tr>\n",
       "  </tbody>\n",
       "</table>\n",
       "</div>"
      ],
      "text/plain": [
       "                                              review sentiment\n",
       "0  the tortuous emotional impact is degrading, wh...  negative\n",
       "1  Anyone who knows anything about evolution woul...  negative\n",
       "2  I'm glad I rented this movie for one reason: i...  negative\n",
       "3  Yes, the votes are in. This film may very well...  negative\n",
       "4  This mini-series is actually more entertaining...  negative"
      ]
     },
     "execution_count": 12,
     "metadata": {},
     "output_type": "execute_result"
    }
   ],
   "source": [
    "df.head()"
   ]
  },
  {
   "cell_type": "code",
   "execution_count": 115,
   "id": "d94b5565",
   "metadata": {},
   "outputs": [
    {
     "name": "stdout",
     "output_type": "stream",
     "text": [
      "total rows in dataset are: 10000\n"
     ]
    }
   ],
   "source": [
    "print(\"total rows in dataset are:\",len(df))"
   ]
  },
  {
   "cell_type": "markdown",
   "id": "ebb82754",
   "metadata": {},
   "source": [
    "## preprocessing the data"
   ]
  },
  {
   "cell_type": "code",
   "execution_count": 13,
   "id": "96d4c997",
   "metadata": {},
   "outputs": [
    {
     "data": {
      "text/plain": [
       "review       0\n",
       "sentiment    0\n",
       "dtype: int64"
      ]
     },
     "execution_count": 13,
     "metadata": {},
     "output_type": "execute_result"
    }
   ],
   "source": [
    "df.isna().sum()\n",
    "# there are no na values in the dataset"
   ]
  },
  {
   "cell_type": "code",
   "execution_count": 14,
   "id": "e131b81d",
   "metadata": {},
   "outputs": [
    {
     "name": "stderr",
     "output_type": "stream",
     "text": [
      "[nltk_data] Downloading package stopwords to C:\\Users\\Saqib\n",
      "[nltk_data]     siddiqui\\AppData\\Roaming\\nltk_data...\n",
      "[nltk_data]   Package stopwords is already up-to-date!\n"
     ]
    }
   ],
   "source": [
    "# Text Cleaning and Preprocessing\n",
    "nltk.download('stopwords')\n",
    "stop_words = set(stopwords.words('english'))\n",
    "\n",
    "def preprocess_text(text):\n",
    "    # Remove special characters, punctuation, and symbols\n",
    "    text = re.sub(r'[^a-zA-Z\\s]', '', text)\n",
    "    # Convert text to lowercase\n",
    "    text = text.lower()\n",
    "    # Remove digits\n",
    "    text = re.sub(r'\\d+', '', text)\n",
    "    # Tokenization and stopwords removal\n",
    "    tokens = nltk.word_tokenize(text)\n",
    "    filtered_tokens = [word for word in tokens if word not in stop_words]\n",
    "    # Join tokens back into text\n",
    "    return ' '.join(filtered_tokens)"
   ]
  },
  {
   "cell_type": "code",
   "execution_count": 15,
   "id": "49e10b07",
   "metadata": {},
   "outputs": [],
   "source": [
    "df['review'] = df['review'].apply(preprocess_text)"
   ]
  },
  {
   "cell_type": "code",
   "execution_count": 16,
   "id": "f842cbc2",
   "metadata": {},
   "outputs": [
    {
     "data": {
      "text/html": [
       "<div>\n",
       "<style scoped>\n",
       "    .dataframe tbody tr th:only-of-type {\n",
       "        vertical-align: middle;\n",
       "    }\n",
       "\n",
       "    .dataframe tbody tr th {\n",
       "        vertical-align: top;\n",
       "    }\n",
       "\n",
       "    .dataframe thead th {\n",
       "        text-align: right;\n",
       "    }\n",
       "</style>\n",
       "<table border=\"1\" class=\"dataframe\">\n",
       "  <thead>\n",
       "    <tr style=\"text-align: right;\">\n",
       "      <th></th>\n",
       "      <th>review</th>\n",
       "      <th>sentiment</th>\n",
       "    </tr>\n",
       "  </thead>\n",
       "  <tbody>\n",
       "    <tr>\n",
       "      <th>0</th>\n",
       "      <td>tortuous emotional impact degrading whether ad...</td>\n",
       "      <td>negative</td>\n",
       "    </tr>\n",
       "    <tr>\n",
       "      <th>1</th>\n",
       "      <td>anyone know anything evolution wouldnt even ne...</td>\n",
       "      <td>negative</td>\n",
       "    </tr>\n",
       "    <tr>\n",
       "      <th>2</th>\n",
       "      <td>im glad rented movie one reason shortcoming ma...</td>\n",
       "      <td>negative</td>\n",
       "    </tr>\n",
       "    <tr>\n",
       "      <th>3</th>\n",
       "      <td>yes vote film may well plan outer space genera...</td>\n",
       "      <td>negative</td>\n",
       "    </tr>\n",
       "    <tr>\n",
       "      <th>4</th>\n",
       "      <td>miniseries actually entertaining others much b...</td>\n",
       "      <td>negative</td>\n",
       "    </tr>\n",
       "  </tbody>\n",
       "</table>\n",
       "</div>"
      ],
      "text/plain": [
       "                                              review sentiment\n",
       "0  tortuous emotional impact degrading whether ad...  negative\n",
       "1  anyone know anything evolution wouldnt even ne...  negative\n",
       "2  im glad rented movie one reason shortcoming ma...  negative\n",
       "3  yes vote film may well plan outer space genera...  negative\n",
       "4  miniseries actually entertaining others much b...  negative"
      ]
     },
     "execution_count": 16,
     "metadata": {},
     "output_type": "execute_result"
    }
   ],
   "source": [
    "# lemmatising\n",
    "df['review'] = df['review'].apply(lambda x: \" \".join([Word(word).lemmatize() for word in x.split()]))\n",
    "df.head()"
   ]
  },
  {
   "cell_type": "code",
   "execution_count": 17,
   "id": "2207483f",
   "metadata": {},
   "outputs": [
    {
     "data": {
      "text/plain": [
       "positive    5039\n",
       "negative    4961\n",
       "Name: sentiment, dtype: int64"
      ]
     },
     "execution_count": 17,
     "metadata": {},
     "output_type": "execute_result"
    }
   ],
   "source": [
    "df['sentiment'].value_counts()"
   ]
  },
  {
   "cell_type": "markdown",
   "id": "738790df",
   "metadata": {},
   "source": [
    "## EDA"
   ]
  },
  {
   "cell_type": "code",
   "execution_count": 18,
   "id": "0df0ce20",
   "metadata": {},
   "outputs": [
    {
     "data": {
      "text/html": [
       "<div>\n",
       "<style scoped>\n",
       "    .dataframe tbody tr th:only-of-type {\n",
       "        vertical-align: middle;\n",
       "    }\n",
       "\n",
       "    .dataframe tbody tr th {\n",
       "        vertical-align: top;\n",
       "    }\n",
       "\n",
       "    .dataframe thead th {\n",
       "        text-align: right;\n",
       "    }\n",
       "</style>\n",
       "<table border=\"1\" class=\"dataframe\">\n",
       "  <thead>\n",
       "    <tr style=\"text-align: right;\">\n",
       "      <th></th>\n",
       "      <th>index</th>\n",
       "      <th>0</th>\n",
       "    </tr>\n",
       "  </thead>\n",
       "  <tbody>\n",
       "    <tr>\n",
       "      <th>0</th>\n",
       "      <td>bad</td>\n",
       "      <td>3494.0</td>\n",
       "    </tr>\n",
       "    <tr>\n",
       "      <th>1</th>\n",
       "      <td>movie</td>\n",
       "      <td>19929.0</td>\n",
       "    </tr>\n",
       "    <tr>\n",
       "      <th>2</th>\n",
       "      <td>way</td>\n",
       "      <td>3352.0</td>\n",
       "    </tr>\n",
       "    <tr>\n",
       "      <th>3</th>\n",
       "      <td>emotional</td>\n",
       "      <td>244.0</td>\n",
       "    </tr>\n",
       "    <tr>\n",
       "      <th>4</th>\n",
       "      <td>sex</td>\n",
       "      <td>683.0</td>\n",
       "    </tr>\n",
       "  </tbody>\n",
       "</table>\n",
       "</div>"
      ],
      "text/plain": [
       "       index        0\n",
       "0        bad   3494.0\n",
       "1      movie  19929.0\n",
       "2        way   3352.0\n",
       "3  emotional    244.0\n",
       "4        sex    683.0"
      ]
     },
     "execution_count": 18,
     "metadata": {},
     "output_type": "execute_result"
    }
   ],
   "source": [
    "tf = df[\"review\"].apply(lambda x: pd.value_counts(x.split(\" \"))).sum(axis=0).reset_index()\n",
    "tf.head()"
   ]
  },
  {
   "cell_type": "code",
   "execution_count": 20,
   "id": "90768c81",
   "metadata": {},
   "outputs": [
    {
     "data": {
      "image/png": "[encoded data removed]",
      "text/plain": [
       "<Figure size 432x288 with 1 Axes>"
      ]
     },
     "metadata": {
      "needs_background": "light"
     },
     "output_type": "display_data"
    }
   ],
   "source": [
    "# Distribution of sentiment classes\n",
    "import seaborn as sns\n",
    "sns.countplot(data=df, x='sentiment')\n",
    "plt.title('Distribution of Sentiments')\n",
    "plt.show()"
   ]
  },
  {
   "cell_type": "code",
   "execution_count": 21,
   "id": "75ff703e",
   "metadata": {},
   "outputs": [
    {
     "data": {
      "image/png": "[encoded data removed]",
      "text/plain": [
       "<Figure size 720x360 with 1 Axes>"
      ]
     },
     "metadata": {
      "needs_background": "light"
     },
     "output_type": "display_data"
    }
   ],
   "source": [
    "# Combine all reviews into one text\n",
    "all_reviews = \" \".join(df['review'])\n",
    "\n",
    "# Create a WordCloud object\n",
    "wordcloud = WordCloud(width=800, height=400, background_color='white').generate(all_reviews)\n",
    "\n",
    "# Display the WordCloud\n",
    "plt.figure(figsize=(10, 5))\n",
    "plt.imshow(wordcloud, interpolation='bilinear')\n",
    "plt.axis('off')\n",
    "plt.title('Word Cloud of Reviews')\n",
    "plt.show()"
   ]
  },
  {
   "cell_type": "code",
   "execution_count": 22,
   "id": "386592b8",
   "metadata": {},
   "outputs": [
    {
     "data": {
      "image/png": "[encoded data removed]",
      "text/plain": [
       "<Figure size 720x360 with 1 Axes>"
      ]
     },
     "metadata": {
      "needs_background": "light"
     },
     "output_type": "display_data"
    }
   ],
   "source": [
    "# Sentiment distribution based on review length\n",
    "df['review_length'] = df['review'].apply(len)\n",
    "plt.figure(figsize=(10, 5))\n",
    "sns.boxplot(data=df, x='sentiment', y='review_length')\n",
    "plt.title('Distribution of Review Length by Sentiment')\n",
    "plt.show()"
   ]
  },
  {
   "cell_type": "code",
   "execution_count": 23,
   "id": "3fdb7bc5",
   "metadata": {},
   "outputs": [
    {
     "data": {
      "image/png": "[encoded data removed]",
      "text/plain": [
       "<Figure size 720x432 with 1 Axes>"
      ]
     },
     "metadata": {
      "needs_background": "light"
     },
     "output_type": "display_data"
    }
   ],
   "source": [
    "from collections import Counter\n",
    "\n",
    "# Tokenize the reviews and count word frequencies\n",
    "words = ' '.join(df['review']).split()\n",
    "word_freq = Counter(words)\n",
    "\n",
    "# Get the top N most common words\n",
    "top_words = word_freq.most_common(20)\n",
    "\n",
    "# Plot the word frequencies\n",
    "plt.figure(figsize=(10, 6))\n",
    "plt.barh([word[0] for word in top_words], [word[1] for word in top_words])\n",
    "plt.xlabel('Frequency')\n",
    "plt.ylabel('Words')\n",
    "plt.title('Top 20 Most Common Words')\n",
    "plt.gca().invert_yaxis()\n",
    "plt.show()\n"
   ]
  },
  {
   "cell_type": "markdown",
   "id": "f89b8c47",
   "metadata": {},
   "source": [
    "## performing sentiment analysis"
   ]
  },
  {
   "cell_type": "code",
   "execution_count": 24,
   "id": "0098390b",
   "metadata": {},
   "outputs": [],
   "source": [
    "from nltk.sentiment.vader import SentimentIntensityAnalyzer\n",
    "\n",
    "sid = SentimentIntensityAnalyzer()"
   ]
  },
  {
   "cell_type": "markdown",
   "id": "67b1070b",
   "metadata": {},
   "source": [
    "## drop the existing label column"
   ]
  },
  {
   "cell_type": "code",
   "execution_count": 100,
   "id": "20af6a44",
   "metadata": {},
   "outputs": [],
   "source": [
    "df.drop(columns='sentiment',inplace=True)"
   ]
  },
  {
   "cell_type": "code",
   "execution_count": 26,
   "id": "f737053a",
   "metadata": {},
   "outputs": [
    {
     "data": {
      "text/plain": [
       "0    {'neg': 0.518, 'neu': 0.317, 'pos': 0.164, 'co...\n",
       "1    {'neg': 0.131, 'neu': 0.603, 'pos': 0.267, 'co...\n",
       "2    {'neg': 0.188, 'neu': 0.596, 'pos': 0.216, 'co...\n",
       "3    {'neg': 0.158, 'neu': 0.624, 'pos': 0.218, 'co...\n",
       "4    {'neg': 0.014, 'neu': 0.763, 'pos': 0.223, 'co...\n",
       "5    {'neg': 0.04, 'neu': 0.673, 'pos': 0.287, 'com...\n",
       "6    {'neg': 0.0, 'neu': 0.668, 'pos': 0.332, 'comp...\n",
       "7    {'neg': 0.165, 'neu': 0.591, 'pos': 0.244, 'co...\n",
       "8    {'neg': 0.115, 'neu': 0.67, 'pos': 0.215, 'com...\n",
       "9    {'neg': 0.033, 'neu': 0.577, 'pos': 0.39, 'com...\n",
       "Name: review, dtype: object"
      ]
     },
     "execution_count": 26,
     "metadata": {},
     "output_type": "execute_result"
    }
   ],
   "source": [
    "df[\"review\"][0:10].apply(lambda x: sid.polarity_scores(x))"
   ]
  },
  {
   "cell_type": "code",
   "execution_count": 27,
   "id": "82be7b9e",
   "metadata": {},
   "outputs": [
    {
     "data": {
      "text/plain": [
       "0   -0.9934\n",
       "1    0.8335\n",
       "2    0.1280\n",
       "3    0.7506\n",
       "4    0.9837\n",
       "5    0.9763\n",
       "6    0.8979\n",
       "7    0.2960\n",
       "8    0.9511\n",
       "9    0.9726\n",
       "Name: review, dtype: float64"
      ]
     },
     "execution_count": 27,
     "metadata": {},
     "output_type": "execute_result"
    }
   ],
   "source": [
    "df[\"review\"][0:10].apply(lambda x: sid.polarity_scores(x)[\"compound\"])"
   ]
  },
  {
   "cell_type": "markdown",
   "id": "7f089bee",
   "metadata": {},
   "source": [
    "## polarity score column"
   ]
  },
  {
   "cell_type": "code",
   "execution_count": 29,
   "id": "2b70c079",
   "metadata": {},
   "outputs": [],
   "source": [
    "df[\"polarity_score\"] = df[\"review\"].apply(lambda x: sid.polarity_scores(x)[\"compound\"])"
   ]
  },
  {
   "cell_type": "code",
   "execution_count": 101,
   "id": "296639d8",
   "metadata": {},
   "outputs": [
    {
     "data": {
      "text/html": [
       "<div>\n",
       "<style scoped>\n",
       "    .dataframe tbody tr th:only-of-type {\n",
       "        vertical-align: middle;\n",
       "    }\n",
       "\n",
       "    .dataframe tbody tr th {\n",
       "        vertical-align: top;\n",
       "    }\n",
       "\n",
       "    .dataframe thead th {\n",
       "        text-align: right;\n",
       "    }\n",
       "</style>\n",
       "<table border=\"1\" class=\"dataframe\">\n",
       "  <thead>\n",
       "    <tr style=\"text-align: right;\">\n",
       "      <th></th>\n",
       "      <th>review</th>\n",
       "      <th>review_length</th>\n",
       "      <th>polarity_score</th>\n",
       "      <th>sentiment_label</th>\n",
       "    </tr>\n",
       "  </thead>\n",
       "  <tbody>\n",
       "    <tr>\n",
       "      <th>0</th>\n",
       "      <td>tortuous emotional impact degrading whether ad...</td>\n",
       "      <td>432</td>\n",
       "      <td>-0.9934</td>\n",
       "      <td>0</td>\n",
       "    </tr>\n",
       "    <tr>\n",
       "      <th>1</th>\n",
       "      <td>anyone know anything evolution wouldnt even ne...</td>\n",
       "      <td>399</td>\n",
       "      <td>0.8335</td>\n",
       "      <td>1</td>\n",
       "    </tr>\n",
       "    <tr>\n",
       "      <th>2</th>\n",
       "      <td>im glad rented movie one reason shortcoming ma...</td>\n",
       "      <td>585</td>\n",
       "      <td>0.1280</td>\n",
       "      <td>1</td>\n",
       "    </tr>\n",
       "    <tr>\n",
       "      <th>3</th>\n",
       "      <td>yes vote film may well plan outer space genera...</td>\n",
       "      <td>1021</td>\n",
       "      <td>0.7506</td>\n",
       "      <td>1</td>\n",
       "    </tr>\n",
       "    <tr>\n",
       "      <th>4</th>\n",
       "      <td>miniseries actually entertaining others much b...</td>\n",
       "      <td>995</td>\n",
       "      <td>0.9837</td>\n",
       "      <td>1</td>\n",
       "    </tr>\n",
       "  </tbody>\n",
       "</table>\n",
       "</div>"
      ],
      "text/plain": [
       "                                              review  review_length  \\\n",
       "0  tortuous emotional impact degrading whether ad...            432   \n",
       "1  anyone know anything evolution wouldnt even ne...            399   \n",
       "2  im glad rented movie one reason shortcoming ma...            585   \n",
       "3  yes vote film may well plan outer space genera...           1021   \n",
       "4  miniseries actually entertaining others much b...            995   \n",
       "\n",
       "   polarity_score  sentiment_label  \n",
       "0         -0.9934                0  \n",
       "1          0.8335                1  \n",
       "2          0.1280                1  \n",
       "3          0.7506                1  \n",
       "4          0.9837                1  "
      ]
     },
     "execution_count": 101,
     "metadata": {},
     "output_type": "execute_result"
    }
   ],
   "source": [
    "df.head()"
   ]
  },
  {
   "cell_type": "markdown",
   "id": "2e775e36",
   "metadata": {},
   "source": [
    "## adding sentiments from the scores we generated from SID"
   ]
  },
  {
   "cell_type": "code",
   "execution_count": 31,
   "id": "fff89ae9",
   "metadata": {},
   "outputs": [
    {
     "data": {
      "text/plain": [
       "0    neg\n",
       "1    pos\n",
       "2    pos\n",
       "3    pos\n",
       "4    pos\n",
       "5    pos\n",
       "6    pos\n",
       "7    pos\n",
       "8    pos\n",
       "9    pos\n",
       "Name: review, dtype: object"
      ]
     },
     "execution_count": 31,
     "metadata": {},
     "output_type": "execute_result"
    }
   ],
   "source": [
    "df[\"review\"][0:10].apply(lambda x: \"pos\" if sid.polarity_scores(x)[\"compound\"] > 0 else \"neg\")"
   ]
  },
  {
   "cell_type": "code",
   "execution_count": 32,
   "id": "1ac44b22",
   "metadata": {},
   "outputs": [
    {
     "data": {
      "text/plain": [
       "pos    6932\n",
       "neg    3068\n",
       "Name: sentiment_label, dtype: int64"
      ]
     },
     "execution_count": 32,
     "metadata": {},
     "output_type": "execute_result"
    }
   ],
   "source": [
    "df[\"sentiment_label\"] = df[\"review\"].apply(lambda x: \"pos\" if sid.polarity_scores(x)[\"compound\"] > 0 else \"neg\")\n",
    "df[\"sentiment_label\"].value_counts()"
   ]
  },
  {
   "cell_type": "code",
   "execution_count": 102,
   "id": "82acdfbb",
   "metadata": {},
   "outputs": [
    {
     "data": {
      "text/html": [
       "<div>\n",
       "<style scoped>\n",
       "    .dataframe tbody tr th:only-of-type {\n",
       "        vertical-align: middle;\n",
       "    }\n",
       "\n",
       "    .dataframe tbody tr th {\n",
       "        vertical-align: top;\n",
       "    }\n",
       "\n",
       "    .dataframe thead th {\n",
       "        text-align: right;\n",
       "    }\n",
       "</style>\n",
       "<table border=\"1\" class=\"dataframe\">\n",
       "  <thead>\n",
       "    <tr style=\"text-align: right;\">\n",
       "      <th></th>\n",
       "      <th>review</th>\n",
       "      <th>review_length</th>\n",
       "      <th>polarity_score</th>\n",
       "      <th>sentiment_label</th>\n",
       "    </tr>\n",
       "  </thead>\n",
       "  <tbody>\n",
       "    <tr>\n",
       "      <th>0</th>\n",
       "      <td>tortuous emotional impact degrading whether ad...</td>\n",
       "      <td>432</td>\n",
       "      <td>-0.9934</td>\n",
       "      <td>0</td>\n",
       "    </tr>\n",
       "    <tr>\n",
       "      <th>1</th>\n",
       "      <td>anyone know anything evolution wouldnt even ne...</td>\n",
       "      <td>399</td>\n",
       "      <td>0.8335</td>\n",
       "      <td>1</td>\n",
       "    </tr>\n",
       "    <tr>\n",
       "      <th>2</th>\n",
       "      <td>im glad rented movie one reason shortcoming ma...</td>\n",
       "      <td>585</td>\n",
       "      <td>0.1280</td>\n",
       "      <td>1</td>\n",
       "    </tr>\n",
       "    <tr>\n",
       "      <th>3</th>\n",
       "      <td>yes vote film may well plan outer space genera...</td>\n",
       "      <td>1021</td>\n",
       "      <td>0.7506</td>\n",
       "      <td>1</td>\n",
       "    </tr>\n",
       "    <tr>\n",
       "      <th>4</th>\n",
       "      <td>miniseries actually entertaining others much b...</td>\n",
       "      <td>995</td>\n",
       "      <td>0.9837</td>\n",
       "      <td>1</td>\n",
       "    </tr>\n",
       "  </tbody>\n",
       "</table>\n",
       "</div>"
      ],
      "text/plain": [
       "                                              review  review_length  \\\n",
       "0  tortuous emotional impact degrading whether ad...            432   \n",
       "1  anyone know anything evolution wouldnt even ne...            399   \n",
       "2  im glad rented movie one reason shortcoming ma...            585   \n",
       "3  yes vote film may well plan outer space genera...           1021   \n",
       "4  miniseries actually entertaining others much b...            995   \n",
       "\n",
       "   polarity_score  sentiment_label  \n",
       "0         -0.9934                0  \n",
       "1          0.8335                1  \n",
       "2          0.1280                1  \n",
       "3          0.7506                1  \n",
       "4          0.9837                1  "
      ]
     },
     "execution_count": 102,
     "metadata": {},
     "output_type": "execute_result"
    }
   ],
   "source": [
    "df.head()"
   ]
  },
  {
   "cell_type": "code",
   "execution_count": 34,
   "id": "59aea0a3",
   "metadata": {},
   "outputs": [],
   "source": [
    "# applying label encoder to the sentiment label\n",
    "df[\"sentiment_label\"] = LabelEncoder().fit_transform(df[\"sentiment_label\"])"
   ]
  },
  {
   "cell_type": "code",
   "execution_count": 36,
   "id": "86eb1a60",
   "metadata": {},
   "outputs": [],
   "source": [
    "y = df[\"sentiment_label\"]\n",
    "X = df[\"review\"]"
   ]
  },
  {
   "cell_type": "code",
   "execution_count": 37,
   "id": "e432619e",
   "metadata": {},
   "outputs": [],
   "source": [
    "X_train, X_test, y_train, y_test = train_test_split(X, y, test_size=0.3, random_state=70)"
   ]
  },
  {
   "cell_type": "markdown",
   "id": "9ee525c5",
   "metadata": {},
   "source": [
    "## applying models"
   ]
  },
  {
   "cell_type": "code",
   "execution_count": 38,
   "id": "970cfd37",
   "metadata": {},
   "outputs": [],
   "source": [
    "\n",
    "\n",
    "# Linear Support Vector Classifier (LinearSVC)\n",
    "text_clf_svc = Pipeline([\n",
    "    ('tfidf', TfidfVectorizer()),\n",
    "    ('SVC', LinearSVC())\n",
    "])\n",
    "\n",
    "# Multinomial Naive Bayes\n",
    "text_clf_nb = Pipeline([\n",
    "    ('tfidf', TfidfVectorizer()),\n",
    "    ('NB', MultinomialNB())\n",
    "])\n",
    "\n",
    "# Logistic Regression\n",
    "text_clf_lr = Pipeline([\n",
    "    ('tfidf', TfidfVectorizer()),\n",
    "    ('LR', LogisticRegression())\n",
    "])\n",
    "\n",
    "# Random Forest Classifier\n",
    "text_clf_rf = Pipeline([\n",
    "    ('tfidf', TfidfVectorizer()),\n",
    "    ('RF', RandomForestClassifier())\n",
    "])\n",
    "\n",
    "# Decision Tree Classifier\n",
    "text_clf_dt = Pipeline([\n",
    "    ('tfidf', TfidfVectorizer()),\n",
    "    ('DT', DecisionTreeClassifier())\n",
    "])\n",
    "\n",
    "# Gradient Boosting Classifier\n",
    "text_clf_gb = Pipeline([\n",
    "    ('tfidf', TfidfVectorizer()),\n",
    "    ('GB', GradientBoostingClassifier())\n",
    "])\n",
    "\n",
    "# K-Nearest Neighbors Classifier\n",
    "text_clf_knn = Pipeline([\n",
    "    ('tfidf', TfidfVectorizer()),\n",
    "    ('KNN', KNeighborsClassifier())\n",
    "])\n"
   ]
  },
  {
   "cell_type": "markdown",
   "id": "d5a4f933",
   "metadata": {},
   "source": [
    "## multinomial Naive bayes"
   ]
  },
  {
   "cell_type": "code",
   "execution_count": 39,
   "id": "812f7282",
   "metadata": {},
   "outputs": [
    {
     "data": {
      "text/plain": [
       "Pipeline(steps=[('tfidf', TfidfVectorizer()), ('NB', MultinomialNB())])"
      ]
     },
     "execution_count": 39,
     "metadata": {},
     "output_type": "execute_result"
    }
   ],
   "source": [
    "text_clf_nb.fit(X_train, y_train)"
   ]
  },
  {
   "cell_type": "code",
   "execution_count": 40,
   "id": "b094b47a",
   "metadata": {},
   "outputs": [],
   "source": [
    "# Form a prediction set\n",
    "predictions_nb = text_clf_nb.predict(X_test)"
   ]
  },
  {
   "cell_type": "code",
   "execution_count": 41,
   "id": "9278901c",
   "metadata": {},
   "outputs": [
    {
     "name": "stdout",
     "output_type": "stream",
     "text": [
      "[[   0  923]\n",
      " [   0 2077]]\n"
     ]
    }
   ],
   "source": [
    "# Report the confusion matrix\n",
    "from sklearn import metrics\n",
    "print(metrics.confusion_matrix(y_test,predictions_nb))"
   ]
  },
  {
   "cell_type": "code",
   "execution_count": 42,
   "id": "7b436a44",
   "metadata": {},
   "outputs": [
    {
     "name": "stdout",
     "output_type": "stream",
     "text": [
      "              precision    recall  f1-score   support\n",
      "\n",
      "           0       0.00      0.00      0.00       923\n",
      "           1       0.69      1.00      0.82      2077\n",
      "\n",
      "    accuracy                           0.69      3000\n",
      "   macro avg       0.35      0.50      0.41      3000\n",
      "weighted avg       0.48      0.69      0.57      3000\n",
      "\n"
     ]
    },
    {
     "name": "stderr",
     "output_type": "stream",
     "text": [
      "C:\\anaconda\\lib\\site-packages\\sklearn\\metrics\\_classification.py:1221: UndefinedMetricWarning: Precision and F-score are ill-defined and being set to 0.0 in labels with no predicted samples. Use `zero_division` parameter to control this behavior.\n",
      "  _warn_prf(average, modifier, msg_start, len(result))\n"
     ]
    }
   ],
   "source": [
    "# Print a classification report\n",
    "print(metrics.classification_report(y_test,predictions_nb))"
   ]
  },
  {
   "cell_type": "code",
   "execution_count": 43,
   "id": "a58070c2",
   "metadata": {},
   "outputs": [
    {
     "name": "stdout",
     "output_type": "stream",
     "text": [
      "0.6923333333333334\n"
     ]
    }
   ],
   "source": [
    "# Print the overall accuracy\n",
    "print(metrics.accuracy_score(y_test,predictions_nb))"
   ]
  },
  {
   "cell_type": "code",
   "execution_count": 75,
   "id": "e0160c89",
   "metadata": {},
   "outputs": [
    {
     "name": "stdout",
     "output_type": "stream",
     "text": [
      "0.8181997242466023\n"
     ]
    }
   ],
   "source": [
    "# printing f1 score\n",
    "from sklearn.metrics import f1_score\n",
    "f1_nb = f1_score(y_test, predictions_nb)\n",
    "print(f1_nb)"
   ]
  },
  {
   "cell_type": "markdown",
   "id": "c44d9883",
   "metadata": {},
   "source": [
    "## SVC"
   ]
  },
  {
   "cell_type": "code",
   "execution_count": 44,
   "id": "b50314c6",
   "metadata": {},
   "outputs": [
    {
     "data": {
      "text/plain": [
       "Pipeline(steps=[('tfidf', TfidfVectorizer()), ('SVC', LinearSVC())])"
      ]
     },
     "execution_count": 44,
     "metadata": {},
     "output_type": "execute_result"
    }
   ],
   "source": [
    "text_clf_svc.fit(X_train, y_train)"
   ]
  },
  {
   "cell_type": "code",
   "execution_count": 45,
   "id": "6833b6f8",
   "metadata": {},
   "outputs": [],
   "source": [
    "# Form a prediction set\n",
    "predictions_svc = text_clf_svc.predict(X_test)"
   ]
  },
  {
   "cell_type": "code",
   "execution_count": 46,
   "id": "b6f8e9ac",
   "metadata": {},
   "outputs": [
    {
     "name": "stdout",
     "output_type": "stream",
     "text": [
      "[[ 624  299]\n",
      " [ 147 1930]]\n"
     ]
    }
   ],
   "source": [
    "# Report the confusion matrix\n",
    "print(metrics.confusion_matrix(y_test,predictions_svc))"
   ]
  },
  {
   "cell_type": "code",
   "execution_count": 47,
   "id": "cc697c8c",
   "metadata": {},
   "outputs": [
    {
     "name": "stdout",
     "output_type": "stream",
     "text": [
      "              precision    recall  f1-score   support\n",
      "\n",
      "           0       0.81      0.68      0.74       923\n",
      "           1       0.87      0.93      0.90      2077\n",
      "\n",
      "    accuracy                           0.85      3000\n",
      "   macro avg       0.84      0.80      0.82      3000\n",
      "weighted avg       0.85      0.85      0.85      3000\n",
      "\n"
     ]
    }
   ],
   "source": [
    "# Print a classification report\n",
    "print(metrics.classification_report(y_test,predictions_svc))"
   ]
  },
  {
   "cell_type": "code",
   "execution_count": 48,
   "id": "5b4e4b62",
   "metadata": {},
   "outputs": [
    {
     "name": "stdout",
     "output_type": "stream",
     "text": [
      "0.8513333333333334\n"
     ]
    }
   ],
   "source": [
    "# Print the overall accuracy\n",
    "print(metrics.accuracy_score(y_test,predictions_svc))"
   ]
  },
  {
   "cell_type": "code",
   "execution_count": 76,
   "id": "34db5768",
   "metadata": {},
   "outputs": [
    {
     "name": "stdout",
     "output_type": "stream",
     "text": [
      "0.8964235949837436\n"
     ]
    }
   ],
   "source": [
    "# printing f1 score\n",
    "from sklearn.metrics import f1_score\n",
    "f1_svc = f1_score(y_test, predictions_svc)\n",
    "print(f1_svc)"
   ]
  },
  {
   "cell_type": "markdown",
   "id": "8482e9ab",
   "metadata": {},
   "source": [
    "## logistic regression"
   ]
  },
  {
   "cell_type": "code",
   "execution_count": 49,
   "id": "ffc4e63e",
   "metadata": {},
   "outputs": [
    {
     "data": {
      "text/plain": [
       "Pipeline(steps=[('tfidf', TfidfVectorizer()), ('LR', LogisticRegression())])"
      ]
     },
     "execution_count": 49,
     "metadata": {},
     "output_type": "execute_result"
    }
   ],
   "source": [
    "text_clf_lr.fit(X_train, y_train)"
   ]
  },
  {
   "cell_type": "code",
   "execution_count": 50,
   "id": "80692d1f",
   "metadata": {},
   "outputs": [],
   "source": [
    "# Form a prediction set\n",
    "predictions_lr = text_clf_lr.predict(X_test)"
   ]
  },
  {
   "cell_type": "code",
   "execution_count": 51,
   "id": "2aa80d24",
   "metadata": {},
   "outputs": [
    {
     "name": "stdout",
     "output_type": "stream",
     "text": [
      "[[ 447  476]\n",
      " [  67 2010]]\n"
     ]
    }
   ],
   "source": [
    "# Report the confusion matrix\n",
    "print(metrics.confusion_matrix(y_test,predictions_lr))"
   ]
  },
  {
   "cell_type": "code",
   "execution_count": 52,
   "id": "643638e1",
   "metadata": {},
   "outputs": [
    {
     "name": "stdout",
     "output_type": "stream",
     "text": [
      "              precision    recall  f1-score   support\n",
      "\n",
      "           0       0.87      0.48      0.62       923\n",
      "           1       0.81      0.97      0.88      2077\n",
      "\n",
      "    accuracy                           0.82      3000\n",
      "   macro avg       0.84      0.73      0.75      3000\n",
      "weighted avg       0.83      0.82      0.80      3000\n",
      "\n"
     ]
    }
   ],
   "source": [
    "# Print a classification report\n",
    "print(metrics.classification_report(y_test,predictions_lr))"
   ]
  },
  {
   "cell_type": "code",
   "execution_count": 53,
   "id": "7f7e5ca5",
   "metadata": {},
   "outputs": [
    {
     "name": "stdout",
     "output_type": "stream",
     "text": [
      "0.819\n"
     ]
    }
   ],
   "source": [
    "# Print the overall accuracy\n",
    "print(metrics.accuracy_score(y_test,predictions_lr))"
   ]
  },
  {
   "cell_type": "code",
   "execution_count": 77,
   "id": "6fc91527",
   "metadata": {},
   "outputs": [
    {
     "name": "stdout",
     "output_type": "stream",
     "text": [
      "0.8809993425378041\n"
     ]
    }
   ],
   "source": [
    "# printing f1 score\n",
    "from sklearn.metrics import f1_score\n",
    "f1_lr = f1_score(y_test, predictions_lr)\n",
    "print(f1_lr)"
   ]
  },
  {
   "cell_type": "markdown",
   "id": "54987546",
   "metadata": {},
   "source": [
    "## random forest classifier"
   ]
  },
  {
   "cell_type": "code",
   "execution_count": 54,
   "id": "dc2af6ca",
   "metadata": {},
   "outputs": [
    {
     "data": {
      "text/plain": [
       "Pipeline(steps=[('tfidf', TfidfVectorizer()), ('RF', RandomForestClassifier())])"
      ]
     },
     "execution_count": 54,
     "metadata": {},
     "output_type": "execute_result"
    }
   ],
   "source": [
    "text_clf_rf.fit(X_train, y_train)"
   ]
  },
  {
   "cell_type": "code",
   "execution_count": 55,
   "id": "ad00c715",
   "metadata": {},
   "outputs": [],
   "source": [
    "# Form a prediction set\n",
    "predictions_rf = text_clf_rf.predict(X_test)"
   ]
  },
  {
   "cell_type": "code",
   "execution_count": 56,
   "id": "bfc5ca08",
   "metadata": {},
   "outputs": [
    {
     "name": "stdout",
     "output_type": "stream",
     "text": [
      "[[ 227  696]\n",
      " [  28 2049]]\n"
     ]
    }
   ],
   "source": [
    "# Report the confusion matrix\n",
    "print(metrics.confusion_matrix(y_test,predictions_rf))"
   ]
  },
  {
   "cell_type": "code",
   "execution_count": 57,
   "id": "d18780b7",
   "metadata": {},
   "outputs": [
    {
     "name": "stdout",
     "output_type": "stream",
     "text": [
      "              precision    recall  f1-score   support\n",
      "\n",
      "           0       0.89      0.25      0.39       923\n",
      "           1       0.75      0.99      0.85      2077\n",
      "\n",
      "    accuracy                           0.76      3000\n",
      "   macro avg       0.82      0.62      0.62      3000\n",
      "weighted avg       0.79      0.76      0.71      3000\n",
      "\n"
     ]
    }
   ],
   "source": [
    "# Print a classification report\n",
    "print(metrics.classification_report(y_test,predictions_rf))"
   ]
  },
  {
   "cell_type": "code",
   "execution_count": 78,
   "id": "41d8fc04",
   "metadata": {},
   "outputs": [
    {
     "name": "stdout",
     "output_type": "stream",
     "text": [
      "0.7586666666666667\n"
     ]
    }
   ],
   "source": [
    "# Print the overall accuracy\n",
    "print(metrics.accuracy_score(y_test,predictions_rf))"
   ]
  },
  {
   "cell_type": "code",
   "execution_count": 79,
   "id": "d1344ef7",
   "metadata": {},
   "outputs": [
    {
     "name": "stdout",
     "output_type": "stream",
     "text": [
      "0.8498548320199087\n"
     ]
    }
   ],
   "source": [
    "# printing f1 score\n",
    "from sklearn.metrics import f1_score\n",
    "f1_rf = f1_score(y_test, predictions_rf)\n",
    "print(f1_rf)"
   ]
  },
  {
   "cell_type": "markdown",
   "id": "fae796fc",
   "metadata": {},
   "source": [
    "## decision tree classifier"
   ]
  },
  {
   "cell_type": "code",
   "execution_count": 59,
   "id": "ebf19a33",
   "metadata": {},
   "outputs": [
    {
     "data": {
      "text/plain": [
       "Pipeline(steps=[('tfidf', TfidfVectorizer()), ('DT', DecisionTreeClassifier())])"
      ]
     },
     "execution_count": 59,
     "metadata": {},
     "output_type": "execute_result"
    }
   ],
   "source": [
    "text_clf_dt.fit(X_train, y_train)"
   ]
  },
  {
   "cell_type": "code",
   "execution_count": 60,
   "id": "dcf49bd1",
   "metadata": {},
   "outputs": [],
   "source": [
    "# Form a prediction set\n",
    "predictions_dt = text_clf_dt.predict(X_test)"
   ]
  },
  {
   "cell_type": "code",
   "execution_count": 61,
   "id": "f33d2b95",
   "metadata": {},
   "outputs": [
    {
     "name": "stdout",
     "output_type": "stream",
     "text": [
      "[[ 497  426]\n",
      " [ 512 1565]]\n"
     ]
    }
   ],
   "source": [
    "# Report the confusion matrix\n",
    "print(metrics.confusion_matrix(y_test,predictions_dt))"
   ]
  },
  {
   "cell_type": "code",
   "execution_count": 62,
   "id": "c6738d0c",
   "metadata": {},
   "outputs": [
    {
     "name": "stdout",
     "output_type": "stream",
     "text": [
      "              precision    recall  f1-score   support\n",
      "\n",
      "           0       0.49      0.54      0.51       923\n",
      "           1       0.79      0.75      0.77      2077\n",
      "\n",
      "    accuracy                           0.69      3000\n",
      "   macro avg       0.64      0.65      0.64      3000\n",
      "weighted avg       0.70      0.69      0.69      3000\n",
      "\n"
     ]
    }
   ],
   "source": [
    "# Print a classification report\n",
    "print(metrics.classification_report(y_test,predictions_dt))"
   ]
  },
  {
   "cell_type": "code",
   "execution_count": 63,
   "id": "b3b15076",
   "metadata": {},
   "outputs": [
    {
     "name": "stdout",
     "output_type": "stream",
     "text": [
      "0.6873333333333334\n"
     ]
    }
   ],
   "source": [
    "# Print the overall accuracy\n",
    "print(metrics.accuracy_score(y_test,predictions_dt))"
   ]
  },
  {
   "cell_type": "code",
   "execution_count": 80,
   "id": "5e123c1b",
   "metadata": {},
   "outputs": [
    {
     "name": "stdout",
     "output_type": "stream",
     "text": [
      "0.7694198623402162\n"
     ]
    }
   ],
   "source": [
    "# printing f1 score\n",
    "from sklearn.metrics import f1_score\n",
    "f1_dt = f1_score(y_test, predictions_dt)\n",
    "print(f1_dt)"
   ]
  },
  {
   "cell_type": "markdown",
   "id": "2dbdce41",
   "metadata": {},
   "source": [
    "## Gradient boosting classifier"
   ]
  },
  {
   "cell_type": "code",
   "execution_count": 64,
   "id": "a6cb9f6f",
   "metadata": {},
   "outputs": [
    {
     "data": {
      "text/plain": [
       "Pipeline(steps=[('tfidf', TfidfVectorizer()),\n",
       "                ('GB', GradientBoostingClassifier())])"
      ]
     },
     "execution_count": 64,
     "metadata": {},
     "output_type": "execute_result"
    }
   ],
   "source": [
    "text_clf_gb.fit(X_train, y_train)"
   ]
  },
  {
   "cell_type": "code",
   "execution_count": 65,
   "id": "a5cbabc8",
   "metadata": {},
   "outputs": [],
   "source": [
    "# Form a prediction set\n",
    "predictions_gb = text_clf_gb.predict(X_test)"
   ]
  },
  {
   "cell_type": "code",
   "execution_count": 66,
   "id": "024a8381",
   "metadata": {},
   "outputs": [
    {
     "name": "stdout",
     "output_type": "stream",
     "text": [
      "[[ 418  505]\n",
      " [ 113 1964]]\n"
     ]
    }
   ],
   "source": [
    "# Report the confusion matrix\n",
    "print(metrics.confusion_matrix(y_test,predictions_gb))"
   ]
  },
  {
   "cell_type": "code",
   "execution_count": 67,
   "id": "ff7f47e7",
   "metadata": {},
   "outputs": [
    {
     "name": "stdout",
     "output_type": "stream",
     "text": [
      "              precision    recall  f1-score   support\n",
      "\n",
      "           0       0.79      0.45      0.57       923\n",
      "           1       0.80      0.95      0.86      2077\n",
      "\n",
      "    accuracy                           0.79      3000\n",
      "   macro avg       0.79      0.70      0.72      3000\n",
      "weighted avg       0.79      0.79      0.78      3000\n",
      "\n"
     ]
    }
   ],
   "source": [
    "# Print a classification report\n",
    "print(metrics.classification_report(y_test,predictions_gb))"
   ]
  },
  {
   "cell_type": "code",
   "execution_count": 68,
   "id": "2e149e90",
   "metadata": {},
   "outputs": [
    {
     "name": "stdout",
     "output_type": "stream",
     "text": [
      "0.794\n"
     ]
    }
   ],
   "source": [
    "# Print the overall accuracy\n",
    "print(metrics.accuracy_score(y_test,predictions_gb))"
   ]
  },
  {
   "cell_type": "code",
   "execution_count": 81,
   "id": "b247926a",
   "metadata": {},
   "outputs": [
    {
     "name": "stdout",
     "output_type": "stream",
     "text": [
      "0.864056313242411\n"
     ]
    }
   ],
   "source": [
    "# printing f1 score\n",
    "from sklearn.metrics import f1_score\n",
    "f1_gb = f1_score(y_test, predictions_gb)\n",
    "print(f1_gb)"
   ]
  },
  {
   "cell_type": "markdown",
   "id": "5962f163",
   "metadata": {},
   "source": [
    "## knn classifier"
   ]
  },
  {
   "cell_type": "code",
   "execution_count": 69,
   "id": "12bab97f",
   "metadata": {},
   "outputs": [
    {
     "data": {
      "text/plain": [
       "Pipeline(steps=[('tfidf', TfidfVectorizer()), ('KNN', KNeighborsClassifier())])"
      ]
     },
     "execution_count": 69,
     "metadata": {},
     "output_type": "execute_result"
    }
   ],
   "source": [
    "text_clf_knn.fit(X_train, y_train)"
   ]
  },
  {
   "cell_type": "code",
   "execution_count": 70,
   "id": "a827e76d",
   "metadata": {},
   "outputs": [
    {
     "name": "stderr",
     "output_type": "stream",
     "text": [
      "C:\\anaconda\\lib\\site-packages\\sklearn\\neighbors\\_classification.py:189: FutureWarning: Unlike other reduction functions (e.g. `skew`, `kurtosis`), the default behavior of `mode` typically preserves the axis it acts along. In SciPy 1.11.0, this behavior will change: the default value of `keepdims` will become False, the `axis` over which the statistic is taken will be eliminated, and the value None will no longer be accepted. Set `keepdims` to True or False to avoid this warning.\n",
      "  mode, _ = stats.mode(_y[neigh_ind, k], axis=1)\n"
     ]
    }
   ],
   "source": [
    "# Form a prediction set\n",
    "predictions_knn = text_clf_knn.predict(X_test)"
   ]
  },
  {
   "cell_type": "code",
   "execution_count": 71,
   "id": "60aecb64",
   "metadata": {},
   "outputs": [
    {
     "name": "stdout",
     "output_type": "stream",
     "text": [
      "[[ 380  543]\n",
      " [ 295 1782]]\n"
     ]
    }
   ],
   "source": [
    "# Report the confusion matrix\n",
    "print(metrics.confusion_matrix(y_test,predictions_knn))"
   ]
  },
  {
   "cell_type": "code",
   "execution_count": 72,
   "id": "33ae1533",
   "metadata": {},
   "outputs": [
    {
     "name": "stdout",
     "output_type": "stream",
     "text": [
      "              precision    recall  f1-score   support\n",
      "\n",
      "           0       0.56      0.41      0.48       923\n",
      "           1       0.77      0.86      0.81      2077\n",
      "\n",
      "    accuracy                           0.72      3000\n",
      "   macro avg       0.66      0.63      0.64      3000\n",
      "weighted avg       0.70      0.72      0.71      3000\n",
      "\n"
     ]
    }
   ],
   "source": [
    "# Print a classification report\n",
    "print(metrics.classification_report(y_test,predictions_knn))"
   ]
  },
  {
   "cell_type": "code",
   "execution_count": 73,
   "id": "cbca9b3d",
   "metadata": {},
   "outputs": [
    {
     "name": "stdout",
     "output_type": "stream",
     "text": [
      "0.7206666666666667\n"
     ]
    }
   ],
   "source": [
    "# Print the overall accuracy\n",
    "print(metrics.accuracy_score(y_test,predictions_knn))"
   ]
  },
  {
   "cell_type": "code",
   "execution_count": 82,
   "id": "0ba382dc",
   "metadata": {},
   "outputs": [
    {
     "name": "stdout",
     "output_type": "stream",
     "text": [
      "0.809631985461154\n"
     ]
    }
   ],
   "source": [
    "# printing f1 score\n",
    "from sklearn.metrics import f1_score\n",
    "f1_knn = f1_score(y_test, predictions_knn)\n",
    "print(f1_knn)"
   ]
  },
  {
   "cell_type": "markdown",
   "id": "56d1ed11",
   "metadata": {},
   "source": [
    "## getting scores of all models used"
   ]
  },
  {
   "cell_type": "code",
   "execution_count": 103,
   "id": "e82a303a",
   "metadata": {},
   "outputs": [
    {
     "data": {
      "image/png": "[encoded data removed]",
      "text/plain": [
       "<Figure size 720x432 with 1 Axes>"
      ]
     },
     "metadata": {
      "needs_background": "light"
     },
     "output_type": "display_data"
    }
   ],
   "source": [
    "import pandas as pd\n",
    "import matplotlib.pyplot as plt\n",
    "\n",
    "# Calculate the scores for each model\n",
    "nb_score = text_clf_nb.score(X_test, y_test)\n",
    "lr_score = text_clf_lr.score(X_test, y_test)\n",
    "svc_score = text_clf_svc.score(X_test, y_test)\n",
    "dc_score = text_clf_dt.score(X_test, y_test)\n",
    "rf_score = text_clf_rf.score(X_test, y_test)\n",
    "\n",
    "# Create a dictionary with model names and scores\n",
    "scores = {\n",
    "    'Model Name': [\"MultiNomial NB\", \"Logistic Regressor\", \"Support Vector Classifier\", \"Decision Tree Classifier\", \"Random Forest Classifier\"],\n",
    "    'Scores': [nb_score, lr_score, svc_score, dc_score, rf_score]\n",
    "}\n",
    "\n",
    "# Create a DataFrame from the dictionary\n",
    "scores_df = pd.DataFrame(scores)\n",
    "\n",
    "# Plot the scores\n",
    "plt.figure(figsize=(10, 6))\n",
    "plt.barh(scores_df['Model Name'], scores_df['Scores'], color='blue')\n",
    "plt.xlabel('Scores')\n",
    "plt.ylabel('Model Name')\n",
    "plt.title('Model accuracy Scores')\n",
    "plt.xlim(0, 1)  # Set the x-axis limit to 0-1 for accuracy scores\n",
    "plt.show()\n"
   ]
  },
  {
   "cell_type": "code",
   "execution_count": 116,
   "id": "65bc6982",
   "metadata": {},
   "outputs": [
    {
     "data": {
      "image/png": "[encoded data removed]",
      "text/plain": [
       "<Figure size 720x432 with 1 Axes>"
      ]
     },
     "metadata": {
      "needs_background": "light"
     },
     "output_type": "display_data"
    }
   ],
   "source": [
    "# Assuming you have already split your data into X_test and y_test\n",
    "y_pred_nb = text_clf_nb.predict(X_test)\n",
    "f1_nb = f1_score(y_test, y_pred_nb)\n",
    "\n",
    "y_pred_lr = text_clf_lr.predict(X_test)\n",
    "f1_lr = f1_score(y_test, y_pred_lr)\n",
    "\n",
    "y_pred_svc = text_clf_svc.predict(X_test)\n",
    "f1_svc = f1_score(y_test, y_pred_svc)\n",
    "\n",
    "y_pred_dt = text_clf_dt.predict(X_test)\n",
    "f1_dt = f1_score(y_test, y_pred_dt)\n",
    "\n",
    "y_pred_rf = text_clf_rf.predict(X_test)\n",
    "f1_rf = f1_score(y_test, y_pred_rf)\n",
    "\n",
    "# Create a dictionary with model names and F1-scores\n",
    "f1_scores = {\n",
    "    'Model Name': [\"MultiNomial NB\", \"Logistic Regressor\", \"Support Vector Classifier\", \"Decision Tree Classifier\", \"Random Forest Classifier\"],\n",
    "    'F1-Scores': [f1_nb, f1_lr, f1_svc, f1_dt, f1_rf]\n",
    "}\n",
    "\n",
    "# Create a DataFrame from the dictionary\n",
    "f1_scores_df = pd.DataFrame(f1_scores)\n",
    "f1_scores_df.sort_values(by='F1-Scores', inplace=True)\n",
    "\n",
    "# Plot the F1-scores\n",
    "plt.figure(figsize=(10, 6))\n",
    "plt.barh(f1_scores_df['Model Name'], f1_scores_df['F1-Scores'], color='blue')\n",
    "plt.xlabel('F1-Scores')\n",
    "plt.ylabel('Model Name')\n",
    "plt.title('Model F1-Scores')\n",
    "plt.xlim(0, 1)  # Set the x-axis limit to 0-1 for F1-scores\n",
    "plt.show()\n"
   ]
  },
  {
   "cell_type": "markdown",
   "id": "ca611d27",
   "metadata": {},
   "source": [
    "#### SVC has the best f1-score"
   ]
  },
  {
   "cell_type": "code",
   "execution_count": 106,
   "id": "5bb9db68",
   "metadata": {},
   "outputs": [],
   "source": [
    "# positive review\n",
    "my_review = \"This movie was amazing, the plot and ending was soo good, i really enjoyed watching the movie, it is a MUST WATCH!!\"\n",
    "my_review = preprocess_text(my_review)\n",
    "predicted_sentiment = text_clf_svc.predict([my_review])"
   ]
  },
  {
   "cell_type": "code",
   "execution_count": 107,
   "id": "354862cb",
   "metadata": {},
   "outputs": [
    {
     "name": "stdout",
     "output_type": "stream",
     "text": [
      "Predicted sentiment for your review: positive\n"
     ]
    }
   ],
   "source": [
    "# Interpret the result\n",
    "if predicted_sentiment == 0:\n",
    "    sentiment = \"negative\"\n",
    "else:\n",
    "    sentiment = \"positive\"\n",
    "\n",
    "print(f\"Predicted sentiment for your review: {sentiment}\")"
   ]
  },
  {
   "cell_type": "code",
   "execution_count": 108,
   "id": "77a14e0f",
   "metadata": {},
   "outputs": [
    {
     "data": {
      "text/plain": [
       "{'neg': 0.0, 'neu': 0.466, 'pos': 0.534, 'compound': 0.8832}"
      ]
     },
     "execution_count": 108,
     "metadata": {},
     "output_type": "execute_result"
    }
   ],
   "source": [
    "sid.polarity_scores(my_review)"
   ]
  },
  {
   "cell_type": "code",
   "execution_count": 110,
   "id": "2697bf1a",
   "metadata": {},
   "outputs": [],
   "source": [
    "# negative review\n",
    "my_neg_review = \"The movie was an absolute disaster, it had no plot, no storyline and the actors were horrible\"\n",
    "my_review = preprocess_text(my_neg_review)\n",
    "predicted_sentiment_neg = text_clf_svc.predict([my_neg_review])"
   ]
  },
  {
   "cell_type": "code",
   "execution_count": 111,
   "id": "c81630b6",
   "metadata": {},
   "outputs": [
    {
     "name": "stdout",
     "output_type": "stream",
     "text": [
      "Predicted sentiment for your review: negative\n"
     ]
    }
   ],
   "source": [
    "# Interpret the result\n",
    "if predicted_sentiment_neg == 0:\n",
    "    sentiment = \"negative\"\n",
    "else:\n",
    "    sentiment = \"positive\"\n",
    "\n",
    "print(f\"Predicted sentiment for your review: {sentiment}\")"
   ]
  },
  {
   "cell_type": "code",
   "execution_count": 112,
   "id": "dd387e0b",
   "metadata": {},
   "outputs": [
    {
     "data": {
      "text/plain": [
       "{'neg': 0.48, 'neu': 0.52, 'pos': 0.0, 'compound': -0.9001}"
      ]
     },
     "execution_count": 112,
     "metadata": {},
     "output_type": "execute_result"
    }
   ],
   "source": [
    "sid.polarity_scores(my_neg_review)"
   ]
  },
  {
   "cell_type": "code",
   "execution_count": null,
   "id": "ea58fedb",
   "metadata": {},
   "outputs": [],
   "source": []
  }
 ],
 "metadata": {
  "kernelspec": {
   "display_name": "Python 3",
   "language": "python",
   "name": "python3"
  },
  "language_info": {
   "codemirror_mode": {
    "name": "ipython",
    "version": 3
   },
   "file_extension": ".py",
   "mimetype": "text/x-python",
   "name": "python",
   "nbconvert_exporter": "python",
   "pygments_lexer": "ipython3",
   "version": "3.8.5"
  }
 },
 "nbformat": 4,
 "nbformat_minor": 5
}
