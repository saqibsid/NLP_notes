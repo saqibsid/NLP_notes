{
  "nbformat": 4,
  "nbformat_minor": 0,
  "metadata": {
    "colab": {
      "provenance": []
    },
    "kernelspec": {
      "name": "python3",
      "display_name": "Python 3"
    },
    "language_info": {
      "name": "python"
    }
  },
  "cells": [
    {
      "cell_type": "markdown",
      "source": [
        "# Practical 1\n",
        "\n",
        "**Topic** : NLTK and Text Processing\n",
        "\n",
        "**Granularity**\n",
        "\n",
        "\n",
        "1.   Basic Text Processing\n",
        "2.   Understanding RegEx\n",
        "3.   Introduction to NLTK\n",
        "4.   Exploring NLTK Capabilities\n",
        "\n"
      ],
      "metadata": {
        "id": "HK6UvAENDf-T"
      }
    },
    {
      "cell_type": "markdown",
      "source": [
        "\n",
        "\n",
        "---\n",
        "\n"
      ],
      "metadata": {
        "id": "dpeNCR8vEEnJ"
      }
    },
    {
      "cell_type": "markdown",
      "source": [
        "# Section 1 - Basic Text Processing\n",
        "\n",
        "\n",
        "\n",
        "*   Working with f-strings (formatted string literals) to format printed text\n",
        "\n",
        "## Formatted String Literals (f-strings)\n",
        "\n",
        "There are 2 ways of formatting string literals\n",
        "1. Old `.format()` method\n",
        "2. Using `f-strings` method"
      ],
      "metadata": {
        "id": "Qu6G2vqeEGzZ"
      }
    },
    {
      "cell_type": "code",
      "execution_count": 1,
      "metadata": {
        "colab": {
          "base_uri": "https://localhost:8080/"
        },
        "id": "X8MLq-8sDXqi",
        "outputId": "9e3856df-86b6-41fe-af75-fbd11c46dccf"
      },
      "outputs": [
        {
          "output_type": "stream",
          "name": "stdout",
          "text": [
            "His name is Anant.\n",
            "His name is Anant.\n"
          ]
        }
      ],
      "source": [
        "name = 'Anant'\n",
        "\n",
        "# Using the old .format() method:\n",
        "print('His name is {var}.'.format(var=name))\n",
        "\n",
        "# Using f-strings:\n",
        "print(f'His name is {name}.')"
      ]
    },
    {
      "cell_type": "markdown",
      "source": [
        "Pass `!r` to get the string representation:"
      ],
      "metadata": {
        "id": "HkTqaE4bHrdK"
      }
    },
    {
      "cell_type": "code",
      "source": [
        "print(f'His name is {name!r}')"
      ],
      "metadata": {
        "colab": {
          "base_uri": "https://localhost:8080/"
        },
        "id": "bc63TxcqHnP-",
        "outputId": "9067db21-b4ae-4444-e255-4698ee208a5b"
      },
      "execution_count": 2,
      "outputs": [
        {
          "output_type": "stream",
          "name": "stdout",
          "text": [
            "His name is 'Anant'\n"
          ]
        }
      ]
    },
    {
      "cell_type": "markdown",
      "source": [
        "**Common Errors -**\n",
        "\n",
        "Be careful not to let quotation marks in the replacement fields conflict with the quoting used in the outer string:"
      ],
      "metadata": {
        "id": "5U_L25A2HwMb"
      }
    },
    {
      "cell_type": "code",
      "source": [
        "d = {'a':123,'b':456}\n",
        "\n",
        "print(f'Address: {d['a']} Main Street')"
      ],
      "metadata": {
        "colab": {
          "base_uri": "https://localhost:8080/",
          "height": 133
        },
        "id": "uBfbCiRLH4tt",
        "outputId": "be8f6df0-c049-4b62-cb32-5a430f57f2a1"
      },
      "execution_count": 3,
      "outputs": [
        {
          "output_type": "error",
          "ename": "SyntaxError",
          "evalue": "ignored",
          "traceback": [
            "\u001b[0;36m  File \u001b[0;32m\"<ipython-input-3-b2f08335b9e5>\"\u001b[0;36m, line \u001b[0;32m3\u001b[0m\n\u001b[0;31m    print(f'Address: {d['a']} Main Street')\u001b[0m\n\u001b[0m                         ^\u001b[0m\n\u001b[0;31mSyntaxError\u001b[0m\u001b[0;31m:\u001b[0m f-string: unmatched '['\n"
          ]
        }
      ]
    },
    {
      "cell_type": "markdown",
      "source": [
        "**Correct Method -**"
      ],
      "metadata": {
        "id": "K72_lK0iH7SH"
      }
    },
    {
      "cell_type": "code",
      "source": [
        "d = {'a':123,'b':456}\n",
        "\n",
        "print(f\"Address: {d['a']} Main Street\")"
      ],
      "metadata": {
        "colab": {
          "base_uri": "https://localhost:8080/"
        },
        "id": "Jrn8DUcTIAwq",
        "outputId": "28b148f8-b542-47ec-c296-365bc6d12563"
      },
      "execution_count": 4,
      "outputs": [
        {
          "output_type": "stream",
          "name": "stdout",
          "text": [
            "Address: 123 Main Street\n"
          ]
        }
      ]
    },
    {
      "cell_type": "markdown",
      "source": [
        "**Minimum Widths, Alignment and Padding**\n",
        "\n",
        "You can pass arguments inside a nested set of curly braces to set a minimum width for the field, the alignment and even padding characters."
      ],
      "metadata": {
        "id": "0dTXC3eFIPQf"
      }
    },
    {
      "cell_type": "code",
      "source": [
        "library = [('Author', 'Topic', 'Pages'), ('Twain', 'Rafting', 601), ('Feynman', 'Physics', 95), ('Hamilton', 'Mythology', 144)]\n",
        "\n",
        "for book in library:\n",
        "    print(f'{book[0]:{10}} {book[1]:{8}} {book[2]:{7}}')"
      ],
      "metadata": {
        "colab": {
          "base_uri": "https://localhost:8080/"
        },
        "id": "H4GgmztWITjH",
        "outputId": "9297a0f8-be16-4729-e0cf-d6959afe1663"
      },
      "execution_count": 5,
      "outputs": [
        {
          "output_type": "stream",
          "name": "stdout",
          "text": [
            "Author     Topic    Pages  \n",
            "Twain      Rafting      601\n",
            "Feynman    Physics       95\n",
            "Hamilton   Mythology     144\n"
          ]
        }
      ]
    },
    {
      "cell_type": "markdown",
      "source": [
        "Here the first three lines align, except `Pages` follows a default left-alignment while numbers are right-aligned. Also, the fourth line's page number is pushed to the right as `Mythology` exceeds the minimum field width of `8`. When setting minimum field widths make sure to take the longest item into account.\n",
        "\n",
        "To set the alignment, use the character `<` for left-align, `^` for center, `>` for right.\n",
        "To set padding, precede the alignment character with the padding character (`-` and `.` are common choices).\n",
        "\n"
      ],
      "metadata": {
        "id": "eUlyLzauIV6P"
      }
    },
    {
      "cell_type": "markdown",
      "source": [
        "Adjustments for Strings"
      ],
      "metadata": {
        "id": "ys2VNn9wIrN5"
      }
    },
    {
      "cell_type": "code",
      "source": [
        "for book in library:\n",
        "    print(f'{book[0]:{10}} {book[1]:{10}} {book[2]:.>{7}}') # here .> was added"
      ],
      "metadata": {
        "colab": {
          "base_uri": "https://localhost:8080/"
        },
        "id": "771C0iKFIpVq",
        "outputId": "b06a3b2b-7c17-43ca-bcf9-cc67bab698fa"
      },
      "execution_count": 6,
      "outputs": [
        {
          "output_type": "stream",
          "name": "stdout",
          "text": [
            "Author     Topic      ..Pages\n",
            "Twain      Rafting    ....601\n",
            "Feynman    Physics    .....95\n",
            "Hamilton   Mythology  ....144\n"
          ]
        }
      ]
    },
    {
      "cell_type": "markdown",
      "source": [
        "## Iterating through a File"
      ],
      "metadata": {
        "id": "BFtHfLL_MIwq"
      }
    },
    {
      "cell_type": "code",
      "source": [
        "with open('test.txt','r') as txt:\n",
        "    for line in txt:\n",
        "        print(line, end='')  # the end='' argument removes extra linebreaks"
      ],
      "metadata": {
        "colab": {
          "base_uri": "https://localhost:8080/"
        },
        "id": "uMqsrk8RMLkW",
        "outputId": "7a0f7556-9877-4c32-e7a7-0127f37506ad"
      },
      "execution_count": 7,
      "outputs": [
        {
          "output_type": "stream",
          "name": "stdout",
          "text": [
            "This is a new first line\n",
            "This line is being appended to test.txt\n",
            "And another line here.\n",
            "This is more text being appended to test.txt\n",
            "And another line here."
          ]
        }
      ]
    },
    {
      "cell_type": "markdown",
      "source": [
        "\n",
        "\n",
        "---\n",
        "\n"
      ],
      "metadata": {
        "id": "nYa6n6kyEO48"
      }
    },
    {
      "cell_type": "markdown",
      "source": [
        "# Section 2 - Understanding RegEx\n",
        "\n",
        "Regular Expressions (sometimes called regex for short) allow a user to search for strings using almost any sort of rule they can come up with. For example, finding all capital letters in a string, or finding a phone number in a document.\n",
        "\n",
        "Regular expressions are notorious for their seemingly strange syntax. This strange syntax is a byproduct of their flexibility. Regular expressions have to be able to filter out any string pattern you can imagine, which is why they have a complex string pattern format.\n",
        "\n",
        "Regular expressions are handled using Python's built-in re library. See the [docs](https://docs.python.org/3/library/re.html) for more information."
      ],
      "metadata": {
        "id": "3Niu9gETEP5M"
      }
    },
    {
      "cell_type": "markdown",
      "source": [
        "## Basic Pattern Searching\n",
        "\n",
        "Consider the following string-"
      ],
      "metadata": {
        "id": "ojdOwlYMJVOu"
      }
    },
    {
      "cell_type": "code",
      "source": [
        "text = \"The electrician's phone number is 408-555-1234.\""
      ],
      "metadata": {
        "id": "e6ajtnnnETSk"
      },
      "execution_count": 8,
      "outputs": []
    },
    {
      "cell_type": "markdown",
      "source": [
        "We'll start off by trying to find out if the string \"phone\" is inside the text string. Now we could quickly do this with:"
      ],
      "metadata": {
        "id": "0jhZVJLNJhv6"
      }
    },
    {
      "cell_type": "code",
      "source": [
        "'phone' in text"
      ],
      "metadata": {
        "colab": {
          "base_uri": "https://localhost:8080/"
        },
        "id": "AMDdqDETJjeg",
        "outputId": "972d4203-ceca-463e-d08a-0bc4249348cd"
      },
      "execution_count": 9,
      "outputs": [
        {
          "output_type": "execute_result",
          "data": {
            "text/plain": [
              "True"
            ]
          },
          "metadata": {},
          "execution_count": 9
        }
      ]
    },
    {
      "cell_type": "markdown",
      "source": [
        "But let's show the format for regular expressions, because later on we will be searching for patterns that won't have such a simple solution."
      ],
      "metadata": {
        "id": "Z2P49V5jJnFk"
      }
    },
    {
      "cell_type": "code",
      "source": [
        "import re"
      ],
      "metadata": {
        "id": "RifY-e6aJqM3"
      },
      "execution_count": 10,
      "outputs": []
    },
    {
      "cell_type": "code",
      "source": [
        "pattern = 'phone'"
      ],
      "metadata": {
        "id": "ElfXgSQxJq-E"
      },
      "execution_count": 11,
      "outputs": []
    },
    {
      "cell_type": "code",
      "source": [
        "re.search(pattern,text)"
      ],
      "metadata": {
        "colab": {
          "base_uri": "https://localhost:8080/"
        },
        "id": "iPfmOUHZJq7K",
        "outputId": "b00e7e8e-9426-41d9-af3e-d3b1c6b156e6"
      },
      "execution_count": 12,
      "outputs": [
        {
          "output_type": "execute_result",
          "data": {
            "text/plain": [
              "<re.Match object; span=(18, 23), match='phone'>"
            ]
          },
          "metadata": {},
          "execution_count": 12
        }
      ]
    },
    {
      "cell_type": "code",
      "source": [
        "pattern = \"NOT IN TEXT\""
      ],
      "metadata": {
        "id": "eK55-gLNJq4h"
      },
      "execution_count": 13,
      "outputs": []
    },
    {
      "cell_type": "code",
      "source": [
        "re.search(pattern,text)"
      ],
      "metadata": {
        "id": "NVnYqaaOJxK3"
      },
      "execution_count": 14,
      "outputs": []
    },
    {
      "cell_type": "markdown",
      "source": [
        "Now we've seen that re.search() will take the pattern, scan the text, and then returns a Match object. If no pattern is found, a None is returned (in Jupyter Notebook this just means that nothing is output below the cell).\n",
        "\n",
        "Let's take a closer look at this Match object."
      ],
      "metadata": {
        "id": "5zbNAMmVJ3hu"
      }
    },
    {
      "cell_type": "code",
      "source": [
        "pattern = 'phone'"
      ],
      "metadata": {
        "id": "zH0XRTmUJxIg"
      },
      "execution_count": 15,
      "outputs": []
    },
    {
      "cell_type": "code",
      "source": [
        "match = re.search(pattern,text)"
      ],
      "metadata": {
        "id": "Ta3fjx64JxF7"
      },
      "execution_count": 16,
      "outputs": []
    },
    {
      "cell_type": "code",
      "source": [
        "match"
      ],
      "metadata": {
        "colab": {
          "base_uri": "https://localhost:8080/"
        },
        "id": "yIfvo-wlJxDZ",
        "outputId": "82422558-976b-4695-8017-3f4f6fce7a06"
      },
      "execution_count": 17,
      "outputs": [
        {
          "output_type": "execute_result",
          "data": {
            "text/plain": [
              "<re.Match object; span=(18, 23), match='phone'>"
            ]
          },
          "metadata": {},
          "execution_count": 17
        }
      ]
    },
    {
      "cell_type": "markdown",
      "source": [
        "Notice the span, there is also a start and end index information."
      ],
      "metadata": {
        "id": "WnGRilUZJ_ls"
      }
    },
    {
      "cell_type": "code",
      "source": [
        "match.span()"
      ],
      "metadata": {
        "colab": {
          "base_uri": "https://localhost:8080/"
        },
        "id": "13XftEqZJ9Vj",
        "outputId": "df50317a-c669-4456-8dfa-652c5a589cd1"
      },
      "execution_count": 18,
      "outputs": [
        {
          "output_type": "execute_result",
          "data": {
            "text/plain": [
              "(18, 23)"
            ]
          },
          "metadata": {},
          "execution_count": 18
        }
      ]
    },
    {
      "cell_type": "code",
      "source": [
        "match.start()"
      ],
      "metadata": {
        "colab": {
          "base_uri": "https://localhost:8080/"
        },
        "id": "aDKE0yo9J9TZ",
        "outputId": "40d526ab-5e24-46d4-8c09-986dcc5cf3b8"
      },
      "execution_count": 19,
      "outputs": [
        {
          "output_type": "execute_result",
          "data": {
            "text/plain": [
              "18"
            ]
          },
          "metadata": {},
          "execution_count": 19
        }
      ]
    },
    {
      "cell_type": "code",
      "source": [
        "match.end()"
      ],
      "metadata": {
        "colab": {
          "base_uri": "https://localhost:8080/"
        },
        "id": "WkYb5j4xJ9Q-",
        "outputId": "8ed69013-5e07-4c5b-ea0f-cc8957ea8cc3"
      },
      "execution_count": 20,
      "outputs": [
        {
          "output_type": "execute_result",
          "data": {
            "text/plain": [
              "23"
            ]
          },
          "metadata": {},
          "execution_count": 20
        }
      ]
    },
    {
      "cell_type": "markdown",
      "source": [
        "But what if the pattern occurs more than once?"
      ],
      "metadata": {
        "id": "3yekuSTLKIN5"
      }
    },
    {
      "cell_type": "code",
      "source": [
        "text = \"I bought a new phone as my old phone stopped working.\""
      ],
      "metadata": {
        "id": "plj8cTxeJ9O1"
      },
      "execution_count": 21,
      "outputs": []
    },
    {
      "cell_type": "code",
      "source": [
        "match = re.search(\"phone\",text)"
      ],
      "metadata": {
        "id": "8_CKBFWTJ9Mg"
      },
      "execution_count": 22,
      "outputs": []
    },
    {
      "cell_type": "code",
      "source": [
        "match.span()"
      ],
      "metadata": {
        "colab": {
          "base_uri": "https://localhost:8080/"
        },
        "id": "BqAbTebvJxBA",
        "outputId": "e794cb31-d2ca-42ac-baca-eb134c9115eb"
      },
      "execution_count": 23,
      "outputs": [
        {
          "output_type": "execute_result",
          "data": {
            "text/plain": [
              "(15, 20)"
            ]
          },
          "metadata": {},
          "execution_count": 23
        }
      ]
    },
    {
      "cell_type": "markdown",
      "source": [
        "Notice it only matches the first instance. If we wanted a list of all matches, we can use `.findall()` method:"
      ],
      "metadata": {
        "id": "mnrdQnWHKbzu"
      }
    },
    {
      "cell_type": "code",
      "source": [
        "matches = re.findall(\"phone\",text)"
      ],
      "metadata": {
        "id": "JljMpvkrKXwt"
      },
      "execution_count": 24,
      "outputs": []
    },
    {
      "cell_type": "code",
      "source": [
        "matches"
      ],
      "metadata": {
        "colab": {
          "base_uri": "https://localhost:8080/"
        },
        "id": "fgpIMN3mKXuL",
        "outputId": "9d3fe939-44bc-4041-9cd9-d45eb4a5be6c"
      },
      "execution_count": 25,
      "outputs": [
        {
          "output_type": "execute_result",
          "data": {
            "text/plain": [
              "['phone', 'phone']"
            ]
          },
          "metadata": {},
          "execution_count": 25
        }
      ]
    },
    {
      "cell_type": "code",
      "source": [
        "len(matches)"
      ],
      "metadata": {
        "colab": {
          "base_uri": "https://localhost:8080/"
        },
        "id": "nMGMnYxHKXrh",
        "outputId": "203d11d5-ecbf-4d4c-9e92-b1de5ff1de1d"
      },
      "execution_count": 26,
      "outputs": [
        {
          "output_type": "execute_result",
          "data": {
            "text/plain": [
              "2"
            ]
          },
          "metadata": {},
          "execution_count": 26
        }
      ]
    },
    {
      "cell_type": "markdown",
      "source": [
        "To get actual match objects, use the iterator:"
      ],
      "metadata": {
        "id": "Jx7jFZ84KjBQ"
      }
    },
    {
      "cell_type": "code",
      "source": [
        "for match in re.finditer(\"phone\",text):\n",
        "    print(match.span())"
      ],
      "metadata": {
        "colab": {
          "base_uri": "https://localhost:8080/"
        },
        "id": "D7vQkFq6KXpB",
        "outputId": "5cf97683-34c5-40cb-8cdc-aa4f6c43ecf7"
      },
      "execution_count": 27,
      "outputs": [
        {
          "output_type": "stream",
          "name": "stdout",
          "text": [
            "(15, 20)\n",
            "(31, 36)\n"
          ]
        }
      ]
    },
    {
      "cell_type": "code",
      "source": [
        "match.group()"
      ],
      "metadata": {
        "colab": {
          "base_uri": "https://localhost:8080/",
          "height": 35
        },
        "id": "E1CCIKNPKnGt",
        "outputId": "d7adfc74-1d15-4f75-b365-b43496ca7bf5"
      },
      "execution_count": 28,
      "outputs": [
        {
          "output_type": "execute_result",
          "data": {
            "text/plain": [
              "'phone'"
            ],
            "application/vnd.google.colaboratory.intrinsic+json": {
              "type": "string"
            }
          },
          "metadata": {},
          "execution_count": 28
        }
      ]
    },
    {
      "cell_type": "markdown",
      "source": [
        "## Patterns\n",
        "\n",
        "So far we've learned how to search for a basic string. What about more complex examples? Such as trying to find a telephone number in a large string of text? Or an email address?\n",
        "\n",
        "We could just use search method if we know the exact phone or email, but what if we don't know it? We may know the general format, and we can use that along with regular expressions to search the document for strings that match a particular pattern.\n",
        "\n",
        "This is where the syntax may appear strange at first, but take your time with this; often it's just a matter of looking up the pattern code.\n",
        "\n"
      ],
      "metadata": {
        "id": "3zvW1xUoKorm"
      }
    },
    {
      "cell_type": "markdown",
      "source": [
        "## Identifiers for Characters in Patterns\n",
        "\n",
        "Characters such as a digit or a single string have different codes that represent them. You can use these to build up a pattern string. Notice how these make heavy use of the backwards slash \\ . Because of this when defining a pattern string for regular expression we use the format:\n",
        "\n",
        "r'mypattern'\n",
        "\n",
        "placing the r in front of the string allows python to understand that the \\ in the pattern string are not meant to be escape slashes.\n",
        "\n",
        "Some of the possible identifiers are given below -\n",
        "\n",
        "<table ><tr><th>Character</th><th>Description</th><th>Example Pattern Code</th><th >Exammple Match</th></tr>\n",
        "\n",
        "<tr ><td><span >\\d</span></td><td>A digit</td><td>file_\\d\\d</td><td>file_25</td></tr>\n",
        "\n",
        "<tr ><td><span >\\w</span></td><td>Alphanumeric</td><td>\\w-\\w\\w\\w</td><td>A-b_1</td></tr>\n",
        "\n",
        "\n",
        "\n",
        "<tr ><td><span >\\s</span></td><td>White space</td><td>a\\sb\\sc</td><td>a b c</td></tr>\n",
        "\n",
        "\n",
        "\n",
        "<tr ><td><span >\\D</span></td><td>A non digit</td><td>\\D\\D\\D</td><td>ABC</td></tr>\n",
        "\n",
        "<tr ><td><span >\\W</span></td><td>Non-alphanumeric</td><td>\\W\\W\\W\\W\\W</td><td>*-+=)</td></tr>\n",
        "\n",
        "<tr ><td><span >\\S</span></td><td>Non-whitespace</td><td>\\S\\S\\S\\S</td><td>Yoyo</td></tr></table>"
      ],
      "metadata": {
        "id": "ssbp0lN4K5Fn"
      }
    },
    {
      "cell_type": "code",
      "source": [
        "text = \"My telephone number is 408-555-1234\""
      ],
      "metadata": {
        "id": "PoD05FoiKnEY"
      },
      "execution_count": 29,
      "outputs": []
    },
    {
      "cell_type": "code",
      "source": [
        "phone = re.search(r'\\d\\d\\d-\\d\\d\\d-\\d\\d\\d\\d',text)"
      ],
      "metadata": {
        "id": "O4JXOhC5KnBu"
      },
      "execution_count": 30,
      "outputs": []
    },
    {
      "cell_type": "code",
      "source": [
        "phone.group()"
      ],
      "metadata": {
        "colab": {
          "base_uri": "https://localhost:8080/",
          "height": 35
        },
        "id": "rEDBYCTRKXmh",
        "outputId": "6db196c5-55de-4221-9972-09d049d2b51b"
      },
      "execution_count": 31,
      "outputs": [
        {
          "output_type": "execute_result",
          "data": {
            "text/plain": [
              "'408-555-1234'"
            ],
            "application/vnd.google.colaboratory.intrinsic+json": {
              "type": "string"
            }
          },
          "metadata": {},
          "execution_count": 31
        }
      ]
    },
    {
      "cell_type": "markdown",
      "source": [
        "## Quantifiers\n",
        "\n",
        "Now that we know the special character designations, we can use them along with quantifiers to define how many we expect.\n",
        "\n",
        "\n",
        "\n",
        "<table ><tr><th>Character</th><th>Description</th><th>Example Pattern Code</th><th >Exammple Match</th></tr>\n",
        "\n",
        "<tr ><td><span >+</span></td><td>Occurs one or more times</td><td>\tVersion \\w-\\w+</td><td>Version A-b1_1</td></tr>\n",
        "\n",
        "<tr ><td><span >{3}</span></td><td>Occurs exactly 3 times</td><td>\\D{3}</td><td>abc</td></tr>\n",
        "\n",
        "\n",
        "\n",
        "<tr ><td><span >{2,4}</span></td><td>Occurs 2 to 4 times</td><td>\\d{2,4}</td><td>123</td></tr>\n",
        "\n",
        "\n",
        "\n",
        "<tr ><td><span >{3,}</span></td><td>Occurs 3 or more</td><td>\\w{3,}</td><td>anycharacters</td></tr>\n",
        "\n",
        "<tr ><td><span >\\*</span></td><td>Occurs zero or more times</td><td>A\\*B\\*C*</td><td>AAACC</td></tr>\n",
        "\n",
        "<tr ><td><span >?</span></td><td>Once or none</td><td>plurals?</td><td>plural</td></tr></table>\n",
        "\n",
        "\n",
        "Let's rewrite our pattern using these quantifiers:"
      ],
      "metadata": {
        "id": "82vmGIPlLIT0"
      }
    },
    {
      "cell_type": "code",
      "source": [
        "re.search(r'\\d{3}-\\d{3}-\\d{4}',text)"
      ],
      "metadata": {
        "colab": {
          "base_uri": "https://localhost:8080/"
        },
        "id": "WD47V3OzLQ9p",
        "outputId": "e7a195b1-214b-46c3-9a52-16434a469164"
      },
      "execution_count": 32,
      "outputs": [
        {
          "output_type": "execute_result",
          "data": {
            "text/plain": [
              "<re.Match object; span=(23, 35), match='408-555-1234'>"
            ]
          },
          "metadata": {},
          "execution_count": 32
        }
      ]
    },
    {
      "cell_type": "markdown",
      "source": [
        "## Groupings\n",
        "\n",
        "What if we wanted to do two tasks, find phone numbers, but also be able to quickly extract their area code (the first three digits). We can use groups for any general task that involves grouping together regular expressions (so that we can later break them down).\n",
        "\n",
        "Using the phone number example, we can separate groups of regular expressions using parentheses:"
      ],
      "metadata": {
        "id": "KNk1GWczLqOR"
      }
    },
    {
      "cell_type": "code",
      "source": [
        "phone_pattern = re.compile(r'(\\d{3})-(\\d{3})-(\\d{4})')"
      ],
      "metadata": {
        "id": "yltpxWmpLNuL"
      },
      "execution_count": 34,
      "outputs": []
    },
    {
      "cell_type": "code",
      "source": [
        "results = re.search(phone_pattern,text)"
      ],
      "metadata": {
        "id": "AgVThWQNLvlj"
      },
      "execution_count": 35,
      "outputs": []
    },
    {
      "cell_type": "code",
      "source": [
        "# The entire result\n",
        "results.group()"
      ],
      "metadata": {
        "colab": {
          "base_uri": "https://localhost:8080/",
          "height": 35
        },
        "id": "cQ1SZb02LvjA",
        "outputId": "cc7531f0-1e48-4d5e-eac2-2733eedb8d19"
      },
      "execution_count": 38,
      "outputs": [
        {
          "output_type": "execute_result",
          "data": {
            "text/plain": [
              "'408-555-1234'"
            ],
            "application/vnd.google.colaboratory.intrinsic+json": {
              "type": "string"
            }
          },
          "metadata": {},
          "execution_count": 38
        }
      ]
    },
    {
      "cell_type": "code",
      "source": [
        "# Can then also call by group position.\n",
        "# remember groups were separated by parentheses ()\n",
        "# Something to note is that group ordering starts at 1. Passing in 0 returns everything\n",
        "results.group(1)"
      ],
      "metadata": {
        "colab": {
          "base_uri": "https://localhost:8080/",
          "height": 35
        },
        "id": "YFOb0ubNLvgW",
        "outputId": "d9485ebf-58d3-40b9-ce4b-0d1ff3b5323b"
      },
      "execution_count": 37,
      "outputs": [
        {
          "output_type": "execute_result",
          "data": {
            "text/plain": [
              "'408'"
            ],
            "application/vnd.google.colaboratory.intrinsic+json": {
              "type": "string"
            }
          },
          "metadata": {},
          "execution_count": 37
        }
      ]
    },
    {
      "cell_type": "code",
      "source": [
        "results.group(2)"
      ],
      "metadata": {
        "colab": {
          "base_uri": "https://localhost:8080/",
          "height": 35
        },
        "id": "zo_VJmjNLvdx",
        "outputId": "0c000a36-8484-4583-a233-651de53e5bd7"
      },
      "execution_count": 39,
      "outputs": [
        {
          "output_type": "execute_result",
          "data": {
            "text/plain": [
              "'555'"
            ],
            "application/vnd.google.colaboratory.intrinsic+json": {
              "type": "string"
            }
          },
          "metadata": {},
          "execution_count": 39
        }
      ]
    },
    {
      "cell_type": "code",
      "source": [
        "results.group(3)"
      ],
      "metadata": {
        "colab": {
          "base_uri": "https://localhost:8080/",
          "height": 35
        },
        "id": "mivt8RmwLvbA",
        "outputId": "d4ebe260-2b54-433a-8b73-e02a3138857f"
      },
      "execution_count": 40,
      "outputs": [
        {
          "output_type": "execute_result",
          "data": {
            "text/plain": [
              "'1234'"
            ],
            "application/vnd.google.colaboratory.intrinsic+json": {
              "type": "string"
            }
          },
          "metadata": {},
          "execution_count": 40
        }
      ]
    },
    {
      "cell_type": "markdown",
      "source": [
        "---"
      ],
      "metadata": {
        "id": "FPTeEGFiETjL"
      }
    },
    {
      "cell_type": "markdown",
      "source": [
        "# Section 3 - Introduction to NLTK\n",
        "\n",
        "NLTK is a toolkit build for working with NLP in Python. It provides us various text processing libraries with a lot of test datasets. A variety of tasks can be performed using NLTK such as tokenizing, parse tree visualization, etc…\n",
        "\n"
      ],
      "metadata": {
        "id": "CUZ4e93GEUX1"
      }
    },
    {
      "cell_type": "code",
      "source": [
        "!pip install nltk"
      ],
      "metadata": {
        "colab": {
          "base_uri": "https://localhost:8080/"
        },
        "id": "WZc35XUQOqOR",
        "outputId": "e6d7a1fa-7537-4ec6-d913-2d7804530193"
      },
      "execution_count": 41,
      "outputs": [
        {
          "output_type": "stream",
          "name": "stdout",
          "text": [
            "Requirement already satisfied: nltk in /usr/local/lib/python3.10/dist-packages (3.8.1)\n",
            "Requirement already satisfied: click in /usr/local/lib/python3.10/dist-packages (from nltk) (8.1.4)\n",
            "Requirement already satisfied: joblib in /usr/local/lib/python3.10/dist-packages (from nltk) (1.3.1)\n",
            "Requirement already satisfied: regex>=2021.8.3 in /usr/local/lib/python3.10/dist-packages (from nltk) (2022.10.31)\n",
            "Requirement already satisfied: tqdm in /usr/local/lib/python3.10/dist-packages (from nltk) (4.65.0)\n"
          ]
        }
      ]
    },
    {
      "cell_type": "markdown",
      "source": [
        "## Downloading the datasets:\n",
        "This is optional, but if you feel that you need those datasets before starting to work on the problem."
      ],
      "metadata": {
        "id": "WH8kT6kbOyp1"
      }
    },
    {
      "cell_type": "code",
      "source": [
        "import nltk\n",
        "nltk.download()"
      ],
      "metadata": {
        "colab": {
          "base_uri": "https://localhost:8080/"
        },
        "id": "j1r-qPyrOycc",
        "outputId": "f3627059-a663-45c4-b9c0-3f890dfd3f2f"
      },
      "execution_count": 42,
      "outputs": [
        {
          "name": "stdout",
          "output_type": "stream",
          "text": [
            "NLTK Downloader\n",
            "---------------------------------------------------------------------------\n",
            "    d) Download   l) List    u) Update   c) Config   h) Help   q) Quit\n",
            "---------------------------------------------------------------------------\n",
            "Downloader> d\n",
            "\n",
            "Download which package (l=list; x=cancel)?\n",
            "  Identifier> all\n"
          ]
        },
        {
          "output_type": "stream",
          "name": "stderr",
          "text": [
            "    Downloading collection 'all'\n",
            "       | \n",
            "       | Downloading package abc to /root/nltk_data...\n",
            "       |   Package abc is already up-to-date!\n",
            "       | Downloading package alpino to /root/nltk_data...\n",
            "       |   Package alpino is already up-to-date!\n",
            "       | Downloading package averaged_perceptron_tagger to\n",
            "       |     /root/nltk_data...\n",
            "       |   Package averaged_perceptron_tagger is already up-to-date!\n",
            "       | Downloading package averaged_perceptron_tagger_ru to\n",
            "       |     /root/nltk_data...\n",
            "       |   Package averaged_perceptron_tagger_ru is already up-to-\n",
            "       |       date!\n",
            "       | Downloading package basque_grammars to /root/nltk_data...\n",
            "       |   Package basque_grammars is already up-to-date!\n",
            "       | Downloading package bcp47 to /root/nltk_data...\n",
            "       |   Package bcp47 is already up-to-date!\n",
            "       | Downloading package biocreative_ppi to /root/nltk_data...\n",
            "       |   Package biocreative_ppi is already up-to-date!\n",
            "       | Downloading package bllip_wsj_no_aux to /root/nltk_data...\n",
            "       |   Package bllip_wsj_no_aux is already up-to-date!\n",
            "       | Downloading package book_grammars to /root/nltk_data...\n",
            "       |   Package book_grammars is already up-to-date!\n",
            "       | Downloading package brown to /root/nltk_data...\n",
            "       |   Package brown is already up-to-date!\n",
            "       | Downloading package brown_tei to /root/nltk_data...\n",
            "       |   Package brown_tei is already up-to-date!\n",
            "       | Downloading package cess_cat to /root/nltk_data...\n",
            "       |   Package cess_cat is already up-to-date!\n",
            "       | Downloading package cess_esp to /root/nltk_data...\n",
            "       |   Package cess_esp is already up-to-date!\n",
            "       | Downloading package chat80 to /root/nltk_data...\n",
            "       |   Package chat80 is already up-to-date!\n",
            "       | Downloading package city_database to /root/nltk_data...\n",
            "       |   Package city_database is already up-to-date!\n",
            "       | Downloading package cmudict to /root/nltk_data...\n",
            "       |   Package cmudict is already up-to-date!\n",
            "       | Downloading package comparative_sentences to\n",
            "       |     /root/nltk_data...\n",
            "       |   Package comparative_sentences is already up-to-date!\n",
            "       | Downloading package comtrans to /root/nltk_data...\n",
            "       |   Package comtrans is already up-to-date!\n",
            "       | Downloading package conll2000 to /root/nltk_data...\n",
            "       |   Package conll2000 is already up-to-date!\n",
            "       | Downloading package conll2002 to /root/nltk_data...\n",
            "       |   Package conll2002 is already up-to-date!\n",
            "       | Downloading package conll2007 to /root/nltk_data...\n",
            "       |   Package conll2007 is already up-to-date!\n",
            "       | Downloading package crubadan to /root/nltk_data...\n",
            "       |   Package crubadan is already up-to-date!\n",
            "       | Downloading package dependency_treebank to /root/nltk_data...\n",
            "       |   Package dependency_treebank is already up-to-date!\n",
            "       | Downloading package dolch to /root/nltk_data...\n",
            "       |   Package dolch is already up-to-date!\n",
            "       | Downloading package europarl_raw to /root/nltk_data...\n",
            "       |   Package europarl_raw is already up-to-date!\n",
            "       | Downloading package extended_omw to /root/nltk_data...\n",
            "       |   Package extended_omw is already up-to-date!\n",
            "       | Downloading package floresta to /root/nltk_data...\n",
            "       |   Package floresta is already up-to-date!\n",
            "       | Downloading package framenet_v15 to /root/nltk_data...\n",
            "       |   Package framenet_v15 is already up-to-date!\n",
            "       | Downloading package framenet_v17 to /root/nltk_data...\n",
            "       |   Package framenet_v17 is already up-to-date!\n",
            "       | Downloading package gazetteers to /root/nltk_data...\n",
            "       |   Package gazetteers is already up-to-date!\n",
            "       | Downloading package genesis to /root/nltk_data...\n",
            "       |   Package genesis is already up-to-date!\n",
            "       | Downloading package gutenberg to /root/nltk_data...\n",
            "       |   Package gutenberg is already up-to-date!\n",
            "       | Downloading package ieer to /root/nltk_data...\n",
            "       |   Package ieer is already up-to-date!\n",
            "       | Downloading package inaugural to /root/nltk_data...\n",
            "       |   Package inaugural is already up-to-date!\n",
            "       | Downloading package indian to /root/nltk_data...\n",
            "       |   Package indian is already up-to-date!\n",
            "       | Downloading package jeita to /root/nltk_data...\n",
            "       |   Package jeita is already up-to-date!\n",
            "       | Downloading package kimmo to /root/nltk_data...\n",
            "       |   Package kimmo is already up-to-date!\n",
            "       | Downloading package knbc to /root/nltk_data...\n",
            "       |   Package knbc is already up-to-date!\n",
            "       | Downloading package large_grammars to /root/nltk_data...\n",
            "       |   Package large_grammars is already up-to-date!\n",
            "       | Downloading package lin_thesaurus to /root/nltk_data...\n",
            "       |   Package lin_thesaurus is already up-to-date!\n",
            "       | Downloading package mac_morpho to /root/nltk_data...\n",
            "       |   Package mac_morpho is already up-to-date!\n",
            "       | Downloading package machado to /root/nltk_data...\n",
            "       |   Package machado is already up-to-date!\n",
            "       | Downloading package masc_tagged to /root/nltk_data...\n",
            "       |   Package masc_tagged is already up-to-date!\n",
            "       | Downloading package maxent_ne_chunker to /root/nltk_data...\n",
            "       |   Package maxent_ne_chunker is already up-to-date!\n",
            "       | Downloading package maxent_treebank_pos_tagger to\n",
            "       |     /root/nltk_data...\n",
            "       |   Package maxent_treebank_pos_tagger is already up-to-date!\n",
            "       | Downloading package moses_sample to /root/nltk_data...\n",
            "       |   Package moses_sample is already up-to-date!\n",
            "       | Downloading package movie_reviews to /root/nltk_data...\n",
            "       |   Package movie_reviews is already up-to-date!\n",
            "       | Downloading package mte_teip5 to /root/nltk_data...\n",
            "       |   Package mte_teip5 is already up-to-date!\n",
            "       | Downloading package mwa_ppdb to /root/nltk_data...\n",
            "       |   Package mwa_ppdb is already up-to-date!\n",
            "       | Downloading package names to /root/nltk_data...\n",
            "       |   Package names is already up-to-date!\n",
            "       | Downloading package nombank.1.0 to /root/nltk_data...\n",
            "       |   Package nombank.1.0 is already up-to-date!\n",
            "       | Downloading package nonbreaking_prefixes to\n",
            "       |     /root/nltk_data...\n",
            "       |   Package nonbreaking_prefixes is already up-to-date!\n",
            "       | Downloading package nps_chat to /root/nltk_data...\n",
            "       |   Package nps_chat is already up-to-date!\n",
            "       | Downloading package omw to /root/nltk_data...\n",
            "       |   Package omw is already up-to-date!\n",
            "       | Downloading package omw-1.4 to /root/nltk_data...\n",
            "       |   Package omw-1.4 is already up-to-date!\n",
            "       | Downloading package opinion_lexicon to /root/nltk_data...\n",
            "       |   Package opinion_lexicon is already up-to-date!\n",
            "       | Downloading package panlex_swadesh to /root/nltk_data...\n",
            "       |   Package panlex_swadesh is already up-to-date!\n",
            "       | Downloading package paradigms to /root/nltk_data...\n",
            "       |   Package paradigms is already up-to-date!\n",
            "       | Downloading package pe08 to /root/nltk_data...\n",
            "       |   Package pe08 is already up-to-date!\n",
            "       | Downloading package perluniprops to /root/nltk_data...\n",
            "       |   Package perluniprops is already up-to-date!\n",
            "       | Downloading package pil to /root/nltk_data...\n",
            "       |   Package pil is already up-to-date!\n",
            "       | Downloading package pl196x to /root/nltk_data...\n",
            "       |   Package pl196x is already up-to-date!\n",
            "       | Downloading package porter_test to /root/nltk_data...\n",
            "       |   Package porter_test is already up-to-date!\n",
            "       | Downloading package ppattach to /root/nltk_data...\n",
            "       |   Package ppattach is already up-to-date!\n",
            "       | Downloading package problem_reports to /root/nltk_data...\n",
            "       |   Package problem_reports is already up-to-date!\n",
            "       | Downloading package product_reviews_1 to /root/nltk_data...\n",
            "       |   Package product_reviews_1 is already up-to-date!\n",
            "       | Downloading package product_reviews_2 to /root/nltk_data...\n",
            "       |   Package product_reviews_2 is already up-to-date!\n",
            "       | Downloading package propbank to /root/nltk_data...\n",
            "       |   Package propbank is already up-to-date!\n",
            "       | Downloading package pros_cons to /root/nltk_data...\n",
            "       |   Package pros_cons is already up-to-date!\n",
            "       | Downloading package ptb to /root/nltk_data...\n",
            "       |   Package ptb is already up-to-date!\n",
            "       | Downloading package punkt to /root/nltk_data...\n",
            "       |   Package punkt is already up-to-date!\n",
            "       | Downloading package qc to /root/nltk_data...\n",
            "       |   Package qc is already up-to-date!\n",
            "       | Downloading package reuters to /root/nltk_data...\n",
            "       |   Package reuters is already up-to-date!\n",
            "       | Downloading package rslp to /root/nltk_data...\n",
            "       |   Package rslp is already up-to-date!\n",
            "       | Downloading package rte to /root/nltk_data...\n",
            "       |   Package rte is already up-to-date!\n",
            "       | Downloading package sample_grammars to /root/nltk_data...\n",
            "       |   Package sample_grammars is already up-to-date!\n",
            "       | Downloading package semcor to /root/nltk_data...\n",
            "       |   Package semcor is already up-to-date!\n",
            "       | Downloading package senseval to /root/nltk_data...\n",
            "       |   Package senseval is already up-to-date!\n",
            "       | Downloading package sentence_polarity to /root/nltk_data...\n",
            "       |   Package sentence_polarity is already up-to-date!\n",
            "       | Downloading package sentiwordnet to /root/nltk_data...\n",
            "       |   Package sentiwordnet is already up-to-date!\n",
            "       | Downloading package shakespeare to /root/nltk_data...\n",
            "       |   Package shakespeare is already up-to-date!\n",
            "       | Downloading package sinica_treebank to /root/nltk_data...\n",
            "       |   Package sinica_treebank is already up-to-date!\n",
            "       | Downloading package smultron to /root/nltk_data...\n",
            "       |   Package smultron is already up-to-date!\n",
            "       | Downloading package snowball_data to /root/nltk_data...\n",
            "       |   Package snowball_data is already up-to-date!\n",
            "       | Downloading package spanish_grammars to /root/nltk_data...\n",
            "       |   Package spanish_grammars is already up-to-date!\n",
            "       | Downloading package state_union to /root/nltk_data...\n",
            "       |   Package state_union is already up-to-date!\n",
            "       | Downloading package stopwords to /root/nltk_data...\n",
            "       |   Package stopwords is already up-to-date!\n",
            "       | Downloading package subjectivity to /root/nltk_data...\n",
            "       |   Package subjectivity is already up-to-date!\n",
            "       | Downloading package swadesh to /root/nltk_data...\n",
            "       |   Package swadesh is already up-to-date!\n",
            "       | Downloading package switchboard to /root/nltk_data...\n",
            "       |   Package switchboard is already up-to-date!\n",
            "       | Downloading package tagsets to /root/nltk_data...\n",
            "       |   Package tagsets is already up-to-date!\n",
            "       | Downloading package timit to /root/nltk_data...\n",
            "       |   Package timit is already up-to-date!\n",
            "       | Downloading package toolbox to /root/nltk_data...\n",
            "       |   Package toolbox is already up-to-date!\n",
            "       | Downloading package treebank to /root/nltk_data...\n",
            "       |   Package treebank is already up-to-date!\n",
            "       | Downloading package twitter_samples to /root/nltk_data...\n",
            "       |   Package twitter_samples is already up-to-date!\n",
            "       | Downloading package udhr to /root/nltk_data...\n",
            "       |   Package udhr is already up-to-date!\n",
            "       | Downloading package udhr2 to /root/nltk_data...\n",
            "       |   Package udhr2 is already up-to-date!\n",
            "       | Downloading package unicode_samples to /root/nltk_data...\n",
            "       |   Package unicode_samples is already up-to-date!\n",
            "       | Downloading package universal_tagset to /root/nltk_data...\n",
            "       |   Package universal_tagset is already up-to-date!\n",
            "       | Downloading package universal_treebanks_v20 to\n",
            "       |     /root/nltk_data...\n",
            "       |   Package universal_treebanks_v20 is already up-to-date!\n",
            "       | Downloading package vader_lexicon to /root/nltk_data...\n",
            "       |   Package vader_lexicon is already up-to-date!\n",
            "       | Downloading package verbnet to /root/nltk_data...\n",
            "       |   Package verbnet is already up-to-date!\n",
            "       | Downloading package verbnet3 to /root/nltk_data...\n",
            "       |   Package verbnet3 is already up-to-date!\n",
            "       | Downloading package webtext to /root/nltk_data...\n",
            "       |   Package webtext is already up-to-date!\n",
            "       | Downloading package wmt15_eval to /root/nltk_data...\n",
            "       |   Package wmt15_eval is already up-to-date!\n",
            "       | Downloading package word2vec_sample to /root/nltk_data...\n",
            "       |   Package word2vec_sample is already up-to-date!\n",
            "       | Downloading package wordnet to /root/nltk_data...\n",
            "       |   Package wordnet is already up-to-date!\n",
            "       | Downloading package wordnet2021 to /root/nltk_data...\n",
            "       |   Package wordnet2021 is already up-to-date!\n",
            "       | Downloading package wordnet2022 to /root/nltk_data...\n",
            "       |   Package wordnet2022 is already up-to-date!\n",
            "       | Downloading package wordnet31 to /root/nltk_data...\n",
            "       |   Package wordnet31 is already up-to-date!\n",
            "       | Downloading package wordnet_ic to /root/nltk_data...\n",
            "       |   Package wordnet_ic is already up-to-date!\n",
            "       | Downloading package words to /root/nltk_data...\n",
            "       |   Package words is already up-to-date!\n",
            "       | Downloading package ycoe to /root/nltk_data...\n",
            "       |   Package ycoe is already up-to-date!\n",
            "       | \n",
            "     Done downloading collection all\n"
          ]
        },
        {
          "name": "stdout",
          "output_type": "stream",
          "text": [
            "\n",
            "---------------------------------------------------------------------------\n",
            "    d) Download   l) List    u) Update   c) Config   h) Help   q) Quit\n",
            "---------------------------------------------------------------------------\n",
            "Downloader> q\n"
          ]
        },
        {
          "output_type": "execute_result",
          "data": {
            "text/plain": [
              "True"
            ]
          },
          "metadata": {},
          "execution_count": 42
        }
      ]
    },
    {
      "cell_type": "markdown",
      "source": [
        "![image.png](data:image/png;base64,iVBORw0KGgoAAAANSUhEUgAAAkEAAAHkCAIAAAC2X2w6AAAMQGlDQ1BJQ0MgUHJvZmlsZQAASImVVwdYU8kWnluSkEBCCSAgJfQmiNQAUkJoAaR3GyEJEEqMgaBiRxYVXAsqFrChqyKKnWZH7CyKvS8WVJR1sWBX3qSArvvK9+b75s5//znznzPnztx7BwD141yxOBfVACBPVCCJDQlgJKekMkhPAQHQgDYYAVy5vHwxKzo6AsAy2P69vLsOEFl7xUGm9c/+/1o0+YJ8HgBINMTp/HxeHsQHAMCreWJJAQBEGW8+pUAsw7ACbQkMEOIFMpypwNUynK7Ae+Q28bFsiNsAUFHjciWZANAuQZ5RyMuEGrQ+iJ1EfKEIAHUGxL55eZP4EKdBbANtxBDL9JnpP+hk/k0zfUiTy80cwoq5yItKoDBfnMud9n+m43+XvFzpoA8rWNWyJKGxsjnDvN3MmRQuw2oQ94rSI6Mg1oL4g5Avt4cYpWRJQxMU9qghL58NcwZ0IXbicwPDITaEOFiUGxmh5NMzhMEciOEKQacKCzjxEOtBvECQHxSntNkomRSr9IU2ZEjYLCV/liuR+5X5ui/NSWAp9V9nCThKfYxWlBWfBDEFYotCYWIkxDSIHfNz4sKVNqOLstiRgzYSaawsfguIYwWikACFPlaYIQmOVdqX5eUPzhfbmCXkRCrxvoKs+FBFfrA2HlceP5wLdkkgYiUM6gjykyMG58IXBAYp5o49E4gS4pQ6H8QFAbGKsThFnButtMfNBLkhMt4MYtf8wjjlWDyxAC5IhT6eIS6IjlfEiRdlc8OiFfHgS0EEYINAwABSWNPBJJANhB29jb3wTtETDLhAAjKBADgomcERSfIeEbzGgSLwJ0QCkD80LkDeKwCFkP86xCquDiBD3lsoH5EDnkCcB8JBLryXykeJhrwlgseQEf7DOxdWHow3F1ZZ/7/nB9nvDAsyEUpGOuiRoT5oSQwiBhJDicFEW9wA98W98Qh49YfVGWfinoPz+G5PeELoJDwkXCN0EW5NFBZLfopyDOiC+sHKXKT/mAvcCmq64QG4D1SHyrgubgAccFfoh4X7Qc9ukGUr45ZlhfGT9t9m8MPTUNqRncgoeRjZn2zz80iaHc1tSEWW6x/zo4g1fSjf7KGen/2zf8g+H7bhP1tiC7D92BnsBHYOO4w1AgZ2DGvC2rEjMjy0uh7LV9egt1h5PDlQR/gPf4NPVpbJfKc6px6nL4q+AsFU2TsasCeJp0mEmVkFDBb8IggYHBHPcQTD2cnZBQDZ90Xx+noTI/9uILrt37l5fwDgc2xgYODQdy7sGAB7PeD2b/7O2TDhp0MVgLPNPKmkUMHhsgsBviXU4U7TB8bAHNjA+TgDd+AN/EEQCANRIB6kgAkw+iy4ziVgCpgB5oJSUA6WgpVgLdgANoPtYBfYBxrBYXACnAYXwCVwDdyBq6cbvAB94B34jCAICaEidEQfMUEsEXvEGWEivkgQEoHEIilIGpKJiBApMgOZh5QjFchaZBNSi+xFmpETyDmkE7mFPEB6kNfIJxRD1VBt1Ai1QkeiTJSFhqPx6Hg0E52MFqEl6GJ0NVqD7kQb0BPoBfQa2oW+QPsxgKliupgp5oAxMTYWhaViGZgEm4WVYZVYDVaPtcDnfAXrwnqxjzgRp+MM3AGu4FA8Aefhk/FZ+CJ8Lb4db8Db8Cv4A7wP/0agEgwJ9gQvAoeQTMgkTCGUEioJWwkHCafgXuomvCMSibpEa6IH3IspxGzidOIi4jribuJxYifxEbGfRCLpk+xJPqQoEpdUQColrSHtJB0jXSZ1kz6oqKqYqDirBKukqohUilUqVXaoHFW5rPJU5TNZg2xJ9iJHkfnkaeQl5C3kFvJFcjf5M0WTYk3xocRTsilzKasp9ZRTlLuUN6qqqmaqnqoxqkLVOaqrVfeonlV9oPpRTUvNTo2tNk5NqrZYbZvacbVbam+oVKoV1Z+aSi2gLqbWUk9S71M/0Og0RxqHxqfNplXRGmiXaS/VyeqW6iz1CepF6pXq+9UvqvdqkDWsNNgaXI1ZGlUazRo3NPo16ZqjNKM08zQXae7QPKf5TIukZaUVpMXXKtHarHVS6xEdo5vT2XQefR59C/0UvVubqG2tzdHO1i7X3qXdod2no6XjqpOoM1WnSueITpcupmuly9HN1V2iu0/3uu6nYUbDWMMEwxYOqx92edh7veF6/noCvTK93XrX9D7pM/SD9HP0l+k36t8zwA3sDGIMphisNzhl0Dtce7j3cN7wsuH7ht82RA3tDGMNpxtuNmw37DcyNgoxEhutMTpp1Gusa+xvnG28wviocY8J3cTXRGiywuSYyXOGDoPFyGWsZrQx+kwNTUNNpaabTDtMP5tZmyWYFZvtNrtnTjFnmmeYrzBvNe+zMLEYYzHDos7itiXZkmmZZbnK8ozleytrqySr+VaNVs+s9aw51kXWddZ3bag2fjaTbWpsrtoSbZm2ObbrbC/ZoXZudll2VXYX7VF7d3uh/Tr7zhGEEZ4jRCNqRtxwUHNgORQ61Dk8cNR1jHAsdmx0fDnSYmTqyGUjz4z85uTmlOu0xenOKK1RYaOKR7WMeu1s58xzrnK+6kJ1CXaZ7dLk8srV3lXgut71phvdbYzbfLdWt6/uHu4S93r3Hg8LjzSPao8bTG1mNHMR86wnwTPAc7bnYc+PXu5eBV77vP7ydvDO8d7h/Wy09WjB6C2jH/mY+XB9Nvl0+TJ803w3+nb5mfpx/Wr8Hvqb+/P9t/o/Zdmyslk7WS8DnAIkAQcD3rO92DPZxwOxwJDAssCOIK2ghKC1QfeDzYIzg+uC+0LcQqaHHA8lhIaHLgu9wTHi8Di1nL4wj7CZYW3hauFx4WvDH0bYRUgiWsagY8LGLB9zN9IyUhTZGAWiOFHLo+5FW0dPjj4UQ4yJjqmKeRI7KnZG7Jk4etzEuB1x7+ID4pfE30mwSZAmtCaqJ45LrE18nxSYVJHUlTwyeWbyhRSDFGFKUyopNTF1a2r/2KCxK8d2j3MbVzru+njr8VPHn5tgMCF3wpGJ6hO5E/enEdKS0nakfeFGcWu4/emc9Or0Ph6bt4r3gu/PX8HvEfgIKgRPM3wyKjKeZfpkLs/syfLLqszqFbKFa4WvskOzN2S/z4nK2ZYzkJuUuztPJS8tr1mkJcoRtU0ynjR1UqfYXlwq7prsNXnl5D5JuGRrPpI/Pr+pQBv+yLdLbaS/SB8U+hZWFX6Ykjhl/1TNqaKp7dPspi2c9rQouOi36fh03vTWGaYz5s54MJM1c9MsZFb6rNbZ5rNLZnfPCZmzfS5lbs7c34udiiuK385LmtdSYlQyp+TRLyG/1JXSSiWlN+Z7z9+wAF8gXNCx0GXhmoXfyvhl58udyivLvyziLTr/66hfV/86sDhjcccS9yXrlxKXipZeX+a3bHuFZkVRxaPlY5Y3rGCsKFvxduXElecqXSs3rKKskq7qWh2xummNxZqla76szVp7rSqgane1YfXC6vfr+Osur/dfX7/BaEP5hk8bhRtvbgrZ1FBjVVO5mbi5cPOTLYlbzvzG/K12q8HW8q1ft4m2dW2P3d5W61Fbu8Nwx5I6tE5a17Nz3M5LuwJ3NdU71G/arbu7fA/YI93zfG/a3uv7wve17mfurz9geaD6IP1gWQPSMK2hrzGrsasppamzOay5tcW75eAhx0PbDpserjqic2TJUcrRkqMDx4qO9R8XH+89kXniUevE1jsnk09ebYtp6zgVfurs6eDTJ8+wzhw763P28Dmvc83nmecbL7hfaGh3az/4u9vvBzvcOxouelxsuuR5qaVzdOfRy36XT1wJvHL6KufqhWuR1zqvJ1y/eWPcja6b/JvPbuXeenW78PbnO3PuEu6W3dO4V3nf8H7NH7Z/7O5y7zryIPBB+8O4h3ce8R69eJz/+Et3yRPqk8qnJk9rnzk/O9wT3HPp+djn3S/ELz73lv6p+Wf1S5uXB/7y/6u9L7mv+5Xk1cDrRW/032x76/q2tT+6//67vHef35d90P+w/SPz45lPSZ+efp7yhfRl9Vfbry3fwr/dHcgbGBBzJVz5rwAGK5qRAcDrbQBQUwCgw/MZZazi/CcviOLMKkfgP2HFGVFe3AGoh//vMb3w7+YGAHu2wOMX1FcfB0A0FYB4T4C6uAzVwbOa/FwpK0R4DtgY+jU9Lx38m6I4c/4Q988tkKm6gp/bfwGujXyJohRN1AAAADhlWElmTU0AKgAAAAgAAYdpAAQAAAABAAAAGgAAAAAAAqACAAQAAAABAAACQaADAAQAAAABAAAB5AAAAACpECq5AABAAElEQVR4AeydB6BdVZnvd9/nnFtyU0hICCSEDo9eRppUFRXGBiK2cZ5PpzooooKOZcbRUcfRsaDjjM9nFys6YxcHsSAkdCkiAgESAiH1lnPO7u/3X+ucm5siJJhogL1yc84+a6+9yrf3/v7rK+tb7vH/8IWiPbZLwyu77bQowyCIHKfKEs8vHVLlVa5XumXlchy4TulVjuc5SV54gUvyPK/MK8f1c1Parxy/KsPcd9wqc7PKLV03dKuS/MIrksAp3DIqfL/0giLmCn5WXua4BU04la+2nMBxKK/WKaYuuLlarVxzVjmeQ2uVzzU+7br0KChVPjd9pjk6yxV8cYr8wNRTetRfFlVOG3HpU0HhegWDYVBO4VcpJTMvYjAu3w6dij3qcBPaYlicLT1GZFo21Tq0zxnaKkM+TbuMLsg9p+1Xhe8GJdRwgoKTJMioL/XKVac5yy9IRa90ok41BWoKPP4osKNfXnGwbUnb2p9trX9b+rLtZWGMJLFZpQ1jcSv1k3yT5Tm+V1XVaNUaC/YKqu7Yv777L0bILJ3QgEMIjMC8KSt+LZ5bmk9QgQRThu3DluH0eenkmdOMnU7m+GLjOqsCph2QQfy6FL83GOR0ffUgoAxt9csUtruUNK3ol6vyHNgWyVA9qt4cGJChTkZLpr3ctliY26Hm6Lit31Ru4ZhcWw95kcEVru1dTs+pvRI26jo6YFpXt/ml6nStOmALcNb85EMQajtnLqEtusFIaQE0FkFMT+xd4dAecBWnSHl/aPpRp5oCNQUeXxQwfGAHdrnPW7a2iW3tz7bWv7X9eIzlbPd7nZoylh62GQigatAHXrq2cv7qHd8Lhr3uLM8ZdJwWnBd4QEYBzygK41ZZffRYvzlGespg02URBD6cPo9VeNgAGOfF2REyzLW2H5VEMvFrOHsG5MDZXcf3xd9JZG7K3E2+bdfihM3gUwBgMMA00kMRctSagUBbkp8UsJBD5cIY05/e5aZQZHIAMC4n317CVeTwk0QOrfNpkdXkmVZM+d7PftNcSIKsqseMiJHaesj0vR7FJ68ypdWxOtUUqCnwuKaAZV87bgiWt+y4+i2n3Vnq77PEzalq6UC+2LiRcMRgXWShJGg4eVU4TQMqI3B8gAmmLxZcUMiIZ3aAVC9sKvJqGBTyqqRo504w4EfdLI9DiWF9/i+gMkksnbYBA64g02IYmKc/ODvAJhQRjiCtGfnKyEOCOmVSiaerTf+lTVSWcg14qHbzx09XgNCTaNSkQbspX5xEF6mCuWoGQSkEKZAk+aQ75r80mbqYftGOILqvADTjIF/X2jIckChBsi2aQ7orCkMNiiK8kWkGYPpkS0x+moHZ0VEPRevPmgI1BR5fFJh8m3fUgeEcjy+aTPZ2m2liBms5/CbXwkVhypyHr1rlGQcdKbryoJs6oXg4Wq0KE1eRlRHwQlFXX/B9Lib1WC1WnMAF8+Dtkc910gjG2NCUIWkNqQMBjtpNP6w8pstRR3qyjXlIZaY+1cwBWsnScG8jrSnHaNg4J/2laRdw821hfqJ5M9WrEttrC4HqnqkYAOFv0yT4srW5vtGrqmbyXKREukbHEdX0m2qFlCC5wIhSAJbVFOqHTaZkjyD9vN43l5Ogdog1TerM3lV8Adm2kIhrkiGRFRF1TtSuP2sK1BR4XFGg/zbv2O/HKWcQUTYwzq0lkW845SbXkWdVd5P5FtLwnAh8L0iRj3yniaxEOQMyRZ57IXYcAw2maRi34elumQM7eeB68HsuyNMijvwsS5voB+lvJfcLg5PizgYnJGGR1ImqKlzjwGAADD4Pu+/xdFtG+RyVACcs3naXC03TqsSrygJhCRwCHw0IUAM+ESCu0EeXSw4qK3Bv8iLgUOik4VUqA0rp0AMQOUVTwpdKpfgTQlEYyJU0qN+SEXWBSRuOep2T3c3WzXnOqi0DkxCSf4izZPMtgZI2BOul7ZlaUHm61OuqrbL+rClQU+DxQgHDFXb4x+OFGpv3UwxRHNIwxkf7tHS0lWxKU8O3xZk53eOcpjpgBTEoDB10X2ky7ntuFAbYu/wgNEgEDlmmbTwPqAB+HEjpB1vPcfGrBGBFmcb4aSCdqXZ1wLBy4YxtzFzHteCMRJ4CjNCYuATJDOlNp/RhO2f6aGoAlsw5c97QQjJSDxFNYeEVtcmhsVfYXCKkoCO0xU8KGNsYzXHo92VDoEcoScO2EPAoxFFGr0+mm8phcBzbmkyVhiZqmgpKDyziqn4yI9FYVJNIoakBh6resTMMoRuJj17T5me/gvq7pkBNgZoCTxQKiLkZaWNrB2Tn9n3eOHmV2KVhxH1uqW/LY30c3Q17B70iHBORs+C01j3dtq0rKWH/3LTMC8f/1vevOPel/+cNb3pzVmSR51WynZlkiolli4frr5fPl6qBlVtni8lsLgT8CklEwhTJUOQYeUkwpD/bAXBTmIeAVPGpyskRANGaXP96PRC8qkCFMk8FpCk0ZwEeOqXK9EcT9vRkR9Q7KlMngEnTb74NQclU5+mb7arprXJMB6wHJPWY5lSS4qYV5fFHSwicqti2ri8SIzW9o5Tte/1ZU6CmQE2BJxgFGI54+tZ82mJb5IdimBvSlGMsYKzMEivGgQFblWSkQJo6Jcv0BRH4cZilYCFqtdGx5LVveNMtv1n+zne+811vvyDwQ9iz3B9KFn8Zr3xdKQ0c0FaV2MGECNjJNJC0K0988XK3pACrqyrgivZQdQIrmTwIxfKV6AH/qcAXhICbaA2FbRjVADAWjVG5S79ZhVWVucqDbIXGUBa+7G5OVuQsX6O2TEPiCJ0dGCqzX+WERZmhR2X40kJCARbE0VhRokSl3yhL6W9ReH6AtlNQyVnWJAiodFOUvIiSmfSWHlpSYWXJBa4GSB9Bd98z/poF69AgJnbEzAmwlOkG5FkW0knlW5Al7wn27NYjqinw5KWA+IPlozA++C/T1Sk5ogsLVaXikeHF8CJ4xfbhANQpBmn4DHUW4mKwOE3oaTEvUjmGw1U37s/2an3jehio2LZvfCzoQpZlcdzM81yyE7zd98gJUf5xGdJHn2L8NLN+ZfNfn4g/gjHhgsBC7hBwTkkzQWm1XOZMrwBfstCoPnuVH0Rcj+SCVee1F/z9i17xl4kz/OMrfzw8Mls3oCjQPRqLj5cl7RDVpOflaRZJBydM6CbZUDwg2SyOnCRJPdZRx17g51kehEGekwHg5AI5FqYZPMlZikwPRGiWVss7EnzgKQj8qMAkBvyAOR41FAEXS53H0i6Z1hgx+VaOCsCf3pCAOGPB0wlq9PM8CzD4SROIr4k0hYzUA3IA3ywBtel3VjUYCohcgKDSjIKLVA9lgE4WeIu4oqUXApZAKyAr6E26ThjxBPFs0h9ZClk1rokIpkDRvJ0lkCigarqSsaiaNuytqz9rCtQUeIJQAHYMpw7gXehyxHhlxYCLGWgRJwBOhC6U0/IbM9ndTnwAkQPPO1hYhc8eS6BkZoEDMbMP0jSNIoJY2AT7KUJ0b9up3S3VAxEIRCGIMkjmA2D0AQYICTwvSJIkjmPAxeAZfhXgGd3d8jNg4EunDEjwaTIkPKEINGuWDZ/W1fBohCdBueCDcmjlxIC55CV//pqXveJvCm/wwx//9KI954fN5kOr182dOY0yExlCj9NsRkmahIgbDe5hxw2ox/HjVpI7MTUkqdPA7THswtwTpxnFipohIvp5mQFsJUumQ7P6GbEtU1wQEKqd5FHME+DlFWa5IC26caD1XXnpIgWqu0Z3FxpQjOgx0TeIM4L8p4fD7xYFtzFLC+QeBsNHUXRDYAZiUFIeKjSkfxnEpXfc4jJxCNhRCVhjhDYEMAmBEq+Y32hCgwnOem+W9KeIogbIiyOMnhfACaAqM9cPEydv0BCynutyL9HVjnc7jUaTmiQaFmUQKlhJnWoK1BR44lHAhDwSkoFVcGrDoEP7Ce8GS3wbGMJhYi9Wvl0ooCm+VguhVvOynKW8Lg1ZsEQi683WTUueAbcCHrcjky8Ul9xAc4gRS6699sgjjgRZrLYsiuMkS2+77bYjDj88g38aoWGyO2LRMOn+b67qHUsA6+caxLPCWi8LaQROzciFZNKPEQaqyOHzpdPNnbuWrkjL+A0XvWPRPvvfvfQe+PicmVpUBltvxEhEflrB0KOszJhxZBNj++254OwXnk1tIHGOoJTlB++3389++bM0Kw8+9JhrFt/GZKQs3Atf//qhoQFwamBgAJkPIeWd73pnWaQHH3Dk1VfdDFzTzzOf/7xzX/pS+spZILXdHl8wf1EYNIeiQXLe8+5300uu5IkB1YIgRqhCfKPzoe93k6QZ4ahohmvnPtJh5pmJL4VMZUyAiE+R7rFTdcbX7bf3wmuvvREAZmgQHzxjAQGyFp3hz+akKRIxFzXAJ2iKdIzLYTo2fsC++9186y3j2QSTH26gJl2kwEvLYqDRRKBE1kS3yRRJAr69UfVnTYGaAk8gCqC7ISWdlNc8jmJpzzDTGPbV7abkIAPx7iOdMIcWgG2nsQMUcRihoALKIqnHtBQqS/K0i7YIZRq6pypNMMRU9E1hAm3aTq1vPgpm9rRg9ZrXXXvdiSeeuPiaa4AMcoBYOOMtt9zylGP+BGyToAqfJfFhvjlrWGcvx3hB9HJ6+abz0rvhEWHkN3gt8ga1I25QG9IJ4ksaOL5EJ9d55avOf+vb/in0h3977c2RXy6965Z/v+SDJXcCdBfi6c+o28rAizgOvaDpBg/cf/+ll14KHYUB3LE8GRpoIcN4lVdmMoGhCnz/+97bSTrJ+OieC/b4+S9/2cmzv7/4wlZYlUkbNt8MnNe99vWHH3bkpV+6FEzBXueWiV8UM4dGrvn54rGJ9Wl3/FP/9+PnvPB5BevHfBYMGGDQ8yFXE+Jhga9on9NkAllJQj3mtzwHlwI3Qj6T1g8QQt2n6QEyqdeMWmgVBeFQBBSSmSzRzUd8zKmdanHoL8KIajlCZs8QtLg4TyAX3QOskzgMG8CXWuQxTaXKZHoAxuP8KTDlCUa4pUrTR90MO5moP2sK1BR43FPAvtpxI4IZ8G4HcGgYj2HNLKglRxPuJCEPDtMThsxZW2ajz63nDJgncLkrK5RSAALVwtDRTPELVRJaLs6SKZVVmpFJGdPQDqM2U38fFg7waOxHHH7ElVf89JSTTr3u2uvpUeCFN1x34wnHnfjLX1x9xGFHUiZDUSci9PtjjzfkGAIBNEYY0aeOMfJNyTKwp3GR0DamWRqFiCa4YhR33rn8V7fc7gfN557x7FdfeKHrdvbfe+6M4TAKBUzwegNa8Gy+qRm+HZSdNPL8Cy94/ac//akOK6oL6ixD303SDugCA29GA4guPTEFJ4duR4jgeSnGKq/oTqxthv5gHH/yPz+7fPkDb3nLW31UjkhwuQLyNgK/TFDH4Q7igwk/vvwHN910w8rVqwx88VAoBIcPbMraBWAlVZlFrUC+I0J7BidNITASRbExdElegnSc5L47GUrQSCY4AFpPIApCBkXTILEwjb8MZajspQyKu0ERTTeCGBUqAp98/SXoIbpyOYvHwxjJVNgJXuL2AepzYG1sVEAy1rX6s6ZATYEnCAWsRxvmD9kRMLHDIuEvJVKB5XjwjiCOYTLMlaXCeeS0lfwBrw0m8Uaawfhiq0XcoW5m9mjqrP6Qn1ZrZxFMLW9l/dteEr7O0LMceUzOCcccc9TPfvHzY4899prFSxYvXvwnxz7ll7/85SGHHWrLoFpUZ5QMjE32SmKXuK45xYeBqN4Ps7hpkn6c0R/MHAYLx1X8DadCTRn5n/x/n3rf+/8tRV4pqkYjuPH6K51yrVuBRh3sh+CT0ZBxP2jNT0EShDmn4aTOnnvuecBBB7/v/e+nKm4Y6kcMeKjjEGzTVHo1/nSDcS2UT7wgEFDIy6QZe3nS/dkVP/n4xz7xyf/8NBOJJC+RwU3PkWywbzVdJ3aKlGt332O3ww479Pvf/yHgu2zZA7Onz27GLdSJX/3GZdT+1re+9bLLvt4ZH8263YMOPPqaa25iedvyB+/9s1f9GWa8/fY/9IPv+7dG6OFp8YaL/wEdn+M1O10wEJOWc//9D+wyYxcktsFW69JLv9ZtYxwLz3/t3zUaAzwQ555zHiRjsnPHbbfOmTUnDsK3v/2daBdx8vDdeNWK1XvPXxTHjRnTd1m9dqyTFYcdeNjf/u+/HBmahVCW5cA/vWNAwFj9V1OgpsAThwLGDsMMXX+YvTE3YHrgNQ/jCChDpQeX491Hb6SASNJ/GVawxc9tYQ4wcFWI4JHJm5yfUdxU5fgTYBIqSj/EGVsox58gbUfyH9DAixTXD7cGfOhoEYXmoYcfsuS6xSefetLpTz/tqqt/cchhB8s1HLgJfUkJogD938KTIEgxwIT+CsbJn3DKasoMKmz0IRnN+Jczg3DxbHGde+65yynTc579jNe8+cJuZ+3qB+/72hc+EyIfc85IFMgi0r2xCQt2KdriJpVybYdZ/8t733vpF794/XU34GKR5DhoNACzGJlO27wYOoqkWn6sq7hhdJYtXQpUc90L33jhRW+8eHAwZpj4a1Be0lWRUkDynyAzBFa5sMrSuEHr6QnHn3TJJz7Zybp33XX3+eefv3jJNc8568wvfuELzebgdUuunzFjxne/+22u+N6PLt9jz4XIUJ12smTxdUR9vOLKKz7x759c+eBo0c2AQEbUScqTnnraJR/9DxxSb7rp5je+8cJbb705S0c//MH3V0U6un7illvvuHbJLRPrxs4688xLPvqJJMsOOGj/e++9V2JeXj7jGWd89RvfSNLssm9+8yOXfBTJbGwinTNnwbr1a6G9sByi2XlD/VlToKbAE4gCzMuZdst0HiqoEdA1MDQogwKoJb/smBcf72uYpzilEYi2CyugwjSjXqz7snSYn0hBagjlHX8YQgRh2E8KZECB3I77g10DDxmxlZiyG8dyRo8WMYO353lXQgx9hCpeN9PWV3B1Pm3apFdUtHmiDElWH77ANNCB/xCTakAlCA/OYY+E1/Ib3EA56BRjlbP+hht+8Zynnd4QzHEFET0kO9EXARbhbrXAinpTJ8LpEBiTKvjzn/3397337V4cIFjiCBNUboOrkja4CwwxMRH+oYXDOJVJ38gx8Bg24s995nOvf93rbljyK0WYMl0uELzAWBwSq0ydB4vLBuFGGqGzz6J5D61chsHy1Gc8m+zd9pj9specc9/dv919zpx0tJOM5T/83uUXnv/qJVdfOTqefef7Pznjmc/Oi6wRxhdd9JaqKI488shdZ8xat2Il84EGQmPaefCB5a7bPPGpZzDMvfbe94UvOfuOO6/HZ2XJVT/GdWV42ox77nuImc36lWv22WOf57zgbMTUc198zvzddsEJc8Wy5Q+tXHX8SSc24ujU00741S3XCZnjaWecdTaUhlx+xLwMMZ+e6gbVfzUFago8kSggQzk4AYCYA4w9OsCbjKw8RViCMzJeZLBHFsO2lSah8SY3bgFYLGSNtw1xjGaPdimAhMAnp7a18m0tr4ZYeoviFN0mmFKW1y5ZcuLxx1/1818svvrqE447/sYbrqfOSNo8eKFFJY425YdC2n5SSZPMAf5xGycBCtdzgSyCUqTiDKoiZfbMU491svHA7ebJ6D++9Q14ggRebLRhEsVAUG4ITigSzIBESIVDI0CTV6Hv/a+D9sF75HOf/1zJlphIXAiDaQfIwtyGhM0aNbfRyPA39QM89zqJYFPV++G+++77pS994YynP+2hlWvwK8nSRKsNfFw6sDJhjKIUXfWX3b/ixutvXLTH7jhuDA4OdjodXC+wXdEpbHIL99y91Yxv+dWvb73l1yc99bjZc2bccec9a9e2Dz74YHAYpyCmAzxHQAwyYJEm0Ms43DtxI0QC04o3BoX/Io4ovrP0jjte9pKX3H/ffeMTnWefdRaX53i+BEE3SVnsTX+SvEM9rCAbHh6+b9mybtpJ8+TLX/6SJh0sBAniMhWtQPysSCbvh4hcp5oCNQVqCvweFAAkxV2N9zUyDz8nhRs8+GFlCECwdMrQiDjbDk5qyPRBmOI4N91w40knnfSLn/386KOPPvTgQ6655hpgbMmSJRa9ZMAT9Gy5T7YGzlnQmoSuyYNNL6NtfNYBc5zHmTs8+NADr/jzV4HgH//oB9/7T29Dq8cpoAZhKUnwVxDUiV5afG0kOnw6WRntxTJ3FQ648q53veuii968YvlyOeEgxOI/iKcMdj68IEAGiB6wM2XV6UwMxDjre0lapMxXyuKEE475wIf+5awzn9nudpF+EiLta3VWwJIyHEfkveGXT3vWc9797g/Mmjl7wW7zs/a6a37+E2D9nl/f+9Uvfg1vTuYfZ5191msvesPBRx01suucU0499VOf+vRTnnJcC8tmQF+449ivtC81JRkKUjdOpwxtxvThqJH96Ipv0cw9d939lS9/45RTnrlq1cTI8K6DA9NXrnjw5z/9n053dPeF82/79a++891vMpbPf/7zDz34MKSYN28eI/j3f/84FaENByJZuWFsfgQK0ah5liYfr02pX/+uKVBToKbAtlMAJsZcmU9YkD3QBB2+lud2ss5sG+iC88D1evLJtrey9VfQEJ2xCSeOE0444corrzziiCPoHpUcfvjhP/3pT08++eTrrrvOdnLra54suQmGAU29HEZIIWSTbqdDDy655JKbbrrJybtvuuBvn3rswVi8EHIARkStCN9E9iKTBhCq5VL0IZBVFVKJ5zfEpvHGyYo9993/Pe/9F+NnWcahNzYxevxTjx0cGooD/+3veDv7QPtMCjzskehNtWwijgcCnCPAT8d5xSteduqpJ5904gmdCeKA4CoZI2V1s85Tjj8qaATNaUOXfu3rLzjnPMxjrUbzp1de8RevfEUzjI864uivfeXrc3edx2qIk0479c577znx5JNwa+Tzsm9885nPOIOh4vWOhyELnDHjIS2VBOXg7tNnAoJk+VAzvvzH33nN3706CL1DDjnk61+/bOaMOUcdc8LCPfebMW3G85///EMOPSiMXDf2v/TlL774Jeci893669vnL1igp8erfvbzn37oI/8GnVjX/MJzX2gQC3sq65tFfx4mXxuN1ammQE2BmgLbjQLwGRDCimIwIn6SADA+EXRg5mAYn+RstyYfsSL6AILSn+OOO+6qq64CwGidn5K6HAeBDFTjFMfWi/ARK9vCSfesN33wg+9+7Wxt5YwEJRsftiikP9wkUHihCTS+KyUiUbeTj8yYmWbtLMsRokIJLrIQItrB81kGwRosMJ4KCGyBRpH68GmsorCbZa1IEbuwNrIsIncDXGbkKwNW4dQAbhJ+ScvxkNiqKvKJxtSCyvS28JKkiJs+Qh1BOvDgwTedhQ7d9rpGq4VjPD0mQqKUifJZAXTGWZTlFLGq4k92OVYIdHBmZJGf4w9zA30ToVHeFFK54jXSaUVDKqwMEM0YAoXfBRa2bpEQ+gSaoENGiKpw6EdZWhIEhNwAEbC3S3W5HlmydBtAuZumsvCZOCAKtsUkyMjHqdzqOStJGbBG8tMK7ApFq1ktRuN1qilQU6CmwO9HATg3OsNGo0E1iFmT6kSAxGIG+RbYQBGwBGD7/Rp8lKsn26J1kAyUooebdIZu2FPUJbuU+dq0XngpopvkJiUYNAcPO865b/lKbwDma6PB0BKavH55RccwzcPI82aI7CXNGwAGlMKlWXkOaiFXQB/Un4hlZKIvVIhbtK4mvqT86BVbxUOHhqsO+VidAIeiIkZWCNqp/2BhVRKmUD4zLE4uHQBsokNoqlIzB9XMouGy0RpWbGIqMF1mHVsGRMkRCE8PjGZmiPj1eygtieUYEewpCgaoROM39GL1s0C2yPE/BJKph0VpGFslRMrGqp09tS4bYQqpDHxkOsO1DIoVGEQ4xCbH2AFvxsN/wJVi7CvaHscfyEXPKXgqjUFRvih44ajzGMnY5oaOcy0LyIkkYkKQUHGdagrUFKgp8PtTAA5pAazbJaKe2C/gYTGDQIVAhW3CSmk7GsBoiyasxpIWQRB6Qg/5hK/aRBlyrGho+7atn+LMW0xW8MSvn5ZMJ8pGI/z8Zz+D0wPgkXc7tMyFEmACp9EAJwQ7sGm0rJxBRpGsgh6RAnh0WmZNfPe8xAXFwE+leBWqQAm+LyYvSNTqXy7RDMHktVqaU1gZEZmNyiiJzwVwqi7kZSuMWfqu9dESI32Harl3sVvgGwlUYDtzG8SVQueHHIeYiOnLrFEn5EdEkzihKuhGIPunpipUjxDIP9r3CIDF0CQRMh6aAKbx0ZDHiYmg2KOBT9hfuuK2WoNliqeJqAryIUwSmIQGuXlQAhKJHPzpvJtqlb6kvzrVFKgpUFNgu1AAJgYfBq4skmnSj2HGJJwJYEScgrOSLJZsl0YfoRJah6naxDEgSvcktPTNdfSETPuTz0eo6ned2gTD+NnLoS17DazcxBLGKli8+MUvUoASENUEPxbGmEaR2AhoQm+QZAQ/7MbiS4qiCri8iGrkQAED8pq0jTB6HE3ztEwQ6NQQn1yCo7pgTJXqGgANRaPxobebI0tOsk0CEVrikMptVGY5BB2FAEanSJxLhCaupi0qAoEkUREtS6KSbiY9RPgTKKoZJEAwiY5rgkAiHzzKLLgqyhRbq+BMyOICDuRJiJMLF9Fb6UtVPy1AoiaPiiRDbcjiEJ2LRY30HwBVGaxs4LOaZ1xS13IUofasU02BmgI1BbYfBeBg8GHgCsCQUGF+Al3ibAY2OEVrnN1+bT5STbRrm7ZgZlunY3QSVs+BGLLpns18pLp+xznJARZEDE+nOYk8CBE4/k0KSfZai2Ti/JxCyWZzDeRZ3JKIw/Wc0EY1wBWKOBUStpGHXKYvFUHYAXdg5SH2KYMrFOefxBX8zw25pcDTBVofJ+2eOD8ZAkDpEJlfCCHAEVXgy6pEAh+0PRjYaVtGFKQ5077N0kpqTsmyKZSS0zxuOlylDhrNIbXoRw/LJYzJW7WPxoyUwrpatVDU7J4gSjFKO3aaVD9YFWHHCEXpJ+Al1aOQlmKyNaqROtUUqClQU2AHUEDCgEliVv2DyWNggzx4lj214z4nm5jsz2TOJh2wXXoMPZkyBiOWwJm3mKawWy6xfwKBfuIQmDH5VKFazElhv3EttGjWq4VT/E1tSmGm+lX1vo0Up8kClRrRjSs4BEAwtJnKbUHpNieT7omR3sikQlBT9Rr/FHOJqYHSAkQdC//6F6ty0zFKcmx/9k/2vm0+D0e/sHqCxMjYDYDZygTHJJUxGRaA+aXCOqO0xfrtqfqzpkBNgZoCNQW2igJT7DEAxaNJBlNZc58Z61s4oebErE2SYKNQ7uTA5fvIYc9NfnKVBJNNublBF4MNvaqQCkEiUzMftgUaQJnXg4TeSdVl/pB4JC1SMz+5QrDHj6o3WMGWQnTxpc6rr6rKpE16S81gJM0jRJLUD9Z2G2ufLd//xBIoxaXtgcmUUtI03y+ikxQxjRoAM93euMhk2fqgpkBNgZoCNQUenQJTMOzRC29UAnZsoALWDFdHQWdYuIlgqHIGEY1SzV4lXg14oCHs/zYlBG/8bZGTi+Ej0ggYrYwI09feZsrsV8I5zrNcWrX0umBKS3HXE+4oLEi0iCIpjsJmEYFkNDpfSQo0aEoppV795qwBGjNWU1pDMCVMwckPUYDrJkHLAJjanSxRH9QUqClQU6CmwHanABjWY9ymasuLJ1sRLmxcwGQYzgxqiUlPcmmEnT6QCNWEaJJdOG/grQcwnNBVqkZQwi9BioG/fkNClEltoe2BaVUfcgcUWgj6VInRBxrkMKMgS72SZUoIqXot5qgaillglYLT9MBAG2dU3JSmYZWUxcyU15dNks8kaCmZa40OErmsN0Yg0MIzmkxTSAsZeq2Y3/0x8m2lQ5tbf9YUqClQU6CmwGOngOQwy88fsQ5x9l6SSENSjpE7zNWgVk9gwTPCHHEaPNBJfGNwNeSgx90NpAlQlAUK9CBOvzZJAgaK4QGhRHlzSe/AwGQvH0ChECAjmcwiqdR+whxrLaO3Qg7yjD+FGY6gzIxCuQZiwDuTw5eBH+XL78S4ipgtv+RlaJFM4KsjVWuqs520Lfbz7Jke9HGqTjUFagrUFKgpsD0pYBYbb1uFhlnjPAhr1l9f0BHDNxk9qDEcXjnyMuwhloExOL75Cd7wN7XtSayymUICVS8MwyiliFYbJ2CrL9MIWXunacwgkEWsySuMlKjmLG4J3HBEtDBLLj6EBvyEfPJ5RJ6SjGXXhVOKhdNcrB6aLiOq6dreIHstc9aWMR6Yapm2dEkvcXLKEEw9nDUI2C9Sf9cUqClQU6CmwNZTwDBQw03tNVIDkvr81WSqzJQiJo8M2LE4MnikAlb/BsvGn1DqwT5r7nF5cxEwwr8egNlqTAWTh2rHqhJNpVxrWgAshDX0AVSxVSufZOxcfNMDc36zbloFX683G4ZGP8EZVUrqXSR3Rx2SJ/saq5p7yZxXy2aotsYpyNQvttG37Z+wtNeIqtWlk7VuVNz+oKFeXyZP9rM2zZ8sUB/UFKgpUFPgSUwB4/JnhAWLF+YQ+YalvaxRZs2xuCofnOW/SdLXkZcqvJOTZEZZJ0kLtz/wiyW/xHyXmNLtamMR4ZC50MpGEm/g4yanLDNi7GonZ6QsQIHrKKQAVzQo4Q0xR/tGs6+m43OSOCmgDKEaiYJFdEZaZ221rZZaCdOLclC6PdZsOS6ho+gtlRAVjAP+qxk+ewYrVtQR/57NYdhTx4yH9gXA6hqbimkVM4W18tl0SqGjDOoRurHASVFhFIXU9NvVQmxGQFtcK/9ELQtQmETVUFCCMywZZ1W1paN28eEqgjNSAX2mKxTkr1uo04T2YHh25yH1psgIRlyQTTcNyKreOtUUqClQU6CmQE8sEJPvJWOcEj81Fi74cpUCZ47Pnpuw7KnhtqIwIjBF1BCrFt7AxLXRmR/47NUi61SzGXfbiXHQEK82f9RsvgllmBK+VyuU2bxZy47BNdY7C8XQH+KVD0LoKivFgF5gFcvy2NRMECVsM3jFTtA2mIpBUlSDwAOfoIJdkQ2AKkgwQKAwJwTOoFGHGMT0gqV2CtJYskocnLOrzNiDk8CJpbbNJsZhVtA/6NBJJvCtl96RASMLUoW+SQxHoGN/UCXmNMI5mkV8gJ5kLkUdIS4Wtjq2pamcLKHjDCRg9zltSG0CdFKeztFnFlBnZk231m7THNjGeLUTrFZhGy9/Q8B+e/V3TYGaAjUFnuQUgM1uzBatUwPoASABIYSQIiI7WBXFyAscI1mQzW7akmo84sFLPOjp10zgEEUFFDsn1GPRaGnLbcvwCRassPP95ojOxNJgAgGzGYrvZTlCCHjhBUSUB/coJ+EmRVSSzSkmlq+wQsEYQSWK+UGIrERDtKLwhyFxwNhiBfgJObBLwTNEOrmdKGIYOez/LTnOyZoREeOBQWIpspu0esTGpy7RE50A6PYjRSUGkAnfUWRdEHUgHiDQPqMSUivcFPGeN3pspuoHhcsCSKJ7AJzyICFUFRhJw4hWbICgPtM68augXJ41ICygDaBCxMoNKqCuJF4nY4FEOJSY+YDngqeum2QKf7xR2/WPmgI1BWoKPIkpMJX9QobJn4oNyI7GSdoVUBA/ELUf+JV2BSH8WaUdwZoUiMvo/4hKT0xCZCvPTxFGCK1kwhUKQ+DqUinyZRAD7s4/1QFgsi0zkasyz+d6NyUEPrgj33j+iAvlO8AY0kgulV5ZpUEjgvUjbNHRUPuq5MhbbMLJft9E4gIJ6awNasLmmUaUs4jCHjEIcNrt0sRPRPhTQGKa1wWMEJD2XERDqgWigqDBzmcoGxWuBTxDgRm4CrDIztNF1Yu5xYVTEhDEL9FKEiw9TDQAqqPfxJ3yIyohkpbC2bNyDbhUeXVQqwhEmQCQJFJxyfY0ZWXjdaoyMJCz1GuiOcbsIlOnmgI1BWoK1BToUwBNnhjvlIT2TkiWjq49aJ+9dtllF/hv1Bh+//vff89v7th70YLrrrqqO9HZZ9GhixffAocv8gQeLV6v69juK+HaKIhkSEL3KLSygoPqJInTm3Th685/x9v+HtQpsP6U2dVXX/X85z9v6X0P7LFo72uW3MhOKICMtIchwpOkOi6C47PvJQ0ht1CvNmEJA0AoRExTJGGhF0KYxTAEL6O+k4GOC0EDVHPA6i9/enUzaIV+PDxj1r0rVyFsaucwupCykRixP5wGg0lpgy1UaJbg+AyAYPRgsAOMaTe1jZKgaEoGVFDM4qrdPmi/va5ZfG03BdOETMno+kMPPODqa5eA0yAp45GU6QPdWafb2X+/g69fcguAxX6i7FQDBErBKtyWkY8DNntB38jflLbqw5oCNQVqCjzZKSBssC6F8GojIFmOrP26GoH/wx/+cIy9RjqjF73hjQvmz7/73qVHHntM1GhFUbNIcmSaiG0h0ZjBpnGOgAXHMTIRvhI9l4eNyEtbkxy/OO+FL7j15huJAS/2XLmXfePrL3zROfN3n3ff3b99ytGHtVAVwuKlr0QDh7eFgBAEQZQBFtktJc/YVsXJ0i6STYeeALqFIAppDKMdykOkILv/mbGdFWx/Bs7dd9fdr3zlK5cuvS/Pk+uuu37xkiXSezJsdHtm6VeSddiNTDuDFWgUgeGg6CQH7L3vzTffjA0Nq5wpT7sAi3SbdIY/iZrmv76UAWglCieMGhbjHIjl+03fb4+NgXCdQttEA0bsW21MXKgWs8hv+UVYYCOEQhJOtcqOIXOhBDFDNkiq0MZ9Ze9GpK1/1BSoKVBT4ElJATRe8j7YNDH1L7WlFifhpPBQcMGL2SIZwQlfhzxt561wABmuSlPtB1k5CZKKj3lMG51Rm9F/CR2pXxo7ISPCjfmTD2Kx6/TBm6+95sHVqycyJ0mdH3z/8lNPOyn081bgBLgqZkWENQhmj1Ni4CCUYS3LyiJw2e65mkgKH6WaW0QmCn0Uq0X4fpLKZQJjGawfJAHMME4hlsnxD7NSli1f8cDAtOHhGTMAx3333OMZpz+NK+Ungh+gIYMXxrJCCZZB8YitN7XxSll1UzwDoYM3weZhRoPKp0Zk0iQy6xciIx4l7OoMjuEXoj2tJedBs1YzThhCqPFDd6GdcDGht04eVhlmPT9tT3CCAiR2hOagk+CCSWIQCLeb3yqdq1NNgZoCNQWenBToceEtDB4dX5pJI+djDHPi2C8mxg456KDrb7oR1tyIGhVKsbJ64N77BxtDUXNo1q5zlz+8GjaMD7iQpcKVXT6GSDRGSDPSCmd6LZV7LJh72KEH/uDyH7Ex23XX3rL3PgfMmjmSpuMH7XPQ9b9YwsYlD9x976yh6UHYbAzPWbF64g1vvOi/L/sm+rcyzw8/8ohfLr4O5dqye5a++tWvNosAJLVgLkIcgtdLFEIrGDcQlxgGY8jyxAvCww8/dPXaNf/y/veAzjh8DMTsK1rdc8+9c+fNj9kxOmhceunXwI2i2zlonz1f+eevjv14xvC0B1esOPXkk88+9xwqZeBykvxdUEI+/cCvgx4wD9D+pFqmzQ+2uwSQoQ/61XvuWTZj5qw4iqaNDK1Zv06dzIDM0GmnRx9x5Je+/LXps+cwgXj3O98hz89mAwqiERW41qmmQE2BmgI1BaZQoIdhYrOG72845Yftdvu4444bbA0ND8/87Ge/CJ6xAgq3B/5guxFSyETnWU87/YorrpjojP33977zkY9/DIsRwgrwJQGK/xLh5I4BL+ZPLRBgV+ILDubO81/wp7+9/fYsdy677Htnn/1SI7HlcH/pNkfHznr60773wx9NZN3/ueKKj3zkw+c+7/lf+szn/CpYsvjamTNnfOd730ZTBwTusedC+kwzfXSU07xpV/sm009+0p8wjBCG0DTe8etbrr326mYcfOnSzwDCE2n3tKc/+0Mf/gQWrztu++2bL3jzjdfc4OKPmEws2HtRJ8tWrVqzcOHCH19xxZe//GUa4hKEw36LvTZBqQ2oxgAEogE+9icff+zQwKDnRwPNgRkzd7nrrnuQwbBpPfPZZ/3ghz9Ousl3/uu/P/GJT0i+BNzwQEw7eZK+618/dPeyB+6+47ZP/+fHrrn+BhkYRTIc+s0yOklxdaopUFOgpkBNAVFgC3IYfB+WzHLb4ZHpV1999cTEWLu9+uUvf7FUiBk7L8NJfdbdYo5atXzZutVrTjnp5GbUPO2px998y6+ku5OijGrF34GlHpknEUa2JyBGuyCfeNKJ1/zi50RxWnrf8oWL9gHygCJUf5EfjT704Mrly044+ZRG3Dr1KUfdfeft82ZOz8bHWWr1rW9956//6lU/u/Ino+OdH/zPT04++VQJOCjwsJtJ4jM6NyO4UB0AhoiDHCZPSbag9rw4jL75ta/e/uubz3/tX3/+y194aNXDY5301Kc9k2v32WvPPzvvZcvuupf+Dw4Onn7GMzrsTx3j7phLQVpVjF79ZlT9YfVGN/ULAGVTaT8EQH+5eHG3Pd7tdCbSbM3o+j0WLKDgg8sfWPXQyuOOPbbVbJ5++hlXX70YERCvFoQ3F4/8vLjkE/8RNJoLdt/9ZS86784779Qu0Xi1CDk9ZNCpTdXHNQVqCtQUeJJTgF2JN4Ix8AtWiuKPrZGRnAQImLhYUIWNqiybg0Oej+ecFzbQznWCoNlqtW648/bBObMyWLdRpImgrFYmCEUQsNAKAQOxiiQ1otCRI0Qzn6VQc/aYv8vQ0Pe/ftmqVasW7bsfrg2cH++mGQ1nxZwZs6698abm7FkydmFMKoqZA0OLr7v+1jt+84aL3/iD733n5l//5oE1o4cfcYTEFIl7wknUmHJE5ABv/VLxNkKp4GwX6Bi2NZ1asHC3d73vny779mWH/smxjZGhBKd7VI7IYp2um5RVhqeIi8OlGwcpS7XAXCMdNoJIroL0HkTTmHpQpgAdWjsm0MZiiLNG0W3TpyzLulk+hDsJ7ptpgg+mFoxX1dBg667bbtll5mAVQCaUlz7glCZdXBXxqscWCB3o5e13/Hr/Y0+BbsAYQT1QurLGbYvTDvWlTjUFagrUFHjyUUAAJmWf2K+YsNRwYs/4tYcdVvZWbhT5WYJ/B/6DUbuTpBjJ5PKHL2A2sttcgmt85KMfhefCrOUfwVpgKQ0BCyJoWBYvAYIcJfF5NYZogV9hGLae+fSnv/xl551++unDwwOB14iDVqM5QCeG581lPe/HPvYxauaaCPVikZ955pkXXHDh0UcfPWPGyIknHv+J//upE046pdWK8WCkDLo4DYDG0HnKDJaDVayFlsznENIKtw53ydVX33jtDY6HkIQC81v777///Hm7Zlnnx//zAz/wHlj5wLe+ddkZZzxdsUNoNIrRCbJcLWw1qDaiNnoPgjEaDYLmhG69P36YhEeJvBw9rFcEvEeqpAMiAKPFaZIZwPz585th8LGPfshBfegGLMwG3wJWM7OErCxZnPDDH3yf+cI999133U03Pf3006mF7uCKyb2wtDWjrD9qCtQUqClQUwD1lFiy2Kw+7Zc9Il5F1JAKq3JaDR8fPzg74ScUtCJJXaJJsDSrEf3k5z//6Mc/2gijWYOD573ovCggrod4e4qLYFlq/bIATGKSkVoMItm25H7on3LqabNn7fL0Z5wmKHBcVit3k7a85gcbP77qFx+75CMjod+KvReddy6xNE46/dSlS5eefuppVHDyaade/sPLn3XGM+leBP5YCQxp0Xi/o0UUeuHahxc8JTgLCHvewYccevZ55yAaBvHIQGvkXW95x0gU/+zH3/u7v/k/aP/22v+Az3zl883ZQ2WAoBkT8IouNgcHTnva0556/AkvfP7Ziu2BD76n4CBmEHxQuervJzSIUlqCTOTgnC9NoAiMf73bwWvfcVmNcPn3v3vJhz6gBWxB9KIXvZjVA6x1zhAEiSTi+SuXLZvRau51wAHvfv8Hdpk55KT4xRjqISBvujqt32z9XVOgpkBNgSclBdw/fdO/fvBdF8zynQEzfkQYyRhm3bEfN7KsInggZ1h1i5u57GSEQ1RUCbHuoj3Bjig5HncRi5qNS3heRsTP4AKcFwjpi8YQ33ROAQhAWWliRgFoHjyeCCBlmMdOGaCHxAkk9onwRFFTJplgua/EwDBWmI48aaIGJBJTVrgRK69w7vPGOkWridufoBevDbO0WeYwTgl6hZmSkxDI6DkyksFRSZ2dpNtoDeJJgdGPBWfITUmGpi5O5YIfMdrAKzuddrM5KG1qkaE7LfArdB0WZ6VZF1dJqqcodRl04Yi4WbiiKId8GfYItxE0sJ51M2fQB8oImlWyGLuLErV0WpTMUhYKgHbYFxt+nI+VIa12xw87+vCPffozx5xwHAFFWLnd7eSDDSQwhQz2giZr72LNEepUU6CmQE2BJyIFYKKkzXmcoEFGI3seGYKDhx3n3Ld8xYARFxjVWI8koABLoBoDQgA0iAGRDzOUXd12h1BShLNXDuo7rwoGm5wKwwDLE8EHOY4jotMqIYQpzoWcH1S7acHJCbNkDEtAGIpE2iGaFE7juoS2KjBP8g1rqfwGkQzx1vMVst31wqAFBpqmiVuBbzvVOkPNUC4OQgyr/1QmEhgYTOtpKtsSMagMtknNh3GuwaBoTPY+0ylFTSRQRh77TeQnxKJOnsVBWFZeszUIekExQJrQWYiggmYWcUcx7iGKCyyw6yU13E+UhNYsA2dNHIJmgAekmyVtPPvNim35K2ZlN/OiUI6ILCT3sRqW4aACChcTRLnnihYAR+zGblU0myzZRvhjIhForCgq61RToKZATYGaAn0KmHCH/R/wd8QIXzxeS37h9mz7gb8cf3Kc80LAgQsAvICYSC7Rb/FfAAUVURfUisOQNb2s4dXllJQ4xAJh1S7MMAnbG6f5lSVduQviag/WSdxRQGE8HxXAFwFF+VRiVkyXCjpMQmWI8YhKBWGKEJ+rqKkZYQpRjDLqiZxSPAEY7u0maH2Gn4XvhlGDUXBlQb0KRG8WG1OVZCN0fR6REgVgEtWoicgd6gGLuwlwjKyWJkLorNsJGy271lhTAtM8Qp8ZpTppJcKUzigWopHLStwaJRdSXLDNURyVBFSMwG/1kIGDsNCTIJVIdriXGA9KLdNGrpTuUtVCdEBRwhk/d8o0SQN1eEr6XflTivyRD+nh1HtIbzYZwh+5f3XzNQWeLBToI8Wm4xXsSB7iz6CBWK49EALBh5ExsNzINEa2dIHAGEy4xBeOupTn4REn0UqmHUl0KoBwYNgyRXQxxdjHRKWljgNV+BZkURHynG1eWeL7+FvwKTdCiqsDhsvjNkKm7SleJUJTHDCm8BO8z3XesHUMXCpsE/q+qbYi1U1negWMa2KvIF8UBeQ4mByv2nKJlLihQtNvGQAVOF7UIKYwTRfYyQxm00ejxFRf9Z8rzbi4QnpLnEikU1TkZFpBGYjEJURjvJZWyGEciAiaKlBIyBQND/3qN7dTzmSZiqmU2qnPgLU8+8neGRM3W/fbpA1kNJn9fAhC2ukGMNnzfj/tIKY+Xb0c82XnU72cKYOZcrjzjXHqAP4Ax1MpOeVhMJxhknL211Sy/QF6VjfxuKFA7/ngWRJGiKeKFRK9qEuEQvPSKp+zksMmJpxOiJ8C51iBlPm4QRBFSkxX11NKTJxdvrgC45fhuVXVNKeQNvD10HZcsmixbhnHD/1Aa2ifY8QpMe/fPxmxcAvVGB6/hfztlbVxu3ZQqnvjdqe8qHbg1iezAJn6p0A1m2lET2pQsESd3lBmalsb168W/yBpwwC3ujk7QPw3+9eyGaqMgzwuTHoYo54bakOkJP+PNK7fNRr6rG7TP/O094sJbu24+revd0axafqFJr8pQyUbPnngNx7mJpVMXvjEO7DPgP2cHB3D71OgN49RAUvwnn1jsmx98OSmgAUL6aPMi2kxSADkKKD8YJPQGtXEutXRwHCS+20j0gjDMFrhtF0Qch6nCXZGzrXViHSJfa6kt7aHYTx8qLiIGWEfU4N24lYqYUQK+sApOUOYTL77j6/5vd0/rNvhdq92ssKNmNEUMEbNOFlGXHoyCcTRyJqiIomASony0FPvMBdamkj2wr3FiLamjMr36+p/mxN/4I8pQ3uUlvs2VgbVR2hdIfMqFDDPQh/DDE04oWfmUWr9g5+Gk2r/NqVe39Aj92Gpl2nmcFtAMI1WV035NKM0tdlqd7rx2r7tyM8NQ+5TckprPe6hHMOeppyqD5/cFLCM07yFeoQsBvFqod/CPNTttv0Q94h4fLyNU1w5MESZAOvL4KDT8ty4Mc1Eh3LYDkTvpAxL1KIX27JTw5XlWoE2zvBizhjk0uJmkrR8/cSFxqik36jULHfon3z8fv8u5jt1gIZMmw1xwyvdI+lkxk5Hm8mebTaILWRYsZsTuuNmaFIy2998GunfVmjcNns5KrCTp81u4zaRxQ5OBHkS8+gexTajJMSZSsypfGMnfyjq7u1wCvSwxn7RmsEg+wsn+aEB3PRSoiY1HA/Uec35/+QMHth7gFasWNdEm5h3sbc02YuRLaxwUt+AYRt0iQbDkBfMJiAqwATcYJj4uHljTSZh2622Upaz7ZE2koemVLhBcJmS+Uc91Hh7swn1Y+rraqWWHqgbXS0sri/B/FE7/Zgb5/5aJTM19Pi1dIlWgcyzp9H1SSDK6KnQE7KzJCZrBnrVH/PE0jdyJmdg6qoRJ3t9ZoxGYps6BFPGwLUd1dRnnvHbzCfL5+T73r/LRg7r3fTNNYcKnFqnmgJ9CljOubkukaXJ+AlWeRISO4nkeJdfcZV1dJAuEfGLpVHDI8MlVi62XFHcXfnpPSKGTT55fRZsMEx8wDy7kxhG38yDK75gucNj+6SbW6xB675+v5ofW39+x1W9WyFubrDc/LYDlylokrsZTa0iekAu/iAR43jcfZrRgWGGoTMQiwc9LgaMCd96z4OYmOHm5vHYeUaKkoB+GfQSxNpkdaDmuSLD9ltj1LNWBfY165+1V7BKfQNW2btsZleq8/F4Zx97n0vRBwL2ZtLWBmFncjreQGRLuN68x/6oP5/0FLAv1+YYxkQYdaLvsGapGBgYYNFuzF6VrEGK8R+UZ7vMMKAcj559FVlTZWL2bUZRHkF4UP9BFDjpre4X6x3oMWXTFZ5Xy7/0qQsp+dg/hVWwic0/hRa/V82/T682u9Z4vhiqQBZzPwx/NxSqxAylqOUN5wgycc4CgCip453hU7dvK3tiB2g+ucgIZJZbaRxmfOahEgyIr6lm+7RsZf0U39Eljf9Rv2/qn5JtlAM7NN0Wbph+MwQ7TPNTH/b+9jSovVxzmUbcTzt6FDtR/QwZi6feSkOZKTxBb4R5BvpIZp4QW6xPqPq7psAWKQBOCZtkaa5YiOw1WiydMmt/WXJLEKmK7cFiDtg1JZg0cGyxJjKN15k5uYE798oKq3j/9Z6TY9RJOug9xsq3XOCJ+6kR2rQpcSbZouF65qyL9yYssMcTdyI2tA1QihDZH/GG797YN8AzZcTXTL59DPo48UceNeJCTzxU701nzFO6AYn797Hf7Q2j1EPOWfs5JXvDYa+qP/IYt+Fuquu/d2+t2NqrZ2O9qyUIn0C+fW5QRdBmn8gbSFcf1RTgWew/GOh4kA4kxyhmBanDul2zIBgyGTmMyEdZhmzG84Q8xhJhPn8HCVlaRQAqFjUbPzuCRYWhrkUl2VceWMjiQbYvN2/QFrjc76h9p8yeSgr7Em7ezX4ZOLX8PDVByLIE2yOBG6EP3yxXZvV2t5vEDQXfIhYJXJG7YrRYm1f4+MixwxYMbMLiXfzooYMCgDFGHgEiexEoUvOkHfw09Djo1tJPbwZPb07Eapa3Z9yRe8MiKwAAQABJREFUnPlct4uuQiOw1fRdFsWXWfXeiGLcfLnRPPyMiDXqk69Tnw56Tnp39knHoy3RMPOKCFDMUo8gAxCNDfwgDCog9vMz8+gd/DRs7WNQl9tZKWDkIp4ZoyAEySTLw1KIpd7nLdtsUCXuVGF9HGHQhL1gl5LAvNKKpmhT/7HsMYA+I9hZibTd++VBGXxABwaaMDhSGASaGLCKvMharUFOsSoP13NFByZBrk0AYLv36LFUyN2ke1vz2bvPGxoxd5zBAgYTE2zQE8C52E+mJMqmlo31n5MNF2zXIzFNyzq36pMIZuzoLZTNCI8SYhxrT3TDBvHGrLdtv2+m26AxC+fZG1bGZI/A1gS/ZksEhoZjvp77jdDOrmdXBTt4yP0+/vG/+55ckz2R8lB3BE5BpDemv+yvxHQhZp7HK6H5TZ9dTF5SH9QU2BIFNuMz/UKTrhn9jEf5JtKEn3TahDk0sQ3ZSStiY8wgbACRcL3eAyn1hWEkj1Lb4+L01jCgDWWIQc8eYfA4GBxxp+Dg2oTTBBbhk+DCYdQi6DBg1k7H2Y+FcJE9Q9FORQxYtgXXR/s0OiH7ePXMn+YZKP0oTJjutAbZiyDL2bem2U2SMIzZQGZHD9Q+fVv3yYQj7Ha7sFeQhi3eiPsVNpoIW/yUHXejpLsM840asGB58TZigrZ4XB41G0DhRmX1A0pwSd8ytNnpJ2IGc4Cel7IxfVn3VPgCz37Aw897EAZRwlZ5hCSNW2xSwWz6iUiHekw7lAJMjKw6Wq/ktmIYe4NorslGIcAXm4SlOUrEJtY10+VeHHcrWFheZlWLO3RAO1vlhDyEARKDkfBXSGDN5gDTz7Jih028Pj0mokE41E6IRtxkW8zARbUoIyQ8dyf6lPXU+NA84mc/IIvh1LoNHFidssfm10Rk1jTbi3k88qJkAWKaE0ZZYaZ3npHSTz8e6mYIxjBa7fuqIJUowrbMWtkGgRX+Kub6UaKHn2BoLbn64vvLWIWcJhkz20410j8AzY3sbggnGRQuw0JShDDIQOhS7WSB4FURKRRYd90knfClvNlkotAnYP1dU2DrKLCtGFZ2umONRtRoRp0U//mg9MIkJQQwDykN9niZNQvzQ9x58q3eug49vkvBxdAZVh47VhIlkbEzbZ+YmEAaQ16Ra02AgjHAkaAgzH9BdH4/J1DXtui+qHObdGU7tDxhMAFf9jLY5K7RQ2yCIbqj1AslkBHUzGmn8H2FVN55+k9PiFIJYslmZx7fRuQQ3JnpGSovE1lNj3XvGYbygqometEwjhCzjUOLTjIppBx/5plXVY/fe/r73B0z8i1++OxzxE4NadJuRHaRieQ0RbExkUK3eE2dWVNgayiwrRjmDA8PTnTaTDkJTF+64d+85m2eM5OtRdhWsq9JtLNRfk3CF5rvnYtzbWN/QCNpRTa+SrqmKTkq4blJ4I199CN/j5kwzzpDAwPwQuxBBL7PcjZsIdR+/r5/+XCWt3AkYK352MQY5zZM3rfmju1MZXwnedvFf9XrkbEYwbshFNzcj/CMKN77vg8B6OgSkdpRJCZJx6hVBQw7Q5LkZEKGEvGaW9mIgvbEOnZiePPFF3guewJZSJraWy8r/fe87wNIbzJtpqAYExMi2yBkmAEZ9aM2VqA6mwxO7gyD/QP1wQ4cCYzpHHoZEYTbnwV+efHFrxsYDKEwdCYfaVcmsT9Qt+pmnrAU2GYMa7e7MKMsxx1/eLzN5HNmO53mutPZA8vuKwKppE7CQ0sPKU+wWfOoOazBgMflp/zuNu2/yeMV7Ofrt++sZ/DsAICfSytm1tnlLWVzFVlcmiEKKy/AINQs3RYaqbSTRo2ZRKdkI5id6fmayrIfpV/AOveXjd8kgRiYt2pkXBwmulkYDblBo3LZCo7pjjeRAOfTtrzu8FHa2YGnE7a/Acc8j11e027ebExzyw6IKwlaXoZ8qPUeZ2acHiafZhD74x1UDxGW4IxVl1qAyb7mlNMH4rc90JV95YQ5fsJ/9B8edqxFOwuEyWsDAZwNB9u4cBZpEscDzA/Yegk9IsSEdHWqKfD7UOB3YBgvr3kbN1StOal5SeWeIPeybkdbD3cTNiiZXrkz2CTLhHnFAESUKRUu3JQLKu1+7PnmSeWUkWbE7yzbtg+wpqqSdCTATQpzanrKHNYeWlZi+AK8QdVrYbZJPS91Xpkp9XCVLBaWt/Rr4xtpwUg/uhb+oxz5pGxInO61Za5SaWpW58yacK6CPlq6PWn419DY59LBjSNk52nJYa0oxOtam4UGAQzSD1qsSki1OzU+9zF7sjCdN+q4Xv/4okZxTpv6t8B0FWflfrL5k8XI7pfk8l6hXo4dPaOzN7pXhxmTjmmLC8xUA1rqWjseI0rxy9amkuYSlee4n8jf4vOjMi0CdCKNOkE3FXJjQELgAcB4NuwtNrdFNVk6m3plhyLHtmVUeSqg5035UGYDNhhk0SldrsHyZ+hkLrDPRL8JXdXr+UZjNPOPADZask9eIx4o8yRlnzziX7MFqTVuqSLTNVM/P7KCTc7pol95MetM8MInBCmOvlSiltmFHPTTk2E7qAdG+bpcybwavVvJMHvPmAoBmbaIekXaiNQb3V8q7NNBz58pbGJHm/tompvM7xHH1Dh17L372O9bv/5+p0XM3rMkk1+vM737YirrPyG2txvXo8rtOlNtg8soqQJfRB41zw3LMinzFJ9VlBJapTPpz2yqrT9qCmwrBezDx1V67Da7ePMcGWPlS4y7gu9hypanWRmVOU8kLl34a+Xsl+lUWBSKtOzkXloGTsJWmVhCPJ8NjOW2xP6T7OFVhb4TaR0R66zNxJUCvNIKJywcRBkh3whKlpiD/QgcRGNDYc9tlGWjKNhWTDM5aigzzaTpUuZWBbxF20MrUhagw0S5W+ZuiO7Cy5M8DpqejweKh06PKbQPgmRMwQUtrPahLZ9YkeygzIXArt5deDTmK0TMKC/gU4FfRUERhyUKQPawkW0fdsVKIvxbGDZ4haNbltHtsBng3oYbJyAqfua7UcVmnoyIRtCtsKllxlXN0gndIEyLTuF22GSUXQNgoERg5nbAgpnii2GhtHUiCCrHdKjksarB3LKKzaVjIJGfakSCYMCiLCk1FV4MQYEGUZPBpukIW4Cyr6b+wBMygEtxGOM0Bgtm1JxCQDR0ls+52fWUOwV5xXYLMV0uZ108fcPJnEl2xtB6OxNI28ov1SLOyhxGz4l2AsdyxIXAOYTiBBcD+NRWuRHuHgyBaY9YNp2BiKy0pxsgv+5/wi9ZTXAMgf7cUXqubrDlT1541Mtt0lMqFxq5BhYESmNbNgqYXjCvYjhQVJVgjUQqzuVQy7bcaDjFqeUZr1tIJ7lQlZP0bPFLN6z3Xtix0UE9cxh3eDj9Vl7EfjAsKZNUaXdW3TXYMndb/RaVdBO5NTpDXaKLnjFRgr5xNqQr3HXGHph5HaOgDVyA5DPlwfFZqEZ5IE5GR8qzzlB30LwlDMfQUPcRCnKPpdOEhpAF2tIxvTK6VrdQhOJD7yfPDC+gW7DZkh57Xjdl+VyqXWmZgDEUzUUpjYQKhSo6E3M7pT2NWnjAcEOplhkPDx36VdriQrqph4Rbqnuv55gnjfkAdLBPKJwBAY0R4e/D/MZDn16nmgJbRYHem7ihLK84DxHP9IasDUc2c+qpDTk8opskvZc80ix2hn1qD0w8aLtVOdZqFIHLwXgjZGOXlLej1SLaFZNceAoTv4LlZRJJ/AiuwXrYysFhifKjrjPueBOV0w6DNAzhoHAIvS16r2Cb4vGhHzV56zAwwcVbjSZ7U7U78mEHK8EnvZFiZW7a7UQBa9oyxy0azTxL13Q765sxfgbYZlL6zVq5VMuNxYDpRidNDNsVyNFGTjwupIhA6ntGDRJziboPH5PPBhwVCZMcsSkfRmw1I0YWpDxEph/2WrEP8UexMfXNJIrAzLR0hgXArpN2x9kxuglXwX+P24MTnLoInxWnxU+dmUOegwgwPLCEdiEGrMfTciWzeJgfJCGr8ITiiAi0BODAR5hwsPu2DBVa5C4GruHDZqiQqyhj8ZVekrhMhBQjc1mOSmmNyCRsXXoGuGVAH8+DmLVN/BKhBCDkAntcyLf0b+yYCpVzlHTAIw3RbSPzcSZ1y9QruxiimDnQW/pG/7QnuN9gPqMKTX9EMw5pTuZE+WKYx4ZwJwXbndIcMwk4KMMxyMRMqHcdLB8Cp922fvOIBHGn00EUYDoQBzE/qVjzAJCAuZYGbq1btKxR65ZNeeylb0CaVJZAURjhMCJuWpdJSjPSrIJ8pjO6+3Re5NGD77LDgzrHp/I5K3wtczZF5yZXvA5FGoVgSCdmaXiJIhpBPeEKHkGzYbqUb72EsK+GATZcW5UHJCP3gs1GU0ADeslipiu91eUpRY1joAIUcLd5VCCtwTP6y1RAcyCBoukzWfrl+LiuME8VopmHhIFlKXqFAboucJVVK6cAN1QLT3kfcNvRfdFjQFVs9U5VnnorSupTL5uOaJ2/qYRVbp1qCmwjBbaoC9qaOjQx11MIgwUj3ISfRZ4OYL+tCH4/wVSySNOWJpKp4lcFQwmT6jZ8me1fItmM3EwsBtFJqQiYNSK35eviQGtju47fxT3MDVkp6wXTukxU8efrzQ2R3ppwCSZ/RMNA/YN2PXejZmtaDrNNug1tkSz1HWtRByOYfkbtWT7ajEcrJ21E85K0XShyaxDHDTMLT+Hk3TSLQr81rUk0AZwsmWBXqdMMGqVfdPIx2L3YH+8iqicWbLppm5hdkWbxzbjh4DPeTVsRlqGe1nRzCsIOeIHF/cT4cyRLHUuEpMaCjQRgdKF2s87KJI1YPy5sqCTBwGobXgKMENsjh8fB/cFK2BHGmxaZXXoiwYNs+CVTZnhZ7ocxGQydU0BNlk5oobFoyIJr3CajHE0vc36JSnBWODumd84zn6YjCGlw8wY79Ihf+wzUhUMypy/xkacNzeZpqGrEk7xpw4jVcebb3BM2wQYlvRB2R9QSOLVTdhkn8wEtdfURZMGePI7oYZs+ykUQB5CC7cGbgdd0ipiVsYgPJdJenlCtAQDQRljbzXAPcXmUfM4WXYSLwGlRKZwShg4cUhwUZAEz+MBoirzbahBThqeReBxFw4+ZmOBjAoPlAqYnVCpxBBozWQGRrJFvw7BEW/2iYikM4cXs+ppSdcHGsB4yK0NlNwcnJxaLtvtk7oCMiZpSgC2KGVwXq5ds5aWI4RRinpJ1eRbYMoIGYnCeqDcVPvtyfumk+bShaZ00YyEGzfFIJ1kn8CIeBB6SZhMVCJORdhDGeLfi4g8gTaRpjFMsD5iTxbx2EBAqhA0RxkBdmUFJl5eTn1TI6AEZgDQOtSSfW8tzUqAxFaKX6Cpct8UjiclTJVmHgLCHiJlWTbeBtpzXAfVLlnckcLlxRnwT3XLwW+8qcwIK83rzHDI1MKTjSYWM3CVtk2tmA7qxdaop8JgpsK0YxsOnN1lSAsnwlYIpLHu1oCrxkR7WH33oomc965BFC5h3O/C9pUudL37uJ0vvHQ2dgQLliTEnwVvgw7zNA1GzmyW8yuiWdpk3+M63njHoOxdf/MWsEbz5LS8adp23v+3yO+9f2xyYyesAO/BC3mXeOt5pkEAzSmbeiDC8h0m3EzLZDsIibUu2SYt580Ze+OyjV64sv/H9K+fPn/nmi8+YMexccP5PH16NFs9nxt2ZGEcjFgVlVpZxxKpk9PN0DBmLqWKVpVnQBB+7sVSemnqDPu1sglfeD4nMhbgjA0TaTSgfNmKAIhKMbJqsJEEuL3PvnFQ/RogBoor27BkjC3bbtdUgZCVb43hjo6P333//+ol22Bwo3Rh/Rppn6ZJYXtBAx9XtdD2EhzDsdMchQHOgiZwG18BzBOYaRCEMmhxES/Fr9LxBUDYkvTBOo2EFDtESIYYyrBYMO5P+UmITSyZQ/Irf5lWXJYBhBKGQBaEtI4tDFFllEEZdZvmsDcgrpt9mRFwKfezzQAYwx90PwE8wHoSBVTG6/feZP62J3qyzfrT92/vWddWJZPbsaYvmzop88MC98677HxwrYHuys45PRG4cMZAyBQVBeinZQBvpAyWMt+JGmk0MNsJ9993bL7K7f3PvOs2Q4KSKaJU7MFM6ZGRLHjqnPOiAA4hvdPutSyfwLUATTZioNIHbcsB9BM8RSRiCtLBIcnrCGdSkNGYG1bt59j5ShOaELRTjYTho30UAGDqIu+6+v8yClFFjIvado445hJK33XYbk5DDDj6Idm695bdFzjArKTPRjMfOvvvtPtBkTgOI8rxl0BnEHW+P3b303olkvCgHowh86jIbkwqP5xPFAFMNGigLoSDY4wM8PF8oxDHBplrEWWWHHHjQsOctW7bstysfchuDADRvRYjHKPOzINRD4KRWTnI9FnqiEmcKxdXmYWL0vEV5gihMi3jV6gVgPOzanmcR2g5F50K7zqvDCnbEZU0wmpEeRe4Ow9BUhQde8iivqRXLqZN6+TPcwyqh9dypsTrVFHhsFHjMTw9yAnyH55zHUf9ROJXuuhe/5Ljzzz9kr32dqKkHmHftwAOcd//zyYcdPOJVazAruZk0Y4YNMeNHIcPm0Uwz88TJUmeUlxpQjXygZRSt0ABKsGT1cNPHi4m3tXJj3uMUCc8bT51xjxhX6Nn9RjtP8fKT6jLtuEkbR4oqICxh95V/fvQpxztN98GoXJ9lY+GA06FLMRNmptBpNxtF68OE1y+TBpJX1hloNjDRVaWkB/hBgJnGyZoNLEwJP3nbE+afkVMiKhBzMlnX9FjqlcqIgOxZpWlYJYLzSVY+9Y6IVOIxOssnjA/xgpl1vvdeM/fba0bsZ0420YgQgTrTh8NDD9lvzqyZWZJXKT1EqEAV6FUJrKEsMD74oRQ9QE4EPAVIogR2InEMtwBKZRIqK8WmK5yGGxVQDf4HY4+CToHkkYVBPhAxNca63mZ2TZ98P8LUAVfFOgJ1PC8inoIfsYwXx5yi2WR6gDymhaoITGadMnDZhI/JGrhRMsyd2Qu3FBBFxRxIV8x9Q2eInBAE6dAAkkbbGJWS5oCHqOxjTUWwFCHRv6H0Gx9o+E1OZAkMFK6YwGxdDzQbK7uJO+4SWyNZD10Q5LFMBhVynsx+HeYdkFbWQIyM4D7Gry7EQbBwg6R0JwSpLoE24OBILirT7YwzAcM9Q9MW3SCJy0C6UXNJw0x9fZ5L9wTP5qGV3hphAojFgDg0zJpJBKD2UCsZGgRcxjnFvY5C+Pmaqlzlu+3QR2k94XlI0ghEElaQtpGOUB24Dg6+7bIcL50Oqs0uj3FQDA839ly4G5RilLhBMC/x8nIA3XqaVEnCkLtd6BE7XsMPkJi7RdlFJOXxjJnGASHcTDN2In2hh0Rqdx18AhkgQpibAj1WtmO0TB/oK9jPiwz6BbJ1M2ZuLXMUYqki8kKoECuwTJhMbHiNk7CJ9hwacj3GMN59aFcmRYeHpOJ9NEp+7h2SO9gGYZmDGkraZ0UanB5pbUb9WVPgsVJgW+Uw2jHIZXgo+kTZ33mdmbmG2f57zzvzWbN5Fb78jesuu+z7sRcfffjBr3rVM1pN5xWv/JPbL/reaEIQWCcIYSVjvtMF0rzMbzaGPTwmUMtUzEBVYeh227DqAvsNxzC7gNcyzR+OUY74iVQyHtM95B4EMBc4iWJEilH4ILpH+Du2kqqciCNOOwMtZsnLAndFZ/3Df/d3i3n9o2wfJx/EnAGAFROjjRCg4t3EpDSUdtNmMB12EPgThTMhIxO8v90eajbQa4Z+042HEtQmwbjjdgZbedXJm1XL94dStwEU86p6kRjhxvdC5OoncUAYIq9zUaV8Dg3Gs0aanpM8+ODaNavHOnk6NDSw58LdsdfNm79w1fidmNw1l2U6jPgRiv8yvR+IWygvYZ60BNTkRRtFFty6EbXa7RTGASWzIsHtO9eUwR2Iog5cjSBhWTIw0EBeK7IJGE6E1KGJNTN6YJsaCF+LuMdNBZqYmCOopFIFonsjLJbhpGDmRLeIBhvAK/ZCjB39oU351pRG6jikNXVRCiVxfnSm3F30Sq1GayCM2tj8QndoAMka7ZmMK+jloN5AM2yPrXe1oQKqKmb6TjPC1Oql4LekTBdkpv/oVBFFEBoCh4iUzDxQ6LnxAOa2DuiI7hFCiTfL+hIh2dAKmIXFMgzcTjYGc8YeB+QNNlspX6g7rdCJkg05Gx6OfKCbtSHBgydHqyH1Uhn53vThAYTcdWsenjk0suvskXsfXi/K6l5hMct5Hmkd4SRAuwjnRsCVpIsrBBpIDHUecxHmHsvvf/ChlWvZEAlQ2WV6Y+GC+TOmT5sxsn50zE/QHqIkD4uys64h5AtAC+kMoS/KgRxVAWuwKm4wdwTdYYPpF0o7CO76adamJ8hBKA46E0kjmib9quuCry5TLyZSiMtMjnAvojgKRMQ4CaOY2WTVQl+BqpMJZafb5vlGFc08BrNAmkpHKqWyrJAyGWDnA/YQsWLZsIF3+diwbBSpUfMn5lPQDIpYp55J+vXpWH/XFHhsFHgMGMaDyFV6ZVDxi/vI+yrp5KvPOef0quNcc9U93/nWDWWxF1Pfny1Z2Rq+85gj9/nqV68ZZRpKbApn7bzZyWv+5gX7L3IonKx3vv3fN3/tuzcODA4OhVgWHKK6l2k3aMxotJjDORg8sgSRK3vBmYc+97kHAIdYxH/2k7Wf/sx3knTEb7Um3BWHHb3n3/zvZ0xvOCDJ7bc77/nwZx2ne+HrX73f3mjynZe8/JizX3LMP//r5/76govwT3zja360dg36/7Xz5rTe8Ffn7TGf19xZu8751mW3X/6jm2DjBJd41/ueOXuu8/Wv3LjX/AXHHzYdw/i11xb/8en/WrYqabTiWfOiv/zLsw5a6EQZ9gbn0i8v/eb3ro28EZkECQKrSBQwz6m3Axiz2NbP1S/UWcHMWdNhSKNr1j60ivVUkRO01oyX/oqJGTPi+x5YkRAFCYeUZHTGoL/bvJkDM1vUi2T2wP0Pr3p4ApgAzg/cd2FrIF/+wNJd587vJOXy+9cs3H0hU4E1a1b6sctmcUD6yofWPbByNHPRnuVFpzvS8nefO39kBC1UlYxXq1Z37n9wXTLhDbWa++2/IPQm2qNrh1ojUXPw5t/+dqy9brfZ03ebswhJLOsk7dHxZSvWrp5Y7yJDxi1jq7cjFVSjEJbIAoZhFwTD0CoxAYdtcRKLH3cXV5+xsenDrZHBgc7q1c0waMVxOoHtB3acwvfgg0k3Q+W7YMFMJjdR2Oq0uw89tHrlylH0XXITLbJdZsW7zZnT8CM0Y2vWP5yl61ykZc8dzyaA4Xm7Du66y8jIwLQsLR9ePbZs2SqcfXDujzS1QRRJUEJPGyr2WDBnZChmr6Eqay5/YPUDK1embGIeNBDgUExzC7mD5kZqdBpbL1mjDpY9hBIGLLEGUBluDaHLfvjB9UPRyODgtGnNgfFEEyNuFwajIsEohRnTw0UIRzzE5WwCNXXTNMKQs7ST+w0gg9lMrrVUmIXXdTq74IDuNBvRqrXraWb3+bN2nzcDSMdLY9W6ibuWrqgqVizIhZJYjwcctAiJzUsIMlLd/pulCOYSFtGUSKwq/DKdPjxt7z32GGhNu+mOpWvWro+CfP6u03dhAtXAxpavHU3uumsllXHvsHbNnT195ozhJo/CxMS9y1bud8CBaCBvvuXXEu6K8ZFpjb0X7SUdddhYcf/D9y9fKSOpUwwP+YsWzh1CKepIbn5o1VruGjMPYA1pGKuZMMyVd5V9QsRDtPpucmLQp3H9XVNgWyiw7Rgm/bUSDIFnkokYMhhotse86fNnO63AuXHxbWU+6Pizx1lzE438+Cd3/OBHvwrDAULKVW77oAN2/Ye3HCVP24T5tdMYdl7+skOazelf/fa3EzQWzLFLp9Fqrk/zDorC2Mlyorz7r/jzc049qSXnJs36nGedPr3pPvv/ffbK8XTVs//0iJe89ABir3KSN2nf/Z1/fvfLL/qHT/G24ICmtwbrNlISCjF5jjmR+MS6I4/e/XUXPDVmnig5wRkecf7s5QcMRK3vfvfmNBmDL3DlC557WIO5eOl0u85RR/jThp938T9+Azb8xgufM2sWywIMeHvOuWcvLJzWN7/9yzieRlClR0iSCnRavBHmjuZveHiYufDqtaMTGL2iQTQ5CD8PrRl9CLaF6Y+YckUbZnLgojlRjCKsiwaKKfKiBXNpfdWqUfRmuLrBhufPmYlgh+YH/Mmz9nDkz54WZ1AqwNW8mjlnaHho+k233Dk0MITlZv9Fu+E4Qwws7mTUCufEyKreyofXdrMxdKJDDfRTzJ197gAhFXabN2fBbrOqrNvtdAaJjCun/5Huveu7SH5F22MaYoaz6ag1hZcGCelKvuCedkqDeXEvxtud4YFyxvDA6tUP4yCKhA1Mgh0RbJUhRH6j1dhvz90AJWJM0gQHu+82C/hZvnINPhNzdp2xYF4D8EE5haA8ffq0gVazwOfGyVH67jZ35vx5Q/iJ5OkYeug5swaZZq1YMZFL9EEELBoSyJK9FsxrNgvMoBh/UJjOmT3Cc/DgqjWs30c7i1rRyB+6TRsnDQLJB+kfUMEeyy8UlgyhGUTdBBMeBlUEn3RkAL/HtZiJGHOOZxMhxRRazLpIkKPtXRBksWBxi+QkyMILI4XmeRedHUg9Y8YM4oBAwE4nweFo/u7z5swZytEQoNrL01nTwc25t4E6uTNj5tBeC+eWaCmlusQnJDzowP1/9es78LXlZ5qi1UyGWu4+C+c1PO+eO387tm4Cc+P8XWfN23WIqV6ChO0Hs6c14n3m333P8nY32WXOTOBNSuOqHBwe/F8HDWHlwwPDKxLAaN6uM/fYYzZyMJTsttfOnTMNlL39zuVxHO65x5xBlq7IPJc342jenNmYHR98eJ3VctMNQ0yIJsKR9DL0J3Umo/6oKfBYKLCtGMZrzB/vMPwTZQRgRLJbiSSwfkweK+7DANDCYwI9QjsrQw/dCBaqVuV1g2Dd3/7FUUHXWX5v+Z73f6qTFM961okveO6Bz3ne7r+4vmqHGRwRk9R4miINYSqAX6APmbtb40+Oa6HdeNe7P/ybu++Zu+vsf3rzxaecMv2//qso14y/+NkHNFNnydWd//zEZ0dmjrz1H88Nh5y99jvwnf98yVve9Jqj9vO/cOmV3/qva+fMn5fi7Kiw2diTkr981VMBs/t/43zow59bOT72/Bee+Zw/3ePM5y9YsuRO5o+YtpkPp2POBz727V/d9cBLX/zc5548e8Fezi4zYtQ0s6bJaPfhD3zy5mtvfvppzz33vFNPOm32d67w16eFFzWk6jRJiEX/JZH1DgB9FCwkITF2LG2mxYvsj7fTAm/10OlkHbkrglXSkTKPZzVdd6+9F+H/Mjo6duvS+7tpsdvsXRfuRpq7bnxsrJ3iuhAErbE1nbvuvRvToGJH4HBXiY/cec+Dazrju8wemb/r3KHBoZnDrXV5d88F+6DO6vx/9t4DzK6q6v+/vcy90zItmSSTQoiAiNLFVwRF0gDpSLUAQiB0kOKLiqiIIsFItbygCIjSO1L0tSOI6GsoARLSJm1KZubO7e3/+a5972RSTULw+f0fc3Jz59xz9tln77XXXn2vncq/9tZ8vGHNI0eNGzNu9JiR/QO92UwGqxL2rVw++Nbr76C8eL2xxob2bDK/dHHnQKJ/RH38fRPGxWsj4VB/LpMh1ITgUpGiDUnSkECj8gYLBBMaxZVyOTGYydTl6+viQV+xub4RTXl170B8dKxAbieMgKXshPHvgxul+pJz33iHAWtqjo/vaB83tmmgvwdb67im+mABypt/7Y13sE62jW2M1BCVgx8yEw76xrSOwLQ479W3MokcEfM77rLTyJH1nZ3LMDoTuQJU8dLBPyIsDfQEFry5cGBgsKWppa29o6m5bkV3FwwM+ymGSfy4Ys1O5FAPGFNHeE2r9ONhTAfDtWg7mPLaRjQRZYQpmOWDXasHxtXWtbc1rFy11BuoQc0gtKWED7LK6WkDJk38bQQOEQ6ob1yqWMpLqXEdI0aPaS7IFVUiHgYmMjCQSyRIieOLN2DiLi16e1E+MdhQF5u0Q0ct0ghO0nK+vVkKU+eq1OJFS7Eev2+X9weikUi8LptEpy1jKg+GirvsNJplnCuXdnX39SvLtLcEj8RoOG/BYoSe5vrYDh0TGuUN9uKaG9U2EhU0mczMfWsJsBrbDmxqtVRNAaD50e3NeH7fefudgYEBRJqdd5zc2BCDSSPRRoPokeUFb77T29s3sn1Mc0t7W9O43l4UtjySBPEj/MdkA+OXXXH7sR0C2wgCW8rDeK1kJ3QXvojrAHcVnCdKLZ2GAGm84rgd2F6EtBQ4kZjBUFms5xDthhYFlGOa++FNt/f3hfO+8GNP/+Uj++8yvsWzx4cm/fafryKhmfoBw1KNrM6CiteNIHgYhuj58pfPw0/FFJAHKe3Z57/2fOGFF+UjK3ieeOR/C8URnb2lM869V0EH6DCBepzZpRzOdfxItflSjOCEhrhnMD04ZmxbLErkiOe2W3450Md6mtb7H3h+/wM+39Lg2XPvXZ99djnuED5PPv73197o7PfFX5j79vSPt0YCnmC4tGzliv5eT1OL57zzT1/wZt+fX3jxnItmJ/pZGdAsw1cmg/3HHeJVax/uikUNIIvCShXsjNktFIoUWNyGn5zofCkwrDtViAP/6qJh7G+I2IsWdiLH469auaqvpakpHi7Xj6jpzfVi1sWNBqVLEV4O20PAJzrcm+3p6Umk8BaFl6zqaRvVnk0l62IhXCtRFpUWiwsWLMwCFm9oRXdiRFO6zucf0RAf6OonuT4B8709fYMZaayoDq/OfT1QyjQ11naM36GlqQFWgfajiG7ahxrH0j/GqdJRqLwZEq3XMGlCa1QOdyNoQrflP8F1Qv6OXDyUq68nHRdaURlbltYnEWDvLRG+KItfwbd40Uo8OIT6r1rVPaqtCR2ivi6U70Vp8NSEwn977S2vN55KZVf1DDQ2NhJXQvxkANehdBvv5B3fH/Hj5cKJplwQra0tXd3LiSYnSpM4l8RgigX0uJTGdkzOZ7Ndq5bNe/PVVKGEf8fnYaFEMJ9l3QQ6k2NaQ0OoddsMlnOS+v3hHFFB+Xx9PNRQj+5W6OvvwqTeO9jXlK1viATrYsEudiUgnYeCy0Fm+ZgYWQOI1lShJzGaegd2AsIFsbXhZgIQRJSw7iFX7lvd39WVxPrIr7lz54ZDBPH6x4+b1NZcXyj1w+0V91j21MYjiYG+nlWrCbFJ5j3/eO1tOo7qpoh5NCmMq6Nbc4VsMtG3fFUXdgK/No4pvPLKyzVRf6g+3jFux5GNsXKOYFTyP6VrYvh3Wf1e6u7qI9dKIpkH/iPiMV7GxZoa0gsQ8hSYtMNOrDDDSUegEZO9Jh7r7e/P5LVV3sSJk1pbUl29PW+88Ro4ViRND8mmcqCNZDscgXI0CmOwtUJFgCmf7cd2CGw9BLaCh+EtQEBFRyDqWqs8iricmY7ekPncPaNGNy9Z3U+wH4kAsMsTbZvK9EVDEYTN5pF1sQa5JBRbF6pHD8PA2N3n6WjyTJ6w48tvLIL++3OeCHZAmA8rfmpZQOQZPX4saI/oCoOEOcEaFFEV8PTlAzVNrbFa2fQyqUQ2X0qVIgS51xC8kB0sBdKrE+J2USIHgqEEQRAoOvBInNpNIwjZw9mGQx0y743GsZas6OxrrW8YPaqFAAbEbtzRwRAZPQLFSCDNlONKRp4zsv/dcN3zXzjjoEnjPG2jG074/JRPnzLlpd+vuvXWB/CsxAkXUwi4GukO8a3qJOUcUs5BfdACdq5BUkZfIdZZwY/AE0ZWLEXKUXgBAdSsGQqLqMslSAsyiqPA2MZavHw06AnEiBbIsVSJcPcBcsL74kSD4YaC90AbBtLJNOu/sdX6QslksSEah0eyaLukVeTER6ACRqFWmXwSWsKJdn1EFtGKB+LQkt4gpaCypdbmxslj27FxEeaYYmNP1nQTtA8PIOgD0TqbAiLWU0OKSqdF64kqoaPUTP/pDXohjkxCC7KFYu/q1c11IRSscMSbTMFTUlqPhoIMXODCoVgpy3ojMr/gwiNcKNI/mAw31MXrY4k01tQC66XwpBD2EwzH8kV0R+LvGcxyTSxOB8RbQQBsX8TgEKVK9iiCVvz40gg7ryHuEhvka2/On7zjhJpAXSQaGTc+BHle1ZeYv7ATiYK1z3WxKGbeSqeqf/RbxBe+zssl47A2AlRrbIx4ff2sXtxltw5MwYRQEjpYHERiiK0Gy0kvkmMZBm8nyYV2fJbi7SUWn2B0gjxQaYhjYjVELW1csqRvxYo+bzCcyRVIy4KujmIHY4vU+lraaltbcN/5wizGzKICglVCG7pK6CY4gvDHSmikRQZYuo6Q0HFOVoghGwGicsOI+nQ3DDyFXX18R8vokW1o/4gjxJgQKaltrJVGgFXfrLdGKkoUC7WsrGaHFCpCEoEhS4MlFIoVGqARwSchnHhsiVcIhKLE/S5ctLRjdDPOzmA4N3FSG3EyPX3Z1996JxyuxRlImKTBEmxB1nXTA9Srntq97V/bIbAVENhSHmbCKWqSsE+SKeQSeYqTlauSb77ladnVs9+Be/7xlV9GQyPw0xezyZ0njT/xxCl33/nym2/N7enJp/MeYscIzM13dbOsMuBNjWyWzrWIpUEDpFGQuY9ZR1Q3ZCSXRnxlWiliKpXy/PeXrkhkWPsSziezhXysHJo0pr1tIOWJEQwRyNTGcHCwy2KokEgS/ksm/ShRIVoCk2JZV6yuGeggphPTtmLFskxOT3n9mVCQuiH26R0nNDDxVy1bRrAKtAomRzw/PJMQA6Y5844YcnZzZCPH5cuWfe2rN49pC+y086jd99llrz0m7bN361//8oEX/75Cy4wc9Rs2FKZ+OULv9FWRF6BH2cHBVG1DFKdOT2IVYe41ITYUzdbH6saNm7BgyfL+JNwqT9h8hPVT8K2aGEHyCnBHfC8HEokk4EfRYDkzHE4xZWUoO9Sft/hq4/X+BI2Ft5EQCdmgJMVI2hMOTHoXyGNJJPk67iDlKCqmB5Piax4tH6ZhZK/oS6bxtYwb287Sgr6enqXd3Xhbdp44Dq+W4sltmRELrM3O5nprepidonzwl+pgLmWaZk1S5CFRo55QOpvFMhVm/TlWXe3LgpBfSqH5Ef6gJhL6783kUxDMXBG+nGuorYP69ycSRGMyFCGSrJBQGTs1GS7oLQGHWCGJvM8TgBjLpQfmvf5aNgWbJfRQgXGExtB3VlDhW5KiTwrmdGLuq6/X+KP1dbUjmnA81bS2jBxIFpYt68V6VtRSiuHqgSmXQgo7YBHs4gizAvfLxbr6GgXIo4Ip4YtSr6VyuZjf39zc/E7vCqLMYVBEs6AFIrUwU2CABJtnCmSRRLLCrcV6fxxksAmgQAR8mFBQwm7JNyWdFlHBx7bp3rbWEcgY3Z0relf0gAwTdmjBbs2G4KwXdEBmLQMBJCyPxMtG2jU4nBZQahUEEPYsmL+wY8KOY8eOW7X6NV7f0Fg3dlQbeL5i+dKerm7CpHbZ8X3JDNGt4SSZBVD9SnmCbhKDrJ+LoCCiPZLZhpV0LL0AN1BeF8yfn81706nBMJmkfMFMuZGmYuF4a8FbLGBsbKyNZWpGNDU3Nde2DTT3rh6EXfO6yhwAipxWfoAzMp5uP7ZDYKshUJ2Zm1+B9mllrYkWy3KYpZtA3GgpX/f6G92lsGeXvZpmHLl3ybPY513ysQ+PvOLsD79/jOeSU/es9wVXryDKzAPZO/WsY1uaBupCi4+dsVdbo3wFf3jhn6EYye9ZyOMJRBXqDWoTWBHyRl7/+8J80lMT9Ew/+JO44fbabbe7777+rjuvntjaumrpMha2EtB33Ken1ga7xjenvnXFjAd+dvT5Zx7GIlGt8vF7cJn4/IPFVHeUjIEeLJm+AaK+MsiVnvMvOD4aW+b3vnnM4XtCDQlwfunPf1aiQCyQxIcpg2IwHokRSAWBxV8VDEfe/4GJP7rjlLvunDWxo+WF37/4i7seTg6wWoBUF2WSiaBQDaPpQzClfzAyKWFcgozSOSgpJ729vdh5Ghprxoysj/oI4Oga2RTeYVIrObkmTxqlYOhMfzo3SLDDhEkd5ULCX0q3NUabamvRINOD5agvFiSkHDaGSlbOx8KsyvMHsaSWI60jWppqkf8zY5trYRbIyytWdfcPwBHxugfGtjeHPINR38CoBm99CDdHDvoe9rKiO0TMd5DMiulyfaSW+DqCTIrp1MrOpaVMpqW+kZxhiuLH+lcoYkYMUVlF46z8oYNSWoECnBaBn4VCDIN4mJ91a3xCwdhAIrs6CZPBEhbo7V0NZ6JAOErqyHImi/44UPCmJ+00Ku9b5fF2t7fGZWAt+3v78YIRPY7dq9Da1sj6PxZjTWyvC5aTXjQJf6C/L5VJa/FyQ32M8O66eGSPD+2+2wc+FIvECLtA+iDVGY2C6+y15x777L17NOrt6V2+YMECxJNUEhOsV2EUsFNULdMqwW1ZRyuHTvgPXqZR+QvkUfNFgqH62oZcNvjmvK4X/rzgpZeW/PXlRa+/saLsrY3G6pRVE01bslBKGUjYx6CEKk1mJtKeSHZEx6LLwgtCLvGMkUgMrojh3VfOYQUnntGTweNMMhSWnCT7Bvq6e9ArRzQ2o/ew2TT6bTqXxMPnD5Tax9R6Pb01gcEPvq99z/dP2GFMGxVEEEjQ0XtYqlDC3QmbHdM6EksFzjaWmpUyg30rl3qyidYRjVhZWTWHLOcvR3xFXzwSbhtR1xApRT3J0SMbWXTAygEQN5NidQbZYYKRkLdYSI0a1QKE99p9r3i8hsiOPXffdc/dd6uJ1S1b3rN48QpctejrYtwYitdbgwEXG8bTqjDe/nc7BLYcAluhhykNKlF1ms7YRfSRHEoQxNO/+ktj4x6HTR911HF7HXPsXtxinWttjb7vuuOPJJMrBGp+/KO//vcle3VMrJ19wwU8rkyEPs/P7nytezV+DvY1VvQS9hhy0xAWDwdKDPh6spkX/tJ/6Cfrp0496JMHH4SYiaHvj39ZuWIZURShXz709899/kMf3L1tnz3OF0lARSx5HnjgvpC/ZvnycmZH794f2+22/Xa7/8FXEIKhQax+yRdCN3z/0au++qmmds9NP7wE5pTJsvzXc9fd/1zZSxgkS3clhvv8tazLImainCPFlMqw+fKK7sVvv7XfzpM8M886qlw8Skn5y57OlZ433l7uC8bwAhIzNzQKxrYqxN2ZEE1CBmT8U9KhgUSqqx8iUj+ydVRbS6u2GYN/YlAsF99ZRARHDu9FZ1dvJDISEr/PHrujORG/BilZsap/sF/0Vmtz2AonhyxPo8mQC6HFBoi3Ijhu3JgdSeGBKuD1LV7WlS0H43V18xes+MAOY+K19bt+kLC0chjahbixvKu3P1MmdQWZ/IiNlIYdJu4jlURb8Icjsd0+uAeaQS6Xi7KiuOSL1detHoD1kN9S/GnNAYjdQSSiND7SQWi9MCCgHoSTUDCaSZO1iP1KsO6FIL/ZLF2sU8LKPMUg5SXcNoRoh2LRPffcHbrpLdD80KLOVYgR0MRly7t3njw6HvDvums92hdBhsASKsmiXYIEu3sHRzWHO8bt0DEWHyJmQx/uHAJh8NxA9LGgwjYGenub2xT/PmHiRCL3MOfiJsOUgBmAJFEuvyRGxTWHOkU7FGUIWqCIwCbJhkWeqtpYPSu+WBaVSuLarCUmEB6MY20wXYpE/U3NI1Z2r4SGo2yxBhg9jLhbWqXFaFhMWcFNy7E9k0gXeUoMkp6y5g0tWxZd2oC7ES1cnJlFfjUNO+0ygn24CHvBckAqr1CkBjfqkqW9Eye2NzS37NnaLANvFo3U39PVBUyymWIDwR1ZlFofQ1w3orm5pW3Ril5sjsw6lNmddtolFI7mBlFpfaFYLQ7jXLmwdNmScHttfUPsg7s1YlcYzCeQuIpZRYiw6213z0BsVP1OO+2UyODh1ta3K1auTiRYNOnt70+MaIyOn7AjTjuzIfvScG/WOxAdhDNMubs4wAUTEOwHUEWuq4pBdmn713YIbCEEhk/WzXrUaWAQT7zwzDbSxEMqsBMEg9FsPnLPL1/5zuy5894Wm8FeB6F65VXP16797SuvdZe8IwjzfuXl5TfPef2ttz14eLJEBq7w/OiO159+9tXEYB0RuSA0XG0wVZ8u1qGQpdFugu2pYu3t9zxx9/3v8BPaj3T/+HMDN/7w2bS3sewf+fxvll5//T9SBbKueoohz6vzPd/4zh9W9kSKhYYnnnrh1cWelDm30kmJ1xiuAqGmXKFh3oLCtTf8Y95iT3/e05/1dA96fnTXwvse+3shPCrrH0HKLMz96Sy2mfpQrq7O1wpnQZQs+8P9Ce911z30lxc92lcmIo779zc8X7/2mZ4B1h0T76ZFP5qn6x0QWjMqiuJKfTW6DrN8c+Gq1+evHEjgwIlD2fHa9aby85Ys7xkk1V08W4519mTmLepJ5YKIAmFS7Gd9y1cOLO1KFwMx2C0xXwQjeIK1odgI5SDB+uQvDeazS7tWdg90ZaB1Hj9k663OrpSvpj/lX91fmrdwxQDEieQO3kDPoOftpYl3unBAxYM1dUT6FUIhhH8iLIM1DV2JzJsLVwyi/XgifWnvws6eRLY8yCqhaITAfXKMSZKRYCDa7k6s60Iq9DCnemLxQ3hA70TdggkFaXPJu6onWfLU5vOxZJINASK4lvzeuLccJ46gpzs7f8GqxIAHa6Kv3JAt1rzxzqp3lvWV/DGcmcRqvzl/2WAG9liXSPuXLB8sFGM4TnEV4oBbtLizc0VCoQTlYCpfXtbTt3R5b7aE3bIO+yDaNXzaG4zMe3tJ70C2FIjgPcItubp/8J+vvoEpMsCSOhJ1pilYOeiJaWPV33RSBlKWW7BEPdjS2ExkPMmrtBkmKWPgdOhUfn9fEqNvoLGuKehldUa8WFS/cECSfRcXFwo/NWCMJNCJaEMArYRp/jCyBzY3JgapS8LoLtwuSm/rH8gsWdaTL5G5P0yr5y/pSqUxksaCUVbc+3sSwVfnDySK0WQxnMiUBjK5V99a0EeMio9kpbVJ0oKRJzMcTHhKC1auwjjIYq/V/f3vLO0aLLIBQ0NXqrSga7A3j6XCV9PUwAqxnv5Vnd3LBvLJnL84mMssWb4S6YF94Ii5LZRDi5Z1v7NoJeFCvmAcoyOiz7IVq5lV7OU+f/EyhhX27PfHCCsZ6M++8doiNj0F6KyxVgAHh/DE2JigyK0tpj9rRmL72XYIGAS8h11+3Q3fvCS/or8lHtaaKnZSIY5Cgieys5EnIZ2uGA4iOyJXEwTNoqIwzq1zzr8tU2rPe+sJQFIMQBlnBgpXdySQwX+UJQDb38g09pDRwhfN4XxhqVC5z8vHl0CO9hWj5WKskK9j2hZ8/ZgrQqywCQTSrHTG25HHqxHOWiqdmnKyhsAHHGoEAESa07mwSB6mFpZwegdqPD2lYj880+fHIxLxBmoJDcl5cPivphlRD+nd0gE/iXBi+WyLJ1Cf1j6H2dpgqliEmLLfBOlTG0qFqPb4yCWCwX68cb5iAxmH2a8SQ04wsFjboZVaCIcj42+Q5CCh7my+j8gUOLevRKRyDRK3zzcQ8S++9caZWmHmTwMNsS7Z1lBDvBl0E1/sG9feWPbXuwzGmFPYQISuYoIE8jnYuhIoKVk4HNJH0AeMr5RTlEYhG9RmKGx+UYQks2wXFxFLyxFv4VraURMVjIXH3sxuu+5IdP0KnH6rVkKgy0XtEWMxBWh+0OgioS30mrAFNBe4H0ko/aFa6G82NxDGyqXsFbQ2ruCIAJZH8hGLpqM84UokJgPfEkmOlPwdHSvXf/UVZ6DHytmhtavEeXAQnQElD6ZygW9/945MIUzkJahAWJ1y0RMQyn4CxSRpPkjMQiQCsavAFhsdvjHWEaJAQLtJqEFkBawCGQk9CdDLJsUP9BkSGik9L0GOiAPE37G0GtZDgANLBEHWPBBTbILPRxIu1MpAsCZLBrKw9FEyD5MoGBNXPpvA/sXyYoJjxH5Z/qGABjxx4GTfZZeexZbO0g3tAPpiyvirPGHiNa/+1m3wJAaA1JXYVENwZQ/Li5WzAmNcMZsl5BV1lXgdGkiuDhRldqtR0wuJUIjEuCF0s7w37yc5Naw3mwoHwUxSDNI22DaLjnPkucQ8AAPj/dZVhEUmBJZSoidw9coerTwnoZj8iSwt8KbwmZJWBmxj3NBcifLExI+nFH8bwhXSjBkMtV4DTPNqbz9CY8mvATctRjBCy1WKISO5226T4pFyKpF4a/5iJNGGEc3jx08sZkqvvfpWzoOgRjKONDEazvlXwrZLW9kYD7QkURZas9Z0YxBVzjCEFVrC+4rFNAumr7x8FhiLUodf2jnRGVN5cQ1pHKi3+bdmH7EqRsmq1kvmY4Wyude5BlTvDm+CK7Y+o13/uiszvNqhp4ZfHF75Fp0PtXmoNlf/8LcwR6gTz+O6NWt22sWhWxvqrJ41yKx5hSsvy5sI1LrVDv89dHcjNQ8vu6lz97j2KZK+To9kWxMum7ysdOuEJpDY0Bt44JGnnn757a7YZAnSGzyM+EppgEZwEIzMozIPkSmA2RjIk1ugHGQq8hJ7AfSE22gBBQhlK/l7iBkmQgM3Ndk28DdThyKfxQphFcwv84OViR3XFkpympTqvZ7aovaUwkWtDiDp4zovkLSW5WXlGNvsQmGYoGT6JtyO0Hy6pwlZjqbLbR5Pm+YRoW/qJEhLqGSc1ELUS2ga0nOhlIH/FfzQa1gMWYzI445QHENGJGIMExGEnpAx5aCDj0MwcAeQdQPXBa8ujmVxFzxAoKQBpRBp0D3edsLiGHg2GOM6kABaEFE6x6wlQVYOGoocjOuGpVdscCYXEdMWasSXIhkUQEE2C0aG56DOsGRApEBsDm0ARm1EgStwQxKAcIsgcjbOwryDJldQklbVKeOkMiRBJfkB34WfELsWBoJYBRWRIghwC0cmb6ApcTNfCU14GSZKaiZpBgFnhIPybkgfvIOuqD1yIwJFKiCTCtElMGSqZa0Vahv4Y956YRiggJhrjCmeLWUCoTq9DA0MLSkQyRCK7Y9QDzV4vDFGmDfxEFK+9kcDjbDsSdHmOiSclJRww4jyRqiVcrxBj8AHhTzYdEL3oQT/hU2uhXwLJoT1MwIwUv0W6feHy0hE/BD55xIuTPR+6iWQD1wi1BPoERWSQ5XFhsDLiIRloGTedIdGh58YW7VKnjA+bMuszFPC6xIAB7vVHJxqZPkn5JCgTHbwosEMBeReFnN9x9GLmUu8WMICLAKRQrvRKLOlBDKcsTDkkBnpYargpB2MixR32DzX0Ni4yE9yuIA7wgSGOYg31quE+tTDTJT2CAxZlsxoKaCXhxkZzQudC9upA0QSB2SKYVehoUlWsfT2DMbaG+N1je/fNcpPkpOCil0DvQwteEJ2FgKRhZeEXAnC7NDNgANE3kqwpZRuXoXoIbLAwIBI2llNNIk2MZ8RYfADgvoFNYunTDZWu9/VMUSpaC5c2WaW9R1IC0s0MUBGk8RpC29lLlg31DDxOUaAmaiR1wlf9MSK6woIL6iDEnxTmC8NrtEf61n1KdXAXd1SLbxV5R3C4gB2+K1r6xyu2VBYLNXAmZ/0iI4wWFQjTqxnUSGEa5zz3yh71SFNGTzVNFsUUiKU6jfqT8utQTyoIdE8YpJphqtItbWuNrop6YgnoSmUJM0LL9JeQZB8dZanrGbXHjWk0kU3BfnJbdda9w2SuWgylXQ9sq7RUz28LY6N8jDgSBwZrwCO2PGRwQrYT4kAAEAASURBVOkXPg1mC+YYUtwyc2S+h9Ryx0beOgcUWaejfXthWQIfc1WNdy9ikiIUwRX4AC+GGeov8qrpZdgDeRExoC4WBDtBGFsEU6JMXifeDoPiCeqhacI8m+4k7caIx1WIFrVgt+c25gvmEIK1JFNATFg8Y1xUpgleR9dUCeUQlJlvtMsIIhSBBqNlgtKKduM1NMlTZqtD618F6FCOmLWBi0wVPmoQB5WyU1M8jKeHFdvaAgY3ktwDgAuujktGmzyh6BDdr3SMChwRveNRo7hqnP4DdoZZsR+oQsrOgJGP1TnASYUBnF5GxiP9UhvALy5jmMLtAuZrv0ky5OlZqDCAUmnBTme8qPIuXXVv1N/qdZt6jKl5axhzDZq+rWTl/VyhdRBIDa6rU+ivR/UFacUdgtJGBltVHYiEBgn2J5+lCnNYA+zURm1Ye3RRLTGYWNk1Lazcqlyt/lmrJKKSe4MjOq6MoVa1OH9ptbBMhw/qbwKsqLhyEwM1m2Xqhr2ZPtIe/aIc6IzOZCnnQyijqFtS4MAvVEkqEzJTOaMENor/CRb2HpvShGXqoCYrZsjDL2wYKgSyCaVdERVYc1Dn0I9h19WoYWO6pkylOLyCx7hceabSCa7pXUIZnXCwogSvL0wo291FihNfS1NdMFSDmIUYtGJVV+ey7ky2GGKhTAkNTBmVbdCZ3XpWtfIWtorVmeQhSR5WsxFyCmgSMqO0UASsJwRTmjrIibilZ9/9wXyhEmpjLJg4LN1TiCnzRcICiAozoFW6T2uY7bTUNdqGjPHi0CzSbVXEf2DmUMmA54rrIpPdykAO1V/O+RgYIQKqhp8alMpNznVRf6xiq0HvWOsQvdXkEN+i/UNszGpz81cVVuukejfuXGEchZh6i73BbuhMDTPJWm9Xz+23NVcjZYSDmapWqyxfVoWdMIJK8W01GqbA0iolHACtdvcO9+3eaNVYffYelWIsVG/1gEkj09NZPbYtjo3yMDAgm89gYopGo6xMovm8VTSLoC08DMFgJBBGFAXHCYfDJUBQhOBbmRu0j8kMVtFfyTtuENQrKkJkBZw64w7wg8DohBtCGaP1/HW3wEFAx0c6B2Ul2ekW44YpSic8JK7DExKxbc5QKbWoZkm8FEctEaHXGDh6LClbp+KH6pkayNDDZhhTOsV/K6wCXKQNhpR86RWOylAnCE81+qhZaiZ9YjcXBT2ymQs8K5NJkDWBmAJuoT1FFWKGaOUbSCXZqIL1T5JH3ExR3WsOOqWIA7IhZTQbASfOE+Y8S3bUKAqqSRz2OJhq9JUt0+bOfUMkFX3L9rQyyKjfW3ToFXRlzbf6KRAIaBqP6jekCW2CcHtJiFineIZi+pTYWS3Kzm4h7LqEf6Qz7JbCzIS4Vxq+RQ3a7MIOKCq+FlSHQ8ANX6VgXiEHxGV4yPwOSjO26OuIKxVC5QQXxw6FFahK6JGqjemgreYYenan00JH6zgQq/wFVvYKICW4aOm2QdBQqXrLMRcnKplEjK7kMHyzO7xlBcES8Rg1Si9yH1UhWgY+l4qpwXxnNrFy+QC4x+CykgEujV5JQCmePEzb4AVGU+zk1h89ah/3i4LMC0BQGWRNQ5XUptvMLIkLRfJAYszAdo1WR4iKCZxqwrs6wErtfMZ8YQc1SzQAsknjR1NkLoiH8o0pRV3mijXaScusGQQgYl78tlGgJW4UICwcQhiTcbm7BmJc5654tuiPQGrPUtiJR4Iz00CcwrAIIcbKVyrU3WEHoBii9ZwzhSH01iOrUE+i0apmtVFz02ia8A0KBunCKm+9IuaKX3qviqrZxqs0PfmJwEgVNNEuqmN2qOW6jtyvLtFUeBh/2LTWopFUSFq7XqeWuAcNGpQZqkbF+OFgZe9RZWIc7NGKCYJb5XK1X7R/2xwb5WGgAtF4jAsTFSs88in8jKwHASm7mN20Y6LiCr0e0tUEgq0sYTWhjy6gtbjhlFkJfxUtlZFKaKEOYrowGAA1wERPxdBseK08sDdoUpi1lgKldA14jJR9Kgf42J8AnFiWoZfpSYAXpGFCsEeLNn3G5QBeCjGtugpYQWXNXh6jMioHrBRFmpYzwFR+lEqxRcpoDLlhY2ncldGiuCGCWiKxxoRr1w4yq2JugZYx4QUDqV++POmLUGHpL4NHCCHjCEi5FY3WcB2CLyPPhg6aSXYDCrOrB84k0JpzVnOhxg0rXj03Eyt4Gw6jj4KJECOmFu4jRfA7KA17alOnbu4yvjoZ/k21Bm2b1lpJa9WibjtF2+oEVhpJrFOYm2xXSw2phBjt6snaZKrUaP97jkpXNvmyEkllsvkULis+bGyKG4eNHxkTogJBYves/WUagsqIcQghWEexh+VI7QiTxtlG/g+CigCXgLTmUE+rEo/BziqSYdd+cdMpK2ueMEKz5uc2PxOJEsqrXfq2OahLMurBAIipoi9wM+IetaQwGGXRN0GubLaOA5L8kkq0EkRX0JaYdliF7tT6zvDbFDO5tNLNSknZZgj39wRTmSQLOMLRkJQ/lLoKmCu1bN0fqBPEUXOEoCQ20oNGgXXsaSRCXJF8IfZOkiAVs+s+xIRBoytclzotlLdpzjWmpgOXGmQQU0Hr9rDrlHfNh62YSkRhPWg8RE9aha5WTRrONng4xctxMmgFVJeO0ClMArTNpptM4yCMnNx4P9xrmfP0TjDnteqUs2ZVuYtepcetnxSTLdE6KDhQBbdAxootxzpOr3mb5jRzAFpHJm6zyestepFotvogOAx/i95kBzesgFFQzsU1bIsDGwTGhU6JNv4b9DATM0U6OWgEzWOIg1G25CAIAAzG5UDOOeL3csEoRnN+MYRCaARZ2APn5gm3sTe4GB7oPnCojiQUDnjoKcfedS4jlb2NgWG8IP2S+zkztDCmYQ4AmIvpUQIodF1OMERkGCQSCmoJA2BlbaxN9rQHgLse4EVwO4nUdAsGJnkYm5AYm+G8eUGcDCW50o2WMMHO+bZ+qQUMq3qjkDLs/uAQPJFusXkJWz3xEolJSFV0gq2icZJRlSLaM/j0gJheDmUXQqxzAHYgAVnJZFNAHolYNRCKvt7YC1o2OgjRvEvis1gyl/VWY+3r1L2pn+rtRg91f/gBqM0DkqtMavdHA6wPrIxVzWoKVyQOsiuZ0kYMTe/hVW37c0Fg7aPSSutF9S4L2FhpjASW02ZoaB3+Yi4N46eQEEWP6KPpaqIPCMNS9xDJRIrldCbB0IQIuWETE8YdfAS76KzO+UZGMUBg+zZHnrUGZNMUEB4KtwGMUMjeIrHDYZOVfA++nMhsL7eW8QpTF/hLT6BRLGEmgBdqRQgKuUplhiHIEI4mCk/rFPQvOsiYMqLMNQdkA5Wb5qRBVv2OATCZIAXQXt7CNCCeM8WOMWR6JqtZBbHlwt0A/m9p5x1xBPlprJsjNBhaCWXXHJB2AkNgXHkXgopVr1aDjKaCyFthEq/G2u7qmxJMYPnSKkfloq7TNfc4w22zBrcKDwi7HLHSmSlPpqJTh+iM3mll9HfYwXxn2roLtJyfcGL2nSDAh8nDw3qlGo8zVuDlRegRJK2tIDUoZbVjhmQsuadHdEVdBtesnyhh4Jiomftpxeg+7XZ2qwou8pwEEaa33cLVLuSXe56y6oU7hk6qF6p/HZpZN12/jBkDBtl4IUpusKql3+3fjephwJG6eRkSgS3dRTTDKVNmjQ/2Wlb1o0mk0toMzFvuIuMEzgGpLDoYCU4MaQyK4t26orsVZ+PQKJrkrmcq4jnQlIwvtJbQJKTgHGAhIsr8Z341RoIwLdkJxa8AL6dwHYqSMrBAaibGBh1EaiLMSZwEtYzH1QBahEChArrI4PDYABXjeaYVOMd5ucQ0WI/EHz2rZlvjHU6oFpXURUV8qAYag4mfWICEp9xHFkAwS0nwlHNEwQIYasAAhFD8YaQhTGX72OqMHKnScYm2M4Rb5xv8pAH4Ztx17F1QWVJNggF6/1qHrrCW2PZUxNJI5KcyK8GUeTt/RVJENdX3zfi2XjIjNlxekByqx+/NyImkRlmrKt+8TiSPVO5+UlsR507QHfMTV3+GfdiItdmi9mxOmytlhkGFRjHhbKyGrmoo3bwzYmEjS7Ci7hPTwW7RuGAL7MtFcB19VEeFC+oU6KKDi9qUjgxleUY5oh2y8BZrPwUO0Q5i5PVaUR33CsMcgYdxtCtqk0iRikknlR3bboGSTn6ojPhwOG+rc3utwCJ2zKGh5tC5qAzMyYXByI6AM1/6Vp5VJuS1IrwQD4AsVipGKfouwseT9MsmuM1YaKvkda5Qqc1feBizkowhhC4WaiKs+iaVjDKC5iVuAmBB7N0fYle0RWKhaCUn0CsJcRpE/dMl3uRw136qODDnsmyLVoBLuqia1nxUB/RJg1ZBBlEDUR+uWN32BlVkj5t3SiVVkf64M6uQawDG3qC3rDlos2PAGEKdmiJvDov7ZKahBj3jOiDRlCHQKDIAnNJ01WOvca0CX9DJuAJO2qPWCJVRF6rd4FE9Ze2xN+B70TWpZbyKL/6A87xKGE5JBlTXGFlVa/XZn/W+3F1ddiI1J45D0014iobG+Mt6D27NhY3G1oNxWmJZLD788MOkd8KWSEJP00yQobynnX7KT+78aU4tieHygGQKld3EoLfGA+yK2mT6EH/VscqsEVcwwANRHhNH4S8H2GdCh1Ef0EY2QwGskl9YUf5WlOJWlSoBXbjO64065OFhFEkTLq+Aa+aP+BD81fLdMDUh8aIdtIr9g3lcZ/ot6sykFHPSsEF1GGL+qgxDKcYwjMrgArLysAjNaLgdjJSJ6tNGhANeb1o7MxEsjublY5fhLG1krrMMiJCwIlPYF2Rzplg8SkwA9dCBdb4R2iD3CKt8f+Ezn73tjtsBhswLFulOk3RYC90psexgBijCVlk0UzHQDI6WGAsa69e/eVfUx02UlNCgZX4A2IQhL9lNHEWj+YVIpH4gQXwjyyqwiXvJSEKmDCWXsrHbdM1bd9dAASJwaOwMy+xEyMlRRVG6VDmYWVIUscGiV7EiKxrFDTygwFvNZ7ov2dimLkiiwHsKI7CTqjGFXzpCPkdfIZ1mwivXPdZirUtReUN+3iJhimaA4ZW3O4lMb9ctiX0UsLkDGHmUJyVlr4cP2+SKAQSiSJP0rmo79U51xJlbrI9iRGY9UEtpvw4jbIpOAgKsXrBRdLcZLQ6HjQYxHpGsaJcBo2QaOJmPJQ2ZmqjEYqoLRZQeW/H82+hA5JfA7fd/9rOfvf322xkU2ABinFXPW+gA55BixYsaN2JKE4mDCgJ0oQ+yvjCRrcE6tV7QLUm38DCDmvolq42IliJqGWO6ydTnAWiQ5gLaKsKr+TEoDWExWKiMA4i1Z90voErLTznllDvvvJOWMxbQejOKiolxAEukCIiYMpprhUySphLLJtO9+oNwIR+KimogzEJrmqIbCyfBW/Moo9aqoHjSkF6FCUm525xqbtI5o0bf6Sv7f9MChT8YS6s8rluqRD8NLPZbkFEzKt9Y7CxKBdp14okn0s3+/n6+xSM3dDgQmcTAeGkC0h29Ap5CnVsUW8/wk3SANwHZn/z0p0gJOOZYqx/0xYAvlLGQz9z107uwlWNbNN1Q2OBaBT8fAhMAULMcfhvsGGMOm7GuuBPZxNuNfan/kvlM1+Ebq7ChhTQk8TA3AK6vri4KCas4YHikS2LVlC8Nt0BplZ6mCsWcMGYQEyEdjvYQyugnNR2PBBESFZuoZijIXqNlaIcPn9vmz3NYyFS016oMy6asXwZZvVejK0wSWhdIoMrIkQcZskiInhRqtgH0K0cDdgJSaJExwlxlhiK8Zr0DCkINwJ+DjerjwQLTklIib0NHBar67eYAnkbewgCJAlVqGCq9FScC3aYON2cEMOdgsMgOewD9guzv2uRaZigGROHu3FFAy7Bmb6ryrbk31GA3zRwLUfusMkBnJ9VmcxG4MTrouJyQtAIbL6kBUZpZdqi7YI/RKc5ZnQbs+Y/BVgpuKJLKM0HKpHQC4PBqOheoPgVV5FEbKvltJRPp1a4ZVCaEYq5XCAAXKgWcZLcWjdDNbXYAEDeD1Bg1gCYJo8TI6QvIyQnqlkM8OA3jJSXSiI76YDwdiQQZZahRomsc7ps1guoqV9RHLgsSogiwPnYDUCAM5IzrwFBGHQKet8VBg918Ae1pLRTJsTEIGNUbcae7wkCvVs3RMONckroQRxWBLLe6Gi0SbIPFY4rE4TalZScEMMBP9FR1Wm0QBLopJOEKMj4/rBgb1Gt8+SnRVixcY09tGztoMy2nF0ii99xzDz/F5hWlMgQfWZaoTNniSOegrfvgMFGUJOoXe7a+qGuIX4pGponopiCh4wEaC5sINGSIiohPcNm6ANeVNUu8WY0VFzQeBqlm9QiUBR4mWFWGW9W5Q7zZQFr5bdCrwBAAcdA1R5ToFD+rD26bvxq2DR68EmrILd4KQN0Jw5f3pBT9jo2Y7G6srmGQRLptrNVzQUQyg1QT4QJX6BLjo+sV4iUsAIrgHOSDqokfMl6Juw+pDIscxgq8OnmSqROhjgUXhztZVgkAk/dIc40XsnSUIH5eB3Th1cTPSuHFX6jlW7wXsSoSKufYaANrnuLpNe/wKmH3LpbYsm8wnUGeltmf3Ijskkk/vEQSqqGsYOG9NSESSRBCwcJbfCRyYjN1ydIdjHAd7xS5Sch+m2F4tNCYLHRaUQsoxEVyJE5nHyr5g4SXaiaLlliLRFCyzslMh/ESfyk/DDJcW+egMvnSVKHs0gXWMmsU9H/oqOKfLoDX8pkhMsMm6T/PmaXB3j30xFadqMUbPFxj1pqZNNmKMn7QekCNXU6NYW5b9CYTw4FjgxW+y4uuJeuDiGpt4hgiQ5JomNEIzS7kcpZWIaZyFdcND4ONwjGxNxgTFjAkXY0ylnSu+7XbAFqvsA76yDCKSoCSPKm+AW9gQMUaAcqYnyMsFCIfr9Y1QySpSHKZQGJzX7CCeKG5KkikMoneJSw29LjBh05U7jnMs9Hl/VxUe9WLColz/aJ7ainwoEcqxoTTpSGsGIbAJqcbD6AAD6iMkTx1F0aBf5/lFVq7x3wA+8ndUm2MHngXB/AX0I2BUQ090ZDp7U7uXFO1uq/2U4gBhm74CezRYIIJRuvoI9WoCnx1AUIx6RX4ILmQbmB3VNLnNFnl2GIUCsZCN1YfIcpnGXdidGWSVXlQg/UDAfoo0mT7UhiSDAPXmkbp7dzllZBELvOT14krWxnnpjEVQbQNyIk3y7bN22QABEsxOnEo7I44JZYA5vPkVJcFiOaIRuk2bDCD6MCqBhZrsoweEooXosRmPTIda6E6Tgv0MS39BE7UrvWgovC2J2EA3wbUHxDwFm3ugNuG2giS0E54gqix7WHdUkf4qVfb0Lhvrrj+uuv0mis0xmynphEpyYMt62KtpE0Vfm7s2DBAN1ZaiIt+qo+wg3EylgtG6JVubqjrcAvwQRRW5TmHahNLI61cz0IkJJxwpYgznCBDHP9aCpqDCsMA0GPYl4iMpulUP0AHVukcC0rZBsywjtEAEkj+iL/5NNlI5QeC25IcnJQWbGNIMA32VqhPDsMCWT/UHsiTgkMhRCBTiNWsg9AW2sxP3NiwTB7H46jkbsEAGbiphy2kyXrP5pRkqAPPeTZfyrIGlrdSLbbJdDpBMfCWtAXwPLivSBPyIGJXAIMhv/UKDhDFnQAxDjBCAo5AYSBy9zbv29Ww1jddX/ORxKBBkS/dTjav2q0r5ZqhZ9URDkOniqRiFxDcpD8TRsVHFOC9Y2C8z9pD3ytYPwxKYKVa6L41pcSlGEUpJUwhrA6seWInZpiuz0uiMlnMtHCGclj8SJiRVeINUl2Q9JYDmQbKAHJhzbHZKAJkApGRUbiUbXBqeMmbPOyCDeFW9newApIHlkN5ABohJQUMGKANglokOyzNlYFvG38JIEIM3siHE/FLYWPlI1olK+KaKw61HFJVMMoNIlUNfVwrjSRUGmy3eKr6uOMZw3pTmRjDrrynp+p45aBR7pAGBSFhJxmWvmG4F/9gTKTPsVUFucRQtaHXLMxHOJZuVypQDvGDTCxpJj63oOMm9ToU0tpkwxeuwWFEvMmRLVoloNoyKSC7hYeeYEJV/IsiZcwj6kAiIoWpP0gmcxgS+xCRsYG1pzk4AR0xZoALA41KajV0kz7RBWJbQEAsQWh4YpYUxbcRIBkCJBf2ibUEUODV5RYbAFWEGuR4CvKIEJ/0MIpjImeFFrFFoY9ktSCC3VpFwxj1SieH04H1es3jHFTFHYHIFFCq5QR3oMaC5fQyBet1dHC9CtZc2KgetqbI2meiQc7mJypgWmqlAHhCg9aMkrE0CnPRWS1Ey0Fqo3PMHnqA2MJ4yBJMyhoSgLAWLZ8ejCIDJJPkxsYGh0srn2WBVF1S2VGxGNIlNjpOkykJDsgOtrALMu0GRHPwt8uBpxj2aA3hPAgUugqjIooeiqU1lcxdxeagQSlgz0vGIHgSlgcfuqCWMfhJoIUlkDXalIcPMg4QRA5l0QV9IVwmhdKvIpsxkpAV2TmTJnUTEQHahBHLobInACbETgl2pDjiWpWfaVxpumCIlZLOg93VMV8b0AYtwEX7+Tgq4siEAG0irvvm5rpP6rfouCi34P8uj43XUMGE4fWDEtX26ARbjQiZ6w1n5gEaXn4bn1dAZC90lEsgFBDN6sMJBMYUDb4xnWW0AxlZqcjyHmTOkE+3BO1CPsUrxvCTpjBMLjEpSST7gJKRZoKpTlC4afVgDnE2VEpyLHmx2N4a1xoBO4hGmBOUF4raqchPPmcUcYSrfDgayeTw1UviZTKwnJBJa5OH1IbkiHI5HbYxWFx1Ar+wpTpAzEC7Iai4UVJfqqdWzMHQLlaf0o/qMYxOCRsrI42HzxXQI0YH+Ctb/dAhzDT8HLryHp0YNgqBpQ4aZopMQSmhvKFgmn0YGJqaGDZ/svNLeS56mNHlcjpnIZRoj9BvGBLiR0FhIyRmg1gQX0c21SA6OHIzHmgCuCjGg1ygfhbUoXvBDENsBUU+EihOWXIS8op09y071p19JgWSso8leqTuEh+F7OTAKDazUFYz9MVIKBbPZ3O0mYEg4R9EmPVRYB1UCiYnNxsKJmt9YQ1sKiihysuuTzANtAokcMxFPjZYElIKfyWFygZIUBp7/VASNz/XxR5tA6BANpe2uD9GeN3WbqKvRntt4aypaJQUr8LRAicretFgaD+tZXaEIySG3WhNW/BKV4fRCNkazERQMToYhdB9h6+O4MqEaqhsxnEjI1LRbBrxbdq7iIlmlZAL/t84ovnxxx9/5OEHP7bfPphmyVibSRLFpKzkmCP33vcjzzzzxMMP3DemtTUsRaiMeAtRQKRAqo1EtRKLNpAGg/Iy1inkFXyF6EhzE1nB5BeMNLePufjiiw49ZCo63KRJkx594skHHnm0pa2VMKmW1tYf/vhHzz/3K47bbrvlgQfve/iX97a3tpIsg4EnPx3ELsQAQsuoWnETZBaHv8mMSScAdy5L1jh6ZLQAPxmUDDOEecvFEDXG+oAd6rKg4Xqvx10lm/hmQhqEHWAr3yo//DAlmAs2e63yzah5c96+gTLD37vm3JBqGHWzO0Ic+2xWTzfwrs3vRaXvQIBRkBBDbQ4aBj1p83A0BSL5A/c9/OCTzzx17XXXItdK6IaKlTznnXfBM8//6utfu5I9zAiiIe4mHo+jezHHKGZB4Vr/p8Tt7E0qdR/9ilHOKUgHexm2AREs1nej1TNTlFSJDTwRnCGXbJ8WCsM8CkqbXUYKSmqPMbNricZZa9+jb4c8qnzNAdYZ4tkEFdgF52Efd8UBf81T65ypBmGyofQ694Z+8vahz6ZLDj2yjU7UMB3I3Jp3RpU8bCUzyMDBuDAWs/Xoxz/+8Qfvv++ZZ5+GBM2Zc+Puu+8OvYaGdoyb8NAjjz10//2jR7XDmcAA0AABhPpgGzgayHGCWS0aibDxAbSO/AZ8s+seIbtsoG0Fy5EojivIhnu1NWbzvipNN5+c3gjhBX+hiZE4eZYPOHD/xx6+/9lnnnzuuWdu/sEPJ+w4WZYONKRiuWVk29nnzJo2bZrix9AEaHOIzUDgEuzmg/lIUr92kPf4W9raL7zwwmOPPAJUh5KiwyHbSYJHGYMFklTUFFB+kDYTGRQdAU0B/EfmD6I9lIpR8jnwYtG1SnuB87/sHw2AMmsIgIst7HNaF0sSOUGfcde5xc9N1Pav37TuwzI1MNHhwlUdzmG55gA91Afuo4+zOg573mG5u+Dah0BE11lPpT6THDsWQwxA0IF9IeoQ9xyP16EbKQ6CA0sj8PKT2VZL/BCNa+saAAEKLiPCnsLONkKeOvLvYaRxSyfQjEA1GRKNr7DG7cKLLp46bQp5RfzefCY9AIMDJQhfQiA76TMnjRvXRgfo3uDgQAQhGYMTWwfncmQlRkiACfIMO5CUs8mwfGn0GcwivSlGsxJbk+DhRyODv/JWbtnowETZowVwYdYktxZ1C3p4yzihaTb8oB6Q2PC36EP1LrSY6JNNfYxeG7cTruvB6rMbq/9dXB8aXaDAR+zZPq6z9No+5DTWh/2pIyb9bLSn76IllTrpOCkhcD3rWx9M9foUyA+FYOxuYSdSnCq4F8BswWePvXafcciUEtmQS2mwu6Ymwq4jsVoEavypafIOsosbATpe9rP058mDWChlIzEyEbO1JSmYQ1mkd5aW+D3JXILNWDBWZzHZBbUdOSmkS2W2Ii0E6uOk3upDXo6ALcx/sjMOAq1gNELWe7S2HBeV3e09HS+UH9HxyqfCVOTernxk+a9+QGIAoCFxn8rsdnO8chEzReVTwckhLmUnEh2qV+x86NXCk3/fMSRza97RHbJekXMa6i6DiS+VLX/6+JMvv/xyNkKzCV2ePHnna7/13cbGRjPKSQJWhmutPcPxE8aCx5RCCpcmUWQBCfO8mEmm2I0WexKEAuIGaY/6WZNA7EsKT9Vgiu178VQh9GzZIeuBZvHQx5FfX7LoO/qkk7/ylS9GCXzW+rdCx4RJ1373htbWVohOIBK+7L+vFAPDCGBB2HAJGQTd6ggS0ClYOk+QAVrPJZdfMXXqNGaG4iq5FYqQXYH94di9XWpRIOiHDoLehVJNCDM7MgBdZPMg5V7AjVIgjy1WL5F9PmvYmPq5riC7pu+ATlqXQntkLbzgggvIMQTfoo18c4VbkHzgD5/jZM2T651tDSaZXqVpQG3A15pOx+TdWYPSVTs76prMzma14JlKP7lLK8Fv8ICK5NIm34+WHCtXjQKVpTIBLmw7LCk1qyM7uPNE2lMiA700G3+kti+JNZvECsRQEKWD7iXdl436sG7D45B/bS22auC6SxUBswnXxAgjQUjCMrly5ZLDDpl+xBFH9K1OMXC0H0739OOPTJ8+5YLzz//UIYced/hhK1csJ0UwK+OSiOFI7xEYZCZCHmPtys70Jg867C9iUUskesgW0iweYgsKUMviUyCUOQVriXDYWAA4/oKXHMJO/YQmbOK7UkYPGKKs/W2X1xAFqh/66NYma970e9e761o79G1dcK9f91uCjjCketAK9Rt82JbtWRtu1Xe5v5VJ5WbXsGlgrVLzZOUl0hWJE6/UOWefOXJUE/tTMrWQBHEUZPJs2KLlEAw5W0Aic4pwST4D2/F0pJld2JaQwHgfJRlLuqdJDGGUaCM5nRzCsjay5KLkZaGlzAVkmC9kSFMfA1/hgtrFGcRFzsHHwKxeD+bb7orBZS3ccJAyVKyCq4JgNrcdvlZQa+jB4SeuAr7d4+q2eq6j8tfhubs09A0O/FuOShvU4jW4yi+EZFLpKZce1mB2yPvgHntz8YUX/nDkkUeefvrpq3tXQ4CI0UdEZhfsTx1x+IwZ01av7pHFha0GyIgqfY4aGSzWZTLO0ABcoQimfjLz4Z3ieinPfg5ZVosyrBgSWViC+rKlva4+wItAK2NggizkKLLvRw/ACPTyC3847vBDvnDaqf0J1o/XHn/cCVDWAVQZGYGIlCxUZFpTmrAHwCEgfSwIiYTZkQOSjVTPrgWeQoZYXMV/yCVMMhVSW6MxsD06a/XlHdSGt4U0HEVsGKMUCE+nOKmvr9esdoJyddApU8GdjXQYkggXpBK+Z82axVS6+OKL4WdcYfa5bxFtS1aykToql6u61KZLDbsrmzHtq2K45CzaXeGTuiWivIZ4CeialPTQhL5qAZsW+I142OrDAstUZgqjccHxkzm2ZAK/YocddfQZJ58WjHhWrB54+rH78F94cilF0BCkG6g56tgjTz3luNoIbsDU008+evONNxEyVtcw7qe339FeV7p1znUf3O/A3ffel/1M/vbiX7719W9gM7jq+hsm7zAO9j/z7HNOO2PWlVdf9ZWrv4zQfPZpF33pS1dO3HU8jT1k2pQZBx9010/v/cwJx/pKA2ecOXNBT2EwXzzu5BNPOeG4EbhAyrkHf377T352L8Mdrau/9cc319dFnnv0gaOmf5JQjysvv/zvry8o+EKILajwiOLk5wGVmDiQTLoLOiKmKXuAMLQiDXC2zoHyKIqob+N/BrMNUgR7UHCsHsPPedG2O5x3bdi3aw9oMOwddu7kssp12lNpkjVmePOGPbcNTpnnFluoqtxbjNRUSaaC1CTV4vdGBkcJlrkEhMVyApiPPfrwW267E0HDH6xhr2SiNMok+GcVYTl67oXnHTbtQEQckoi98vJL37zqG8lUvmPcuO/NmcN6vNtuvXHG9IN3mDhudXfXVVdfM5j1Xnb5FTt0tCe6l11x3sxlXb1MccxPhx919GmfO6HRn2X5xxO/vOfWW34QqWlCO2dfBcR1tkqApTFvDUe2ASw2WMWwucn9oZHStK0cVfuK0aChkaoCU4WGLlYfUT1cVG3OwwYTr9yTncXoxdpPDb1u05Ru6AVbfUL9Q++idZjCEMEh3dh74rU1A2z0hlyCToZs4fUwfIlEPwrBSy+9POWTB7WPGoPhbNLkydd96xstoeRnTjy5VIjd8qM7W5tr5MpkXhZY9ylD8eUXXvqPV18n6Oy44084/sQTa0LlWDH12P333n77jzEo8TK/PzSYSGHEQ0qvgH0zukTjHWThEGb9smfKbO8XKPkjihwLertWLinlU8s7l/7+Ty/OmDq1o2Mc/GbOTTftPLkjkx08++xZZ3925qlnzlzYnzrv4vOmHrQ/KfGintA//vzSNd+d3ZvOfPv669o7xmIBnXXRF2eddekZ55z7zeu/09wc+9GN33joscdwA+69937XXHUZu/999shT2EAk3Np0xZevfN+kDmYOfO9Ht93y0AMPivxvyM+3icGFaaGH8A0Dg7s77oVJ83vfnwOXRVAkmBxFEcsEnrdNs/710fFfgNboKTwW2Mo4sHZp0YOhw9Qv/RomAbmbGhcxNQnCxvmVqAnMQqFiJ0CTG7whb6Dm6OOOnXn6aZGIFm40N9ad8pnPOdujNu31hWade86pXzgpHJEviozan/rUkRdfeAG4Ja84r8xnzjrv3L323B2HBML0Xvvse/XXvir5uJCXwQYHlaJicIfK0Ki4GFQsqD1BH/kcsamUxM8hxouSJ0uR77IrLj/1s5+PhCKgNbbGo0486axZ5xC6hlMX3yObXR15xGHsTj+wunvhwoXi65AlQs7oIK44xFPH17U/ggnyjnY6eGzJN4Ba70Nr+XDdnbhz93NLqv4XZYGaw5bh3+s/41BC6FG9R8vcz+EXqze38d/hEAAbjUEBFlueLBCZjGXt4cXwLblj8Wz88Xd/4PzQI47ZbfcPATis1vAURE48ySShvPCiL06deiCojbrEOO65+17fuPqqcEgZIKkTonjO2bMmTJyM6W1EU8s1V3/te9ddM3liBzaAxua2Sy+9nAgRJOLLLrts5uknxEmAAf6UvYcceQz2E/ZqI1AE+wO+duw1Grm1af02Bk+1OjclKwNpc7ZyxbBU5BLCvAapKrhURTB+Dr/ifgq2HOpB9TBo6yXuVvXyWmWGLr43J66LwkXjpaJFCCISpy0ZgQgkLS7mlix8hzLTDzn8J3fc/oFdd/nudbOnHDTlixd9EcKQJW4L27I0Nm1uFCUikSVUMsDgLguxfI4owHBNfdEXvuiii75w6snxiI+9aFFkDvv0CTNnnsGyXIyW2XQS0ox6sRXdpGEcFVNNVT0gznDJwkXww2lHHPn9W3/w/g/sdtP3bpg65eArvvhFooeIncSDhDoo0BPLVvJdeP75Uw46iBgPi1QrffDD+155xeXExtIkUVDoYTqDUQHyi/FQ6W3NA0c+bxaTSIyG5dfUEKAwe/bsSZM68NQQgQE1/sKsWYceOgN/24b6JSza0HXrjvie59xzz0XTRSe77rrr0Op4jSaFpYsE4O4KdhEgvbF6uL7Rd2zsGQMlFJmFC45AOGyu0A73FHDgU7Wby4xuVl3e5aiYBgXBBIeQaLvWbymeFd5Aa1HItLI+UO8L1h195KFhT/rVF393whFHzZh6zGvzOvOeWMEX83jqJ3VMPvSTB7Bt4iUXnDt1yrQzvzArmyp88hMHtY7AQwamaOuy3s4lV1xyweGHHfrEr57BBrjTTu8b0RD/0qWX/WPuG+xPcusPbjn08ONWrEzAotgjHv3pkvNnPfPs78HLJx97DFPy3+e+SvQYmiEhPB0dHQf+14c92cGLZ509fephM2delEp5p0w/fBTRJcVsMJ/25Abe+r9Xjj/8iEv/+5sJtqpitaC2mcC8jLQkv7E4elV5tSXSUq2MsW3ZEDjYrv1d4fuO+6/zvbFx3PLrQ2O31ol7XbU2jawddMo+TDk5/6o/txzfqhVu7l/DNGZ8xbhtjzHBELKx6RBfwQ0kIFY3ar2qgiRJpu4pz/3nG/NenQ8rOfeCi2N1BAylxcaIRSScKxre98N7EFh/wdnnHzJtxg9/cDvbtUzacUJdPdnWAkWiufzFf/7f32ccdew1s29GT4vXN7zz+v8dc8Qht95+R9YbHPe+neqamjomjPvIh/dkdeFFs845ZPqMs88+F6vDJ2fMaG1pAPFcNhmauum5urkg2GQ5N142JWX30zw1wl79rszcdbDoX/3UU8JnG19jYzrnytCn2ighT7U2PfVvOIYmCzyYBrFHHxI0wTNQHJrCarV4OfPjG6/v6U/nvKH29vbZ1193589+cvTRR0ewsyG+ishq4RTx6cXM6k8ffejU6Ud+YupRl375Gpwc9GHua2/+9qXXRo7f+WP7fwQN+9JzZk4/+KDTvjCLHNdTpkxraWwIlRX1gFlPGde2+BA7Qari40AHB8WKEylkb5szZ1UfC1FrmsZO/s713/vlz/7nM8ccppVfmeyVV1w277W5MOfv33LrtCOP705k/2u/j3izhUsuOH/G9OlzfnALUv77d5ncVBe79JJL5r25EC5+1x3/M+3QQ5f2ribTD1qQDx2pHAJUitiEUWMZzefbR4+NRNhl0POlKy6ZPuUTP/3pT+jNyccfz1K5ipuE39K8+YBbom+Y6zlF5ZKBwVg48IQ/cQ62c8L1733ve0w02BjnXISl8RMVDWcYBTjh1VSysWOD/HNjhbfsukNQZGGdmIGiYjaErRN9oSQOHJhr4FzCbB0kSSIrIBvslvwtraPqYzW4xG+efd1gb78nMvKeXzzwvitnob0RVDpiRDMCTizsu2H2d4WaRJpmiRv077fvhx/47d9YKYFu9dhjj7417/VUrvTiS3+bOnUKXUWOYMoCFBgTkhTONrItAK90iuSt6GFsPKaAd+CI5wJPO75LdpphXfPYlhbWWUd93h/efDNRSABCC8CK+X333OO3v/sdEf7E6b74p98P9Pawx3FK0UnsyYvKL21P/Wc4BQRzAVbmLZN8KxB6i4bgva5/cxpDN/+9hwO1vFaa86KqhohMGaQtBdswkVDHIQpWQkYMNrPOZW666aYbfnBLy8ixB33yQKLimYqYBVgwmMwOnnjCsQzjIZ846NTPnrzH7nvlc+zkQJyOFgXKbZDP3Xv3XQOJ9Ly3F+LBxery0H2/SA0mOpcvw2DJ6iKSZLa2tpAaOO71/eDm7wsJPUQz04zCvvvu/cijT/gDrPEg8DXB0nsjc+850AwkFRaysfPqsDksWh+XNna9+tz/K38FTOOvUmU4t/lXCoaVkp/9zMCHfG4g6Ikef/yJJ5zw6ROOO5wtettGjT7znHMntDfPueUHBBYaYYUKE3GuzULThcKESZO+fvWXkIxWLuv8+jevyZWDI8dMQNzxFpM33jgHFSUfCJM82lsT/+h+H/nFw08qd1mAaHxR7c0HDGxLtllQWqFjUA+TCYxa4psChU4+6YTjjjvmuKOO9ocCbc2jzvj8aTuObP/O9XOwIkBbta6LXB0sayx6jz3qaNYCTJt60ImfPn7v/T6SKWQDhSzWI3yyebYQCvpT6UFsToFQOJXP1ntriKglGjFcC30M5NjYoaxFzStXrhQ3Kgav+851L/3593/441+OPOSwYmbATFMuXMX1Tg12gIYUQ53dMdRxtc20K+pEsVNwA3qM13vDDTdcePFFOi8TW5/GxkaILyXlFUOx2cjxns+WjbxXl2k0FIUgC3dOfCoqOCZeGSrKxdaWpppwjJU1WGwiUdLDFBcvXsxUB8rIcePHj2eTCFuFI46C18kn17l0YFaeooQy6LBxM7mGBgcJWZQ+rMphnyQGYmcN4shIDp3HOZmP1/BTBkPUQgYBNMVNi0MzB5fTIi7PuB0m6UFcFiQZYvt6ZdQsaiMJhaKiNwYGkkma55ycYoEmawzhK0NIJduPfyMEADhjvi7YGRrXBtAJW4JQgtmPYuUvLVz01q+efQ6icdrpZ+CmZmYjDyLG1Mbrzjvv3CefeOT888/fd5+9UdllU3J5ECLhLAghs7iWNoK12J8hB7yaUDYmIRtwKUyjVJ6ww0TeS/IBMhoQryTKwSQHm5Hh2JOsTDJJ0YgSsZP/Rhj9J7zK2T/VU9gHce+WZgHekE9m4+FaAV9BDTUMHGrWPffcO+2Q406ddenr8zuzpcKB0w9qaK1F7oF1afs00tJ5wtDe2mho9jVX1Xiz3Z3zzjv77P4+koaXxo0ZDRmWRIRzCUsjGWogE5QmUDkcImQHWZnsHlsEc9op35dCqjHqhAh1ZcW1Evb48uEQUWmJQrLnkV/edfwxR59+2jnz3ib0LPbxKQe3jBzBW4gfCfpYfMyqYcVdEzHx1FNPXnDBxR/+8EchashnYHI6kxS3w7hNOGIkor21WPgBrwM7AU1YKxfzZMoVSSbtKnwle9mlV3QuXc7eO3vv/bELL77ioUce/+IllxEZjmYvlAbMxnGNhxGsyB4rtuqfaWBRiNJTSOFjyYyYjNdffz0/AZQRan2jk2nOFItMKHeROjnZBNzeQz1sg28dUjmh8hSgM3Re6qYEFNyrrJCXGZBI1tU9vYOD6VgkMm7CpM6X/uGN1o5pb9XUh2oQNx/0Ex20qrd35hlnog9paT1xYuSGj9YWQs1ahszQBVluTE62QCxWixiDv8HppJywyINBZAhDrCpTZChuKq3lAnxQOUCmJPFhxBQJVpEgu3Zh+/F0d/fOPP2MRCJNaFmpNEjcKntIBVgRSbloOJ0Fu2CLSFxa7qOemTOMOjk2CI3tF7c1BNZlWkP1y39hcoy+K1fl8GGFRYGECwTEewrfv+mWj3x8aiwc3GuvvTzFPuwBjOf7dt5lxpSDyQjz5FPPP/7YY03Nzd/65ldXLl+eTmWQXyBMyJTIKGRnZuh5JJ8dXLZsGSOO8KhVG3LW4ldT3q+u7p5zTv98un81q0fwt9fGapIDyXCsAaonzV+bnmxqrg71ZfvJFkDAjB826ExIjJuQBo0KCSacjEL+t932+OC3v3V1MVv6/Gmnr+oZXLS489vXfXfO7K/XhfwTJk1csirHQObTUHPs4iSwi9xx589GNEbzyVWXf/ECMnf78YajIuEPKZR7+/rPPvOEgWQKixxCdSA3QOi5r4bsdIg6wpAtaLkVNZYglIWa0HJxCWig17PPHh/65te/RgDcCSec1NOTxDd2zTe/ffONs+Mh75hxHcvnLgr6gyT+dgGEe++z99Rpn2AFx2MPPfHMs882jqy/6suX93SvgqGwsFZJRdhlQtIVojvJ05gLQYJdUAcUuctyauR1FooUsohk8958feZZZ4xvbf3Qbrvuve9+H/nw3vsfeOBv/vf5P/9trjWNCejmoGupFBVH/dw3M8XJkXAp5g6EltnBQPANceYuigfn6GH8pD0sHocBIwD8v6KHma/YegqbR8GxPbFoKIKFxAblQiwESjmgSNMXLloyyPqEQOy4kz5X3zBizOiRJ59wTJDQPk8RseZPL/wJc3PbyPZp0w9jV6399//oc79+7ulnfhWNxeGOwAsewhfMnCweSMRQEH7zLjPqIf+GOjomsr0kRiRRIUJBvBKi+YN9ACSBY5HzkCXuKG3wv7/+9eV0ptTU0oafjEH5xIEHPPPUk089/XRzawsQZkdaRHqCdMFze7N4M7VQLwNGNyX1I6dIVBl+DI338Ivbz981BCQJDjuY+8hImkvS+IUbhPNYTJHTyiQpatBZcVi8+uprdAaRkCCjlBk77bQT6Jno67/n7p91dnYecsghzGtl+mB2o17bFEXiYa0R0w+qgXzL4LN3gnYkIHKtgj9/S2c9Lc1NU6bNoCUHffyAX//vbx95+NGO8ROYBqJvhq6suuHt249tCAEmsjvEAUyQ4QofLmMjhCCADK+/8WpPn9aJnnLC8TWoTN7yQQd8tDaqOA6MK7hFCeFgdrMO2hMOXzN7dk1dDVVc9dWvrVjejaaOAwIq/8c//B4BeOSo0VOmzwArDjhg/yeffPz++x8Y3T5WsermFuJdW9Q111TUMEiH2cT5JoYVPuN79dXX+1YTK+3/7OdOh+gTYTR96ifjMZx9RfQkGAn2PZSw8dir/L5xY0eB6qtWrXjooYfmz59/8MFTSTpDRhE6WMyyOxLFgx0TJ4L4+HdXrliGQnXQwdP84ZqxHaNO+vSxUoTQE8qFj+7/kd/85smHH7yvbWTTM888eccd/5PJJFE5UBWsX7SReCXIOd9ubWglEaWjhK7vMCfe6xgYAHF6mNMusGO5yBfNUON2DmKbhtsWywVbNAZDhbH+DZ27E+a3RkUJpOBfkHgt+SaGkBgeWWpYflwqPvjIk6d+7qSddvvgLx56IEueVqXmSZG9Lp9LdXX3/faPf/rElI+dddYZs84+nQXO1PPUU7/CbOipieE9hMKQP1GrwUI1wAssAxCQD1LILF64aM+dJ0BNpnzqUz/40S2QHgX0U4KVj7i52JEXNTwSBu6REKshIpChpYsW//mPf5xx0P5nnjXzrLPOhjRR0xNPPrl81cp4YxPVSlhQZAiBPXoRVXGNE0aL6cJ4bHoYKL/9eA8hIDYmDFxrFDAAwLYwu8fjiKvKJhUP/t/cf7z+2oLddpngYb8hWft8CxcuYLa3trT+/Od3w7cYV1aAto0cw+p7akM8isewamspPFoXww3/4gB5JE6SOIecb8USKCf8+cR/nXnmmeeecapJM4XHHntsSedylmAo3ofEfRnWwFrCl/cQEP+BVTMjxb30xSyvyjckTGI0XbZVRp8dps783GcOOWQKC0MZPoJEIdxPP/P80oWdO+48GoaHROsNBnbb+f1jxnfAWoj2/ua1s20ZBzqY/6+vvEHc6fPPP//xAz96+hfOPPOsszAo8crf/fYPy1Z0kUkIkmB7WMt7wuObf2DHdIURwkUsLZgAPpFOFR546PHTTz/pgE8cPGXqFJqbx1RdLj77q+dWruzK++Jvvvnm+yd3HHXkUdOnHvPMM88gKeGd+clPbicQM8PO8uXyyPYxoGgo5+9etaJQGDvj8GOnTjvqy1d9ffmSxR/YeeLknXd98NHH0uzDQAJaTx8uFiLg//zin195Ze6Hdt/12muvxVoq34+n3LVowbx5b+NqNr8djRWsheGAWj2tRBWKyNsEhDDyWqguc8TJEDAwzjkYCOl9BbalheoqnRtcLU8a3U3yfhHu9/RYM2BrszFAKeOO9QqkYQ7jjcpl0iTUxMKDgZUH7/3lfT/+yV2DGVkX+1b33v3Tn2hhsrABWaR0/ezZd//8ocE0i82LUIoH738QW5ByecEwsOwWSpGoFhVyBnEBgLhkeVEkFHzkwQfeentJIBzIJlPZ5GA4QHo0IgmVDwazJOQOCSZF/H5B6/jEa8ldnSt877vf/dndd8vhgYyezf3y3nvnzJmDyTiTS+PgRyxnm2ZfCH8wiQB06Fleb4yTn+8pkLdXvg4ETOYewm2jAmAVgyDBCVQz77iSbudsm7eMH8tPBE42mMsmb/j+HJLAslkbYhUmxL+88Mc77rhjoF9bNi9ftvTyKy5PJJKM6qjRY5l1uEQRuJh7MDYcCcJkjJNQNewk2RymQdQsfoBXN1z/3bvv+QVTV8uic4VH7n/wttt+SIY9QxK+8jDFTIb9E7Yf2wwCjLj8NEZ5JChoiQXJKLR3UiAazBWVcBw6RLKNe39299e/fu3SpcvIl4KbYvXyzgfuvuemOTcHIA4kNiXBSziYLeXShQzRWjLmKEKfW2FkFs1xTErlAuEJjz72lFKSlcpI5Pffd9+cOTeT14Of+MSoBPTYor7RfprKB4YK1WHfKBYt2y4wkLjA3fc+9LVvfL9zZS/UhVXLqcSqB39x15zv3egPKM/FU088+fb8t3nS6889+/zjd9z+40wmjW9t+YrOr3zlqq6VvR5feNy48enU6l/84p7Fncuhc7CNXDbx/Tmz//c3v4PIwoYXLZ7/87t/5vdE0dZgTbhUrrzyqt/99gUZKhDQy+UXX3zpnHMvTKXwLhN9zcvA/QL512iwTuyg167jRhdFGKHJ6BWwLg7AQikazAkTijLsXk15uBdXKMBFV8bVtv73RvfAVCNt7B999NGf3nmP2WB5vDIGzz33HHu1cXDJken1qx5+BZpimMTjCL8QF7QebR2E3oJ4xNj6AiQ4gSOwcg4HKTueExcTTZmWHixlkC9yZTJZYpZOoaZqv0lfKKl0qTjjc8QTsm6DzuPPws+V9cXgIJF8IhryEiII9pUCbGmRj5IliOQLOMhq4ngvaAE5q9jNj6aZj96bzRWD0RGkz4+Gi4y3319nJs8U4M6SQYg++JUeLZdiq1/88CSzD2YLGJSUwVrbGQNupomgVrH5ShSBoZpdipEYAogZt4Z+bfQEwOrxcnk4tDdaevsNQaAqDNoiPM19Qza7I1uiiRYwFUgBPlHlbyXMwlNMRxg2rzeJSYjwDk+YHQ9q/IQmlnOlIMs9wsr3minmsppXtmOFj0AjVseGYswuIqcZ8DS0xc8uinCtHKtGQOiMl/zAxGUniOBIlYhXJvlUmewtmXQihkde8VqyoCMxCUWFN/K7oPyJFmw/thwC688XIAkPUzCf9hKhRgL0RNbkg2fdMXCGMkPjc4VIvDaNRxPhpjiojZqIpfcHkEFK+LbZIQ5rYSlNsCF+mzwJWwoIRB4GS0qGU7vJZ4E/qZJyFyEJ3xObmxCYTABkaJBVpIVyDVQI/weWto2P7/CZTnfAK4gJNBOFkYcglnRBcR5kHveGwCjKENaez/RHQuxkj2MXNhBNEmFNTBndK6bE67RlFRGyIBtkCnJEsnRsBhAy+eegYmTxJHpJ8fraaKWYVhb8KI3nXOCCtBZIS8TOuqTGJ/EMikEx5M3SJ21YhMWPfXpJ2i6HkJpqdN5UMe3+DCWkjfbT4/n1r3+NtIeCyDc9GVLCILC0kGqpR+jPIeVNCfTHTehQsB32eVlUqZtNThg0klIEHnjkqadffrsrNnmjtkTqgM2qJqOktBUnFdz9iOF0AABAAElEQVSDKxxUx+He6q44Tuuub+jbTGwi3mLg4I5zhvEKXEXSbAjZVFQP+0YKPwA1yxxgCcBEi73kfwiQ4SWEwqQl63A5VDcWoqKxa9cAxU1DOHiJ/tFOcJdkrKw6FefAyqua9CKihLz5XJrqKAfvERoXA9zBBIQ1k4096Vw2w9ixWE0JWBGr2cWRBkhtZvsyTApYKXUFBojwxcvz1M0LYXEmeAjWarUdDiygjopUjzVn1Svr/wXgDrx8c+7wgNqGgL/+I9uvMESGXUACGAvb7MT+Cv5AUWSA6aJ5QHb5QoaU9Gj2pLfkCa0X0j1EK0WwMWZMAogUucrAE2YaWhWYiGwIEjPcaPvUZm4F/mKPVv2UBC20ShSeKdFK1I2q8LNCPMk+Q8BSRhFCDLAKS9UnQwfzn5gjaW3WZOrbfmwJBDY4XxgAKAkDr8EQ+TdMEBMxPGCwIDVK0xEgi5KiMli1Q/gfAg5cr+gl4hsZQ7hCLkGehWSz8JOAB1UDjRcvRL0zUkJwBOFmRnrNAAMDoRC0AupBpc5EBokDMVwj1u/c0NReQ1dF1lSPND0oiKELS+KNyhFqwW/2xla4P/yJxGhomQVMpEa0aY3OYMem6GhRsvPN25otSB+cViZFomXl74BxK42ntD34NfOCmq2J2lnBR5pEfmgnMUxkILMAahkEYGTopQCIioyUI0TyVhzJnNg1wkZcWIDpoJxD6rnjxotKxbeqt/ipJtu3gM54qKQrILq6wWNTPIxG8QKmLmyTZpDlEQOd+0kLHD1Vey1lCFc2+ILqRd3VGNA+jaEGnoMATkCjJcDqM7f5EAsjwsFdqALf5n+lOIRc8TMwDR6B3CAGaVdRUEtsz70dnyclbBkFwRmuWhM9qFDFjD4IhWmAiehiQspBD+TIfCWaYodrFS+iZoHItcdumVSHLZPWcd3ho7XTrYGr9svVs/XfDo/dYANqLMh8O8ll6yv9D3pyODZWcIPRdACo2u4ZPIVkaaLbHr4QHCGgJCiugRXQMogg1EzP+YouzNChsUNgsJEbFJcDWqcQCFUFIvkI2Vdd9hMBSMKU6lFSOisJ+avguSEkNynP48L57ceWQmDT84UBEuxFWTlkGnFjwUjYhNUVzFjQZZYFisHZGGlfQxEclZEmJy+4xh3zI0PMOimRHuNhDCWUB31cNdvoi+HxJvE4BlXXOdPAQ3dUZt0DSguZ5W3r0FWJvxx6hBOxMWu7GiD3mAiUFQDNjKypPUjqYjAO/7hrFEyFuaaK1IAK2YQI0lljqzRPghZ8Sm9RcVUg/VVE1ZE4rtmJOiJK615tRaHf+uuQ373CHoWRVbUd1zUXheg4q55414e6t8ED6ulskbzSQvWllHCRdmBRca2BsAJ3l+2KKxusp3rR3dW3IVK1sPXbynCF2FUBRePEdan8/ALEsHiAKlbPieBteEC2BY2JSb4qb4fM3+RUQGixN8jBzpDAqBg/w0XUUIegVo0ZNq1GvcG9juqtGVpNAh5of24uaQNALJjUykWJItYNMI7TIitnhRwIJ1UaVG2Pa9VWfCMrIBwAahMgtCoALN+GA78VTfr/1SNVBFOjh5+7TmgYbYqCUW4CC9kQeRnhEju4M7MRk1QC5MEQoxoQIXQdBKSkmA22HT2L1134ZnObssJQh6SGgkJRYRRSs8rwoFQDqjONER6pU5Nb8dNwTuENNVhXtx+bgMDG5ovmLMqFTVxGU2RVc1WCC6fScRhlcECDpDBUbdrN9IdwaDdj/aUcH5RlvqmpSkbAE1lIGFFeARWiHtLIQWr01w0rz1GziIbqFzoYnhidsRcP+4LxbJCuoqPTTgraU4ZS+s0r0A+5THN01yin8AqqaO2ltWqhnMCQKIqRS13YRT+Fn6At8j9XsOEJXRU7LXoHu8LtxRV0Li1HEtW0zti3ITYpbET9BFV1WvDkpjbPFHOnfrPR8gqort4n+Q5uBx+hHN2EjkHNhvM/1fIujk3xMLfKDOYEMeXduKNZ8TJERmkKV4A7jXPqwmY3w4C+qdISdui/GILNaQAlzANIiMQGM4RZJFurCDySGsXBMIi08O3+6wT1S0M3VAMSmWEDRUBodDUq0ZDiJAHaXFRx42F6WnftJRoMfgu/te8Ldwx3AJ+aKiMFz+mGnqgMupq01Qcw59nBwUEmJ+DlYAj4BuxbXed/xoM2XpvdVb+NNZYTUEXSOgMNGjDptG87g4o2hVmRacrkg4cZplFG0jfTEGyRqM7c561CUdwOHIYt+qKgamTFCFcl3VMSDBGugD9CIVXtDAeGUHpm+7EVENjgfLHBQUGRXdgIt5iNbCg6lPZQA6dR1imXGAj+MPQqYRMe7FABGyxmN9fdOVIs7ncGUmigR0RIbXD1HOdc4z+Dr/G1C8INw58NDvEm6Kqr0KiWq9RqVsW8fRg1MJ6hi47+6DWUhEpShhPaahwJRmv8zMgdN0RZoGH8E31T85WkxppOw4XnZmKABahmY0vSL9UtgKe36IfRQD3MdTrtWqsmShfSIjDoGLTLKJnWOP0rnYcnN/fYKA+DYoIWvGnmzJmsehL9hK+LijJoPtjbySefzEscYXXfG36nGzH1ZoMHfXaHmMfQUSnuLrlvoIpPwkqAZwgVAhMfigoLddhTlQorAzl0UXLBUDGNlD2gl/IAJAz+aJectMKpRsvK2H07h6hZSd4rjKdCY6MVW5O9fk137OFNf7nCVtV6BQEpQ84QMPYMOdtAUGRTcF6vhv/UC5uC6vowcYKQxG2HKgw0H0iXXKkibcI0quQidAtkcdFWRrNMi3LitRVwVVRqEHWjvFDGLN7crOAWPNKQ1ilhvFh4617KibVEf7cfWwKBDc4XRgsbodQgqoI96U9lW4PKRNaAMgAMwvBpKKq/Zlw4tQd5lrIcjKvuuoHmNzqLXXc256HCXFPd7g/fEnD5OfxF9lj1a8N01VXnGuBer3OabfUIxzjWEM8q1bLLldcrtsKwz71ahVVsrTqFq6ZCgeWyP7mbnjJ+MnpBdjSDYbUB/x975wFYZ1X+/7tXRke60pk03XuxsYyCrJbuzRTxzxJQBBREUH8KiIAoCPpD2ZTagiIqBVpaSnfTDaW7SdM0pSv77vH/fM97k6YLKRThJ3kJt/e+47znPOfZ5znPA9UIgOansUHruaW0eqVEttpHB6R8uQnPNh1SCAXDhK3xaZ35/J/HlGG8jLnHzHryySeJhOGN9AoZZplfV1xxxUsvvURkMPtjPrk3deM8VlcPjgTblJvSsBNAOQQamVzoEihQikfUWfRl0IVL/OIaWkTds9Tv0c1csax7czMfsBIuqH1WrXhQnh1pYsqeSRoVlmIpQU4zSvujl1o9EXDMNHGP9Sy+cgBhvqsBi0+hiadbNt0xFw7BVAt1rPPmxdbXujGmfx36j6WwAH8qQQDtGTNmcL0hNhx6e+OveghYEE6Ta/3ZBlNTf07ow3qnkIPsmPJdy7BiiqWJW6q36gxwXio2mGPu1Fxr1UTcUPLJeAj5pffKCSOMAVexzsAfGtQ9xg5TEJthcxCTrAE+6QEIV2ci8GDj8RkhcCx6EScwNAyQYRRMjZl0vQU2ok/+lzywrvKDkzLXzA18mFnWY7BszT+HYRH6orbkXSTqQLwiboK6dJPZ+GzdyV2Gg9EOzVpzrWcPO47FV63OWz2X/1DcTrgnTNM/0upJeQhTMvfIqOKM0Z/UDWuMnGl4wP/URwMW8xQX5SfXyLRFuY4W5HYi1puzvFecsf4Ry0OrSDnDRdWggyxbRDL4OMM+I8WgKNreQQIlxIS1G8xSxOsWpw5y0YZ9+wzfjynDgClBHNa7d5XtYQzmJ7UBkyyAWQ6u7du3f7IAo0N1wxbADX6Yfw+el8JrgIlBKvkfN4hl5ht/reQ5ewtBIDog5LKaMSpAeiZMbIXTpo01CRtpFUEUplFAF2pas6hPta8ekLKeUDHDVLxEV+MIdoTQPaL2DEeSrRxMBEqCeuJQ0WH+g+2whKamVKBXiKxARJqiVxQCNh2jZc6I75lPYXl6nPqn4XfNet1hfW94te4K8KlzHgJhLHF0BRJuMinomwdvavz2byBgYCsOBUA1NeZ2Pi2Y88latUrx2OzU2SGIDT4nWYXBLW1JD4IJOIpFjWa9StqMplkr//hWjNfFNKo3cLd5g5yQYlj6YeSTGA/vMrKQL4pjrvdhcpIVNW4wT6XphZsaj+OCwLHohRmmHWkMWsKRfLF2DTMFFpFqZjRNFt8XO9J3YYj+zExxiz2Gfqs/zbJ1lfniBiMa0zJMOb6xubUAxowatDKN1Msw8yqaPcqBaXJUvmpYCm/k4OXiYJJhdNLozexD44xkmK7qnoP3C/3EndDPeEg+ozr8l3xJa05pzKzHT4YmzQwoGVjRqLDdjFT8V8Php5zrXDIyjC1nigRJEg8liqHaC1e0u5dUHTzK7idSrzE0RAnSCw7GcQIdieoP/x/1AKa8FcyAh/JWvlhhM0gvvvCTL/BT68A+OLIRgclEYTGjUlUkz4UW3GlGaIj8IJ1LgRWsdBzSKwPf9CkD+oN0DqDMzKlF5oonzc2mGYtzmeZ0nlvqvh/5L5eYGOtFh189tJ1j3MRD9X3WAD//YYGdyQa2HBhkzAJOxUNb1kuFYwYKgNdAWMo+ZwRzrTbXP2EB/7Du1Xfbuk00yRzxlPWXbr/+FWK1h7VQ3/6/+WLN3b+56Yu4DI4ZNDt626jcaRilUclQrMgROABQgztWC4cOHNl2EGPTbaebOPqb0mfrIK7W0hOXniOjdX3is40XjwWBo9KLEv+YA6WTqYHGzbQyA9Yf19Ikk77L/AM6MCHW1OiyiZM2VwwCHMoQ6mfcoIq564iP+pcdceXgiWPyVet1QmCROcSexlbzqMFLcS/zd5AVcJFTHNYo+GL6adlSjOIgRdTdoNvruQd3iPx1H1I5raBzg7ElJNT4ThNW/SJAauGvIJA2dvU4twFu0jB6fNSnCgdgXpIkyoBs5XmnkRNyWCM9SlO8DPkEZsBGOSwU0X2U+8KdhvMNuaVUUdxACL4bm5HTkktaM9OuT+JdENRRqqKwgZkF8WiMjCtcJXWGJdXSnMUwC1in4Z4Cj7FyBG5t5TOuZqGg4ap1HQXI0jgMNPXdaFg8anDUNGVdNTNkIa5mTr3ldejebAoxIWSwezatUthXI9H2H1noDAI9R1cU2MM7rSnnpPyZtCk9y6AUX/lLv0t916HrhxxmTLqavqHuonpe9/3wfwEiagTzDqiZC6bAgrleB3zpmvK6qU2AjNLEdJFm0g2Wsx8cCFDqI8GGNeZPMFeoAZMiM0PZQ3hKITEAlT/2N6BgsB8vjvbE3RA68Xk4R2gRQLjwEZANlJxvhGb5QAm2d1jbmBhpXct0j05qUlD4dKh9usdPMIcRyDFtjZY5NYPmPCfMPhX5SK2nDIjqofRJ8DH3/9sPwafBn3V/Pcz1IgvxNJtG00rPOx1Tb3VSeGHmFCTUn8AJN0mjK403mH2hjXEhHGzZeiU4wyPMnYXJPGVQiIvWSQsz0u+yHmn8PC4IHJVelLISVmSMatTppCNCwSWluIX9aouzqlhwGYSvJzF5WWBdZC3Qflum2k3SVoow0RmmD7cN0QgGE8SjjQsOMSmuwvyqLcWqpy25Oj4AwoinG/Svx73DB1dHKeKrULruNjTFdz0P19ReNxc9o2Pad8ygtHOZcHi1qdfjfxJbpl/i2zFSdiJ+EMBaxxUzZ8swGetJHcRlVGP6yn5FngUehu8lKMjBW7RvCZdUKsk+fGhUDNM0KI84F+y+uJ3KIV4MTj/5Jqmhxa4y0jSC4CYaCgZPhkb6RrIIvO9AEwbioTXcW7yQlLiwIYHOcE7RhQBrsVmL1g4Hzb/7LWI7IQeGAtCn60wGg+HT+kIJLopZtMttn+UL3Hjdde3b5rLNWIQvnOB/8QqLI3BK42kgqyzuoLssxnjsjprBW2NRg0fcePCMsNaAzLTJq8FFfMHIA4HS9IQbxKdMO/UPqnHB2jSup9QOR/0N1s8v/FO4aNQL0AFMBYX4vGj4RSMvvTQjEGAHIngSyMi46uprCvIKMjMybr7xpvyOHciEpD4Tl5OwEY9DL1XazuNjEERXMXE04vGqlgy3cNVNei3mkbyQ1MrysPc2zqb5G266uWO7tpy0JCvoyC2EyUrBoooWhcOdCj3ijB5k+zlFAxwq0qr+mhnnAQ6JW7NzwxoLOEPI0hcOuGO+gPEKDcSANO/p++qmWCetU1yy/sxPPZW+tcE/DW5ocLbB1yPa17V/+1SDBhq/Hh8EtLFStSelnFlKofJLiEtJu+IMc85ud8LXunYtmDxpnKZVe0+d1N5xUvlCCh4J4JEHov30nzBBWFGHLPXcgHNpp8jx9fLYd6NZ0nlGQVgjBAV9Kb0RIsrabEO26TgphyjtAg3qBpfZxQsxktBcZRDEYB05zVvfcMMNnTp1YhScZOxWhLnlSyObr9E2+SfB2hV+yUgi6WE7szLTRknzAZlTYYpXu8lJ5HDedPP327fvSNWOa6++qiA/z+VxR5QOQg5GBBjElIhrJytEHaOrXvd3rr+uW35BkkLB6HjUaI7JMjMjTlPQIbqbAeyx4XGUK2n6PMqVT3EKwk9zctI9qewkrIq0LECTKihIY5ggOSMVBsKQQBcGgKhjtMD6aM1/rs4crcH/wnMgNKOC7ER+mF9ud3ZmoE3LVpS8ys3NBcLCXXIWu9F7VHkB6cX9ICso7nEHlFyLxDKYWew/YxbYf4+JpJ3wJNJBlyJDDctBThWaoGaAKAMlU8YqqXe4kTuZXRIvocSiCaI6UERUO9hkbNn1hUTJPurfkuCbdxJXadgBSSzZIUAOG8QXTZkDgtHJlPrDp5mqNE7/F05b45C+JAjEKG1lA/HIUpR0ezKiUULLcVDgk1AcBBk6lGYHq8LmPmnIgMUL51vWARoMSEqWS/g4eo3IwJJYcFhjiP/HRqNShhTuUr5C0Qh9hXg5AyM17jCq2WlNh3UfPmG83HLTjTd379olEgpCjNq67XDt31/+1FO/3168HZXX4yJjPamKtJ9a2QrjlBkj40wUmqVt1t193sDNN9+a27Y16iyyk2THeGuys7Mp8YFviKd4lw9xhnXFVbI34XAjJaiDLDZweISok4iRcIRsgVoMk3POSFzD+cW40LNpwQLgCdHejldsyPVZr33UTaRYj4MSTOyvg93ZWTBTPRhEPouQyCs4IUIL84sUc9yJBqHxGAvMKLMW57J6crz9qevC1+ZfkZbMfVCaRMTSyCgOUla668P1GzoXdBU2B0P4dfkC2EFirCuyFysixe4KhiJej/JpQpM4EMKRINPEbZQMsWNtmT3UsvfxPiB/vD7ZWBB/IoJSBl4qwIYEyGhYlDCOhgwta9s1s4neR8k3ry9QGwyjwHISqsMkhMCgK8tRabWvbkto6anq6mr6aRHh12YCGwf6n4MACCuOb4x8iqeESXvq9lGYWLgMH5L1QMAUeJ7IyWmB+bBjR5GcwQg2CIZa8uho8tAfJRGzmO9/ZByGalJoinBdsyENO1HdgoigHQxKVFUOviIt6JHDrigPRQN63AhgbuM5OguvsEgVo4pMj/gVMbAcSulJAiAtCjBueQVRjmMMGX9N0u1TmDaxfZhp5LwmySiFoRF18BwSP7KdFthS30MeV17KZm72gZGFkY5RwiOQAfcggxd3eniZ0xEKkzpAfiCL3g30Tgy3PyxG4DimhVGbiUQCMVIqpKX8gSwAde555w8a0Bvtfkfx5umvvgpgAaiA68DMlXEgphkOUg63/mW0w4Gbtv5M45djQUALS0lZMBQ+R/Swg69L5/ylixdSTGj8mNHE/5AOEstXIg6MkcUrfwKUgKDyuDPRL6+//vrCwmWnnvmNDJ9/XeHKWbPe9voD533z/IF9e5IacFfpthdfmskDKKtTJk3qkN+e+f3HO7NXbyoh8yap/8Dym66/bl9V9dPP/+WSSy4a1Lc3/vOy0uJnXngBsmjRus1137oKrrHqg7UdO+TN+vusPWW7clq3njx1kt+biVn256f/t7Ky8rLLp7Rs2RJROmfOnMLClSA3dGBw4FjjbjzfCIHPAgF4LgaMrCvWvb0Z11777Y3rV5xy6iB0p9Vr1r71z7fCMVJ4Z+Tn523duhWLA2lw/rnnnzywH+hYtqP45WkvGkLDaEu7u+F7mCA0KP2bzyM0+s/Sy2M/g7OQ+hvQ8Heuv2HbhvWDBg9A2qxas+6dWW9B1E2bN73mmmuSkkaOf/z9b9u2F1/9nRv8Puf48WN3FG15eebfkTcslLjctv93/bfemPVGScneK6+6qnTzlkEnD2GhcNXadbPfnM3q2+WXTe3QPhcWPOfdhYNOOycr4Jg4efLOkm0vTH/9oosv7tO9B8FkcIYXpk9jmY33Yn2hICOuML1YjG/VqtU1k8ahD9si0aee/nN5JJqV0eS6m6/C/7Zi/QaEGbKCbLTMAVXTpVUAQSxamTEn4DhuGYZHFXl05MwhmahFSYLHt96aM/vtt92O5A3/76rO+R237ao0csvD1Ugsiu9L3k/Sp0qucdQPQ0b6oWfMr8aPQyEAAoGXUnZYXiXNfvPmfq+b2oyJuL2qqqZFixbFpTu5AZiDvahXqjvuMY5cMrVjIztxXzsHDur/xJO/b9E85+pxE7Zu2ryueOc/33zrzTdez850X33FpE55HbaUVE+ZMrVqd9FvHngwnIi4MrITjgA+R7SQiRMnvv/++6vXf+T1Bt55Z86cWf9iw8G3r726IL9zcdmBy6+4gkqkq1atOOOcsyhqjKzFiz5y1IjXX399+9Yd+Z06DxgwoKh4G/1/+OGHRAwq5ErJgihm4qEDbfzVCIHPCwGUY6MamQVPfGrUsbTb8zq0/fVDD7bt1HX8hCmFS1ZWlVcQkjB4UL+Z01+kBE/M7p497715b7+Da+y6b1/duVOnbSXF0JxJNS5P3eft03E+b9FyCte/x9O6ZcvHHnm0XUHXkaNHrSpcUb5v79RvX/3uu+8uXbUGwr/q8sv+9vobTzz55HXfvmbev2YUF231ejPDUScrYC53gBVAZAmGRKY/M7dVy0cfeLBVQcHYcROWLljapnWLaCT04IO/lKHhCCxY/uHNN97wzj+mUWkIR88bb/zzrX+8TVDXVVeOzevYYfvH1SjHrKlXmwLl2H0+b8bIS0fPnDnz4x3FLLmdcvpps95bNGHy5HfeeWf16tUDTztzQK8ecQJMZKUopAQAWPMiNeBEHJ+NcViCR/qIUERSTVGIDuqcOlxdCrqMH3UBvlG7Q4WQ6bUP8wuPU8CPmgMcQSMsM/y8Vv+1WHr863gnYuz/J9sgaMP4AbQ6BTLl5eXt3lUGCtrtgZ2lZaeeemrJ317FN4KsQkeSEe9imSqIT9pDNbUwsyV39rx5c5mLso93b960ITMzE8nUIb/zlDGX2OMRsldj+zdplp2R4X9z/nyQ2ktoVixGQRJcEGcPO3fnlg2bN2/GT8Auuvz8gsljRyuAKy53PE0dqKz86KOPEF3zFy4YMuRkAkQwDZs2bTphwng7+0jsjt27Sj9ct6Zt6zaXXHjRv/71L6rYRCjWjh//C9Zn/09OdmOnPz8E0PS0bIM9E/V78JDFF82fS7Du7r2V5VUhMLZi38cF7XJLijbv+Xi/N7MJpb46dup0xbhLyXygsGTWjghWUn1tsTljiyHGFL9g9gJy7ouVarhAa8MhfyCAtrdo0SL00uLiYlLQQVae1q0hOsxH6Hf//v1bNm5iOHb7fngyNyO3UQ1tNj9aKwvVOGS4meUxvhQuX4pXcNeu3cFgBOFXUVGB7Dn//PNnzZpF1DB2p6xMQkgUSxLIz+s2fuxw4yMLAgNqBlEGhEao1KgI82SSundNsjKnTLncRtSG21FSUtokuxneyA0bNqBGr1y54rSTBuNLxD2Jn4boLnxDvoCP8kYN59aSKA3PfPrvn02GHdL+QWUnmcQsOP/8bz755J+ioYqJYy4kS5KELZEqCK9E3J8RQG4zbLacET5QJ/8attZoijWExlG+I1Ri8grijpaL8OSTT26W6RrQvy9hHMDOHguhIkUIaNV6GNHwsnZBcaRdHM8jOUpS8kebMEWtDDNfVH1t0ixn2PnnPfXU06GqvZMnjAZBWYolKIPtNcEqRRYRSIrrgIAolo9btWlTXRtyeXxNspuPHjnqD0/9oba6/IrLJ+G31CsVYa/oI6/PWxMK4nXn7SwUP/PcM+HqGKHnIoNE7De/eQRxe8cP75gze/aKVatNHOtRBtt4qhECnxMChBsQlcD2GZcPzIRi5J4ALUOKtCX4COx2nHbK4EVLl2RkZNXGks3b5F50ySWPP/5UIlgzZcxIaARaI3683pdIf+Bpxh2FU0xrTV/ogRxi5ZjQLNxxKKbQJv2m7h2URvFf6BxxxcFAIDrWuegwXyBDRf9S9cXtolyUx6sdH5ziEuw6Hqfyp1Iu8RNw7Nu359FfP3rKqQPvuuvuf86a/eHGXex4wSuG579VbuuLL774t797KhatnjJ5JC5U+sB4tZXHRQ0zUwMMeRa1Pfunx8O1B3hFKJZo1jqf7TmmcW5Mp9iFgwA4AEnMF4OqFzz0RyKzHozH72A8phJhwYJPDjptdYhPviOErGnjJ4d1g/VJ+ApqPl3kC05Ses0fgShUt0RuY9UKtKZBq4VDP4/ZmUNv+7r8sgBlYSffLbDz0zoD5Dt06IBd++gjjzz8q4cefvg3Dz70CKZV1y7drNps3GA9Ai6CdbTAwUlmoFu3bhBDTk4zohkxqrCT0NSghCZNmrVq0xaTurqionz/3kEnDYKCCZLHTiJIi6Xet9+eVV1bM+y8C7DvsrIza2urkU/EQ6LN8S7UQ+itV69evKhPnz7NUMfi8QMHDvDSM844g2njvNV5vhQWFs5+5x2QhKv8/LpMauM4vzAIWFhUj2AG+dnlmWY4MqfYQcNGK3RnOX6kz8HMmjbLjESDRUVF4CFkkpWVBftKczBj6BCVx3nz94V13TRsUWs9OdQPRzqlkTfcxej4DllxG+vKfHbp0oU7mzVrxhdsMhqxbsBph/LJAh9jZKGHkxSYhiNYY8CJQzyI4eW4R1jHsS9ZXDh79ju5ua3ZDgrIuM/u9GRmZEPgxIg0aZqVk5OjZxOUWyPffypCpTIkeCJVU17N71NOOQUewwtYq6g4UM6unr59+8N5+vfrlxXIgMLZo4r2isjkkC5rDgTY5z/qxeHhTZkZlbgCgsCI+bXOcB9w5JOTwEVLfNRS1s45pH6ipKQkEgnffPP1NZXlByr2qxZNgjVJ5ayyfIkUS2VgftWxNTm7zGuNkNQ3WWaNh4EAaIo8AG6YTYAaouILc8EXwA6oEFQ9enbbvn0bVr2mKaXk0PjxevbsufzDDVEwj2RnZksDC04NgJoCKcH4O35wu9vmXPjmrOqamr3bt550ysk33XQdcmt/eQVTSRztzBmvfOfqK4YMHsJM/+vNWWs2bUQZgQX89a+vT73mmsuv7PbKK38hfve2H9xavm/f3r17PR5vqGYP7oipY0ddcMGwFevXVVVVeH2E1CenT59++ZWXD+w7CO0MT8jKlYVjxo3TnmuH48knfkffQJ/GmW8wR41fjxsCx6AXhe2xGymaDLLVK4pFxuYSbUkW22b3E/6gvILO24qKOQmteXyZO4q2RUKnfP/7NwfLKw9UlENZxmdfF4ZomG8948WjeAIPCNxaaqFNvmCvoFn6PH5F88H9qVYZx4NPqeY40fC8mZMvT5t29dVXn3fxcM7/47XXysvL7b4sCiVPuOyK3cVbXpz+13gizmIY240ZHR4ah6OWlhkR7wIWsoFS8c4FeaPHjUGesQH88SefYj2B+MxJE6fsKCak5XX8JTfdfGNt7YGKikqEFh4amorZ4r4MFsg1frfdMe2lF6+9dvKgk/rRSGnp7pdf+vub/3hjzJjh558/bM3a9RE8mawiaXVJgiMSjgbI3MHenQZHOsyiwZlP/9U+4ocPPfqLH8R2V7bMJN6d3alsz0awad81e704Xn311bLd+5RPQUo0M0qsvOe2W2577rkXyOCHn9ntJfkg/IhMWW4crACdsqLxSG2m3wG7dHibELviJWIlEnL6qIPA4YyGY9ik0gSM5SixrNwHTJPJjnEw0OPTD+S/7U7pBwaPwZg777zzhRdeQD8w+pQQnQnCxYxlj2bhTWktKqzVJrsXRyM7DN1+3A2pYI1CgdjvAGSdPgKLfd5sguqvv2Hqq3+dsfPj/eFQKBs7OeWoJNTJ7fWRYYBtfnH5LtgTwiH1DI2MUC3e5UixHsb+EZ/LF7a5QH9cgqycYWSj4XjdbLuhTrgPumIxnO7l5LYeN2b8K8+8XFNVHXOGUHRIfMmmUbXLYqkUSYJNlP6A3da8ESThe11sqqUtWp9ple2/bYIbx3NCIXAMelHKPhGLnRgorAUfTMwZC8nR5QygN3ntsckTxz3/8sugIkktglHc5VIZkRuJUK3fDWdLRlG22B3E8/jjTJVI7T8xvIsWTuBaPkRx9913P/vss7t377b0VwaFCogfE/bPd6+qYEVtvkA4GvG7PLFwyEc2HujQxExqJ67DHUpSrNidCB7wKhMUzkU/QjySjHr9SVYQPI5MfPns4CK8zubKwlbjLgXVJ2yQcjhei5fS7sqAP7ugYi0lZplwDLZ7IxXsEeIY3Oyxi7tJwBENZga8sSiSLxMgJ+wE32MC2qNhYh0y6W00FtKkRBOBDNgCISC2H/zgLpYb1679MBaLkpMUz6IxiLGHZBLKMubDkgiwGwU8pvIL8mTtSeWQucUuP3EsEpDYXa++/uasFVv2ZnQ7ph3GA0BHWog5kNs8qiwcShoktZkzdJFYAdrnPNvF6VMmgRvGzuUqcRweb4D9tMg+Iryxw4jxIKzSA44Yp5a2dcu3rE3zNK7/xf44zIjMt6/tB2AESlKaBED5ABFgWMCINO2lx8mNE1y7r2yxsMmyQTYNUlzGE16/Nxxj61jI47KjhZGphtBaKZ8OXOdhp89dG2JbmA/VzusiNZXWeAM0iIJqFihZQ2bOPS7ZfNh2TJCZZeKyYkSOeJ0E6sRwR0Iccm+QQBVkRGNhDRd9xIF7gU650VeGDB4ci6iThr7MbhunJ0YVH5Np0+R9JFpSAT5awGOHplkvBwfMjB/5+bVFhMaBfyoIHJVeJHeMGYUci4Ujdg9BHTBrt6yzaAhERXN+7oUXXd4Ae3IRWt5ABs4k4sCxdjz4isyyCeGMEIFYn5AT8Sc+ZT5kxujHiTggJwiclgxdKYYQ0hCNo/VDulzQflCSlEPxJCKQ6LJiC7jNchUmkSfQo13bMZW1gAcRLXjRHAlyrSLpRNr4bFgaQBQDChgL5E3yOZbNTG08p4OFc2S+RBEV0VwsqItCVVoR/5mXBSF3gHAOGD/xDdhh4UiIBXe0UyQ6d8cJIglF/L5ACu8ca/bkRVTUsT6hdCJrsMacJnEP+Q9SpLk61PfymeF4TBkGaIAdBzAVNzPSBqjQV10itpBeaI+tSe3NbgvMW27CtchzSmvkRNRLu1FqIjLwm8hOIMWlpN3vDciYQORqIUT3cxC6rR/62njIXkV6AVK+WOCwfgp9Y9pjRxY4poB0MCAE00ToIJ8s0cbwlgjm5IoBoNqtSTgNy8CEBCF5IEIjLYhyTXIuyl5FZBHb+pBMyUQgIEOKQwVuUVlZtkVBc7jjkajbh2tSgs3NClmSTWgxb0AbRIR5WmtjizM3eMaPH9+xba76E40898yz1dWVLEJ4fX72UyPHsOwlkVHqzG53IqbAbjZd8DzIRktQ3RFzf+SZI25pPPG1hwAYdCS9ILnQ9HEYOpNOYuGCKIR2h1JI4EqCixIbF0uwMZ/wDhhWRkYG/Itdq6So8apII7+SLrPTH5HGI8BYpGjIkZ2+6PHYB/C3E3JACFY7Fslbn5Y84zxLVpAn5GOWYOKyYSBjTAiSx3M+5YiEY9gc3KBwQiQHZpey8CRJR1ATDiI/YCTIKq/bo/Ud7XiOitbk/WJJi8xS2n7j8fqQghGEPQlOIXJssWScFL0R0tdlZWOnYlRJHHBSemrY5/aQ8gBGhA6qcDH0bI9y1CFEKXpIg7AOABWLx5QViH1XJh+Qz0NWQvI98nZRe9pI+hxAPKYMoyNMFp/wKUQRzNLMHbuxJb+tNzKv4A1XMQuQ5gxP5iHLfRF5h5xuP4nKWExE54GBAvIwdbVRC2z2YCTMs9JmTEu8Ra+SdMNu/PyD+hzw+Co9CjwBL/IAbOALVArqYLTj0giGawOZGeFgEP8eUMRBLWWNw4mbm7QaLha0HMRT4Vbkn5QTsQd2h4JVYORzzz1Hlg3iimgWyw79xOmxsUnS7fXi+6UNDKNELIkKIgtfVrTinZI4tMkc5kQ4RVmL87i9JKxh4kAIPukYSqItHnrlpZctspYgJAAMZsDGwXDQ65WxxXcALMlnQkt0jxFdfIpl6DjWp7nY+NEIgWND4Cj04nKjS9lRyTCvEvjTMB1YmM+IkofJDUHIqoGySCyDjx2fAyiN1UXkPdYWtCQnHpRld/r9hPISp16HnvyLALN+Wgh77F59yiuGi8rpgnIPOYiWTV51SQLxVTFI7CakkaweuiqvGEnR5SYRR0aL9OLhgrCwglLBUAwPXjIBUcbpvHxnqLzRBMxBFgUyxuMlry+0b8w8xTTqQZJ+O00eDQZFPnccaR53DO7tcRGu5Xdmoq7CEWgT7wtWHW4eftniYcg/rhpV6iaAwp7hq8pWwTPwVaqWkbEvJU90QPiSCCfoOKYMA47IW96HNDrzzDPZJ8s7MUhhTBaIGcz3b7sN8LJkR44+0x+sAk05+jWdDseSPhZSrTkG7JoD2iB4Bb+WsMEoMlo7MUujaAQgjeKyT9DQ/m83A1Ja6Kv5xhvodrMqBgwhMIHPwJX1WByxIDFoy/3UTMW1Ab6CQUaZAAI4BvgzuMdylw4LxjLvtNnepeSbZPZkUVMShabkorZHQlGPn+yfPOywh2J4yUFJom2NAgX6kVqGSnlxdt1bM6mOIevMszSIzMUOlM4o1cwkyGcXoLHdkZ2c5LsRz/JXW6wHtEmruOqkhQNWh3lD49EIgX8DAeGzYfeH0wvlQwyeK+5M/JT9iOw2EXJCQyB8KBL1eRX0RPSZgqW0RqQgXJGZfuvATwHrFyszqzXGfgBHxYUtWWbu+lwfhhwkulgpuE18VcGHfGq9BXJhqxpZi1HwVXkOjxdMVAHGCSXaxjWjlSTCNtgPE09gMOAFhXvbPPKiiCFAt06XX+t6EBML3NhX2F4pk2VKzMIUaqYKWQwfI3RuRQ+SwZ8UdNJ00UaxqCSXkOrEwuBsE4dPRVmQ8+I5RN5JsGpRCdLlKuOAkWuFHsecIiUSdoIbRchIZ0YqXZbecIjZWGT+2aF3TBnGmyQ/TdkwFHMsLYQo8MLeQobxQsOnVCnA501njQJJDE80zlx8q4wazCDFlrZnA0TAg9ZvRLnEv8WouGjJb/7RJQE0fRhuKywxh8XWzA+5oXVe3VArgoL5bm487EPXDzt19J8WKI/ZztEf+iLPWlYLn8yFVozMwWAgP+mPICeuDHSpSJj8AsYDLhtW9jOyjZIHEg/utL/W9NNob9ogIscdBj6LXhCGLDBcDUaWSK9w4mggxYZy1RuFwsX8sl0EHzGYzE4xegAR4HnwueRMxleIcGIOcGAimdQCDnowWJqXJB8WFujtotmI2+WmWYXzIPMMFukJYbZmvgEsre/gjwZkzh91Xrh61PMNWmr8+rWBwFHpBcmk89Kb2c+EgMJvJAc7ijYIrVUiOd3Fsjz42cA3yhgToEg0IFzWGBzCZ3IGA0Zht3ia+a5Pw1ssXP28UBaxyEioDzzWqo0Em8UnLSLg1ZhaaIMQoXyDCXRb6ynECMaG8XiJaRN6yHYsTiaiQRRN9ukik3lKDAJZTKC7URlpnDFoFC5GHfP41JpeyB4yBTSaDkC6JpZPxgXXqD6D5WdCJRFgCVJQIhhpB+GkUE+2rtKI/KL8xGsJx0AGSC3AIyqBDIMw+m7diLgTnUBcw3SuwWmufKrjk1gAsOAAlIhiYAej0W+UfjyoFt/BCKBvOEpZJMUt66T3+G2pvEhaIzLWYyVE7KkoSWMNq3HYwja3WBvQpEVT5opQyBiKgXqeiJNGgpFqyIoBUJvMBatuZkc3twAZgCtHbzKSwkmLzc+t+mPyyOBpjT8aAXoS8zjQOEMLXOIGwcPcwXD4as6Yx2HtulNqmu7RXXRBeTCYKuvMl/UJvHk1kLdQXH2D8OiVVp51zSgH9DeMJR8kNFDYKJECtgIljUeb9mmCTyAHppmqY4wVnIuHUZiIcTWuCQ0R+cfIkTSEMEHbZOZBIxXigqXGfY0YQwjZCECS3UakIlEh+OhlYOMHRjfUDn4MO0Mw8jMoqJEp4BkwR6tsLMKZSTEDM29kilgi1uv1E78I9wr6HEoFwE8zv/ykbzzG4+aPXpvpq//UCa40Hl9fCBxJL3ItQNwGL5SFHhTFBSc1TOecFA5EiSPnhlt3oNFRy4hFEK7BbrWLN0XZB/AOMjBMyhJYwkIsNfD9BOMbZG7pdtZAJLF4DZ59PCIiQDpOVnj6w5uhJxOpAD+QDURPtJpDrzEk+Vd9xn4gNBmZJQZAb0XFqi8CR+EHlG+Gw63iBz5XPAmnxfki/kncSATmzDICijJMW5INgwvHLDewRkFctBto0l3Rn2gfkLLEYGpMw4zkUMPVCYeSqk2sCU4ZIh5YTHISFil6x8fDg6Jz9c8cks/HD9FPkmHpho/1D4yNw3olKSMkcCU5ADOC2yXzFkgQoBLu37/v0qWLSWbfq/vJK5dv0Wl4r+Cmh3FSGuUCeY5RiMGhOBFmSNyWKeQetiRYh6YJc5h5AsLGpSmxCsTVgrR74/zE04vtD9xQIHgA4MM3jSQGmibAwag8LOuqVcMUzavTL2nwj+D7lToEAJLBk1vT+OLovTA+Hr/rrrtGjhml5VVNAe7wYL9u3VevXVMVinTrPmhF4XrJHYUSSlMQSoFcSKtEqmf3fiuWreEx2rHy+QJsICrvPIJf7gsW1YSLCEJhmgpmSlnjcdCaGFzNiHkvU2X8GPK2gwO6W9qKPRbWGgOiDtIg0JVHZZfRf15Td4A8dYqFMg6wjEqzyFw8qOoqM+nC7yEyRm8R/zDS2TxNIwfbqWuv8d9GCKQhgMaLW0A4Qq0Q1r8MqiOOZN9ATuAlPCFeAweev3DJ6LGTIQ7hE9gLvoqviI+B0ob3GIZ1CGi/eNyrC0hGOUTVjkS1oEXP8SDSMbpIPDDkg8CAZ1pqPX2PRFn00f5QBsqIt2ze3KZ129UrV7HGDS3yIHaIAQHyCMnGLTbo3eLhNtKaSGlFqqvUo8iUwetD2i6Jpnr37LV67arqmmC3rv1Wr9iA5cr1ejWUxvC6cD8sl907odrqft17rFqzFj+cRfgELRtZcRCOvIE/uvXZDnG94zkQCdYbJTyNn1YwYswCKLp/nOAOWTkyo+Qnpdyn1l3wTckqNvlOGDEOWhfOL3FTYRLiCOhb3SAWBL8Zy4/IaSfBLigZ7K1NEqfNhgbdor1lNIxNy9vE62DoSDSlUtYqJ8WIJepVJQgE5DHMVLnCCSHSCp8NtwCWBF/CEVkpEgbqjvpcf2gaDEAlQ79ah4AvKwWVRiICmnTu3L130ZKl6ArLli8RECXWCcnFjNXeBnZ7UEZbi6qW+ZqI5ud3LlyxGrhSJMxJABEVm1E+mT3ACDoL67kb089DvSAwHfcJMyt/TIRYJkSRNgki8LjiIX+PPVVbW4ucQUz55GqOePEVEPKl0Ce6QyCuB0zgdvIuenHgoOlF2F0m0CK3mBRMNUUssvksiftCpRx4F3tN+GSKmbcIlrzckQ7CTEimY2mgQiZ6mj40boOQdSca/22EgIEA/FRsAn1VuMvukyAsF7KxdDJsAyQD7gSo5dHfPHb3j39CIlCCOuTrgV3E4EU8R5AeyFWHbOIOIsP/DIDBdumGwVoUcVQ6r0fVv2QZIahYpcORR3AWgcdSTFWSKVJd0adb93VrPoC9hdnKIlvC3rlLl9LSskGDBrL5DW+lHrZ72DGnUXnRgwFDBINUtikhx8F43669lyxbEU2kYhGZVEZKATTWzp2JMJEiqLURt58tpRkqSSJzLumFYdjsYbiv4Z7BUA2smLU9ypURYwK7gtvI7rA7SJ+LMKZVC4i6//MddRNzHK3w0vT8wepQCDREaTNYTuSUApgYiSzYYBW78ZZiYbIPiUBE8UaXKxgOwxHxViHIpClIhCHcyU6LFaVmUdZZmSRGU4yU5H7iesg7alOJpXGDdHMAhYWA8i5zTTdyyM5gPgncM44pODLnCZ9jqumJNBStwfAyNujRgs2LSWsahI2iMkj1sCxLNabFVf371TuMCxGLBLCoch1Ae2fOvGHfvGji+DHvvPkPplNL1+iQWrKmcjmRF7J6wDK5Q/DqhmqzSAHFAB0OfyAT/PNYdhXLY/j6wG72PODClUfPiDEjzSTLUqx4K2czQAZiwBC9EGDyR3ZgVg5UZgmdkV5FooCSjG4slclzIRtY2yfoWzwqC8pH4rEw3RPYrZnkVfFwCL8lKKBQJnkm0A+lhSCaWLqw7C6mPhpTSc86nYMm6xGYUVqI8NWbs8YefXkQQPuhPiNKkGEtCbY4wdPrEUWGGWwrFi0t2ZmV1WTAgJ5+eRmI8pWZgjeJFWWSUpilMqHaf54pGNHgUOFjdiWLOhVgAV1gkEFiZlXEsET1jVp/KR9dRmSw5ANfdnuo5ieTC25J93HgsZqldUAnbcmDY/wdsWSI/b2GkAhxREskaAuKJTCEnPTOJBSHzGaBAgpLsL5uz/T7YLthIsHkT4H5K54EyMAPkFG0CeUGKBYvp4vCJmG8Wjh3u6DqYEj8H7jqqQZHPRk3OPdpvx73s8w/mnD9XAobxPrVDtqLLRG+845b8SizwW30mMkkjQV2cQoAsG0bD5DDyU5n3alFMCniMDuc0cjnS0eMYB86D748fRogKCsqaZWd43H5SLn5/LRX4HyhigP9e3e79prvwIJLd+zq3aPXX6ZPb9emLcUCfnrfA2Ky9mTR9s3Nm2SRKIR5nPbKDCY9VFHdv2/fa7/97abNm+3ft/v73/8uQaGgxYiRk4E1gjMSM8ZGnVRuCDazBlQ/0IZXvuTvxhiSOMduwn7616zZ537zgqFnnrFowfvhKNoA4fSEz8g5jqYGDSssmNux36KRIUOGrPtg42mnnDl63HjidKiQuXXzptwW2QGv/6c/+ZWR/sk9xVtbtWrjcwaat+q0Z38VmCdveyJMjh7ofeTw4SAuFvVrr/0NMt+8dVNO86YZlGDyBl6Z9pr0u+pw/+49L7viyibNs3btLOqe33769JktWrT2O/33/+yXYApTvqe0rFVWC9ySxA29/JfXwCLUxf49e11zzXeaNsvZe2D3bbffzPb5gM9/yYjxqJhwE5OfTaIRq5nHNKJ6VmS+6ddXVfP4kjHm6/p6oQSLRuLArOaEoxUVfQu6PfrY79wOX4Yn66f3/SLCMjn81OlYuHDxueeeq/sT4du/dxP8C5fA8Esv01KEgZ7UQJixDlgNTDB9fOGg1ap/NF5d2bd3j18//KjPF/B7/D+75+fssiITf2lpSU6LHDREYiemTZtBpYpe3bqXbCs684yzJ0y8AsWRzaOEb4SDkQG9Bn+wYl20vGJgr56PPPJIlidAzdqf//ynkmIO25jRI3HXUw/3hedfGtC3X/G2bUPPHDplypRULHzfvT+icbTWy6ZcCzdElOHQhITJ4cFSA1BgL9Wuoo0tmjbLCDTNym61/0AtEnH79g3t23dkf9WP77pHwpW6o9ILUgG/D0VWiZkgXymo+jtuIXQo0I/vccZguYtpRLOLRaZhWdPMgLCpEg/84n+SiXBNsHbdhxsKl34A65TaoAUyBbxJNisWVFo6ticog+QbfelweCtBFpjJE8aNIa3Z0KFDn3zqDyjd24uKbv/e7etWr4NZY8S2bte2ura8dasWKAH33//g1q1bNm1c//TTv19WuJw6oWefc9ETv/9zJFi7beumO+64Y8XqNXgJ4OBt2ubuO3CgVaucR3/9K7xcteFwcVHpsqWbUCTQsOidCURgTHI082cOICPGb/6sM1+JzxjbxRHXxma1RWNbN26srKnu3rNHXl5ek6zsDz4gjwuePiVXJNQKBEYSy8qU3sNzJHr5oEe3nssLV82YMZ1mqqoqH3jwfihh/vx5v3rw4ZqqmC1Y+83zhr355pvhRPAvr772u989wSTpWbP8NWbkyMGDB0PG5HUeO3Z0KBS56MJLfv/EH4nF37Jp62233b5i6XLyp0Vqgl27dt9fXkmlIlw3Dz304I6S4o82fPjsn/+4bNnyUCj2zWHn/fa3v40nYlu2F3/vttuXLCmspahzVVWnjvlkG27aLJsKT6lkeO/e/UXbSxYtZlBap8bCZn4YjrE1G8qwNKP5SsxQYye+ShAgWguGiXMI1kRKz2goumDh4nAy/N6c2b/59a/3HdiP26EmGPnl/Q9ecMEFWqxw2h68/+fxeBB8/HDDlsVLt+D30drDl3TA9nAu4XFhsWDJkiXYVfPmzv3tIw+XlZXh+zjnnGGP/eZ3uEeKirbcfvvtK1es+Gj9hi4FBfPmz39x2vNEr4RjtQQ1I8eiQZL34FJ1BCsqli9ahj9s3rtzH/31Q3v37507b67C8eOxUDwx9fLL1n64Lj+v04JFC1566SUE1s9++TN4ZnUovHzFusKlG2RpqOIxcVwy4zBMbLU1Iy7+5j/+8Y9wpOadOXMfe+wxKrmfPXTo448/zs7r3j16qqsYISRpIhw/puWDelgiQawD0fGZj4PNfeom1AXzxoPzihiQgsKih9NRuHyZw+ELBDJ37tyFlHO4fcAah6uyDMnSTOzcvrN5dhM8gRn+QFnZzl07d6xZs+a6665D1OOGRqSUlewkimDo+RdgAXTq0PZbl12xbcMm9CIS/40YM6qGPeGxSKbH/dTv/5CdnVHQpdWkKSNIO72taJ/dkXPOWSOd7kCntu0nTxq/eeMHltvz4ktHk6MC7WnRgnks82CTrf9wA0oE5U/RqVjMlDyVNlAHUYb3OWD6qSH5WW5kz4LojEPevuSChfOGnDQgO7sp/R8xfNSvH3gEowWzBWDjhUURw3uAi0G3MzpySimcKol7HbmNbpGZGfjTM0/jou47oH9e+7xtG7fuLdtTW1V76smn+LxNRl54/oYNH5BCRuGK8diu0rK1az684fqbCE1i4wR4AHayEjzsrAuRLB3z8iZOmrRl22Zex3aLs88dRpeYfpwaT/3h9z6fq2On1mPHD6diGbUeosno+RedD5A7d2o/cdz44u1FGRmZlEQaMWo0Xh+2ny5btBgsata8xcZN27z+LBaJaYtXoiVJ9ZMC9Vmg1/jM1w0CON1F1WimWopl91Xg1ltvwzFx6pBBndq23LGjCHfMyg82jRo/uXXLJqycp0LBlSuW493JbJJduutjPEMKAEEK4pJPww4k5M86PgP/TD/5Kf/BGYcDEY8Ff7fdcTuDGTSgV5vWzXeWFpWXV1Kfcdi5w1kg69Sx0/jxo5FkGIiEaLNswIIJQeOkfCQEBILxOIl187KAk+XJuPN7t7vitqEnn9SpTZuynWUFXXotWLD4jjt/yLID6RLjsZpkinQUMS8larzO+XPfgWeSzn9HcSnlLvGaKVmBW6s8SFbGv3f37n179n7j7LNZrTv7G6eTdnz3zrIBvfsPH34xq0ATp0xu21alMNh2BRGTvwOzRbH+8u2kofd5BBhgPP45ACB10tOayPQnEsrtUqwMFQAAQABJREFULtmyhTq/+/aVEpAyXE4nezIcDvgzcd/xnYUULIP27dsfqKzC2AoFa3LbtMajxRWjZSs6XwuwoJzcr7I14GjWHjssUEau7OyqR0erJP0jUxEbO0KYYuCXwgGIRnR6U6EErxETN4GqWCSy9WyJ7Zs3XnbZ1D17d+yvKB8zbgKebl6kaAVF79ThpIVZh/6yzn01PmW8E34h04rOyxi9//5f/JKUuxDnt7717Xfeml1RXoOZQtyKMIOkiGx/AabgC/nflLITZzerlQDTrXyGqWSQYnTAX+dTkLnWDzzuvbs/Doeo7XDgLy+/hCMA5zFTY5Kf0iQ7ybTqZkxB8AcCNxa1vBIpt9dPIg8tPXtZ5cUxE/RI2El3YfF8W/E2NlOTJQRByrssq5dp4mBfjMdp5e227di+AyzC9xsKhUePHhsMkj2E0GbWAsjHqLmSysHBAI1Twvz46pnMVrcaP79UCEiLowNmGZVNu0gsdjWx7V6uhHAIHhKKxx797RPDLx2DgwNnT1np7sunXrF3746KqsqLLrqI5Xl0P+19kiLInwShGZAw/z8xMtz3Zpsa6SIgIegINxbMjVeT1R4+YNaWxDMVuytCk7CFykzQlboIrUE+8A0xVPx4NicZp1Bk2ROO1REJxzu0z9vz8YH+/Qdm+PzPP/8sUW9aCIQDx5NbNn30ne98Z8/encRtwc9rg1pQICkX4Qisf8v5SEyJPUUJp927y2rCkepI5cwZL6BEQ6uS+RaoDJig25Dxn/AMUvCooGsgW456/egnj3MaxDKsP5pTgBwixvqC05Mp3l22t13b9oSjYBctWDBfppdHVUT5IubLEj/WA7JD8aASM7TSuWvXfgMHYHiaDhKs4O3QviP5iefPpQC2bfuOHTNfff3sc84DpnBDHAJx1kO0puJ47dW/YiOX7TqwauUH5513bvuOLVO28Ow5/yJ1I6bejL/87fzzLqa3uNSUPiYZR/1v0bI5hWBIAL9o0SLebt4vMSZn92GH+CNgVw+/xAOgHfZ24Jz2fDochStXNWuRc2D/Xix0fA149jDhKcqFQMJbjc0OqwcT2XUoGUA4hnKeQse1VMtBGwr4s/C0yD5T6CABGqhXqVYdWhOYgeXErj+UBW3/09R5CEvqkN+xb/+eT/3xMZ6QYkrF2/b5TMmcd9+ik9uLiqfPfP3Ub5zl82eGIkbesJXSbQ/WVs2a9S+kVNne/UsLVw895+yOHdujjM2d/Q5L0Fu27Zj5+qtnnjMUr722CRqnzY5dZTmtcn0+Pyvt8+fP51napxM6zExBfYeBxfw8TmQ+WhON5/7LIJBmpNL50NG8RN9CEaA/+Rvg0zDV3WX7/ERzDBoAd+GWsp27W7Zo6/dnlJaWLlm6EGODqCUYlzw69fh3kAd+8dCCzLBd4hGI2YSzESSJkpkB02rbto3DGZv97ht0ctvWrX+Z/tdh5w3XFhht2iVRpAlWhKQYJAKYtPTs0yWRB/uX4kHtdsFWQzW1k82Dfx1Tp0x96vdPFu/Yjo8E4QaBu22OPR/va5LTHH6+a1fpwkXznV7irJJhAjTihCr4YCuRRLB5bg7lTh5/4g+8lV02GBvtcltt3br5jb//k75Mn/GX7cVFknUYYWwIEFuVdVEPOKSC9VdnGaEUpwmZngNyfqY5df0zh375XGRvPHUIAGkBvInsWCedfGpubocmTXLI/dqvX196zUmsWCQdQsjEA5LTGIeQekHvLCExbdq0Pz/zDImAkenTp89gJ8GcubNvvPF6NPhe3Xu89tprLXKaE/KCexdtCBUKkAPWPXv2UFmgc+duv3rokVbNW2BtzJ339m3f/y5FS7t27zJzJnEE2SrA4/Nhf2C4DjnplPbtOjZr2mb8mLF9+vRiMzscEdZpiQSxx8OPzwWcwxs7Eb9NF9k1pVAftj7O/NvfLxk+qmmTpuSLRscikHXcmNEzZ77C/g4IjnGx+sq/wWC1CYtwoXSgeI4bP/KUU4dMmDBeG7DYnafAIbMTxB4PxWqoa/v2nNms+hJZlOlrOn7UJOGdnCcgofMvr8585vlnlNrD7ZwxYwYxTvPnv3frrbcQStq7b9/XXn+teYvmSmStG3Di05GUPyNj69btBOJ2yuvy60ceadWyNZg8e/Y7zK/D4xo0aNALLz7bulUOjmKMKoOyttPOOLNt2444SEeMGDGw/wBmhtHRqKhRCI8ZaiCRnjHxHnXR/J0IMDe28d8DAYMVhC0gw5zs7iV1PcYWDBWvASF1OGPmzHn3m+dfiE5EnBIq1KAhcLC8Jtk5Y0aN7tW7GxVGDK4pFvzLOcB+skxoN4tJpQjLcsuOISCAchNvvTnrpptuwolH4Vmq9OXkZPuyMi8YfuHQU4ZcPnWSUtDpdi/1mILxIJVm2OASU8kmbTjCVUPwF+6rhQsXEaKF9XDb9275zrev9WRlXnzJiDNPOQN7dPDJp7Rp1z4np8XwSy7o2687EYx2vwvh70EkqihFLc4sR3bm2+/OZeEcndjvCkydMsnlz3juuRcmTZ5EfPn69esLCgqgXCYCwQWrkUzii4GmJb0aAtYwNokuGAjMigc5Gt5w5PdPqh/GHNPi3/72t959BiC04RO4segKAmjQkMF/eu7ZK6+cSme00ATTZAkL6UroJB4kD+V2ULW1+V0LZfFgzO8lyBpBzRYDLdLg5YKDEubuwbsa1jYm9p9HqZwtI99wJBbw2eakjP3wL7Ouw4tjbGdKJcKpyv0DBgx+5tVZGHC4BawsIWxEUM9oHEcayOjw8dWFXg8nJZibFV1AxzYQPHDEOsgKlEvKTlERbQWBe6ZVgwaml2BXf/5I2P0nzzz77LNXXXUVIACT6a3cdxxm0yHoKMvf8HBJefqsQUWTTr9RE7RwxkiFPvI0aF3SiAo3MVkujGJdYiETE1etsF6rltgWoowfesgkJCAU0GCd1jRNZKFej0qIcmDmk/zUdlt1Mso2Uk0DhSxYMkPo1VT069fvmdfe6H9Sf7gIG12ITZJ3UY2BTS72jjjYdEkCKlZ8Mdml3hAfHGVCuApfwSXCzJB7xUs6Ldn9bC8jXRCb0NQD9ljIvJdLwDArM/+60Hh8LSFg4TZDr6cXHGhQixIpuX1cRfPDKw5+wm/wzVQnXJdf860//unppgG/F+8X7BKMV/RZ1IlX3BBOIlEDAvpcGYYJswnni0Wy55577sorr7QGwidjgRIgTpZP7JnZ9M/FJhboGdciXrEEHiYS60Da2IsyCrgTGiKSHUZLTkPkXsJGkgH0RlMIl+hiezKK3yWVDOBnSbKUkPD4lRUQRw4+RiJHCPllXy97R0kCASeRB4e8g5TMIsmSEnbEWTVEMqJx8i/9czrYIc6XAKSMscjuVLQEzmhVAmEHEL2uGlIh2ZIZcF2yLgVDMDBSBXMPEqH+sByJukQucjiTGHXYF2CFSF43GuPOo9YPY9DHcfCa+pcaniGg8TKxEXLDUjuYksHa9MO+WGwwGKJgSj4+J2fpgcK0sW0V50NcuyoCxFJejx/ooxQYQ9N0xiS25RteXXqtvUdsCAIIRCkoPo5VWvDQbXgrw6NNEitTH47dexjBRDogkxCBZtAJYmcFYFIp4y7jTnYzq0acAusBN09L9BojLD0y9VmHhmR9+0p9EgtjYTaqmHQas/1CvFx/2gCHT06ZeYlXAQFR15SK2xYOsXmLgbGvgHpvCo9geMrGS8yV2fKIa4LbkB+gC8+AmNSpkzUHMOXFRRkFh1TYRYhnMgIwNQIdVxBgki7kyGd6oQ6Ai7tDkpaZ9XgzOEFgIfMuTzHb3pU2k5SLaFvqsHATGYTDBLQBefH3QyGE8bOSZ5yLIDHr0SyGkXScMbLSduSMpCftyAuNZ77eELA4lkqooDKLO5u1W3gTqOt2BwLel158Mcvvl4IF63ATq+AJh9Cq/eA0iC7spj4sCXPBTjGMLwOaMhATjgB8Uptc4WzKH6G9YvIkwVihL0tUq39odRC4pXmi/cMoPX7EmVI/2G24E1XmGOZGUghprg4EGNyV1hBg2rXi9iGKuCoNVPu+eBmEjM4piSJVGH8YQIANQLOy8hBiXv54KVe1YKdYM0I2jP6MD5OkdCQHoQivwx2lCBnmDRuqqfxiDjivmC/DoMvywmjRjkPfYDsyYDTkTwb6cbNptH790apZG6OrDItf9EFeOwUIKPRZu1AZN69Xp42Zxv47EmyAK8omLJuIp1i20dofAXSgFPxMc4CCRDJAbAOT8kS8FYaMUuBEi+c8WoHLm0X2f9YjrSfMhHJf3Okl0TI77TDhMJelociHwDN02OSAQMUimJ7uIgsBNT5x+tPAVk2LMSPAxPNBh08G35dxlTkle0mSqAkMFHbMExerCWeQslmk/mDxYqEhyogPBMkSyYjPrz3jlF5gSAgmcJtP9Aazu1wGKcDXpKJlJaLoFtAzuhuj1yQwQyINZizB9izmlpvTCACIqdgQrdVPqakohygY4DUxS8Ccqk2uEGkwdUEKjWw4IQCVhKhjBDZwsx6VuDOiDFaCIGQ7hGXd8QgJh7UNzpZirwmr8SJXeUqZYUltQ0xqgP8lxqx+8KXxaISAgYAwjMVfzHXqDKGKoRihh8G+xWsc0UicqvOYGGAfaK9tu7akLzND8ixl8xMgy3k7dYUgDosVGL4lNBOv+E+gGzTA4TIp3+QUwpEXgI3RQbaImbU63DDKZwsVBLGqjL8MKSQryXQRQxSbgfy08DyvN+BywABFbKiKUCKPoUoyKiSiFGL0Tw8GqyQUyTRgMjBTklOgypJ5IkklLsNIGX08pJRRuIUAAuYED1KCkHUvjli4xhC6g2Q92BUUESNCj1dmeFVfl3UJ9uhKMvEO8yeOJp6mP1iBtVrGGTppJJriwTSWYxwwjeM6xADrphPGg5aDkGAd0QAaYNB32ItMVwkkIIswYzOY9Q62f3En0Sz0SLYv4CABJNFosFkWFsWpdCPPAlM0ATAJiKA4hcLVhJaiI5gbHFh7H67/KK4EXBjLclrpTlidnZlgPzWVxGXyY2GgH9CgZlrSitfAYhFa7O2lVpvOyySRKUNP6VRaYvHDgqB689U6wEyEljtMXAuJCeNYseSwQB1jWGg0ZJ1BLcB7TjAu4yKfcsQ4FQQlpAgZrElgicRCJKFJkAUKYrbjylNKRHQPF9XqzB4GNCk5ApkNimT6TTZr4bwS/iL3yAJFMKdbUY7gNruaQXTgBfWTVAzAyvuHDqEQQoIv1m/ZDGpjAwu4cA80Rwo6R7TtHbTnE0sRrzwMwUyH6EpClPeoYqwSrEC4IDFDlEKoBCXILoMoDabGmt8GJxq/NkIAnEJi4ZMwdfiMfqY9NnAKw65gkAEv9fYoHiZeiocDvQ0mKn4JzsFthWqsTLCznvKYYtbmOf411/5TAEb4SDH0yGOINwIyhBbgixAFLBjlE2qANkhIS8YcOsVGWziotFfcdWK1jJghIiFwZonuGCuVnbmTx6UNy8uiNjRuOLqkF1l7WMxSWhDsOPZlQnhQODIULYC4BBRjVyZhkJhTMFXivdgUCoGr/A1bmd1ozCy2UTOeamdwAxg23h1y2IqXY1YoibwYh9GmeSlCEskLQ4Y5WEaYMTiZClQOpLYUbtjLsY401z7W5SPP1yu/yCtNJZ/8mUP5KPHzENFOj4lUha8wLJdLtRQRGKShlD6eRFXgdokOzGCWXxQRh79VriTB2xiScKww7Rq3ZCoe8vswn1STjIM7o/IrwsyYF2pdM2qVV5C6YPO53VmwOcQZfzigkE3GiNCs8yzMDwGJYUsuL1kspieAkKg+03YaTnqRkQr1QzNXvxIfDps7HIb1K9sI69N46bQYhgRW+IYcpFElk0ZLYETswxCSK/GMAW2cVSqHapkyTpyKZpRQguDMbHAaDJUiZgQYz+NI8AVwfKuAq6SG8T24iUiyuULhEF2IR9LhsiITnOgE7xjXL69DraN9p9cHEhg3ukiESaA6A+ep1weeWIG5KLvwingy6vDITSqbz8yUJBkbUJysBiNuNWtgutQmOg+NGn8A3zksAaYHLRSxzjZ+NkJAmpmqaLEEC5cgLg4NzCC2QIOBhkboFYMH/bWSIysNEcAqE34t2AlflUzcCcVxuwGnxXchIOvvPwRimJb4uKKZEAHqLi+G6uF19Jp4KJggWzCRahLGFPdCdEHJrG1TRISO8xWDMmX3OgMucr0RlcEZuKhiF+UzIyRYTQEPBeLjrnfzQrlkTIJgOxUsbO4kqrJyp8IfWIMAsoo14L0uhzcaoQktICHNdBWNlQgsQI09oxiJEHBWVDmdYocNvh0UXKOQwo0NQzY/zAf3GHkpSqZxRoTA45OfxzqsiTnW1U86L8ll/Zm7WHgjQQtwE+jwExFVLcghnmJWIUx5ohm0fF/yHzEfVs/EgJXb0CjqOPikEDBwAl/YDY4QR32QjJbUEfuSdxBvNZMK6IEL5wEDo4VXSlZiDZjxMh+AXP4sg3zMEPcIvsCP9jFSmBAknwGS9IU0jh4yZOuNh5z6sn9AWl5TsFWwlJaFeqRPygcx0UQBoxigMOCBi7L2KzsY8KFUqd+M2njzaAONSH5IXQXYmirBjm9yvcjg1wGgRKm0i6KGlxgFBBCbw+tTjkQX+dRMlSMLUCZiRj4Z+iMTStggLVEJx5hHcFcZLCEVsJM/bWLjDBTJK5FopHHRpJisviglbAagEeYeNVDuaDNB6pLmVAe9lsiVPyTdYU7SP4HD3JDuq64evEFXuGD9mfP1v9L3H/o7fdI0ePDZ+p+Hfql7FDDVvbHuFDfK8q8/ry+C+sHDurPud4PnrN6aKarreIPnGozukGfqGjr83wb3W30wbabvOrQPhz9qhmCAWTe69B0N2zzyocPOWDfXt3DYz4a94cGjt/xvummgk74HvJF8SsCFzGYvCSedoG3putpkwlfYAHQixgzWU5KFy6ARlg9cPcUqCSLkSzpQ69Qb44oQ06RD+pPFg+Yq/wQkKH2U2xBX9B6rwNQVMzqd01AhoxIrJUYfLTINYSIN4P4sSbNbWWokzxJspbU0jE+Agv/DEUHOIVOYBqq9GwbOd7n8NDGsABGejC+HYCyFzcNOYC9wJanShiPAbuih3+cX47V4BHfQnpa6dYDTHPLimAP6qGc+YlbmsNj1J0D/eGUYdh08hnEKqmIhynTBkCQtUPnpJ5eQRKxJgSuYUBgG9gRqjNZAlK/S5peyLF1bfaMVBi94mecEaaciB6ldQwFtYuGC8VCSZUYpQ2pNvE8vxoYCA2VcK3pGkht8NOCnE7RKcxL7SDf4J9/0IsHO9Jv3mlfrBtY8tf1C5/WTfzj4Vf9nnfmyPpnZw18NErI/Ay+coKisxyhSuE3pO7XahIgoXFIjAAQVVpkqoo8k2jlh8AM4MkyZ72yPkcBA3QRBpRC5KAwE9nKSxiX1jNFNMVOeRaGzxYOIG5VaM50izYmEkKEcaEr3sneSXMBoZ5bjhRk2Lk0WcQmrMhqD0JZ5MEKLuYE1yIXIfKrDXJR4kvKBgDSpmXmTWce2O0LcqmkS7XBW5j/AwXkqEY4LFQeq+sXmSfKZ0gq/rU/KzfISeBRXzf/py9C6XPhgq7QAEW1Yeby4qrhKYZgktoVxPK5LIjQVolMn8cwAN/54gmgutFY6rzdqDZE/Zoanucr42HJDJ+lbvCYRggHpPJMTD8Moebce5ElxKP2JSZh3MLaodnbrjdTT4T5qowMHbsGZYe5Bv9AQ+K5VYfM204RaxCsLf+BZM/9AGVUAdRkeIyaoS/RBd2msPFoHIBV/4B4uqFumBQsqvNkACgzQG0kSIUjoSVBSeUc1NL1Pz6bVZ101oQGGdRow8jb1CiPbdI9OEnDEO2nbSA7a4LU8yKCoPgh6ymLQT15g3syNBsI6x2BkT3ADzm3BnDvRX/UOcxZ/C3mRTKACHYNjMF66qX1U0AS/5aqC7YjJ8n4QnQbEb4VlMDcCrQUe6dFplgUFoSeCfbzEdEtPfVEHtMAI4a4QC+/AAaP+iwQkrwAgwJYeD63RaTN8tsOCgWSk5UZIiiAv9FrEiSYHG4kuQ9sEHMJ30WBxaABN6YMiGb0OVZIcjUJMYATzlNrI40AJky8ZC5IcH7zAz0UKYAVG8hrNmBgsoFQ/4S5YFPGYPCciLL4quIz+A0fxYU6a77xUMsEc/Ks/2jCuOE2WORiXpvXYR10Dx77j8CtwRTFBxsdA1BW+SZawJY7DEBJCXUKbA1jU1vbv3WPhskU10Vj37v1XFK7V3SwOEi9HM6qRCEagg4sbCnfAHqRaMNgrr9vKwhVuVwZMD5MY/QNn7oBe/ZYtWslz8FzNl8bGL9Mfve8oh1D16If1YMNnG34/+jNf+lmmFuUHHLGAL7sqFr/nRz8aOXoUpq+IEPZRE+rbrfuqNetqwtGePQatXPGReJEpDiB9ikdIehGPYBAT3GhATquwAlYfSa4hIFDKNh6N40Q38TIOFrqitVWD+vcpXFEI6EXhsvksuhKC8hQzZ5gDLyIkR43QOJ9QA2wCzNZtLohAfcQfwnyCz3A6JhFs4Wain7nEbLLtAoHHO0Si2rOhHRlc4MWsEvMFyuQC//C9eNOmdrm5hcuWR0Kh3j0HFK5aB4WRqIQRhalwLdHsILdWn979lixZISZmHdB+ONS7e4+lS1dAj6x7wydQlGojtYp3kasF9JKg4H/ECD3EtQK943cFGrTBGKV+ia/jgfChMzHMeqaGBiFvKpACw104Xau7de60fNVyjQXgcJ5BxmL9evdfvnQVZzhn8NlwVsjICNNQlAQlRtJHKQ9r65mXv3bNOsAnXiQVTcDlH0BBmVhOGNDC3KQWMCOMHSBYw5XI15EevvmuWYyGart367ds8VreqGmlSQFfa624rCxkMPLdaB7AXfKVT/gL/gAGIb2Dp1DlreZ5o16Nn8Q4qGkWaYPTWx4m2dlATAorU8MN/GQ0Bhis4Nr69By0cvl6DQ/WxoMmHRpWuJiJbmROeL9YpuGtYAggZPOvstDByFFGeTV4RV9pWXcKOLhbYJr65qFTxitA54G4YtPx6qAoREI4v+cvXDRq9DjYFkACquItcnlJcsCE+TyEz1g80Jz9Qj8AryBJbyGVOOnTVT8M4ufTIJvQAGJRb3FF8QdZkeuBQif4Dk18ICPfsmVjm9btVq9ejyPfLJMhT0BOhkaB0LSDHoI3bioUByiWSyx3kZEblyLvSaMNrJ/2+/XqtXLNyvKamh5d+q4p3ADDALtiSdYyzHxyu7HlYFPRIPXDgqRMpJYhsyNiZpGITQIWqtUBzuimRorUUWfdlU/1r6GET3XnkTdpr5g5WEXBQSQDN5EMwcpQ47X4L8vSB9OKUybA54ZR2ex+jzNTdAQ+UfETlLQTuULAdNLv8gl3CdwUDFkPjPsUcOCoqY3ldx+0qHAtqz/gtItYfJoF4yL8I0Q8slv/1WeAkfgqjAR2quVOm2PXrj0LFy2JRcLLly0BtCxjMxGygakf5g7AQajjJeNePI7NMSSxVsQHYRRS7shSJYWDRyKwIfEmmwo6KFcUASCiEngO04FuJzFDgJZpUNTN7dAUVMM2SRYMuJfgEMJ34XzMIDyHGisyOfiTcFP5BzrPFkBltzICiQllUwRCBpVWwSCwDpUchBGxBQKSIF0WfIu9LCJReBK8D7cJXBBOxFugGcDQqUef0rL9Jw0YgvaJ9IadMzruZ4ABr49TgITBw9BcdgpTGz4NRzMWorxKDhBP2zUYYDQW8nvxSGO3YVeFpIiJDRCeTHgRAptnEfQxGaaMJJGKhMM4OyPs6OCCZeKwo1Evk4pB7BKKgr7Go25b1I/NmUzVhOOdOw9esmi9zZnBSrkUfYwEuy0dvWk4KFTB1nOYeKYng0g5ERK5uMJK7SOSkYQGquRojQj7sWYisQH9TipcvlF7MtFLpE2LyCJUH0Vtx52rkB10D9GdIRk2XaBRsAM24QoQu8oSvMfss2QNW9ECmNe8hUO2EQ0ZLmUEpFJZMmtcku3KfMDU8AsBVd4N5km/lrKJ4sI2PmAPfMA9yRV2MWpTDPNLzBHTnYlaBTbxBBySBDGhcJVaFmbLPJYzQE5mViK01B3VrgqkI1PFmKVmsK4CeFmU5SfN0u0QwCKfBX5v2iB7GkuoCDC8Ddj5+Fq4oCdU6w5WJEknMUYPIj6qHMbCv3nsd3f9+F60NeqLWNzWqh+Gfg4OQ2hpXgMYmV3+wBuZNl/4QRfDIdUPw0MIYRqrS+I5Fq2rHxYlyR7kICEfUv2wbuvWbIgkHGEqgImg7J275O/cuWPQ4F44SjAf9LDNFyX5DjBgDw7FFpMRr4KZZRjHaiN9u/SgfhgPM5PGt4Y1xUPkl1JsM/XDgD0hx2yhYyVM0pAgOnOfHG4GHlS/pNtwEWLEpOSQO58ARSaDlJUMgaQT5jaZt8Dz8x3peTmuRvRidVW9lU0Glst1R5SB9gmgxCdtEfAPNZ/oFQcJXti7ykYDgkxc3lAoCt2iWECL1aFaS2EiOkM0B8tE/8LQdRKnAbbVMH42I+NyJSJRipD2eFFoUdIOHy5ECDiPq+f/BTcb/gwsYdQu+bUSybffnTfsgosmjB/z1ixTP4zlWZiG8kND/OA1NRV8MAVQSgxcOxyMmxANATo2S9ios0pPAybiN4FLKMEO/hlK7bF8BYYwxWKKKIMUHECPk41tWA1rW7JOxBRYOccWt8QYsyMHJgcMStEnPIqvnozPZEUkThVTRsvmYL1Zl5BbHw6FaSijUMzFXCJgRDafjBsJNwJYqY0qxUWvVn+U2pTNhZCWaooREJJwJEI+WJhR9/T2BKSlwDPkJ32AI/O4xBCME882gjdORVX8c2K4+NgC7gxCZojsBGeVXhLsUr3BZCQclNoLEwWgbhdBoZaxQWIU2vP63VhNCDvJdVR+2maDQNKFLatlCe3y8CBp4qHaDKZCrNVjx+KEiJyuRCThxUYFgC7lnpZ4QowwZESgFpQjMArAxa1sUoI2MH94BVdQ9Mi/oHkhvBNhEyLmmU0PtqpwLdJdrjZWE10eGU3yEUm/lHrDg4AlmWSLJNlHw8lkKJGsqakBvGLMMYLK5GuC/0O/TAqzTd1egCAax2kMitBV9js4fSAMVX1ABqYYciSsOB5i/5A4Kc+iDUG6TK+wgAflshbn5BlUJiLa4YIgFB2Cb9AfWKPDHhOHAwMk0owLCkzmfQK6GIv0VdCSlsijHkZH4W3mh7QejcvUoACHJVzpPDYa50FyQC4OLLIguBzGzat10G+4Ko0n4+GdJduzs5sMHNjXp4Ba3qK4A8w27GbMabm1Dz8Mfh9+8sT/BhnoiI84DDl4qbFMFIbsV/QndBotPuHVAM0Yt8CdNPXDGBvpJTC5qB8mS1jYyVVkuQ0zTuBk7UHAgfyTiEJI2DJIYBeaZYgFvIUuQELtRaMHskBAUhDCkekPJJ0pNAZUI5EwkxALMQPsJ+VJQTqVIKWfRBdEYQIRKDaGXsYl8uFxJxVhTiCkzOQfT3sAAFTSnxgW34VzGrrEDtFrkbvv/r7L5UNhGDXqcoP6nliIqEpK3eP+TvlNtKUtEmT0Gf4sM2B71/xeDz/wmJcAAYf7np/8AuDTGnZAbU1Fn55dSzZt+MbgwaMnTkhgq7nZbOiy1Sa6dux4+ZWXQQMWOh7PCP5v32tALoOJkcOu4Xb/envOsAsu/MbQMxa//35Y/kDEDFtAxEqQGChLKkCO0QRnZ80sVNuna58ZL8xs1aI1m0X+539+JaedLXHXHbcRvstW0PGTrsaXAH7DFy+65ALIA2Nu5svTmWDOgYuhuK1dx/5jxl0OH73jtu+SSsrh8o8ZNxUGFI/WFm/b3KplS1jTD2+/s0tewfIVy0CN7VuLcpq3gH23zGlRVVWFX+nCi4dDETDmadNmsuUEvowgQ1e+/Qc/gF+gHE6cMNXl9Q8fOXLajNfhNVgEixfMP/vsoVXVNT+8/Q4I1ev1jxw7DrKuCMUG9j/9w2UfENgbIFAzGoGJ//hHd0Fdfr9/woQJ1FOVgpl07Nhe3LpFc7jY//z8l0pjYnhU1BGCQe3eubNDTi6Zk7MCuXsORGvj7hCkiEfRFtq99YPOnVrRZ78v4+VXZoL3+Cp79uj3yEOPaSncYb/3vge5T6+ARUfD0arKvgW9nnj4dxm+AEP80T0/xUbBsZPp8VH2olfXgqItG049ddDoSRNTbjvSAA9GpKa2oGPnqVdepfVJIwZs9mgiUcvi49aNHzVt0iTgCVB6DaYA1YAAt9/+Ax+S0+GZOHYK29j79OlTXFJyztBzRl460evz3XzrjR63n8xtUyZfhTpZG1GwFQ+S97ZsR3FOy1YY1T/94Q97dClY9+FG9OzMzMyibVtym+eQNvqee38Oo8O5q629SEf0Hsp2xEI9uxa8/urMljmt3M7AT3/yIMIdB+udt98q3uZ0jRo3BR7g8rlKtnyU27o1kL/v3nt7dO25tHAlLl0ab9msCQZ0TquW+8vLAdTkyVMzM7ORxX997Q20AVgqFE+KOBBxy6bNrVu3Adq/+MUDSL54ONKja7drvn1LRmbr0uJt993zI9phn+CkiZcRsYS91rNb10cf/Z3DHnA7vffd+2OUHtYkMIx9/gCPo6fBYxFnEnKoSJXVfQsKHnnsN+hYGZ6mP733Aek3MGGXfeHCheecMwyRSZGQH3yf7E0+p8tn1Q9jcjkYIHAxBzKSX+nDXPwCP+CEIH+surJP7x4PPfKo39QP+zn1w3w+iLGkdEfznOaScg4X9cPQJOrqh501YeJVQNZLfgm7m/phA/sM+mDF2mj5/oG9u6l+mDvgtmf9/Gf3y43tdIy6dATqKXm/n3/++YH9+5Zs33bWmUOnTL4MvfLee37EULl62dRrxPVBTKo1wyE8fsUpA9lUuKxoc8vmORmB7EB2mwPlaJTRom0b2+e2xXl7z90/YX4RYEhGVCGv3yvjXkveApoRJPoiiJoz+nG8x4gfPrQlkfqotGJfZWhfVdX+yorqAzXVB6oqDpC2vLKiouLZZ59dXrh6eeHKQv1ZxzKI9c/P/RHoKqYEn7gWNYB2MBX5GEqJp2qqI6GCrkMKF2xM7avtn583b/XCPalop84nFS7YnMItYOQZ+Z9opzZYmde2x/gRU1KJ0IIFszObtistqUjt3TeoU+6q5Usqa8P5XQcsXv5BKBWrDFb16jRg1ZwPx3xz3IyXZ9ZGwpxML/xZ2PVf9wkCW2N65plnzBdMeUrMUV0B8z+VCtduXr/2wosuYdbi8ZrRY4YvXLE6HEkkDnw8uEuHBUsXVkZTXbuetWDeRlP5JhoM7qOyW6/2PU/vc0aouoo6KW3adV6wcFkqXJ6K7KPaam000anrSXPfW5mKhEZddNbd993FXDFJmt+9uwYVtF+4csXQkROfmz5bRcdj+1PRMopVVIfjBd1OWrp4bTK0v1te8+kvPZ+IJV/40zNNMjKXFS6tClX37tmncNEyOvzevHfvufcnc95/b8TYsfitQpgOpn0hUqo2Ga8gRZaSYUVSBXndFyx6b8782eePGKVXxWK33HrjS9NeRK1m9FrNq63p2rPHvNWryiOpHp1O/2DextTu3Sd1abu8cHEQmtf27VRtdTA/P3/uork10XD7Nt1PG3BO5f592zdv6Niuy/L3V8b37e9T0PH9VQvL47Xd8rosm7OYV8+ft/KHP/lVVSIVBJ/xuhwo69Yy668znk2lgls2f9S2fe78FYv3h4IF+f1GXTyOCVi8ZJ43o3XJ3nCtIiZCqWRNqramW4suU4ZPpX7g3Pfe9TfpsGtHZWrP/pM7tFpd+F5FsCq/68AFyz8EdauD5f079Vwzd/mlF418afrMampDaTcS8RH8G03GalLhAz3yc2dMexkwvfLE/7b0ZCxYtqwSO5LpZFJqk93zuy5c8l5tqKZPwcmL53yI6yjC8lOqJoV9FUx06zzgvWXralOpKlKusDu1cndB25znX36JR6c99b9N3M75KxZWxKPt2/Q8rd9Zkerq9959Kzu71e69Ncw4iGdQD/5fm4rW5LdpN7jvwHBNbdG2ktyWXQoXreVkKllJiAl9zes5aP7CwmhFeZfclq9MewHI/+nxP2T7MhcuX15eW9uvR4+VS5bgYJz93pw77vrRvAULR40eH4pq9qlpRWcQ4rHIjkhNcX7bzmcMGhaqChZv39GqZYfFC5Ynq8u7d2p/x48fqOI1yXAqsheYV9bW9Og2ZOmiNZGqfZ07thwxfAxIsWDuwqzMQMnu4hAkkko99eSfwCyyHZKgVi+BTdWGUuV7u+XmjJ44nsYWzl3eNNCi5OOPa1PBqmBpz955Oz8u15OpGjgYb6kJx/K6njZv4Wbw0VjeAMRysXIT5wApjfJ3gg/4LS1a0NcrQYZkLLRvV7dOuaPGjcdfsGT+opxA1q5du6pDwbz8rs+/8BL9KS7a0q5dh2ULlqT27R3Spev8RWv3R1LV8RR8GA8A61K92vddO29linZym44ZNzaYgBiXZAaa7Npb+tbcf44cdTHLvuCkagKXVw7M67Zo1YYD0FmohkyBXKoKRfM6D1wyd3VqX83A/Pw5y+btjnPmtOXzP0rt3zM4v+Wihe8R1fPuonV3/uSBcLiiY9smwtto6qWnnmvia/Le8mV72fmcTASjsfL9iJgqJEu5xMvBo7I8/Z3zleVV/KysOFBRua+i4gBnyitq+NNXc9++ypo/PD9j9C33n3nXq8dthx0iI7G/6g5Fx2DZulyrVq1wuTKzMjNLdpSCWza3L4KPAlQl4A1VJhnfvaOoZXY2ArxZs2a7ysp87oyAN3DbbbdhzQ3pP7BT8zYfb9kp36TTHSJA0c/2Mt6CjyOY6Yx7UzXf/e41/U877eLxY9HcMKMP9qCuJ//d/1r1w9BZ5O5zJBe+P3fQydQPa4JmNPySkVb9MDyNkAEaEso37jKzeI5TJerH6xUP4Q14+smnfb6sTh2o+DWluLiY7VorlhZSfTzD7y8pK8nIyizeXLx+7aZbbroFrxSKFy9jnz7+v2u+de2gIYPGThiGS5AENoVLlpHJJivDX1JSylJ9SfHO7gXdL710DCrwpPHjWrVsFk1Eyj7eRcWA008/nQWn88+5YN2atZ3zCubMfe+en93POlKQyDgsBHyMkUqWWgoXziUbNgZi6a49Dlfg1DPP2l605UB5eTQapp+jxo1guXrJggWZbl8gI9O8VAFnKbtP2y49AVS8BOn5nWQino9l16xJlhJDY4fZXRRA+v3jj2c3adohL59Rb9qyFStQ8jka31v2Mf60c4cN87qzhp595gfrVqDA4m5gr8HePTUeb9NTTj+bhvM6tJk6ecy2rZswBdDs7777XqIBBvTvm9um3ZbNRSzIkIxHywXhYNMmzX9459107NQzTm/bqkNx0W6lCLe7IsmIx681HoJkkvGgV2t/oetvvnHQyUNHjRlLIQuugfecxRdkt3t3FO/u1LGAmhdYBxMnTWjRuoUc9g7bokULWMXwZTh27ylleSFhahIFfPgxwYjE0vcXBxz+7EBWWWkpaiIGJYYX7zuwf1/v3j2J/cFYnzRlSuf2neRAZFefL/OxJ37v8DrOGHpG2zbtijYXbd+2vWXLHLT7zIyM/Xv3kjYlMyPnuadfxubqlNd+6uRxRds3Ye2Ae24SwLicRcXbvL7Avo8r+/UaePFFl0KAUydPap/bhgQGuz7etXPnrtNPPR1r+Lxhw9Zv+IiqBe++++4vf/lL1kdhD9pKBBmzYO7GePQ99MiDrKFwz1VXfmv7lu24oLFMR40aJfdPKrF44SLM4SbZ2dt2lCg9Qsqe4fLed9/PwkHbKf0H5LfJLSnZWVRagvfPnxGgWVYy5QCTCaXkNQyXVC+33PI9toOeMnhAXrtcymtw14p1G0dPmNKmVVMmJBUKrS5cQe267Gzqh+1WwIiMDhoDT61DDs7PbDOk2/jU/zDfaHAsqeDHu/3OOxjKgIG9WrdR/bADByqs+mH/n737ALSrKvOGf3tNL6RQEgiEZkA6SFVAFATpRUB5Rx19Z5yigmWKo4KiqCCIiI4zFqp0wV6QDqF3SUjPTSOgQHLLufX7/ddJAMu8nzrjzJBkc7m555x99l77WU+vg/31m00p88MWzuaZyajhGh0gkubTGqzireJ/FvVr16ljePOwD7//gw39Q/vu9topE8ctWbRk2rRt77jjzg9/5KPQRxS5v7ern6nV0w1guiPddvNPAGHkyFFLOp4ZNnycFEZJGbJn+PbD8IfqzA9buXLl6/ffv6Wh5Q377v3kk493LF62w4ydNeyGyCeeeOLkyZPZb1zovBZKa4Q/4h4Pkouk/sGA+I9P/M/JsFw3RrZDniC30/yn5x533Akrnl1s7mfmhzXUmhKG39h2Cd9uBlMnbjJ15apVNIyVz66QUQYQGG5x+iftq763tk06+IBE5HSSEOtOR0txDnF1w4OR04jhDz58P9c/5C/4n7uvNwfOLFQgPCKSjoX2fvqzn/n0WZ9CqhxB73znu80Pe2Ht/DAwoX+GU0gZgjC0tcHuRFMammUoSC72zpy5s1k2y+cuOPHEk559dnlXf+VNhx6qKzZ/jbgNaFM+CmsVue1btapzzNhRjz32iJBJa0vDwlmzTn3bqUuWLFzd223Skp1FKsL0QU04izdwDZdGG/qekSXCUJVK7/XXXr/p5I2ffXbl1C2mDW8fe8113+fSlznW1Ny4YPbjp5x0/LPLlnWt7jr88LeKl/BzfOSMD5z/xc9feeVVr91pJ/HRRR0LTznlFHMxBJgM3PGMkbDwgM+oN10/mhrq5jz99Lve+ZfLlq7oXPXioW8+RDgFxASig6vi1LW1s2fPLtHlxBqsrat7Nb65aNGiSv+q3oHO71xzpctavzO5bEVuUlYqaiWI5cnF0gaHEmJEwCU4KdzQVAp0Qp+EVXvLi6tXC0G5eqXSzYJsEg/TQS0ahSBZD3+nKBNm0dPf213pHzZs+EMPP8irgi0WEhFESDNlF8eD0AWLW8JyQke5fs2cOXNAYPnyJT3dfQcffEiFbZBMa578HqJ37pzZ/+eU//PMspWrX+w0mFgYhJLXKyW15CjGJhlCpw2pDdT6WgE58HEmqe9prKODCw8Kt2y26dSVzz7LCFi9+sWx40Y1avPGOFR1ZA5ypTJ/7jzfJZosY8WKJav7+w874gh8zRX5Hkv8QwBJSNWXdIWoHTVqzNIly73o7hu49tqrjQ98/vlnN9544+aGEdddd5M4SxhZQRspiHygdhLQZs2aZanCNPI6K/0VAZS5Tz31zne+s2PpYmblIW9+Y9r3JU1EC9xeGZJihv5I6k8Ah3dEf67Ck2Ayu4SKLLRDJhrkqF3iAK9vZRXwmh927vlfPuLIY1VAYPbLly5/+8nvyPywF15405veJFXHviQRMID0U5hdOFn1Dxvy5z1gUUJ6EUWptXKkt4PUAW7uktsJ59kHXoogQPW0eMNmq/PDkrjOpkvud1FvtHGjWbmY+GVfLZjAmv5B221+2IwZO7Y2tVxyySWJRWiemPAudJr1nve+65mVS021PuzQw6l6YEHHdb1k6vE3y+erqx05etTSJUutp9P8sKsugY4ui3ysyiY6mKsQnIfIOvAEWPQS1H5LjP3Wy5dO+3/88SfIMF8pW1i9W7bWhlobU2vwmRXPTZ40paV5GI5wx5234AAcz2ijaZAan5pvtR5pSZzS14GE3zEVKS5ks7ixijk+dUlodsQ4UXidQHpf49DqlroKeVVbN6ymacynP3felltM+tzZ/+y22cl1+qjiwSsfkXMZHufJzQ+7/8ExY8Y8+6vMD0P2ms2YH/bzn2R+WPqU4rzZKokSBcWTHyGIPSQi9cMf/BgNLliwiEA68MA3rFjx7EbjNyG3Fi7quPvO2+3jRhPHb/ea13zly1/D0dgFlChstG14y2c/+6lpW2z26bM+ZwHLli0ft9HERFMWLODBY0lNmrTx00/PvfHGG93o8ssv7ejo0Kpq002mYIIXXPDFJOkKeSTeLi5dc+opx3/lX/8Vq2LjFSIcWrx48YQJE0xzXrp0+S233FJ9dpNh77rj1utvuPE9//dvSCt4JazSPnzEooXz773nLrAQRpHdOqAkpqVVJM9hgOfY0eOGDx+5dPmS2+64VTIX2iHIf/DDGwGNe+CBh+7f94B9Q1vslsGhzTbbTP+2r331Ig+F7kJthUHxWo4dP6ylaejnP/0p8bNwzoprrvrhoYccQYzJDQt0dSFqYv5gfYKFLpcEGhvR2N4ykAT3wdYmu4Df9IoIyAKsrWlr6Gd9SbdJ/flQ04jGpjHnnnPB9E03OufTH4sUji/VzaV1UDE6J20y/qlZj9743e+58BXfuXZxx3IqNm1g/Pjx7cNGcOvNvPdRIQ/foPLVmQ1XM5BPx01CgB0LFvOIhFVpABi7vGbs2LHk33XXXOvhLr/iOx3LliO00l9hjcMawA3kCwSVpkaCS/LBu+X+UGa6f/ijm8BnyZIVjz7yy4MOfPOypc+OHTPBeNslS5fcdtttHnSTTSY+8cSjN930XVaLOSBmfAPFpEmTXOfiiy/OZfGIcis7/q53veNfv/5vs3/55BoS1rOwXsLXqpu+dx0koaM8+uijr3/9gaK60LJkeA7yNI0cOdodFy5cfM89d4O/h7KzsUwdmHySPBomT96kMM84KatBlthhGLKXmR+W3n28N2n7U+jCFOLWYWNm7LBT8k4HB5YuXjpu3ITMD1u6+J6Zd8kuwbT8+KyAJL8KAyw3zY3/zEf0+3pJLJ4S9xekLYmxr5gf9vPMD5s7b+38sFQqSd+EPwa4Y5Gpris1IbXKH3nFCBdYJFOOVPY/Z02SverqTjn5lIu/cjGeIDtINymPLRy84pllI8aOlLu0bNnSO++6jfTrlQslAWegobVWRFYqcPfYiWP7hvovvOhrIISjMwInbzxpzpzZN9z4PYC/6qqrFi/psDVJokYpUW2r1Tm/Dbc/QXpVL/En78RLX1yjoYCCR99999dNmmh+2GgD5mfMeI1Ugm5J202NtBmdTuIrScp35FHA63l7+igFUXBKZaHKzYr8LJnVJHfp0DmsqfWIQ9/0ut1fd+yxxw0yiJvljNV+9vOfeujBmXvttmvnqs6X1vHbIFkXXxeCT30YgqQOXHd9mR82YlSlr5uCzZTJ/LBrryTisit0rIrOadLZU/hQ4BGXLifJsmUrTJjcdtttzzrrzNGjR+64y26bbDzFvK5jjz5mxx22bzfntr31yquvueKyK5sbWvhVrrn66jh1ouj1f/bssx687849dttz1932mjhps+HDx550/Anbbbet5ISGtrbLrrjilFPfRhOeO3/epEmTGxta5Rf8+Mc//tKXL6Bic0oc8dYj7n/ofu3a2hta/+av/+q973lX8k+IjcHafV//xnETNmkfOfKII9+6xx67Uf1lvW2y8YQRw9ph/8jRY6iQ++1zwMTJG7eOaD3muKP32H1X/Ai1yr+TBij6waCjAO65556TJ2/sMQ899NDdd99dRECrMpPQZ8/+pYYCW2655Vmf+uTkTTZCqG6L7w1rbvvhT3587he/0Nya1ICTTjgBfAkwFNc4ctgN37/pg2ecTinYeuvtrr3qujEjRvPXMcBiydU19HT3EmDwuuBhBgXwzXmtgJnhhIlrAsYGk3I8mMbVLZjj4W+Gz3seeeTRzGkpB9Lez/nCZx9//MEdZmyr2gl9s8/ClxkRDQ3f+PYlf/GudxLDT82ZvfHUTVi2vLLjx0+wWcccf9w222wjRtPa0HDkEYftvtfOx51w7Ov23nvMRpNGjBlz9HHHTp++ZdKCY0Gk0qVp2HAR+/e8+928Uk8vmLfp5lPVSrU02xRSNpEe3jlNhtiOpSYqqgaihjb+MLqX7MdMp2057ZOf+uSYCSN32WX3jTe2+yPfcuhhr91pB1YXFdTAw7ed/DZy/clf/pIs4a1taWz7+c9/eu65nxf9N+LjuGOOnzlzpsdpqG36q79679/+3fsgMiixDbpWdY8aPWJxx0Jwm7bVlp8++6xJk8ayX5NS2cd/ULvzzrvC0tEjxx5/9LG77LwD9zK7j2kYlUMhoxRPWI9R0hfI3UElFjHHitMKcwWGWvJcDl/K/yKRUpuCn/78Z7e88eA3Iw8CUO7Qb84P26qvd3XsnjS3WHuskbprX/65/8Up5a/G6ZrcDq/opjwl1IrW5pYf/ehHf/OK+WFjxo1qGT7ikMPest8eu5x68gnSDshvlgGXftdAZwZfNTco6JBbS6q5IJ9MmR92J5gzoD/49x/M/LBhow497C377LnXqSefsstuu02c/NL8sG37BrvQkU1pZIiYH9an4VxN/YhhP/7FreaHtbe0Nze2nHLSic2trd+qzg9rbHrsicenTJkCu8ApSgVQllqRl8AW8+c/d/xx88OKNW1HB3feZadvfuubp73j1LKCyCMIlBI5sX4p1I0Qi74tpyleaGZ7umnwJ7P0fbso4/KEEhhQo6ByNJBAKuW0dC+k9CsP8knAlS4RYpzR4VIEzggZqE+Et7k2DS5zuP+6foj0nnbaabwj1f6bCJUKQBcI86d1Rb9BvVx5sZFTFC6M1ZD5YfGCgFD+Z7+vZu3vvPXBl1927Wv32QYLkETt/FouMgBtSHEeNHOxMvgt6maEof1yLym2EkLVbNXK6Y5fAy9wafnX3WYN1WW+Tk1lVTCkmZJYt2Thgr333e++hx/nZ6g3IToJ5Ak3xMooV5WgzhXh+gp9uOqNVo+brq7NsFkE5dopXR1IIXaesE5bYRhQSdc1ZkwqjldTumvrW+BDmE/G01GNSlusIFN63ggD+axT5536VGzmKHeXE4zJkZ1UzUr8q5Qreep1Fbpn1FOgDJwZWDWp76obKL06G/Cx4pYKCygG3xDrR1ANFuOWVPX0ouQGZBmU3j91PDnuJ1Uye2NRPbqrqKazEgYE34P1mFaUZj3iYz3S3eNy0YNZolw2F+jT+7Lk8YeKPEtFD/WBfq1uApTSzpkItBjzZyl43UNUFrujgUK5hTXFK28aUxLYa3u7aPI19a1sl6Vz571u333ufvSx0WPHhYpsemOySerRlGI1ZBscoAuRX3Ichvbc+Y3f+NalO+25LcNVHQJPU5qMNGrQDNLEBGIfbGauoNEmtn7jvCdmv+mwQ29/6L72ERxPQT5DpVAzaWngXBEhIIYvxywK5iS8Wk/r8l2A8sj0hLgRXJ9i36r5S1+sbBzGCI+4zLBmn+Zj3WHEf4wmx1ONecpl+7qv/c6VJx53cmmymgRwzitO41hm2R3NcOEJ9O9fNdhw6l/8ZZkflg7tGHvY1G/PD+usram0/S+YHzY0bAQEfGl+GMdobex9nltkBRZJk407jPMqZG0rIFZPbPRQwDC7nDKJuoG188OiPHbxdesFxeHcO6hLYnKYeW4amohLPLu2TnE920Q5pi6pjYBtol8ae9gmqJB4BJLpcp/q/LAgrp0rtIZcUFa6XtTXdNXV9Az2ZX4Yj/PqLkSmj37oce2BLVSFWdUaQ/CuGXxBjQmb4URxpNsgtOZpNQ649rs//NEDc1a2T3fqf+rILf34Vau7fOaHSdEGRLoQPHd1oQjRPMDwQlTC75Tj5CEpefTs1A96yCp3C0PzKKpduRep10Xoh9axBxIxjdW1+KuYhpByBxDFWNenA6QT86+qM+mCEW4enC3cAQzReFwAhbAhdG8PrlpQl3mCQUbiNEtOLpwRQ3M26Jfzi51PGAiUKwkLfpUP7VsixFEi2NA1LWqnqBiUD8zeHuF8OIzCHCPKNB3Wydc1U/dac/6XLmSRC6H7SNZukES0k+xIID/E1MICKn5lJRVqU8Xd9HyELEZD4Ir4Xtg/bwja0qkAAEAASURBVBY2KaEXd+M1y3xNz+szYeFMEXNV71skL5GASFVWO4FgwyjjLRKIjWxHrW6aOTG4MsrSDzpE45oGrfk8str1gozkjdPEDdGu61p99Ubp+wA91dekxjelVBIiBBxzXd9OfJprE3tknxWwptordw2TRwnR56L/Utb8TXK7oXF7gYWmGA0qSVZPnTKFJDPh090nbjTx2V9JZtHEKwvLsgCFtU2Ny0bXd3cLRVU8NHkj8IiD0yQsJApJaI1tg59U0FYe1Nc9SBqXq+Kq/dLFF03cZFNJVSFSciG3QF/ZJptdQAcWQKq8z+zRtCpnBijIJHzNrU0+kUQS5XqejSo60ANNsH78zI0A+ytf++qIkaNj2AVJsl9RM5Q9xGulgUtw0QqVcldbwbKHLdpTBD4AIr6QyrOoxvVcL7odQkcLxTSjfIBDMYzEigrcwypV4pd4ob0wNBw7YmN4hohNrKQ6Pwwc4K29gKVCaY1NhpVfdsklwyWmFPsgrPn3zA9raG1Qhhjy8f//wOF5qYxtrUCNIGBfdX6Y9CWflKcMfWbXsj5YGQDFP194b8Z9SDOgMESQ9KydH6awOWy2qUVkN1y0WZw2+kDqwl2DauUqyCWoXfZUZ6Vw5bShyB5Vf0WWwTPlexgTeKcQNaFcX/JOFVaVrl7fMz9MjwRRDmZ3MsLKEcz8T4PUxf+4g+ekEFW+FZW9AM3uQhrMSDcBlTvye8XOWafOAU8v0D2Yyn0Kvwyvi/clvhyhkWb6NhpGlbgm7tPDnwNUcA/eRJW0Oa5AqaZtcdjz4tqwlPv1qIYpsFwDrD/uSV6tZxdSSouNMHFC3SxRRirmAYzwKCYr7MGBhnTbzCy34vUCbQyqpae7i/451BBHCn7U09uNJzY2t2BdLmUPJI3IEuQFKmIALUBRjb5qlOVL87XLbQ06BUQgRga5Un3KLVWrcJpLBz/ymCN/9OOf8+q1i1ss6Bg+PKWOKlzT/gCHgt2cm4nUx0/lB1+073Rkz2K73QjWhAR5t1w99OPpUkdFykkaEEbGNqWXV/q721rbQqWU0czQwajyy+2w+pAP1Q2Pw/4iDosUkXakHQUXn3ZK8Z0kskjDFExsyS3RJggYcYS5taAy8iLXArjwvjpNv+EnNNZ5JpEJGjtnIFQsgRk30ySCrsod5/rwuS/jtd2reMtRPeFAS405C4HpkbG1Irq5+woRGfCxaNEyJ1o7Ti5hh8rgzsikPswjJxUZCCjYQV9jS3txl3k7qMwCw7TSUVyvlF7j1kiaQYqC1nny9/ArmcMnnXTSDd/7Hgt1+LDRc+fNi4pAba+yEcgT0NuDcqsUJkMROFJYmKep76P/dHZ3taf0KtjjZOqKQBYcoPYo21CNd+OPfuj6o4aPnjdvwYgR7ZVewzv0fe/mSdWgwTKBvLkFJPOYjF0uYA4oGwZvCX3IwPENvGAYH4EOGlgEnSZPSMDE0gbJKE3lqbkg+G8j9LmRhxi3hull/lzFQHmA8ONpXDcsNeH3vCbk81F4VuaHJT00Chu2Hd1FcWuZHwbmpYQd9pof1q1sMRtQ3QZ/OXKtP/uB4nJPuEoGlfErdeaHJV8m88Pil7M/HK5hynVdnSYFBsXtTHQERE71JJvoX8Ur0IzSczl6LtsmnJnt5sBTaGwEDIZbDyA+BuY0CWvtj1c2YkJLHw52GUZMC1sAws3DRNfkmGDPoVjUxG/plXJ+XnMKc6WPt6yWHqua3u1aMrCJLUKDzFwtd60ybluaVf2p8PyjZZibhbDKXas3jtqZR44Yy9vpQR51ywtvYIXo2ecApRwo/Cij22jHkdVwh6ueG4Q0wxN8S1IMG1/OaFubLgO8RS6OrlMJ6Rv0wDSOIM3qawkwWfshgPXowPzReawf/BluYisqqkAe+8nIFca+TLYB439orRnnA/hIGHsSh/TOsJFjnpr7GEbqC2rSkQEKz0+c5GKS2ceoXRmrjQDsHxZY0ptcKnsQvkZ7w9yimlAvoKrfBAx9fHDoxht/6FKRLHzCpfdt2C+PcGbkRIJBdoLFxaUbcBxllWFotjSOOEplvqVLDZ063NUTERKYSCWUgzxjC/UTq60Nw63aBSmcCFjPAMtzWUskYLMiafMITCClcBwkZomYr5iTeIzFo/uIsaHkExf7EC4J9iO2LMjTB58hm/VlKpL2u1X5mnhkAWyZhCDeXt6POhpUTJtEG+QKha1Q9+OkG+iutLTLbE7heT4CfD6cJo2g+MxRRx+XS0OD0Ys+RCI0YTUUZu8mxtMoTZe0i/kY75otChRjRNd29XTrFeVyWQMYE3zZehK/GC0uR4TbAJRjfY1NV117nc32RIwy7jRCIU2VEhArkHF+rQzGQAxgOTykSTi5qaXpyVmP41b0aHqD8ryCby5oj0o0C3nSFBprr73xehTOHMyScKZBw5BcQbZNO7Ajdk9NPkW/WlP7YcsCq8JQbI4npcbEMeZh/RUcwExyJRpD4SnUMz5D3l7yN3Eu0wmLme2WgWQNk51K5C7h7x4c94RsOHkaq2u+FUd4rugYHGprblAThu+6FS0FPlgkfGHLZB8gVwo/JJFmflj5Tj6MFM0lAtX/hqOoZRYeQqLzFYjILYgG5vlAwooBJPPDhkWvjXio1fwTLRVrl0csyglOTDtF12S2+WFZPEyHYLRYD1NoP48FlyheAsDcZ/RakeRq/CJGCAjVNmn8wRnSbH4Y2OLq8TQWR4tWOCxypqE+gdamBqVJpj8mEicnBBY7cEu7I55XJQSY9ieLrpcg/8dvA3FT7H2XwJSqGxm2VaM9V8XYM9kZ4EMMRaHDlqJ02nKagwdOlUx80TgZZuQtwY3oN0n5pRjjGR6YcCPAAJWvqXBQf4FmN80SiHWyQ8A4G57coO/UenZU54cV7s/Ng3olQ8PAePyzGemsCuaCwEgu1kB2ycy2Srd4Peyqtg3CK8IcSQzcB0csnhXkAfjYoj1Az1EU5KMjBFQRno4ZcRYEx7t7tQoOYqIiClzERMwyFnh7zG2iJQPk7FLcjenfkvIJjKO4PW2bVdICOdbSiVG/Qa3ckRZWg8uQZP2MLbuqWJvlQqQgRI2FBJBhkmdBzHR5bhWXkGGF7HBhpAEmiXvHxrK4oAX+lr/yzOF6flBjVQLlS0yl2KbyQlAwzRQ0MALOfQ9nycbUIufwTo8WBsqlxiEW9RRgzTYLYD0dMnYFPxQLMgljD1HJfEv5A26HuQ61DMOdIXn0XhwEQnPARqMLkRQyQhm2llLnUcAHxCU61GrB7DIeJh0vGZ+CbUAD6patGX5zi4ifbYtj05u2sSk3IM6pOhmqF3WkMLXYtHFCYuWBrSOoUaKn1q4jIFW/QQDVJtt9n1TS0DkCj3+yGC4+Bge9IbSWDi6ga2uHGKzCpDPahEbPXxgCvyr9ABbJwA6HBbLECOGFh63O/yiKl+ggrykeDZh4GX3F9XIaZ0BpPAZU8YTa7Gx32Ksnd1IYAcQQ+GEYOJK7ATstw7xKOOctslf+F+4akQmIgql4KKeo3i4Vl7AiiJX5YeRBcI+8JBKAiBLlD7djvbiN/jIKBwAiX3J/YtUyyrH23zUv/4z/6NiUO3NHhfQjawNotg01IuaUZyzzw7i/scUYtWsWGbwvMpfKwXdD99PHFJ/Asgtd4B6Aj0UHVUSrsi8DzUQcwh/I7AhQKfPDxBtdM9oSwzSsuqA8swyI8QPKUKQp9wbsdVKaOydm5Nx4uWuHuARAmKWLZqtVIuFXTixArML2TwNgyO1POrIAuOTe1Y20sQysUFIQGZQToHBlggrZOI9C6is+jCvFs4Vvxt1YJLHNCNeJjhiOQT8Mt1jLi0KHGG5lQBeTUEN3mSAcNvQnL/9Peub/DV9CWnKN0S+neIkKgJmdSEoZNboK2KjVHCApwoiNBVAmrglryaAJ9iDUKAvORf/5E3+DxyVqNWjYT6Yk2A37VMCrrMEtimZalDTOAdZb6MImoqPsmVsAjo0nCaK7Rn4UViuWryG0xu0IIOegKKIil7NIu943yBxprb5JADAFqYnqipAr76QlJovHdRPJK/eCL9IPixbpMrSYbu0FgnC5nZM5oMiSCI5I1iwprNStwxNpV1HJneY93A+5ofAQeZaWnvoen9kKEbFsfIHmXlg1JMVgCfDEovA1tiBmgl4xP3QflgdFGzNiPX9Vfywi2ldoPuGvSrf75jPrCMPMUyRW4YhsjsvCav1boTrgUcUgcFPvkaioyZJw2zS3w9O99D8VkFiyF67mn/ymWhdJXzU7kiES1QGPxj3c0JcLt8pts+ysN/qkl7R2sol97G/GDTSI2iGE3dhovC1UcXFL0G7MIv3YnXIRS0iEIQ9b+uPl3awF6BN3tC9uRBLHh037JHOtAMf0feZ7jIkILef4owiSoF3x3WGbdJpwapKSGIb8ThDQZUU7B6eQdu8RfN8bdst1iCWLc2Cv1TXAeR8Ls+Z+2WhfLIsrDoSC3WAffxiE9mUgieSMAecCvMXClgVp3fK//QDWQNYWe64wXFDMT7S96sPGexFLHWRgJHDFiooW6FEIlexu+CqkkBaB3OFK2TgWVAhDB1B7AyKAaAOixERYYg6oWy8uFwb1+DawZbfwKdbsryCSYHITeDF74Yak/GLf2w8aRaQskgVGOFPQLItP1IBPqIo6WfR/wRF0+eOO6GyWlAO8ioldtKLQglfA09AzZOpOQjTQopTJR4miScUYTWIiPSfdcrwLnh4blLJRunK4BESDjvjCGnoP3lH1ct1YwQk4KrqBgxDeTbKOdfeoou/LzwfuYTEpXQwPkTuL7+gBEY2y6KehZzQIdtHWgsbQmvaU+EtS+3IBaFx0qPBJljFAxvODgnNUadw9BMmr7yQDJCzJLoE2PS93qpri5Z4uU4f95YSoIjSTEHy+krf8tqcCSJmegz6i2RR+VLaPJEjeHaEDv32ZY9kCIH0ePF/P/ia3wrqynlSq5v0SNh4Y6sHE0Q80dLtoPF73DcUpSmZJLMTQjC5DTmF+llI4deCnm25coK6bJt45WZMnSX1hYYEe991QEo5kD2l7XjPYySxEvGVCUDFCAgQssk5SLUsjaGyB+vE7Oezc22GJ9FrxG7cB3nrSMQ0nVyMSbADE9PovJlh9sh9Fv7hX6+RJFlMrTp5AWiS8gA2QqYBhvQjKk7pi7G/cRA4aZACVgMq+ChrSXVy+eIOzD2SQ7wolxtXJ5Zff2ftAJSZmWA6rrKBC3ih+IfPjG6WiOTPyWQ04eZat0X+2qdUf+duV/BO2ScRw5RZcssfey7X9mwM6BPy5TT4Rfc13vHDbME9LcdecnFVBAlcr93JRLJJo85l37VdOyituS+yRDV+2tboA/Nu+095iozAXrCYMOZhAASDdkuiSps+RdtkDyFLsgNhziQS7R/CjWMnVOwZR7Ht0PJfxYxX55XsR22txNF/6sx2WaXlVxctN7E7wIQsPYDwYXVaKAbABUlkRSm+ChZBsgBwnihpIkdBwMERGBv0nqT9ityGxsI6AJ6YtHc7jccBQMAEplAFq3mLiF4czPNOFLmoCCEp/lceKONzM111bV1xOZb4AapV3VJV4mxR0NXELKhT/p8+iHGdffMVaqkcQpCzmTwBkQYI//nvZ//ANy7CYLDjXwHd6+3bebnvNFYmoghABAw2iuu/wpMS3gN96B3vTWSClD4AKqf2nY8KWW277wP2PB92x2jIsqmrGlTW6TEFht8prECj3LZ+tL79CbAKweJ1fvVtMnZrsTSPGm4dfd8MN8aNQXgMd7ug4xwEp2d7RyhMSoJP19FSK4yp2vCAZq8Vupks6aBKQqrLoTWniJVO/f+stpj340COgjBqyv7WDHR0dm0/Z4tGHH0tYwjdCysGioibiF6E3xIEwwp3ykZ3lDe+tMjV4XLDZPV0uGhlh5n4xEajY9Q2yW3NFFBivT06SJVG8TIhWFkr3jtvvddcdT0QxDEcZmr9grm4v9868LzjBI5aiVGTIvYYvDipE81LcNCQZdMp6PPMOr5kxc+Z9fJwIKrqmOHOjELQsvrgN3dTCizzLLXpXr9Ih95hjjhM50740i+ntfe30re65d2ZXT+9Ou+x1550PRBxRfofqPvSBD/CqMj0x4raWdi08PvnxT8if226rre+8+271UtxZbznqrSecdAIwizfwrljB1lM3p9Q2pZVv8/XXfzdCke5QvDLh3ZJiysAagjmyJ0qFA6f3oUh+54ztd7vnrselR6fjid5aRVrnlAKT/JEHLy/zz28daCqfruUn5a+8CKx+69SXz3nlBy+f/Nvnv/KstX9XL/uHnJkl/d47/kfvr7lF+U71HHgSoxsGa/uTdP3suP31aMgi4ju6x8vzw/ItaG7Xg54RvLnmGn3uD1rzmjX8F/1TtWPsMoeWQ7wGalma30Wby5IYYlkt45HoViGwZn5YA3ke7aZmIPPDJr5yfhjSgt0e7Xfnh/H/Vj9KLhV6jLa1ls0iYdy8zA97OPPDtprxyANPRVMgMlWQFBEflIvc0w4m88O6urq233bt/LAIgjXzwywrkuO/4vjjd6UwyOqtffml79P/4h6STpRZavKJ5AVgmDnwrIAhAQMmVVSIBuKaHC/yKKGNwvK4+3VNU7hXvAEYjtB9EMgNSW+3qt7O78iusNz18gCJyCfYJX0u9V13z7yru7urUll13HFHBpV5a0uOYsQIG5eKSQ0TRhJFMmOlZqgtk9kAVbRDPNwYhGrBUoBJ29AYePutp8+ceW8xztJ7UBuhDJR0QM/amk0222z+3Hkztp4hy8gX8i6NOtyU+NMYLI4vm2Ojc4QlxCPDS+EIfqdFgluzhhgtpHHyeVBdpi6nBEQ/vDZfUp0tqucbKBLTT3mGkEDJNJEXMLx9eHEGuFfvllO3WLFk+R677lZkUZRNgoFPkUfO2mL81QxI1hDE23n7He6+8554w/RRjekYmybgTIMeKDrYZioKSa9QTKdYJhq9Npp44rLtzcM7Fq+45LLryWXpFiQPmy0/bGDzgBraIznDWprP+dy5nq6nq3v6llvdk163vf/yL/88KDzc26cvqPDdGf/wiRk773HVlVcAmNEqib0PDikivu/+Bzq7++bMXvSPH/rnlc8936mG1K3Bgs9n0Dg9wFHSS+xpYIVfNCjCrh2SRZkdEHYyD0UI3d+2llLIYIuqvuaoks7aV+vTvxA4OgcSII2Sz5r5YRFldI5YWLHUm0057Os5//wv/dM//Yud3TA/bN2fHxZyrXInv0O6+UGKaWxTTF/WLZVWEA9LZZ02tbZnHJ8/4pcusgeHix4tPEYy05djFLOBeypao/WaqKTRtvRZepJyHpIRw44KkNu+RJZ5sd4dEQkcUZ5btzPJemp9kiMX1atAR5OFKGhJkRCnLrCiMvSaR8fjJT1CQiNNjdeWDlBvOrEcM9ciY+IvqOHxU5MnZX5Ie46qXcXu4EdC7d7GLZkocSuo9qCD9CiiIktVmFa9HcmBJKPoX/ETl6vqwJBgUU2SxKruDW8LaCXSNCT3iTjDWfgu9BvDkSNEE4pgHqmccr8IGlIvkkZ6mLvpxiRi1tVNG02oFUbRZ5IylhCeyiOT42MPQTN9nghX5l20p5iM0oqkeySDCFtjRJprZ+WFoyUgECBE3gUcwuOc4c6rlFAgsQfaZ3zwA5deeukLLxRbqLmhRxyuKMfpzztY/G88pXRYRcyqACqysVvU51E240Pvq7RKiahr/Pq/XzJ30VLN+72fB5bXIYskOF67qtP82Br6Mife03NmiyQVDy+CIRpjTaImJauCbi3M7SBCApuesbXVzJkmRFesBfZfY9ynjFv0E/itPYI8QZ316oBRUAsKhHVojFDmh3khhyfAEKqP4dGzuGP+iOEb5ocBCaSBWGyrdXd+2O8hgGLGMp6iaIe0ahfPnzd1083Q7FlnfZI/SDbXM0tWTB41oUkVYmP9pVdeEy7c27dy3vyJ4zaSTyZkc8VV3wE+XEOoHPxowFOnbnHE8cel/l7uF3+LKxes81WM1M96euB8AE4sMFhj9Q/q4SRu08MLOFijDetll15COQCrm39x+y677tzXuXL5snkTJo7V82n4iAnP/7rSu6p79x13Ou20dw8fMfp1e+1/1Xeuw/FItrtn3rbDjOmTx49ZMG/+3nvtc+rbTku+3eDQ7FmzNho/Qc3D2WefTRCpENp+m93uu+NRZvV2m29xzjnntuhe3tT66U+cyeml38T8BbM3mjCytaXugx88Y4cd9595z/wejVdiCwr6rp6x5fYP3/8IpUQq0zZb73Tf3Y/UDHYff/Sb20qd0dVXX217l3Qsmzhugj5V48ZNXL7iOXg1Z+68yTrv1Y/4+FlnDcpwa2glpcS94jjt69tm6x0feeBJ/r0Z229z9uc+22hIUWPzP//jx/F3s74IR6bZDttuP3/hwv1ef+CRx+ju2qslwaynZ0/edDNZ+v/0j5/A8Tmd5j35xFYbT9Y4v6Vt+HOrVhtyI7MRRQ+mH2X3VltvtuOO08879/PEIi+rLWA3ku0klGy4qg5BgBXrR5JYM8dEY0NbORHO9tf09vz857d85Wvfuujif/XaaVwWAvB1KTsTw2uWgM6F+MAjj24/4zV777F742D/sx0dG40aIyokLf6SK68WEuJFWjJ71sSxYygS0nguv+pq0TO+D1oLU9hsty2mbnX4ccemlQB6+T3Omry/Xh2Qh3M7nElI5oVVr5k27Ytf/KIE8bamUZ/8l8+k4p3SU79mfhhtYcP8sFfd/LA/HaejRGJ9a2VJMlqwvNqhzs7O875w7nzTlp58/Gtf+9r9Dz6gOffBBx16/hcvUrwyb948Y1b0TJN99fp997vooovU382dP+sjH3r/Aw/NjNJUW8u/f/Sxx+rIfvVVVxsSxttSrYF9ifYo+evvEYBzsSUk09Lc1NO5eqeddzL5YtLGk555ZuX7/uavrr/++ijsgzU33fS9D3/4w5x7++6z+w9+8AMy43s/+PGXL7yYv6lr1Yvah3d3Pf+Fc8+57IpLmTrSC666+tqPfuQfly5fOm3zqbfecvtVV31bGg5H4pfOP39Zx+Lbb7vtvPPOW7piWaw5hbwEiUyugcE77r5Lkvcvfvqzz3/m7OUrllM4DjzwwPMvOK+r68Wddtpx9tPzh+weQWDybHcna0YDdjnkQZRI4gTi77nj9tbW+q4uXSd6jj/xBLUj++//+p/+5GZy44YbboBCq7u7XPPLF108OLBq6uabz1+wQKYZ/uwpJbfxD+HxRNpAdycn4X0P3N/Z3X3Xbbd/+cILOpY/k7pCR339o48/vtkmm/381luuve4aaSBdq1Z/4XOfn/XU07f+4tavXXTR4uWZE3T8scfeeP0NPX1DP/7xj7980UX8pDHDCATV+41csX0f+9g/XX7Jtx++72HFLiVjgDaPSaZzRwkZxDQCDXUgBkSrXW7QMoLBytEgdNnd8+EzPvL+939w9Ih053WAVfUf+/mr51butddeI1qHv/GQ11/45fMwXnDY53X7a7vMZHziiSfPOP0f7rrr/srqypvffBivF8t37tynzvjQ3z386CP2zjl93V2nnvz2sz99zpXfuToR0aoAA+Nyk7iYgzRrybUsYJ3/5WnlKZTwjH1ktTdqnnnn3TP7h3pv/9nPLvjCF1b+6jnKyKqenrM/c87BBx/M2mUsf+bsMwcHel7sXP3krHl3z5xDjdGt4iVGtxZo/02QhCTojYcTRt199938W7fecsv5535BS2Xc8g1vOOj8Cy7ku16wYM4ZZ5zxwAMP/PLJJ7actvktt9166eXflCplEgEfjKICA1X4y3nku3794n1339NV6br1lp+d+/nPPvPsMzffcjOKhkJa+J986tsefeKxqVM3u2vmzMsvv1Szt0+Chvlhq7vuufehmXc/opsXWuZWCWbBev93rj78zW/83ve+19O9+mc/+9l5F5zP27//vvtdeOGF8ui333a75cuXIyUzMZLspOEOrZCyRnFDwuVnLUjz7+/A+ZUf/v6//2gZVoKEv+9aHiatYpR2tX7lK18Z1tYuHnD8ccfNnzX3Vyuf7+6tP+CNR6D0qVOnnHTcccsWLHhu2TO4xv4Hvl4zyk03G3f00W9auGBue3NLpbP7Ix/68M677nL0Ccd50JZSWM7xVL1lNcUp4KuKMX+t+eT3LWldfI+xlYSXFHMkL1mX93vvu8+wj2eeWabZ/J677/H0rF+uWL68u7t74eIlhx1+hD7celrsu+8BhvkeeNDBjz76sKSFYW3NRx/91p4BHU63nb/wyWXLOzDaeXOWHXP0KZpcxw2ZzIsIHk0ZLjjvi0Jor91hxqSNJixbsZIBQfGPzy8zLxo/+tEP2/ldd9lx8ylTl3YsNTpo+lbbHnn4MTzERx/zlsmbTkj5CiW4r6+5dTijRwZKb4/GhLyFTbyhsHja5pvf/NOfnHnWJ5gWeMjCRR2yTnbZbRdnHnTQQY88eO+vVj67+VZb7//GN0kTOfXUUzfZeBJ3KmmR6i5FQCU1Ypg6TiVIza2nn/4h7sU9dt1l0viNFnQs8hXFKxBBnE/DXbmyAl/Mzvbmpq9c+OVRI1p233XGRmPbl3YsWLJ8ScfS5bvvu1d7Y9MBBxzw4AMPcKsm91B3HE2VGtr0GTAc+dLLvvXpsz8p9auxuU3CeSygis4yQUc70p26Wl1FsB19f2XfpvEB7qNvmojXVZdf+o8fPv2ue55wtpI4ba6kMUbGDPaPHT3yzjvu6KmseurxmbvtOv22u29b8sxzlb7Ggw46Qkr0Nltue8KRJ63o+NXzz7Mlevc+8GC9wzfbZORJJxz6y6cew0ekrnzkQ2cw4I5/27GSdDJUJc7ccnGwTmgaCdE4i0BbF+niP3om7TniZ/fgcXRnRFHmh/XW7L5r5octmj8P5j/42Kyjj3/bpAkae26YH7Z+zA+ranhVpEmSRlWceC2lA1Eq7azy1/7+BXPniZFQwCW4pjNb8oNUXZQmtVgpTTzdKFsEzZr08pdjXUmjVRT46KOP4HqyMuGdhiW4aijyFeLqpXv+R7i7rr6f+A+ZIBNWAwgN7EpNfjK5S+yDu//0009nuxh5oKl5a2srzq5X+tNPz+7uMYZ3JeuK5cIJKdGGx7atreF9f/Oer3/j69/492/tuOPOvHASRRgROLNWVtIZycL2Np2oBF4Cfb0A7K+b6pRR2yTKxQOX2JebmydUFLRc3k2tEjeXaOdkQk5LRamNuC1Tqa1dypOcHcUiqQAbv8nmi5f9yrBHgZwrrvxOnZZtDQ0rlq3QbLun68Vrr70Wnhi4197SXDF2QleNpnqRQCkg6SCg+428ytqhHo+TsAe7S6AsKSEygC1DFC39puWEDG/t6uumD2ZpolSDlp90EhMG5V8GFWtqDEZasXRlp6Bsf+8NV30H3xNv8+wicD19MvVVrg3qmC4x+8qrr2LXtrQME8fSOWlgsCfImR6haZuiD5aV0AOChIRgynfEG2s333zzS7/1rcPedNDzz3XymncrLOV75MBobJSVw4VO2k+aMGH3XXY1YoapmgxDOgtc10i5sckgm245pQqbiy5MTvIf2gg5OxJ6EY5JOtKn4MDLkuo36OTlt7Ow9ePwzAQTOxgQIZ/ou/lhdmbAyIwyPwxSfeGLXz78qGNldcKGDfPDcOR1fH5YBFiiLa+gAGwVE8MbpETV6fzbw67Es+bMmfPAww/sf+A+UzYf31Tz/G0/ubp2sDJv3pwrv3v96w46cMyE0ULiN//0ZqULixesuuqKn7zhgMP03dCD8rOf/9wWm2/+2U9/ymWp0KRg1Me4R8JpaFUi2mEPa169YiXrwZ/AHE+RLai2g6LRp/tUYZc4ZW3dfvsd8POf/eK7373JbAsnT5g43pQKA8vxuKRplCx28Ct9fbKR+++//y9uvpXMO+yww8BPIxnmjIQANlIyOSQmdPfgk4wSIigeY+GDJvkgzDTVIJIh5MTncsUs7J86ddOn58yCAJZyySWXLl7cQYRZRjU/sK6lfvq2U3856zEqyb3337dg8YLsmP7aA01v/4v3XPzVf5v99LyJEyZJlfzSl88f6OvisCRIN9tk0ycfuf+713yntaHtW5dcMX9xhxhSsXx0VFAw0OD50yraqbwcPRUBplRJyy+MJZlSIf96LhXeDgKsFOBDxj4FUFIknSYjacLEyXJNvvjVi2Kv+MZgTTtTjw2nH5XsGP2uens1EGF6fuacz3zg9Pd3dCyReSQXf0hDOd5Bzyj/SF6Mi6WVgjwYZeMFSX2mcxIxPzR4wH67XXzuOW895MBuxRG1zTS++PcAOuKqVx/B5ctemHnv49OnbT15o/HaiN988w/sydxFsy6/9tI3HLzPJpuMEzj8yQ++79pLFq389qU3HLD/QciCifm5cz8/fYup55x9FtPOPjMpApISOsa4UzNg7/PW+iXJPHAe3A5SN+rTm54sA4b6VDGlqsT8sPZhY3aYsWF+2PoxPww3CA6E8RRXpt8v/R0lm+u2obGtZenSpUh45513PvfcL4wfo3117S9u/vHf/t1fa6W60667fOvb3x47bkzNsPaf/+Lmv/3bv2usHWZw9Xevu3F4+yhUzrbAn84++1OPPPLIzrvt3N3b7R4JarxSapabroe/QJscYj9EadDdNDXF9eIowxqN42r89FlnYWdTpmxuLiXmPWnSuFhpbcNuvuW2z51zblNz+8j2kcccczz2nCYJA706FyDvadO23HGHXUeOHLvTTq+V3NE8bPhBbzpkr332eNupp/AZYsfslX6dxvsyP0Xn+FQcMzxMLeGhCm8noTKLSB6ETWIUXHHFFSeceEpj/cilS5eMGzcW04+SQ1LEHBn60EdPP+2dp5o7f84552y88UQ+rnvuuHvEiI30HDrjjA+9973vpQNy0H/1a18ZPsLYsKZjjzlK45vv3nDdKaecps3O7FlPbzZlYzOL7T4bUS8/lpw5DlYuxVJq3vC2dqkSGVDFrjFvOq1AIFB94/C2Aw95436v2/u0U9/Ol8/cJJAUIDKt1B2YVNPc1HrbXXeec97njAshsk894WSmk2eXNUKo12vJn5JO1xqYNn362Z/9DLmY3BlRsr5Ve+y5U7TXpuYzzzzTCXI5SW7n8w2GeSbFv66xtY2YF4x8x9tOPOQNB+y3z77dPSlYq29qpfspo9lv773kGkzfepurr7lht112bW9t+elPf/LX73svlWHHnXa85rprxk8YrRTwB9//3oc+dDoTduvpM77//R9NGDuB7CQdPe/Z53723nvv2XvP1xnxHOqoSqyk3710VOn1pZfr/h9FuavWKqrHVU2RvhIKpBPApD7X1//ip7cccvCbAaI4ezbMD1vX54dxwaB4/Gj3nXf55je//fbTTsI0473hzColtOmpw+/EJZV+PBWs0rSZTGrX9QD/VYaRMVVN4odN2t81tfSmwVtC/Pw5xdVI9Q1dGefUm2xvJB9tKR0qRe2hndkfazXJJFCXd/KFdfQAXtLIw33zm9887bTTigyTEyeUwhtS4T1jjQ01tma0VCBQJgbxfaVButnG5i4p5TdxXJOlZvJGydEIzH1gNbaq7WBaYhhkU9/6/g/+y047GZp3TCL//T0aApXmFjqBR4Wt0UqWdqK6ljyI2NOFSZ48c5iF09+pyKlOB0NDiE3F0CrKVlpmD/feL5+ef/Ch77jnngfHj1bJZp8JLAEwZs9gt7K1Bl3ZacPMDMtQyVzrGtgtIa2xo5LephaOZG9w0DuZvGZTxEBSHKXUh+80n2pXWJJEciLZlfrV0gKgv4vU6dOfn8bNkZ3WcN18A/06ueNWvLEJkKSlWb6oAtqA5Twr3/WgwjLyzEpdrHrIx0h34hiyhAUIaHygUFpbb61geUV144WoKCEpcJ5OwZdFDHQThfwTzmDapWzN8BjeXy5Quyq0DSIevba/t03nX+fUt/MIg7e+C7lghGBoSwKj9BYtO8BAxSn4ZsYYKDqPJ7V+qIl5a7Ih0A321nnqAk7t2wNO982lqymKCSLn7bIm7697x+/SC4RmEfeZH4YLSSqAs/QSfdcMhhzo7+zP/LCvf/3rw4fxwBYkF0jcMD9sfZgfFtJ9+Qj9JCU+Fa8ZHo7Jeid+HMOQtJahIhb25SyGQ2EbOlpTP+FUfIRyqtZ6OUiz+J0SfeYrS84yx1Wu/7vHb67hdz9fB98BO9oiyybMDiOn7MM2TaDLsxIfETb8fensoECquI9IhiE5dREf7WRNRFq6/mOW2GBTffOC+Ysee/iRo486xlcioDLJRdPrpN2VtkT5Yi5nfzkOcejCjaO3xMQZaJH5jTHilVZk70p/WMxWlda/ff0bE8aPVkmG4VoYr7DNzAvKcLxvarZK+w9smjgzMqMvUlWzC+dq/wg5woEJZGqzsKipfPh2JlvmCTBwuemCp7ly4BK5ERlXfhmmjO+rbnVt76Wko5Ryu1KckNyDBBLoOUiFloiGPg+T/EI4GkFSSt1i2GkVKIGD0RXcVjstFhUR6vlcQc24M8mVTChR5SV9Rt8m7kmssr41y04CPWuN+BBgzHAKUI/k9EUiKF/HWzMXLdZsCswE3lKOjpTMecwCAUEhnfxS4E2w2X4U57qsGn2bpI8U4IeqZIDqcuIsUbx8Mb+8yjIcpVzs5ZfVN9ft38AQpIBUTS3VmGdK8UEEzpYeARLQqvPDQDpcC241NfVwnjdn8+wiSPIzb5gfhk+vO/PDQhhFOy+iyEaH7L1RBlto5lIajKbND8pF6iQUaSRgEZaIf3np37hUMIUwA6dpgNiquZZP6Lo+lkyPgJVIqydyedFvRWPugc1VD77+vESla1ay5v314R8CHpMNYWqTETCnl11lULlxU+pgQER79TT/HeT90o6Kjw5XxpGd2j/If2gfzMSTl5EEnOPfduJNN37/9jvuNWAvuQvZJBtGu+glozITmGxIcjLrxwCwNFBiWpBtlA+VWfUNTCYywn/EDi6qe8XQkUcdc+N3v++sYcNHzJq1cPSoMFlywZJoNW5tJVodEgvp9ya8x1zKjvcpzCJqPUASL4M3bJ9012UDeZ6WTCqJK9v3PToDhx4dk0g2bLFzKEwpUkzcLuKQ8pSuUQnkl955bBiPQm6RvThWAni4PvzjGuira2htLcFXVwLeAAGIMTp/RaapF67p6laK18gPyb+a3p7uZJVafqVDfEYskPStLU2ytwlrMkcrMGsj0lzKVdJzOV2PvAAHV/enAjMF3UnyFHdkHuoo1VC6AEf/K1fPbpiXIfVZTkhMTjaYRXF3mN7ZIOpHvlaZC4elRbS1tNIfPZn8ZTeiALh32aFQn7/Xt4NmBQewGlwk1GKDdQwEEVBU71Hpb8lMk8h5GoAKCEUUG+aHwR9oSllaZ+eHFelVFBwIsVbLq9IG/ZGLObhSjsACC6ivlaolrYsfkvbam3oFE1j0kkikhDqNBUR+aTmBUvmowt2wjM621nZuI0H4sMgNRxWk6XwSwYE/ocuB3p5M7+H96K1oJ5/GtbKJC1WmDTzuz3cnDb5CtZTwx3XHhMvkSeBubWi57pobcVBuYHy7kqacZR5p2rqHuytRYg+5QNyETS2V3i7DXgfMaza1UYqIpk0GGNaZQIY98iBi67ZpUAGWnMW0D82tpEUMmhETfkrglASKsNRk/wz1VroSb7PszPTSjJzbx0la60YG+HqYewatpyUr/xtHHAsO5vi+Hhasq2ARUyygCNUREuKpLtWUUYg1la7VhsylFQg00wIYIhIitXyqPYYBWlypflWs0o/hOz8ePC1OyqTs5HW4MalaLDZGaBloh9XV9PTpEUWMlVQag060cwRE+rpvGOjewj0edCWJA1oml2VlR5K5zYgtrgjMlKeXgkAkJrSZvXU3kc7imXBOTg73Bb1oB2SSTfJGti9TMS0AFoSyqtWT6U4SeksbyXgugCN0aCUFB/z5ElnmZuvHAYjinRJ5MBZcSAwYqHVlqcJncIgAM5s6SgtpH9cG/0OBHP0l4IV0aRCzYX5YcA8ZgtA6MD8MIYQWUMhvHjGgfBTaiy+mYsJUOdJLAndo1jwZVVOoKcElnOGsUivnU1+FQtU+rXgExZhqadpeFFQ1ceFfa+63HpJhwPrygSHmBdLKNmCA6dYULk9zQLDYGUhJpiusy4kIkfDQYgd3BPyazNCgLmizWCe9fjXrCnglidiviEB2W2aL0cHSnynjVmNCsTxYKwOEjWbDyVDUY8oex++X9BLcnhtNOwkdCgt7SNEURuEEcag08cPKY7exbKqBGSsXwBnQG5MnDd8lyOJrjH2SrxUBVnh7XkUeyBnJbSQcsjj1540ATfvzKEyZqGIBvhyJwLQBgfgGK/3N7eas98j6p1JmThVhpWVkX5/acI9XeHud0s/a+vaqiSIjX0sY3xbGBd5cMaauD2NAcioCBW5oeXyD8vxLzZUcjkipXMGp0d94rZSkdscLRQLHMUhR88UqdYBuvVnsJTooM4XIIneqG6pvY293ZZW7SJzRNNUDkkecpunuyFXJjhQdZjSS0Jmopa++BJ/YinnEgNdd+j1ZgVlBlEjTADBHIbPqn+vPbxodPaA0UMtIzxjdEUsAEG8GRYSTtsweicoC8up5NswPW0/mh8X+Qq/R8qpHemviC6EorCS9GTj+E+5G8AnHhGUUfRn7pC+yD1hdPsUffUyeoUxU6uv+1jJOIDvBCwxaIITZod5HHKDcFAf3x9rjFVS69q21/1Y/eun32rdfzf8SEoyP+KJwQQwX7AIxvNJsZWo60sTXCnziRcHUAlL6pLQJf2qwQVwhXrtEJjFZbAqS9ofT4rMNm7ePYlcNyUd3kfJF9xUuSpJ2MYOqIU88NyYy4VIy9lJxlTiDV1Vbwfs5nSUeDU5hmZWHV2SiK5kq4sP5iV/naaLoJYHFH/rkxqSITPIR5Ig/OctjYSr54gwqPD8P7knyaJEPnq4gWO4SIOgsbPaxoSE0J68DnFj81uFBEjusPnhDiz8KkHzFE8RPmmUkE6SADqZGkJX2+RJbagd70qYSxOIXDT5moGCBqF9xJJA8qtgkbgRJXZkdGFOwSi2ZAav/cvmUfVBtohaYyPlgKSotaWWVckK6pOswCgHE7WmAoIFeqA+SmVzcpyCZ6wIft2d8j37H617QY40AzpNkt9dLGQYGUdkwpQFaBmrI1kIH2BTwUKkgTYpQSwzem7YywIMCMXmzsbSjDfPDaE/r0vwwJBrarCp74UQhVOwm05aSDteDA+GXeVfcIpwRHdJfccdQdHiuiEWwhGos2uEvmjX+Al9QYkaBFBxSIIsfcvKHxUa41Xant7k/EK7UgUrqVIOJjDb6bJVTV/lGCc/mHT9u5yesEMGH5l9VRxjQ7xwkjcBOSG1AgaZnp6JnUlBcdwANwhFduCLnbaaIhUFnNpKZbHl8DsaAAbDj8/JmGdWGydP1kbOQEp4+VNeHL4bSk30gkoDw3TEc02bar4gA84IbKK0uE5FmU4vVEu9l+ANwR8PJl7zGSoYG5JeKgcVWt3YCLEaGz5yP9/eSfv7OABHMBXvv6/E42WDNL+x0TKMIKfy8eP7K9uYTMom5QoYlCagEjNhiEWjszYAB0ypsHH6mtTQDZ830KRl9iRe5bWZcVfmap07OfJYimYioqwbFrNLaYKzvtvFDVledmzs/F4j0tsgIK48TushmBPnL4/sor/wtnyBCVb5TPtSGxvveTeKJ+V4xl6WN5Dvli/l3TdS4zq1zBWeYYcT+zN+RWM6MrzLE4FpJvLFB1XvlMz9+eaf8mQ/WqwNGcyfqKJ5MmCQ4QTWYmQp/W8aTAS5lvGehEaTjPbvhlV/oZMP8sCQhIYXkWHHqvNrnh2E+qRz9vUedXglGBcqvDgvCpXIEDzBEFhUuVvzOeRczyEkpBUPzoUIwgjcJ++vJjUHnHAPT/BsU7N1++pYzH3yAEkVdcmmwFArCmmmm3inD/XJZaOeGLktdzeuXD+iau6wjh+xtDygrr3Zwm2lbMcK0cRrWPvL+mfcBIM6Jb2KTzBucMjKECj9QGHdCKcXLFxeTj0C9moWfLgaxNrS9WLV65512uuf+BzKMJINZo6WSeeXsKmtkJ+lRmyhUms2appeZRokmOK27qyc67BqDKjepboUkBHvT1blKG48yCquef3H6Vq+9666HiIUBHSui6gk9cIdWhx7FLxp9RYBH3Ks7DentdxFini/P5fQYIG5SV9tT6bUEWYTFOrEoBmkMr7Apmkux9F/afaiQH2dVfXgvfZA/3CbY6lhz2kt/veLN8mc5Y835hetVz1z7zppzfuef6mXX3Gjti3JW9dZr7v6b38tHzv3jj997tT/+Mq/ab/BiR2cgjAYGDcSAN0nFKURBZ4tFJnKxYX6YAERmZhVNJ53E8U/Uxze2Ts4Pk26aOU9rhAQuUCgvXQgy4miwJ+0VxMNEP7DRMjmsu4zvgytUa1piZE+05AGJrJILEvaGYYO+ogKJ6V7RiwpeVWWeKtRYaWp1B2tb6mUSR9lVN2OkomB+CcQ2lWBDJtDH4EDrOLW3yp+vYEQJvznK+6/iX6Bo9VrxsrcGuns0grrrvntXda+68IIL3v/3f7+6a1UcrQhX20OmS4wzFgDLol7ad0yg+NzMwYmnTr+PnBCDg1QoJVO1Q1UnGA2DABPu8ru7pzOYbPI2RO+UPsofxwMZs0CSiL0w2BfATe1iB7a2DSvOQIsrzfkidPKjQRRdpK1N2TIz0C5YPsOqX3Izyce+IXk5DP3PMaiDlnvZ0Fh8Zk4yFFtbMrKLb023DYY71UXfIDPpyVfPa1qK9sdGQ8GVPJpnjkEfCV2kabSqCA26d0R8dfvzxVc9OryKMfm/Z+nBKLyIJkVccftsmB82lNHlkpN7URLFyBRHfMIQteTWxlHV11lZ9+eHVZ1FkVFR56m6+GEqP3uVggpd0HpjGxFt4VzSC1qbW80fja2V0p54g/IFMY/i94+W5D0mvTyuuKfk1ycOUPRoOQsNeh21t7VlwnB8iMqbItU0suuSIBc3kZAsOyPBbQyT6u1gFlStgSJrX5a4/z1k82e9i2fEoTPTqzBs2qUN4Bs57bR3PLN8xeOPP06CEVR4ORA65HdEcPf3algIWnFQJShQIougFPM440YTf7KZrB6p4kqxBqROgCo7rNZsl6gYdYZp9Te3DYtLmAVTJAdTJg3k+xPXlB+fDVpjQifVgrggAjWycHYaK64RZ1r8aa4xkKph6CJFgdon5aHsnbweiCRNxcliQi4YYaZkQPMLZpnQmht3p8SNx82d4/uETSBSIydFYVZy5xV6eYvnkGQFiiQHVrWbnPmy1MqXNhzrOgTsPg5T9h+f2TA/jMsE3dTrE4A88Q26qURxPpfCLTB0Ngk+gX+su/PDcKw1oYlXcADOLdEQoYChrp5dZsy4/oZrR4weKd515lkfBxRfWNGxfOMRY3W5E+y+7DvXhO32du2w3baXXXr5qFHj6xtbP/7xszBKTGe7rXZ86L5HpYf0VLq23GKrRx94jE9JtlZrY7jnxz/2j8NbRevrjz7mGL1Nn+/q3Hr6Dv/ntP87YsTojsXLcSi8T1h+rR32iiVGcq4LB9HESg0vjnzoVQGegSb1NV09FVwbHycNOhYs3Gj8eGxcKbHGRYlVDby43eYTL7v0m+PHjx/RPvxfPvaJvqGhrr6BLbbc6e67H21paOnp7N9hmx2fePAJ6oMW8PaC8fThD31IR2b27tHHHBXZ0D+4zfTX/tV7Pzh82PhnV64qMq9moGfV9ltNu+yyK0aPndzUNOyTZ54dcVUz8NF/OJ28aW1pOeaY41hV5COiOebII9l8hJeeuYgncfNKRcsPIw5OetsptJi///u/ZTK2NzUfd+TRfKHCF3PmLxszfjyB/dF/+Oj06a+57457iZ5nZj01ftRYjeSHj5284tkXK90vHnfMEVqSNzW1GUTnEaS/R84WMZ4bwk20mZ8I4A3H+gMBWIde8OsN88Mef+DR3l8/t9P2088999zhjW2NtcPP/OTZnDQMhiOPOJyBITHs29/+9vowPyy2FxogzcMQiIkwBf/w3DT3d5ob9cKnPvWpjmVL58x54qKLv3TvQ/d1VypvPPAtF5z/1Urv0Ly5895/+gfuuefuuBT7B8/94nkdS5fMmTPrSxd+4e777oqqLqVAR6MgHTNOI1R8jgu7iZErAn/WJ89c1fn8iy88+8QTj9z1wExzs7orA1OmbNHV+etNNpnoS6QYxZ+CX46ytnWRZ2m/BOwKc9OwvJHvtObqa68ZNqJ9+2237e3pfv1++1/0pQvFCuc8Pfv0M/7+4Yfu6+/qku99wQUXzF+44InMdfvqAw8+yBwzZ7JuqLlPfkyywhuFo2KlKfUy/qqm5twvfJGkUWX18COP3v/wQ7oXrnqxZ/KkqatWrRw/bri9Ite0SmLkXXDBFxd1LHx63tP/+vWvPvjAw+xqONDXZ3Wds2fPufuee/ktjzryuF123kO7eumOJ55wAr8hV7KmScccdfQnzvzkty+7VGL7l790Ian2wrO/Mnhz5oP3d/UOHnjwGy/68sUqlbfdduvFHUtbmofVdPa89bC3ZCLaUM+NN33vy1+56OFHHmI8Vipdnv2440+UPy3gWpAyCNFvWPVaOyxW59qjuFHXvtjw77oIAZudklOmPf60YX7YhvlhBclZUOINkWHVl/kdXoZXNCiFbWxsGdbc/m9f+zftA7bYYtqJJ5749KzZzz37Yk9fw8GHHOOr5oedeOwxHQvmp314Xd3FX/2qmszNt5j47nefvGDxHIqyeRZJwE60tUzPqM18DT4ipoTA/O2336E1sJbBS5YvlCQjBsOHdeib3+IjoTecqiq7Yqb8zkFARka+yg9uMZpTkuA5//plV9Xus/feo4a1/9/3/dUPf/jDlpaW51Y+Sw696U1v0ldxs00nnXTSUbNnPdFY19zePOrc875keuXUaVNOfvuJT8+bSz/gTZAKr5WS7LvEoKI6SLDoHTFymG64t996h4hXW9uIZ555NpVJgw0jR4x70yGH8ekBtZwbmY8S5PmAv3TheUP1/ZtsOv64E499avZcLavuuWdmY2Ob7sMLF84XPF3UsfTRR2a9613vi5T0CJzHsKW2/u/+9n27773HiaeclPz7mtqZd941vLVt5MjRCxYulu9DE9p0002POeqtA4Pdxx731k03nybI9fyyZ55/7lf7HbC3grZDDtjvkccenThh49tvu/tTn/jEmi1OFnWtASpRsHiTNWjIc8HSsvuvfhzIs2w4/jAIbJgfJijAr284eXNte81g8/DmYR9+/wcb+of23e21UyaOW7JoybRp295xx50f/shH0b8xof3GZQ6YndnNHSMYdNvNP5HfO3LkqCUdzwwbPk5ir2C8jj0cKnF3DdWtXL585cqVr99/f+6cN+y795NPPm6IoDbuhx9+OOcXETB58mT0aDSDfN+UfuIjSfSKX6RKoX/YTv6HZxXa/g8//f/5oIiy8gtziABRnDlAv670aLHaIGlt7tz5zUYddq8WKywhGGdhmikKk1/v3vimNgerO3sef2KWDALhjM7OVSJbSThM1MakqPRoSCp+TW/H4oXveudfzZu74IUXf33ooYeSaRLvynCmkuHs9GKH+Y0L/9bS10ivEsD7rY9eXS/lDqUBrEPrXRKooeGOe+5+wTjnF14YO3Ys8VB9UnMmgYNbVSiJ706GvCr7hsZWOcZd3b2zn54Legw4UckSyrUv5oxWmb5rGvnW09HRcdJJJ69YvlJ7+IMPPoQPHbydVDVwk8GkWAqcTRrTYkOoTJ9Mlt+cOTzKCxYsPOnEk599dvmqF1487LDDfVcOpBgWtx5pyS0ZDNYHpLub0H2u5fuTAABAAElEQVTggfsFUKHRoo7Fbzvx5EULFneu7j4seok3+1tLy6w0uaqtzVgzqo2ply3NixYteqGra1X/6quuupyce+7Xv95s8tSWxrZrrrnOpegwgmrietXNTb3BBtH16kL0/6LVQoYY3BvmhyU5WccdZoJggXp/HhRxZelTg5ttOvWZFb+aMWPH1qaWSy65JL1F9fQpXQzmzpn1nve+65mVS1etWnXYoYevXr2aUWvMnkC4eYEmP6iHwYRHjh61dMnS7kpPZ+WFa666BM9xWQRrD6tqpWA4qq/Ez5NSVC1eX9re3xJjv/XypdP+H3/8sTIsrId8ql6xhDmSoVxcicyCCubRW+n/4Q9/Is9iacdzjzz8+P77mx+2UV398z+/5dqahv65C+deff31++17AP19sKf7+9/7gUV3PNP7yONL9tvrEN2Pttl22pyFvySPKPJLlixjDcic6Zcz3di3ZNmS0aMnjBy5yZKOX916y12tLe0UAcy3yrWVovGABWOtr/T2eeVj8zG+wnx85Sevtr9LskPkfxrIJwxJbuH2NkFreBGg8RM28v4vfvELD7Zw/qLrr/n+Qfu9ub+iRVTf937wQ62Klj/Tef+9TxSx1LfDa6YsXPAYiD362MMLO+bruBfwJXTVsLRj2YQJk1qa25YtXXH3nXe5B9nmXu60Bs94H1lkNQOdXat49giqjsUr7PhBBx2wdNmCjSaMM4HTFJ47br+rvq5lypSNd9p5x4u/8qXq1ZOST3lpbDz3c5/betoWn8msuKGO5cvGbTR+9IjRzyxcdt9d90rq2WTTiU8/9chN133H0155+VV8iaYejJw03kzMr37931AQRxHiYHcNDfSd+vZ3/fu/fnvWU08X2ND2aohVQCALCc+ItbVHla68qmLO2rc3/LsOQgA+x5PIyJcMtWF+mN4Rg0YD6seGIpR+MjskPUX9P+XkV+v8sDXS6I9AXoJ8LTd4hQCMh6hOu9JumQVNSzpWtDeNMNfj8su+OWnsJGnzP735J3vvufdRp7ytfeSw79/0s402mlDzwjKsdsmSJe31I9kU//7tf99o3MS62v5//thH9973dcedMnTo4YdvvvkUXrN4tOW89fft9bo9J268yfCRY6Ztvdkuu+3BpKWks+lsBp6Iu+KJsQ7sUEZV0cBeXqoHhMqv/hAIkHOZFpOXEpCcYZnuRkIqQYSP3H1DzW1tP/jR9/ff94AT3nESQXHnHfeMmTCu5vnVja0jOpavGNncxoS/6juXjRs9Ruro6af/9UEHHFR/Ss0Brz9wyuZT5H6mdbfU+f6hffbah30zfPSIXXd5rUNeRH9vDztK8m3REOhVaX8LyG3tw5955hnThWsGGr996aUTNpqw0bhRU6ZMaW8fufOOO+yw42tMpAT/q6++Yutp0z525j8RTpdefslb3vyWJOc3Npz16U8fftzhJpbddNNNkzfZrGXU8F223XG77bZz/aa6oasuv+QNe+/7nr847W/OOH3yJhsbWlbT2vyTW3+x/a57f+zMz0jxf+uRh3/g7//ywH0PbNJtv6n1yUVzwYgA83SgoXSsxFYLghNjxRpboyGSxa8QbH8ECWw49dUDgcRFsQKImoCEYvA188PSCOB354cNvDw/bKvtdthu++l9vatLGzFfjT6Uo0jF6p//Hb+hqHZl6SkjdKBjUUhe7NdEVq3afvSjH71urz1Oe/tJ+OQtt9w7ZtwosfFDDnvLfnvscuhRR91w2aXC3FI1unQmHeiskV+sPySmqBmFQIzwAJdGY/Odd9550P77UfLa24fPnf3LpmEjDz3sLfvsudeRxx512bfPnzh5k7Fjx20xbbsZO2zbN9ila6CU50aw46zvM5Oopn7EsB//4tZd9njTJ848R5nUUUceft01l33rW5fsc8BBJ5986hnvez9WEJZVVRnFp7UsoH0Gjjkw5f/kUXv4Rz533qdO71v+wvhhugMkVaxpgGCLgsvtQ1G94YYbtn/Na71TJJelZDW77LLbN7717+94x6neTGO3vGdV/YPPv7jbnntfePk1r911RsY/6RQ31A3o8gWcwRcVSWM6r1Hyq57ddc89LrzyhtfutrMHSipcxExfqWHSTyFuRvyS+1QkLOViidJLuksaPUeWzA+5BDr+1FSMac9sJrnjsckkYScTiakgr6MgcC7sWLPyCLb8vMqOb37zm6eddppFl4yV+p5eXd5BI83+BxraKlg2wAaIEKsPlpUqRTBAuloHarpeu92OO3/l6kt33nMHRVVxkGtoIe8PnKBXKSfX1iL+g+70hiI9dPQDR770np7Oltbm3nT8bNKu3W1NjmTh2CxtMYc6e3befY+vXHbpDrvurn2EvMienl6Ndtdgi1z7+oZuM0dKE5dsgjWiH515NWbM3cXfKvWtUIAiIr21JecEq2wsP6dyQlunB+DqRct+vfPrj33wgUc2G8sLsjotFpMJa43QIq7CWnjLjVzvCfr05H1pmyk11S7IL2/5msWFen5DzXn5jA1/vSohgF9V9ZIqvdjguJ83zA/jH6wZFqmh0EVtbX2TVLk2uD842NXX19TSilHqj6P8tq9XX9u+2nV6fhhtv/wQacWJmHzlNQduIHXe4MFkBnR3l5hNDcbanNgY7V38zwlpnBOxpMtOLz8YqRbNJu02IgJxMg306M9l1iqTIOws3V/wxBQJOcMN4z8b6i8f9kd0Ve0B58YmDo+s5tanYG/N4SaOKlt7acFrPnt1/VMFoHoDJVx5cs0JM604z45g9ZpNqz1yxnAxSQ2CrgQABOZLqcvgMbtGrjGqvNZyJc1tCTAd/PSxjR8xmlpOtilKImrl01fMue/p7vZNr6o9jVI3KsKkKVhTa21ze3ffgEyc4mePnaNrvH2qboFwJrYi/Gs8YzQaEofns7+fxawULBtCzrY0ZxwGDaWWepjmP9DANK8mqAIr4BvCq288/4sXTBg/Np4PX9Lbw0aLB/YP6s5UGFcEN/nXX4kAg1LGr3gK73m0xMN+5yjJar/z7oY31iEI2P0qm9owP6yXIVdX0zPYEzMFeaSwGa01aNBJ7bXnRlKEVfid7gi1TU1J5+w1sSL+Hbw3fdhD/hqWRs0MrTnYYZm6UN+MtfvU+LuwFLSZxgprOK18Yd9rqWus9PVK36e/6nmdL1d3p3Cd6ss/7fcfzdDdMYzGE2AuEWBrbR34QnjU1vVKJxzoG9EuVlEYEL7FzMI3oyVXWa0v4Z806WZtXhh73GHV1evXoNtDzAEw85il7lXLDw0cko7n24YNSqBznyHDBg11xrldyZ4MAQ3DS3xIg4aXuk8VSAO267/086cB6n/NtxTtelpdToz/IK4kwsiMp10FCICsGmGwN7KLwqDUqtpudrAysHqwoaen+7n0q8jXaQSkXvZMOoaUoW55t5kMhvVrjhbWz6Ii6Mpkr0FiDPC1mPW/bSEF2dZe9XXrDt8nzain2zzhXE27DnvNwSnziPwzS5B+57s6zeuj6XMEYbyx8G9Uw5hhNBNrsPY1rXu9SXihpViIg/1HHXFYa+vIlqbRl11x9U9++P2xo2Kjl4Jo7EkKfVoYR5xZl+WXzrx5jEGZJun4XpwY9KK1upc1ZpkbjvUFArS14nzXnjXZQNHcqM38NWHBZX4Yv1h6JmpTbn6YGpDB6vwwiMmbgLvpR6MgBAOBo4789n/1RXnnz/qrSqSWqFtbNFWE3tQmlRiFt+Cf6bSjS1xq+a2wq1Or2qwsMoSCG31QfpyZVggPjfUbOYQ0S6sagNGUANGGDxT+Kekr0eX6ZqQd9bgvQydaeRzrUtZUx0ozFqnX4AhmifhQd4+Wn/3FTnAZsg7r4PDQekEzFFwfYzYHAqSa20ylSBi9pV6DXAxcD+W45dwV2EOt5bCUwkLWvv6D/y1W0R98Nh5mLZDCN6wAEwnAqveO5tujH+ovn34qcqZ/qCXTCIuwr6/lvU0qIqU7aXUGfJhD2PjQk4+T4bo/iLmX9hx4jmFImVUBdfRDIsLAt6lJdiLzIAkFnljTcYqDOFjhRRIWfR8XTe0s40CiDEvFdaolYn/wk71qTsSW5QKxnNQk6IHRLGmWXAos1F0NJiZU39SnpYbJJsKTKpmZuFIHRw17au4vCbZKX3ddYyuW3tfT29iiu1Oj7oWFgGsr3f0w3JtxyAwI/A4IgZN0wXiUkgxd1gy9RFa87r2Mm5rGtlZNUWbPm4ukERXMTrdDW6L7RpQ5mJHECvvmBfwmW6v+3RK5zJoZ3ja/wSBjVlXGisQNPNBX2v7CkYbma6+7jojlEKIIUXZQoyfS8aWOtmjdzL5iG8ZkhH6NLbmKJMlGhjuqDXpCG7hX3eCXfE3Vlxt+r+MQwJtpwGmchqdsmB/Gd4Mx6s5TL4Ju6xOUwTRKs22g8g6SjfTKDKYkFSheilpsSCzZn2iCtGCeNjGIoeZhRTJlhmsmGBYWRCj20D0bWsxvIhEbqMUm6qFEWfWYFd4UESxT3ej5QpIRnv9pnfIlKfgHI7NmdUb2viRBrSA/tH4csDEZ1IZT9FRM5SkQachwerqMVM36BFdyLjYWWcwbRsKFG5Zp9XmfAOoxTwQHTYVP0mVicVAnimes+AljfTU3tgFlDUuMr1thWuJAeJ/pAGFVlPpE4MIsf/vpCk/7g5/0f+WJJn+hR8VUpFRjfRnhAcDRaAJW/8EJagYwkw/kQW1Tc31zO9ec9Ae71JKJwIyhmsZWZePgQUC0xuc4NNDSCv1YYXSnFAVTHWKIBavLtSUxRcIEw8HZ3tHXjCDjAu5NPirbK6eGAmIjSph0VovFxBr3tvCazzP0i35HGJVAHS2xvraCYhJht/1Ig5yV9A/nLd6Dae/eav9lf1BqIEUzc1NlYSJhsdNcTQdNOw4N0ruxxlSU2ggwpNWfLsB0SJqNS0X2BR6+s9av6FVwc8OxLkOA6kSJoTQPDG2YH9bQbPCt3qKIhgXCRS86kCSLVNYUKcUw480aWKfnh0kFKD9YRzEEYT82gP/E8SemFSONzdhSJtvG58UZFRbDFMD+GFC+oOFUeAkW3NSooiD+JZeIN8lR12IGL14a+ObK1bCHE7BFTkJfxErxSXAvjDocyteq+nVVRMVg+H286fe+WW76avrl2bFpkAUHDuzAgrDG2Usvf85d3QKJt4S7iB7ZDrFc9B6MwV1MZ518AU1pl08NsbVl+Xa8t9lHr5K9U7XtUjGWLSibzI3bm/B4TqhaNmadJC3Uf412M26NmFU5X9vesokZllO860QbkVPPLLecTBkrmwElItfoN5wYGUAcjWTN1rlxNtbzJebnKZ1J8KksSV9EiACXwAEmZKhx0oXLqmP6x+EfNEuzFqgXv/xvKjQutuYuznvFsfZ9X7funPQb77zizLV/ljOdvOH43wkB6IxPRbXdMD8M+WMHpblqQVhqHsKg11KL6Y90xAS+ivuk6HxcJnUViQyIED2sM/PD8KHYmnxFkIJaXDWTUqPkSYl2yWBJy8ZDtWmlIGM94bbU65jyKpvjBk1yB7ikGWtPC2sg4ksLypwayYV7uBrbLNauE0uvszBT78W6865sVyIt6r1kBX/kYrHACgf2z9o/vJXT/eTw6ZoTqq9fnb9jjGCaSQyWOVOJ05qpQREQneL1ZobxXutEX20cxQ8o1yiNTwItnePBgiubGhadAXkPpYu8gGwctzVSeKkPAmElY5DM4SyWfJgdF21ifhdQg3bkVNr15rYcgK5cU9djBd5GBOSim1VeqE6RzNjciKFAHzdBLDG63EjbbAMh7a8d4p0IDqXUOQ9QDs4M/zK5ogPRWExSlhbJM09q8zG7UEEA1n1wI75l9ZYI1as0+Y3ixPyDOaaUBQlc12ND4KQ6Bp+IuHTx9ypS2RvAyt1PcufPvCZGDQAIBPzEnisYaZFRofydmK1TXD7gE6jOLYPIoZHqt8qjbPj1PwcB1MGduGF+WDRLZFCX9Ck6Z20ljv7QCzSPaENSqpjCJ4Ss1FsWHZKIwxHWqflhMJGSi/34I4p14QNV9EycRqyrp1K8qzkByccUEKgID820DiwjfUrSvB5HECFrSH6KEYIuGNU6/iggow34bthEkUwM3ar6n7uv/clNcb0wvvDAvFw/DnjH4okvjqgYqt16i8252xqa21vaRjz08KO0h8I646Vmh1TBWA0+mSogY9B3EbVJwdtuu9Nddz7OCwuJGTcuGGbO2LI3ESTBeMkZcHig0qN9M+lIulSMCou8KJkU0UiiudlLeG4Gsq8IsyXlQ0FYQ8N9t9/SNqx9lz32x/uzQ1k6Dk/COdFTyHSyGDiQjlm5JQHIsW6MZYRFDresRlJhRUEwM8GtshwltcnTSvr3yJFexGz1w4KfCxYv2nTzKY8++miCo5E3oVWiL8ZfkJPssaC4UGQD+V19XyrJ4GCplK9kJH0gIqRfqUBs6I0b+hKstlDrobdWenpC7K5JwQ2256oBiIccEqKztg3H/yQEEjiG5fZhw/ywh59kP6BamG0AfCm/qccoopCuX/PD1goMXKNowuQ7Uo85pFWsqrcdtn/NzPsfYoNSjDWMVf3D2YQZ4SC0XZVDErW1SVKmoCfX9tvvev99T4itOAz9wMewL3yOGSvnrKi92IsgZDicnw0HCDBNKr3d4Zu9PcPb2++9777O3s6Lv/K197z7L8mYXsbWoNSOSA1iDAGzG8CuqbFVVIjI6Rvs7us3Jaeupbk6L3ioqbk0pUx0MqkbBCHlodhDMurlTMQeKkZIXbM8JbEztQ76S8UMjxOTH7K/+CT1gmpobUq3FFH0F1489dR3XHLJ5bfffitxi+/7lqVncrc/KR91JevH5L00XrPn8Wiq5UqXzJKlknwgNlRTi8prkoVEhjDqzCwlpg+/Yl8P1gRTLMm30j4nokiwVpl2vQ46c+Yu3HabGeYcxFiKlCGRUvTcX6m0kM4ZgZ30E6sqS6sb6OseGuzW6ezFXy3fcYddH3l4tvdhclNTu6ghoy5hlVQLRFYBrCrR5pbW3lVd202fftd99/UWEWrtRDW5GA0sRY0bjv9JCESTow1HO+ZJ2zA/jO64YX5YQUgMsjj/0Lgj/KnHjGq8T6fCHunWGCCZhhlJogszJYKi/YZZ9Dc1S2yU4kIbr5XAoWwJa8iHDaqRujE7fp44nnShpaI7I/p49Ub+XN+PavwvphX1iVXlEH0aqDnhhBM6OzsfeeSRZp0ICrD9wrh5tJ0QqMVNAKRqzJsJMI3e+Q7YRg7XwNtlQmC5mK44Eu+fn95eBjSfbVyLFBEJHL4lIxAdVJl4Va9gc8hBdbv6ptrOinx6ojF+xba2YZtN3by1SRIwB2Jx0BWnX2oB4UqQgrfSxRnkSee1zWSEfiDFXGPusIHirLQ8iRwQo6WpxaizuCvL45CjlBs6j7XxUBfJx1iSfhYfCWnNu9je0jrYE1dqDFePW76QVEYYiK9JcXTz+oZgGTdA0o79URkxfJien53d4X6sysTe4uWMr5ENCgyJE7L+9OZi78a3GW8Mf6iXgyZKa2cyxGlDBMfPueH4H4QAesGCinaBTW2YH7ZhfhgCjxYdq4iIivrKuxoypdQ3UWNnbLvNkoWLDj7ozccfdzIpt2jOrLGjRuEmo8Zs/OyvuiqVzmOPeWtbS0tzS8u/f+Mb222/w/wFS/fcfd/jjz6xu2v1UUcf2TqsTab1FVd+B4PAyTCXplLDXNLUwmXW/PwP0sT/9K15w8iA4lyN5SGpoldhXOHqsTFKT5MPf/ADzVpztrS99cgjqQrkiyS9t771LY1NbY0NbVdedT1R0togsjSowGvzqVOPOvp4O/rBD/xtI5FVW3v8sSd46ZrLVi4fPWakMOY/feQTW0/f5bGHnmQbL5j12OhRw4x8a2odt2LlC5IKj3rrEUqO9d248prrG1uaMfu+zs4dd9hp9uy5+++998c/cbaqseWLFowbN84KZdZeeeWVPUNUnYEtN9vxr991+ojhk+YvXMo6GqzprKxeud30qX/53ncPGza8Y8G86dOm3HvvvU0NLQOd3dtN2/KeB+5l6m237Q7nnnteixbbDU0f+/jH6wbr+15cveP2M77whfO4+KQnfvrTZ1tDV0/PjG1eO/O2BwmTrTeb+tnPnefW6l3OOvMsJr5GXR3z5k8cP4kMO/30j27/mj1vu/Vh6hQJTh2bNnXK4qXL9jtg/xNOOBXSLVm8aOPxY4Y3NW80bvTyZ/4/9s4DwKrqeve315kBht4FxAaooGJssWssCBYES6KJJnmJ+aeZZv7xxcQajcauMXmJXQRLNCS2WLCAKCAIFqT3JgjMzO3l/b59hhERyIVEueo64p1zzz1ln2/vvb611l577SU4t0855RTWA4rX1D5435i9++25YN78Qw897Iyvnc3Q7/CTT2KdvEQi8cBDo53usKNbzBf7+TQ5vMQoQGg5uXUN/fv0uf7664lqTkRa//bXV6GOKPwp6Cff0uGHH4lAKxXTP/nx95ikEQzFTjzpbI3/OwClVyP4tKGByRL3tk8aXfQ55ZhqWNe/327XXPeHeCxBx7v04ktJlk0I96IlC+vb1ruEaqEHHhhTKob22GXXRXPnH3zQoaePOBcVMBpGYQ1nUtmB/QfZ+mEtlSUFtOWLdsRh1K8W5Hjv7bd69ez91NPP3nf/feSKPv64r/zzn08yCPL42LG33H4b6zwVGF3JNeXSTeece/70t2b16b3LxFcnjh4zaurkKQiYJnKk53NnnTmCbEZusItZBSjR5kQUwt6GoYH7WhGe9M5kMpVNsXQK9XH/g6MSyfheAwYwsnX1Nb/PZgrr1q6dOXPm65MmYsqcdvqI/gMGNqaasA2GDx9OPoxiPlUuZE4//fTLr7j64cf/hoPs6iuvYv5Iau26d956+7UpbzTmcgcd8uUbbriJiR19dum7YO4ifzlYbEwNO/HEF59/rlBIP/Xsszff/scpU6ZEw9gxSuA29JSTce4RGBmKxqbNeKtnj14vj5948f9eVMimDj5o/1tvu5m1w959Z8aPfvz9KVPfcL6dUK/uu6x+f1nPnqzOgBe5QBhHJp3q3r1nY1NDh7btWPSAUCDlbXHR85g1vPb6ptzrE6eSceDlcc/ecv1t61c3BUuBXDr3/LgXs8XSyy+P+8N11yxdthi4IgFMQhyJkj6vTJiQKeWee/apq393+dLly7Ll8mFHHsfbYer367fb4iXLY4lWJOKnaaMlsGBQjx49xo17/pEx96SbGo86/Ijnnnm2IZt57LG/33777RNffxU7mFXx8IqfccZZb06b1rt373ETxv/1zjtfeflFVpfA9kWxOG34CI3CbKg4+/vpI4BksvXDWJuCiVksqFK29cO8JuhMMG+32UnoDZBBNHKcuPU+iD8kVcmC+XPXfbD60C8fFgjFjzrskKlvTm7fqe2LL75w2W9+g/uI5LQMKuLhKZL0r1To3q3rP//xxFVX/l4DZc66k7MRq4+ANrJvbE4SeFbZp98xduwT8VYxQIjmpbiJXBpOOuSAA9rEkxdeeCGZLZPxOPbxhHHjkrFwXW3rubPnMFNh0YLFU6bM+u73fh6MBLJFRsJY/qYQ8We+f8H5gwbuN+JMLRoJhUyc8FptMNK+dZslC+YTUrNs1co+fXc75dQRuXx65Bmn9unTi6C+1UtWr121fv/BX6Kejzj04KnT34Rpnn3mmd9ccgmeOdoAKULwDjOBXWEcjGoS9BjwLVo4n0jIo446iort1afT179x5rx582DZSDjBgg7oyKQklQ8zwISzck287sTjh7JWBuyVJ2NZkTvIfsMx6EJhMX9a/+QXv8K0HLTnXt3bdZ89Y16gGEwmkxf96hI008F779m1Q+vlK5YoqIL5lXKJFpKx5M8v+jkuxsGD9urTs/vCpUvmL13RZ7f+Jw47uezLnD5yaIcu7eE//N9YqEwADZBagOgOzcssrV3z/vq1DfsOPjAWqTn00GPfnPFuz969nnnmmct+81tGfHHo8tpo88pAHQx37NjhX/96+rKLLybpV4vqheq+Y9vMF/npDAg7E4ohMVUVi33/4Ac/yuV8g/fde6eunRfOm0u7mzJ95imnn9m5Y2vcwuV0euqkyYFArK6ubsnS5WQTwm8sM04eJ2+Tf/hTq1GaPqFBYeK2/OGf/vxnWIN7D9yjY6f6xUvmr1mzNpvxHXnEiUxy6dGz5/DhJ89f8B7eL6ISyFPLDGW03bhmv+CesfXDPtIJYBn5DxnM0AcVqrFyNF0C4XAnaj1dkjUwpA1BJRO1ixYtwbhKFRsfHH1/t27dwL1rl+6RSGzM6L/hEkM3QFIRUNatW5emxmyHTt2SieQ9949iJJZnajyB5qPRlw3t5yMl+SJ+YTxG6athiBCZZpR5evyr49dnmlasWtq1ayewmjtr9nnnnceCAOvWrRs+fARnKGCiVMB1SDAErjPqj/FK0nDgi3t7xpvFrPwlLMd13nnfXLBgybpUVutnElNXyjO3L5dPRcigyPVwp1/JUJLxxIoVy9K5TKrQ8MAD92KvrPrgA1JTs6jXgw+ORvAj2HM58l+p32stl4IvkYjxXPyZqkXSfCBCSuU4NlLAT3AK0yhoMLwLz2ApcO4DvWF4MZjK4pyMxWsyG85BDFDJEm7polQ0Id5P4ue6eB0zNGljJN8itYBmvZA2MqtM03prlCnNpsfORD4xSQjHTIooFJxIWEsatdXQXZHBQBdtT5vjSLyQYaHsFHnTlK8qn2Elz0ULl2XI81bI3z/qgc6dO69Zs6Zvn52j4dYPP/g3qJEFAQk2If4Wg2xVQ0O37t1raluNGjXayGuHd1FcFFS8rR9Gx0He2vphNEiaBKq/ZxYxTch5FcVhmrCjpFFIkRiuLcVrduzcCTlzxx1/hoBc6leu0hj4179+3p///Jf33puLMSHnkJ/10FjyQ6P653/jXFZ2Zh1F9nVXxKH+a57Es8P7w6dfgI+r8FhMyurLBpyIf2eu4odzXI/tElixbGWrNm20Hsrypc89/0K2FOi2U89Be+3055uvjDLEWIwUfPGsv7YQbHvjrX/tvVPH31/2y4Tft3Lx0pr6unibusWLF094dRK379Kp3az3pv7znw/hIh4z6uH5C5Yx5tWqvpZEHjfffBPraiqgDyWWmIdS6Zyvn/vHP90+672Z8JAqjIwenlUO2fp9bdrW42h+8cUXcQzPnb38sUefOeLQw4v5HGVm/E06rRthxbbLuwBFhisiSrSS3nWPrnPnzeIJ+B7nL1zAEpzMXEGhaXYGEPbuIvsJl6ThCStliWGwUMlvcGnCuWmCD4lXpERSaNGraLxYV8UePXaaOevdsf94nALed8+oxUuXMYNITkeacZGVFWJM249E6PSFzp3a8ZBbbrtRkSZE4kqvV8ztOeec9cdbbn333XeZNpdhbJiASC/YpFw895vn33jjjXPnztVUAtt2KAJUgGQIJgltzNYP+zyuHyZlufLNkx2eUb3Bqahuyj9kazBKFvPYoUceccjgfb961ldD0fgTTz1z3XXXxRPxukT8jDNHvDrhtWi0Deb8BRdccP5534rFfCcPPf5L++93+umnTnxlQiyWjAZiP/7xj//ngu/hWVJKQBiPGDip4C5oofKCfn7PdB5W8AYQ3HbMGnYrNbtgdNiCVBoHHnhg1+4969q2OX7IiYMGDYQKEPR33/nXe+/5a11My07ef/8opi8RkMdQweVXX/XGlNf23YtxtAEdOnWuad3mpGGn7N6/H/jVhhP3/vWv553zLRYmRVLv1KsHqkkomXx+/Mu33n4bxlltPHbG8NMmjB8fj9REYokf/ehHP/zeBTFNm6C+IlgnsAhpM3DhRGprnn3++W9961vxeLJ//73vv3905/adoJNiIEMGIDkdIV/Mepx54TjqDryI+oJ78yc/u/Dss88kk8dV1/6uR68evAjTsrhQJptCWgn6IQtpOqeMIWGOKEE+l4dILhpWvD5lIUcjGhJzuZkEjU2YzycTCYYDWafmwVH3jRgxPBqsxWZtU9+apPk5GY1EVyoP9ymnDt1/vwNGjhyRSNSyStPtd/wxqoCj4LBTh42fMJ7EBtFg7Bc/++k3v3VeIBYZMmzY4QcffObpI19//fVwOEnQ0k9/duF3vv1/QugU1JVtOw4BJzhcdKlLJtSyfhiNWW7jYPD5Z1449ujjKKB8P+UP1w87ZdjJe/Tru9H6YRve4VOuUHrCVtcP+5/vEYESZb29Bx98kPXDYrV13vphXz1rRFmeD60fliv+m/XDlGQ+ELrwhxd+6/xvRmpae+uHffWss/fZb79Obv2wE084duvrh9100y147KPh2NlnjIzG43fddc/IM0YyIXX6WzM+sn6YFwW9kTynV/6H27atH0bCeNiKuJz9Bw7+6133ffXcs+AazRJDB9ZMZAqDXhtCupDpuQYbi4bCwivEHisNQwnnEe4dzgZYvEOy5spE1hEGwJTYKOko8dpqMhPtSXJNar7MPlLWo7FrFppu37KhdbsD20bDLZd/JnbA1fOj3nnnneeeey5ldkfKOMIY3CJWmFkK/mCc9cM0o4tEnC6yxrEAsxeJiA+Q0BfjpsZ51TUrS2uoMFO4HMGmYGMuF0l+ccARcx8kYS61WwxGggQ35IoZrlLVlEvzFy790uHDJr8xrWt9tFxMk7pKC+iRMJhA+GxjKBZj7iSEyuKwpAfFVVgTSxSyLLCiiVnYIoFwSrVdJiEj9MG8rhRpxgq5EgGHtAXW9oNmseo0DQOFhTQBzdOq0jB1qRTFhioVMljtJWbK0yg0iQ32Jiyj5C/E1Uog73yG1XygKCUfxUXJnbCYeEF82oQHBQiIL8lq9aWV2SRUA9HxijwMd+TMWQsPG/LV8a9N6tQa+tL9mGRNnh3cjAzIhaNJ3AocIZ0JDRqDEuDCuCNp0PBvjAE7pTUlS2oMOPhd0UjYagHyTmIZUkuuXwhs2z5pBDbpL4hHTeq39cNs/bCWludx5kaqJZ20mUZxBGVSGYRFKpNGFMaRR1hQDIcoFRDOmzxUh62m+UbwnjxOGmSNeNKK0QgNz4jdkCC6VPn1EKyaHCbfUbNvsaUgX+QdMTd2hvLCCCVROJlwJcmRnvyF8EMh9AwcbSRLAm7qIpspwjABxpfw3rKKj8QqpFPyYQszQKUFU5TSKZfNswCAYvbz2XiQbPGIYeojcuttt3Xp3lErwVGLEbLZM8eZYBEUklwoFk81NGLeYSRBo6QBI+MlxQhHI6R+VnHIjqgglCi/EyeMLy/KmhHFIu5C1SJaJpYkCRhlXukrDkAd57kB3pEMV2pjsCxMhvuRNkLZ+dEFrBJX72Z9sfIlAYwsVqeV0sBCVh1WZgbmgfU0eysXCUOClJjreQcGvpnOSNgFROT/4+1/atuulUu4r5ynPI9T9Vg4M5Zwac7cW9BuAdS5IlGO1Vbx6WoGHoxPMmXGKb3kMkr8QZlpxhpM30jr0nvZ9ikiAPaILD5t/bDP8fphTo5sQ6uiV6pNuP/dqBjmkYbxCYQpxpK1CA4yF0BeUmYlu0gdxFANUWUBZisj3aQoSdjJR018OIq0QhPzLGUZQzCxfAgJYbNZBBwSEmlDbEge8QgHYvVzgm0wupiADBCif1VFMZsjeSCgylqVeA9mWEASYiA3oIZ/NOE8EkeTwG7hZ8KUXKWzjhIpVPDd4XLDHtJWiCWU2pIaTYajpNsYMeKUf/z9CTSSmto2r739Xl1dNFvMsmpDc7wGlBDWmimJulZwpCaiaJovtYZGokfHElHaBSHokTiWXxGZTvOIEC/lnoUJSXF5A/1VCGCBcBXnH6WJaXo77j42va9sKp1LmAYvxUHpQApOgZG5VMqSnI/8JZMhVhbr9BBYTzir4GAmWDEUYSiQs8VKFI9jeCVPHXrC448/y23jtbXTZs+vq4n6i1mikNG0hCvnczmmHvH+gpm7F+BBkkkCP6vDMADGnDimOUT8UJkeT9MtkwSSL66pUj1EhOlK23YcAiguaEg0R60fRjHoBtQd1aXe49YPU8iS5BU+5Hw2R5ZOb/0wxvK91ciZX5UrpMMs1+fahT75n+1TqVsV1fVarR+GnkV7jyRowAhP1g9TdgKUuyAhS5zG+mGsWOutNyEFV84ZdTMy3jANTv2a9cMouFPr6MRkpKBn8QReqMw6gCxQSTfR+mFOdyUtAfMpCyXSGggiFtBFy2XSUwRlln6dzkRrYupcdHtZHLJUXEbbYiHdhGqLFpfN40XxE+SbcTXw4fphUVz95OYW7GyOSOjk7su2f2wrh1F/7rliMskgr17l6HMVC2/xn26KrCFSK886Hcx/dT3cjXHI+cXSG+Ewuj+0REPh3TkTbiPsi0g50qjGtMAG4kOxZBAYvimiy7xms+0v+Dm7AvzIWBHS2nJIVSgfnz4BeE4PYG0fDDOZZi4NLoNArqtCSxpAAmR1O9qvTiYchJEyWdSoFM1dEoeZy/zEEbJ0ENr+0CN/c/BF5GMkys8JZfUVdxSlJBIKpzIpRrmi5F5RgWT+OTtGxrecvf5SNB6hoTNERjdTPeo8pl2LyRjuhHk1kqokjNCY4hVpGxRMgfWsM8er6XS6LF2RIvF2pEaEv2R4ggXtTd2NV+Y0noY3IEpSRwKLWUOOzI2yudTYWAwozDJIlILFzERgFPXhR/6OwcWLcZRxA+IS6WOiOfcqDCPqyZCyewTA8Rc+BFxoUJJF9EhMp0guj5uBfl7ypXN5LEKG5SgzmT6Yy0/ZbNthCEg22/phLAxBByEq2dYPcwqI1l6hSaIc02XZmimNLq3BDFyFDLDTbZ3PSiYUO8rMQ1gzufJKLhQtiHzBGaV5C1yF3NMQPon5dDJnarSVfHM6BI+V8qw9htzjh016gp6yyaEvwFcNDmmAkChZVm1Gb5JYx/pQpLmL2UOQY5p4YCHk2dMQl2S3G5rCGII5ZM+Q6BZThtEpF/IOM8njhyB2tgyJFoMhYhobMvJXKnMh5KdM9oFMOsOsCRyPzAHEUxZP1GjpZ1qD1BMGveQ9ky+PxIyFrFZvUQYpFjRQZmcpxGobWmsbSoMmSuWs/onwoDR05TiF1T7JtVnqTDflDXGCxsiciCZJ62MpWdU8qfL9ROTzZF6XXAz8UVpObHqiFPPFNEH6jL8SniHujEVFflAz9wuE0nj9HHv5lHOfBNPoowXoS4t8iu45SnPjEdxSA7QweJbgRlZalcuSl9MGIARVghmvDqdSUsoSjWOqKTEEW5SVAB3+7nT72DEIMCpKXSBrbP2wcMnWD9tKI/TMQqnDLI7hdGfNKdTABsovKjYiCu8QpEViX/xDnnrtiTxcYJzmur2sSw3sIx9kuWlD3rGnM53U2MCcTv+W8i2dWXJMP2/4x82kVUu+Nf/0kV/dyZ/dD2S3QwyUwVaWCTDgV1SoO9JTygVvjfDEkyDwMCW0+I3EKroC3EOwnByGjDYJvTIjW+RlxgLjMhnZmpGF0sb53CYUj8dQONAu8BgQ+YFBFYsnRWhugxIwkBDsPE1eRFzHTq+guvkPKwoiJDeH5pZRWqW3R9IXmLyFvkLVYmlhEmmmgG6jvDhcphmZOBkYh1cqaNQaWFtDTbwY05ypcQa9iFzxLC/4kkh5aZlMenMpXZwxWohi2SsqEkpTCnnKDTW5txY+mPt6ARoq/4pF3LKYfjgCKJKOKgAfLOSg4SwMSriX9FGQGt/VtmA8nqWXVjmZUSrFTl5P5p2r5bIH1BpNVN3YtuMQcFJEYxc+XL6MrTotj+ZCO+InnADymqke8XXzSb1R8WrpzurWN5Q9Fh2KOZm2I96DpqjW6LoPn/Riuib/1AJRCiUYccQ4/7yURV7Lr1WY8XKjetHY8QhIMVNQ5ofrh+l+6s60TuQH+cFRZ7mbehqOC2c8oMnSN72FF9R5mVeCyun8EuRnpVsADSpvhGEilwEcnRXrBVWV3iF8URjxrnMlCoQLCfYKjyeGh/AWKsGGDbC9jVttx7ZtfUw1i8tHWjNBh2Hw46tzGVFy1l+W6xXhhKxiqEt2WkZLWTLArTTjQTLpIU9pJFotmE/VjSST4GCTMoskZTycQLpQKIUIkG8nSLCZQHZeMgQt6Vd1PzZeWHuSf5qxhlzjkwg5txgxhWS5Kb4gdHBfqiZ1iRolx/ikGbgDgq0FUq8orl270/QOVbVhIVAHMkCICPQX0gAIXBQRhxgSkx9p1TQFOiIvgKkDKyFyOQHq4lxRkTZaGFXPPzUf5LCamd6VToDsZqUtmSB41jkPB5puyI7oE3sOtKhHXQj0CHERGbcmBFChDDSIPNY1z4GzvKbPo+kEztpWmqxIhME2La6H4w+oc8QcUgSYyIGtWzBKSt4prEU2MQfBGgqd5JXUXimMxgWgGM0sZASL4hWZK68QZK9jU1pUIV4Ep6L6EoII1CgFX0SzilVxr8RL6FqWVRO7u3JzSH1M1l/YqfCOOTlKfAlKlmxBHJmyADUKQA5ibERKqfs5lyYNXJIELsMu5I2Ek207DAHaMjG3fpYuL0NYSCaJI2QwvYT/oDUq01nc+kulQgnSoPhLdaoPZWiatEnVqC5x/6hh2gcbrecT3pq9US55rAqHQ0VFR/uEipGe9DDoLOeGaxz1EnYcIhRcEbekYEfjQlhotEHubZq2Wz+M31k/jAUqXCegP/Nu3A1VT+9IR0Pdk+CURBEWmlipZ7FXzqXEnPqRddODUCNylMt1b8KgSakQYElI9YBSkSXKWI1Jd2L0ixw6KBOIXel3bA45uiWP9DYJGfdvWxHdNg6T9Hfvpsfovb3nI1CJVQ6ylhKChd8pNuZUMZMa0G93FnDKoAtLQFHC8oKF87p17Tp1yhsuljqEju7hqPYgFAL5ptR+g/aZ8sY07sghMiOEnHrOaSzkIi2BOLNSiRzBrgwcVgJc6bsUjU0kSWVJxDAUyZ4kS0DrSqO9SCJqKzHGhtLBHoc2t8iTdy/v011RPR9av5LGRKR44JKLL64lpWAkzhTfCJPzAsHf/OZycNh9135vvD6FRgeiIAJi8+bN69q166RJk4CD9gQM3IPfWO6LgRvUJWZZ7bnHPhNfnUGDlt4qbHyAjALBWBfNlCgG+gZpNWh+ngZADaJU0Zo5Qk42KkGPkiFFEUpkwWCISLMl4BLxqixtlUcjYWT+JQySAMkmLiA2NZNq7L/7wCkT36ZBERJJDdKJCCrRs7g/5czlUC31ZLUvGZBSnJ1mDS2h+RBxSc/ifDeKFiFZjOvhqCoFDDAG5L0VZMi0AX3yIvJv6+alTNM6pse9PmkyhZLfGzZ2q1TTmQk4RHfSaWwqPtcgEn0scMOboKjiOQ+H4thhzrkq0QLX8l78iO1JV3DKqK62bYcggADBVaBYIVVYKUqDxD3gWhHuC1zyshhYx05rbuRfenn80FNOU2W7pqGmRtXLZONaaYGuN7m/nvBr3v1k/9DsaK6olFq+ASZgAT/5CTR+DPV4RXLLPqjT0MnQEZGzGaXyYaCXqSy8eXH27JmdOnadOnUG4hZrCt7BVmAujLRXfOWujWfzOQ0fQ+tkEoCNfEzxlF4o/4XYTxv9C6Lbc489pkyb+kFj4259B0yb/K6UZwXKYMOwCT26HsIef0kulc40pQbstvvUN6cRLMOEUYQFWdncebqhJ4+9u1Ps7ducrNq2S3mu91AxtMfTYqdygdyvxMjt3ne3KZOmiNtx5gQwbKULs6AgG+S+U4/eixYs3GfgQNn3eL+C0VwqBd9ghGWz5O2TgtHU0ChqEbpIYOfYYadYirGyEwdZxikQjCcSHEM+4Q9ilTL2JXZVINxHqOmMtLAKTNPuO+8x5fW3kbOYKXKHKU6HYKQ8Ep8SkqAIIQXWSCqeyEYdgC91yj+nXG8vrirQJ7XJFctrFgq/veLyhob1699fuUvfPi+98nI6X7z41//LcI5WH2G2HS0LsBSdGOrRs9eSpUv33mc/7B+FcrDRQsu+eAzUyDKRJbUguaUCTOFTxamrUPp4giBESWs2xb7jkIkyrIXLwo3JafKWXH84EMjnpohA7MJSJtOQBvbJU6ahYRFiqgSPIC+I9c8bfaNckWCBuK9Svgm+o0KbmogCUtAUuTalRRZc8H0hn21o2rXPLm+8+VYTGQhd7/CxAhq+4kAkxRQ1zCopiaomeiAzt1kPlDqmyYlvZMmhq8DYND4trQl38o9lM9V5kAQBVo0JZTMphvRYvzmDfcYjSFCnyPtSNBSmqXAAHwHyTDOs3VwFZnTjlkEzllYE4UmBgr2CAo32gweGGEs8pE5y8pNtOwoBKllTGKlWYp9gIzzL2SZISaE7UoE0ckm+1hgz//KZP9x40//+6teKLEONkdZFF0Mo8VehqtCdJ2AkZEQMLf8+8ZejMBki/WAqhoiZ2SKriwaNYic3ONYPidGkkVMqfzndsL7/LrtNn/ZulgwCtGnnsui9c6/FixcO2qc/geElH6vu8Q4JFD8GfHQDqX95SW8pp75cU7b/zruNf20yqq4GjsVMMtHUg/KamaqE1gQxsd5SNJ7LEikiWanb+PwZ+d+0kQ6bm7IME6MG8pNBXcrLg0zyk2SOQWvO8RD0aMxdtJ0f6n6Vb7z6xhcgOprJ01Uqggl9OR6JEpnFDFY33wcWl97MXCBMHwCDeYkvk8xhAUJuhy+VfHdydiHpiGKlyfmjpFuk1YSChKlJlaUxMS+Vu+QKLDUWJjMsFilfcV0iUbHquQ1iLYRgw0YmeIA0s1FOQ5TXRevIvqBqYI1pDAs3+YdsjbwyYjweZ1lI7DDS6alNfCY2BC+bPmi1+heM8aYsW8WAEOqVlCkfKzYSYqcltQCbVLnIapQJ3hLocb3hYVRSMHVj/lesBRqEAm04Pe45xOkqxNTi+OYrOiifUAJqIFqsy53Cmt14wxWhQWvMplR7soCxnCGPoi8WipeDEZp3FPtHtS2XA8IdrSQUJVUjd4OQcN4RyhxBlsA08do2OTId8hoEX0g1QsehiFr/O0k3QAuR1kO1M7VZNhTzn4MBxs/82TSzo6HXAiq3nEGwM+2DSW/Ev5bwQtNOpO4x1Qx1hVegsfGewVCUh4rbQACzEwoifhZChpDwh2s9MqcYkfLVCTvuKigplZoqFcA9FNmJx1EeEoYgiiR7lA9Hr4NXUxWEVwYKtG1HIoAkxWRx/RsVqoTbAhtecoyWQtNgFR5VeGbxonl1ta0GDhzgJqrjVFbqaio0iJKdhwEVpPqRTRLv09ggJwpC5hfGkXme3Bso48wKyGTQxuiRbFKYZDVKqYzRHJEOmhcpdZAkn/COzuFXqWisSEy793Mv7ssBRm7yxYyGaNSs5SB1fQCyCdOlnA9fHEVrlxbnZ42MQE08waJ5LDAig03yGRdZGl7ApUPv4WF0FkL86cvgS/FxbGDkIXGgwXQmzenEM6vcG20b08pGhyva3Z5rqX42qp7SKArAbZAJCsLeew6YNXP24MFf+upXv0rRcQctWLCgQ4fOsUDsmt9djWe0qSm9e5/+0ye9Cy3ttceA88/9dm2ibs37q+fNn92+Y2fili+55BKNfCBmJanBE60beRjxpVJ77tJ31H2j27XrTAKI3/72t6j9+Kx+8L3vtEomCO8+6aRTQKwh09hvjwHfO++7YX+sbV39rHffO/jgQ4YMHXr8sCF/uvNuxA53m/Dqa3vuNTCdUSIF9AtY0Y1ooivIPHH/ZIRJQlFDVbahKCCUyTpBDyMWXhKTGHfFx9N4A6Sp9hdzVNCCWXPrkgm8eZddfh0duKkhs+eAfpOnTWzMrOu3827fOfdbbZLtGtas47RO9R3JXfuLiy9h5Jo2qdgOebDxDABFPptaz8JFY0Y91K5dfTSSvOzSa4Lyufku+sWPEPn4Mc8YeV404suua9ijd6/zvv3NQChR36bV3JlzDjn40OOGnHLqqSMeHs0yWtBS6MWXJgze/6DVa1OaGqwxhuLiRcvb17SNBeovvfQyxkBZ45t4jp9ceAG6WzyRPGnoaRDP3rv3mzPz3YO/fPCIM0bSHX7xkwsj0RoGsYef8Y20Y66YYkJypdz6gXv2GzN6VMd2rSPR8OWXXR0hG1TA//Of/YhqxOweMeJc0MKCZerzCScepxDDSOxh0vKSj4fpXmQJLvm67LTLsNNGoBv98sc/SMQThKgMG342tjvrPi+aPadju46Eflz805/u1rPP669PpofOmzO3XX1rJm+zNNra9etpRsedcDwSMxqK3jd6TCaf3Yzsq7Lm9LkvjidD6cf4LVg/bMDOH64f9ptfX5VB3ZFD0T9hG9cPgwbYsH0+aQAx9Ld5/bB5cw8+6MsbrR+Gr571w/aeMXlq7oPVA/vtRv6/WpYSDCQvv/RyZBxa5tBhQ5C96Ld33333oD0HLJg398uHfPmMs85Gb/31xRchWaDJs886TyIfVZgBCBiQJd3xfaBGlzPL5s9qX982mahL1HVa8wHWSW7+3JndOneJBEMX/+//lSDFAESZxrUTi8tqlN0hzdL7t4FCZJZsB57bzmF4WJsrjgKIg0Vn2lCU/W/PmNGr504TJky87777lPGhWLz2uuuhsZdffvGGa69etnIFue9YhlGD46VSw/q1XXp2X9e0vr62zeEHf/nWW28lC17/3fdYunQ5HJ7HXaRBVWnm0jIIYcjnb77hJhLhz5kz94477pg0ZTKDIzfcdFNTKrVu3Qdvv/vWS6+9jKsxly527dwTPTqVatyjzx6vjpvAoiQX/e8vnnzySVQq6Orhhx++6KKLWESOQmMa0hy9qCT3FtX+gbWKFSprBdwR35ksohY7gHmbDFanMqTMCK5fv55m+sGaNeNffOm6q25YsyKHrQaAuQL8QWpm3049d/6g8f1wNHT0Ucfeessd2UzTgAF7vTf3PYibECeRoeb0YZ7xnDLXXff76xYsWPTe7FmktHht/BTGrK68/IpyKcU2ffo7E1+dib5Kf+62006ZQkOmoWn3vjs/8/y4v4995Mc/+v4DD9yHXYWa99Ajj/7wwh+TjpgBUxo+jtwjDj/29tv/ksk19Nl5t8XLljY2rfcVmq695spsPrVyzdpZsxdNmvzmjBkz+vTq9cJLLz04+sF0qumKyy4pFRobsunJU6e//MoMOElipJjm/dJNmT9cc8O8+Qvfm/Xen/74x4kTXmeg46rLr8BJuj7dNHna9FcmTMFHedqwoYMHD2a4KpvLnHrGSHRRnIEE358yfOQfrrt+zKgH8Rhc8bvL8/mmtanGd2a+9+prb1PaY48+5qabbsJ7s9duu61ZuQKlMpXNDx065Oknn8JdSgO7/sYbXnjlxWgimS2UGvPFEaePwPGDrl/t7enzXj45wdSa6eQF1H+SayKdWC5j3LP/uvG6a1etWY2l3JjOXHHV1UcffTTKHw35qisvRdFZ39T49sy5EybOxmaQyrhpTW76/RMCEgqjm5OhppDLTJgwIZvPjnvhhRuuu3bZsmVI1yOOOOqGG2+mQ82fP/unP/3p5MmT33n7rZ1793nhxXH33n8nzqlMLoWmi6v/o+uHvZbKZsY9/9x111yz8v2V/3rhOTzwBL6li3nSk86YMb33Tj3GT5x4//33Epfx2ysvxZ2wtjH12sQ3Xp8wzY8jxRtTx3BDOeX/psYhxx0zduzYTLrxX//61x9uvAHb79BDvnzzzTczCZhEjsuXL0dkpYmxI4Arr6grbAUPLlGI2z4Gb/PxSv5sG4dBvzIXm0mLIrlHEPCjI84OxVOLD0ejEBp5CkdjN9xwI9r6AfsO6NC2buGiJSU/c8vJEBRk1Lu+vn7IySdylyULlwwasM+xxx6NunTK8FM6d+sajUaXLFnWuVs3Fh5u1arNqmXLEVXkXESOoP2wRuLpI0a89957PH78i6/EwrHa1rVLVywl8WuEMZxI4rhjj2dBJ/m6YKC8kQAAQABJREFUlaVBpvTAvfZ+a/p0BSkUyjNnz/nKCcczwJjNQ5RyP6FMOFN6OxUBh8Kn9CGnFpyAEQTgjHshxeVkg+VxAigIOJNtqq2tvfnmW4Px6D577t2zbac185f60wRuENqAxCaHR+KoE07i6iWrFvbt3/+o49kPs3bzzn16l33Z2TPn1LdK4nZr07rd8hXLuXM0FL/1xttZmLhnz+4sJLZg4Wwcgq+/+nogkEhEoygoUmVKZZS4I486Hi8uqQuzuRSmEqgO2mfPWbPfXrFqVSqTXbJsOUIfDw7BTPSKlStW9em9+wlDTvMFEqePPLNLt47JGhipOHXCK9FQokPrNrPmLQpFawhnpZIUG+L3xeNRllENBGtq4/H3VyxPxBmX4s2ZsE0LZJJA8pab/xxPttppp96Uc+H890jwOnniJN4lEYsuXLqIJVTmz57z9pvTf3DB91w4l2DDr4Eddu755+89aJ8Rpx6vRTrCwdcnvuaPJlsna5csWogrZOHCxX379j3pxCE089NGnNaxA27P7NLlS1atXnnggV8iP8lRRx9B7FLPnXo//9y4S357OTqGBs95GaSIbTsOAVoHXmP4i1bnZvL5Y9HE9936Yfvvs3fPrp3nz58LbU2aPvNkt34YYqCUSb8xabI/SO7czawfRntr8Tx9Oq+FoYO3b9vXDyM3jWIJ4jgc0UiZS+pPRP1k/ozWRmt+/qMLQ/nyIfvt3bNTO2Tvzn12f/nlV37+84uwSPEcsDhRkQHxDAsNEoAVfPG5pxnAad2q9aIlK5M17YgjJCiDHDpM5HeDC4FVy5evWrXq8EMPjYViRxxy0Ntvz1i8aNmeAwYNGTIE4EeOHNmlczc594MMKEHHjEqSEER5U/8rBEYtSHhv0wZdOcZC3OPIokrZQRJo0JvxdAgM4QpzIFcZJ8docHMI8NmRo0iDCN7gKl4qvLHpbGOmAC+TfyGIsh9TwlV8uOQlKqGk996py6rFixuaUo3r1rXv0IHWxQAhqkckyjBDcc6ceXDmgnnzzvnaN5YtWbq+Ye1xxx8NLTWlMpomwShMIo6zMZtrjCWI2fAzSvern11487W/v+fuuwYO2qe2tgZ7kA13FMXXCIpsPVCVlsD/+uMObRM4n8LJ+McZfJH6IkWBUagQvY7S8i7E0fE6RClCzG7ISdmblDGXgTHCD5QzJUjiKdqzBs8ITA9r6m6E1DW6E9VKhRb79OmzZl0DCK9e+0Gnjh3ATjoHo2sQld8/e/Ycvi6ePYemuWrV4myhcMIJx0WVZYqx0FIsmkxnlR2DydOKE4EgYqEf//iHGM0sLdZ3113J2UEgDmYNJcEGBmgG2Gg9KHOyi/LpFXPnjTx95NIVC1P5/HHHH0+UhMJJldyKyvDNnT37rDPPXr5sDiR5/LHHi8XhCDU95d5RFeo81eLs9+agJC2ZPeeMESNXrF5OeOUJQ05i5WUNMZPALJsT5WsQgQKUGpqa2tW3mT5tChYqNDn/3XfPOOvMpUsWr8toKTWukLLA6DYn8wxi9BlbICKlRGad8MpVyxmi4IaPPPwIkZ/vv79qp569a+NtHhnzd3oG5umn0CTsEVtBgApTqDiqCZ4fxoZwgMeSVAtBHMQL4eyi1/z+hltOPOU05s7TCVYsWf61s89ZtWohy+8de9xXiGsVEUrK0dT45xkOUtm38tD/4k/0TKQT8p9oAXbYmFiPfcAj0tkMvZ6uhF7LV0a/MBsY76WUuFgYkCEigb6GMKDn8hIKSCI4AGIKEaCfZ3IO8bO4cLp332nFyjV4YhgsvPeee4jhjWAMEJnop8fN/OZ3zl++CgHbwHK1DU2NWBLJ2hqECNM8I+itaIABf6s2rZcuWUp5mrLrHhp9j0SJHEPNUoq+pg3Xi8QsY2yESrnB5o/BxK90sm3dtsZhFEKWrBuUk4yjGDQIRAruLMUcIlXASfPF4DBXyTSQMLWu/A9INdU9CSGY2gxVsi6iknTgLdT6TkiDQIFE4Lw/Eq++vs27b8144h9jaWajRj+0eOkS3DuIJqomHibxt/R85FVTpunxf47Fk7lg8aKpU6cec9RRK5evrK9vl6itW7p00bgXn1NkglaGZFCLSiZOLkekWy7fRMFZheOoQw966bmnHhkz+rjjtNQCqyDKmnEjXs6juGmrpApcLWwrpJ/G+UrhBxAu8NeNS6t9x0jpRm8lbJzBXqpArZD0Sji3mtCacAHjiA6FkkFi+TBDAr5OXTrOnT1r7GN/o57uvf+eRYvnIKz1ylIwqDIqACxxv2XGjn0c83fe3CXTp80+4vDjVqxY0aFjW1SKxUvmj58wDquL85DruQwBtXEaAP2FAWOAoCoOO/Kw5/717EMPPXTMMceozYgK6IXhdm07zJz57uP/eJQmNGrU/cuWL+LklSs+aFfftSbZZv7CxeNefJaADwWR+POErJOSZMmyFbWt2tfWdJg3e8nEF19lbJMb0koITA0notls6oknx8Ji8+bNeXPaO66cy9p3YHgsuHjx4pdfepVu3qlTp379d7v11lvkLoW/hGIknqy59spL+/XueeXlV9LEl65c2bFTl2SyZuGCBa+9NimXz3Tp3G7u7HfHjv0nJu+DD4xasGQxY9TdevYgSox1wmjTvAIvSxUQ8HbOV8+4/Y93zJo5E1my7f3x02g8X6hnIN1dP6ayaaLkG5NMQwQryYxGKsrLl78fr63fc8BAzWIsFJYsXlbfpn08lly6bPGECa9oeQOlakFrpDq5E1/5n+pWjX8aGyF/zFNkfQmm0yjlI2MB6PkJ4ie6dOlEMpx/Pft39Ng5c+eMfvDRI486sUjvJm0bawszuQhFXLM8yKdKdIU/o9kwdE8WFUFzRYTgD6O9u+kxgcBZZ599+2134FZhqnJWgz2yUJavXNambetELLJi6dKXXxlHwEEukM8Us4FiKO5XTpp8IdW2U9t8uXDzrXeAECobAr5L185z5sz62+NjgWv06NGLliyGPhQ4pREH+tBHFDvvQXyKXbZr22JNQGASNxt9Ug5emKE/yTjEo5qGs8NAVyVwc7MZHjz5pIMOOvCEIafEEjXo6TQUmkEuy8zWBOSMZVCW7GF9wgCRLdA4Kn+8rm7MIw+fPnwESsWbb83o1qunKsxp2JoYAXkztbaQD8ejK1atjIUTu+26+1VXXdWpfcfB++7XvkMntIDhw4fvtddemmvLKE6UADkkdiCWrDnupK8cdMgBZ4xk2kexe48eBw4ejENpwID+8C6AOpWFwsO2G29bxGTjk3bIPtWcyWLIg4aiafMZxqQJXVfYi8I+6V9QNysUE+0CzhBRNFgKF/xx4CwwrKr0fgTI5jLETqDN1YST9/z17jPOPIOhwXdmvt25a0dlukTPIKBQUpk6JhNgKZmoYZVn1INdd931sssua9u21T6DB3fv1qOuruPJJw0duPcehHwyUYoGQAgJ92ctsWOOO+awQw8Yedop1G+3bj0GDRqE9XPQQfsR/c+NMbhoNzW1dWPGPHjO185i3tesWTM7d2nHeOqAwQd1675zXU2bYcOGHXjA4GIpE0rEhp46bPA++4w8ffiBBx7UvUfP2rr6EaeNGNivPwQn7Q6dKRxRxv1ohB7Ig3bfdbfLr7iibfv2g/Yf3L1njza17VkLipAW4qkC8dioB0ff98D9YBjyx0aPfkjzP9CTCqXfX3HFlNcm7rvv4EGDB3fs2r1VbesRp43st/tuKLP4Iu994D46OSu8zp47r1Pnrowf4N556qlnbr7lthgTFALBYUOHTn1jMvH3sVD0+9+74Nvf/Cb9leXctr9r7pAW9rl7qFQyuMpFRKNVqa7xAGDJoL0wiz8Uev6ZF445+jhaPM0PPWTffb/UpWuv1q3b0gL79etbyDch/5EeOwwYyVmap6LevZB0OAA7hv4ej8YY499k/bBosuYrJw457MDBZ50xXJP36RuRcCafSRfTPhJ0R0OEMJHhk6gG7qkfI5HxL79CA8Zhxvph3zzvW5GauhNOHHLQlw742llnD9p3cIdOXdrWtzvphGP32rtfiUWNYviumHcWVIhkIcPC6cG6mqdfeNFbPywWceuHJRJ3bVg/bMbbb7F+mDqq0zb5xGWiCW2A7eQVIus/3La4fhj+KNgbsnr00Ud3230AOrIcI1hm8t2U9hvY/647/98555xDzCVQeAUqFVLO5RQsM4ZBPD2qDypAiCzmzMuThxGTmKB5pt7RgjSeE2CqQl4R9fiS0HWCUbUWva0fLYJjTF6iGsgUy7y70tqV++z/pZvuHbPnfvvjkMIzmc82Mf9Azigke6YpGo+6WDp/FHcmvgLcZuR3KLmcdaFcJtUQKYZ/fcmlffcadObXzuYhPMrpA6hlRGC3qAYegVULjXlqBC94p1s/zFU3/MUgbYThUb/8s6wYgMkFUwVSuUIinIPFs/molhrRiUwNRnUoMl0Oz0KO+cVooPRHQmv5gzMhksBww5XLHdI0acIHZX0xI4JWDeGl8qncoP6H3Tfqwb33351odQS32pyiFtU+pF2gBOaLYYxCmgHLgQFsIUP6GhfeWCZbMKHAP7vo4t37Dxx51khYldgSjDFGfcl+zaQ03Y28OFjrrEmWL2k1sICPQUsOhlmxi19KpG/CUIxg5Wh+lrRhFJtAji5J+ux8KkjkhA/nc2HfPY+468579z2gH8Pf9E0OEo/CJ2OGUDo4IblCBBVjsga0Iotzybt3wUuD/amZMmLEEqkMROEkE9HqX7SlUmE9qPoDtaC4fN7CLx164EvT32zVtp5lp+OMR1JJIlIKhq+C4VfGHbmGpss0RHUIM8cEwqeyfby/sLCdppCms5rFQfWglxMDxUpPAWbuFFPF8Jnf+Obt/+9PrRJRl22lQIgr4x1ZOk40ji5HOygUGgP+XCKUhOagPyklTv5+Qi901113IVe9F+GTpzB9i6KipZaStSjcuMK9GaI4Rv3M+FB5eSvkpTqG52ZkBhn9mMUaSEfP+nb8EgokVXKlliBrreZsJehpxVKqQGZqlFx8g5rgS+xImK4SjmRJpsaImiQxa0EyPEPfxs1DfyFxKP4cwKQ3qr8Hgynpzr4ENq5mo7kFk3RDwKJ3EDMT9KUCJEUtJHHfE8jfxFwcJuPIcnAf/NXGKzgekezFj8MpciNBOG4swZPzzCeFlXhbtOaHH3viycmzVyV32aKwlt3KxCx6pMsCpVEB51rkiIxxrU6lmbZeXIfjIAc4dS6mpQfzdrwfI+Is8EGXZjqhOjbzBZggjy0H2pzGwCBF4j40FjIoyCLy+5vSGk5EfmWbMrhmeSC+wUAimcnlCL9GznANm6Z54RPj2eUya0BzmPAGhn8kqMWSODwVVwcehWImlogtX7li0uQ3UK8YF+FyLBjdhY2zPyObmB2zwLnkmKpBXSDT5cUXBghcNEtoCIeu3ghBTxAoc5ex4eUaoBlLojNkSRAE7w95JApp7DMibMIZJnkVM/RNb16UJ5m5AVE50BO3x9TGjU6tib2AjrvjU1byGDI7a6kUfBg8hHmBiqOliSifLs8qzZo1e/KkN4afdqqHMQTDLcjPRAfgjyqIvWAwJ/c6tiNZMAoxpgH6MdRRnFzHpBNoTg+pw2jBcAU/iMDYglrEASal82qRBJWgqHLSufiHx8+p1yiLzFvDTnTjWUoUiRTy55FWlJJn0MJRDLGZsFblQqX1UZ5yLCwCy6Wb0FuVqIrN72MmbIcu3WOxOBDSRyRjaLJ4JNQvivguKDto0Q+Yo9c8+17n2LYDEKDOGJvhMyiGotXIv4DyijdIlhkRYPHofffcXaOVMgi2pf3gaA9nM9koWW8QS8grRvCDoXgo7nqYd4tP/UXUR0r+BKuZKBCQdsZEAQpBR+YXuqpEoObaIwScbs5RjTTItqRfMLwChTGvnzRpmRLZ/3Q6bZb8G1yMD4bxdWS1N9uMmAu6HL+64AQ6I/oc1EhjV0gh3ZPYDO6jzTV9DZQjcMmtzagQJeFWmk+qTop40CkkOkhl8NHF6KFZlvEL0osVLOo27tR8Mwrveph3fJs+ZcRsdqNGmTjl/SSJJDnGgCisgFMTioDoJUr4T01Eb40aCldLuiHqVHrptHkgZGaGljx0mes4zGI2muat2bZMN8RoUpJKnDPQm4dLMhkXCxLxHA3JHNZyi6FME2s9K9cRF/E0lBLmzwIAqhUzpVAvRI4B5KLm7CF7KZ5MEQ5o+k962EmnPvf0xFdemVRbV5PD/6aoEzEhhadR0za4WC/r8dn2oqk7fMIbb+k0FMpMrSgZjFdYxr9Q/5lkDjrM9VZbVASgphjTG9kYNaJuqA5dIRLSmBqedWHuZ70bN+8bWEJujRJdoX6SZl3TIMPaBGjQd/zMomIGegDzgnEy+jx+ONFPJhKLFXMk/yWJlIqHthGMga9/xIiznnnm2WfHvYijBnYlr0pMhMJGE6fFy4yDbqjEOJRMr6NZxIiZUmIMmg3aj0rn96dTqTheeebO89IMlfJBv1ZnYZ96RFUqxBO8K+8FpZWz2RL8TWJG9om4wIyjlulfBKep/7jBVrxKKEdkymfEK6JVNEmrg1MWPR1DDF8s+TuKsVgwkojncmtPOeW0p598BbqsjdXOWcjcO4SaBBxqLghQRJyTPAuUeH1UO1QBbFby7etdbdtxCMg0oVpoQzR119/Rq6gw6UU+H66LKMtlOUmKuoyDDrEQTSZo2zRQVszSJfKok5/BNUUnutWhXCPe8PcTfj1Yl0g38tQ4Scj0Q5o+rorNrh9GXDZdAw7xDDLEM9ylVJ8BDeltun6YwhromrwHLZZFB2WD0YcR7AooQKREkjJCJBvlDmNCNCYhMR/01I3XD5O0llXwkfXDZDEWSsyLjiZjxO4xvyGOnQewKNqK/kPhk86pzYFJn2ZX/2/jtkUOEyW5OA5XMlR+CJaRF4Jh0slIAhM0SDdnVXuexwvjT8TKUpSEGgz/a2REwXJ0bHk/kR14ZuBEFB2kils0RGzN/2g9jKCQOF3ORVl+0iyk9Zbkh1TMDQvI47Spa/XO3DnE1GV5mHBWyjy8xMRPkxAI35mTxZgLihYDUsHiXEK5HMszxsf+40mfr7ZQVCZm9ApqjpKqwI762HEwbiN4O+J0wCUuhthW3gFDGGsDRpfiT2sQdPhjsbL4xn/SQakRDA60AeCQMcVL0055W8xhfAZOTeGGNGQqnH9oW2hk6Wwq5vxgyVZ1b898272oRoeZfu8aH6Ke8I0YZhJcA2nQ9IIsIUamDNk6BcwUWeLF8uhRY5AFZVaUpowYfjQLaZJcwaJxGMrOfYl3GhcBvEXty1KSS0TVo6aiN6CaSS1G2ilelRaVLpCuhWy8VC/5AXL4kKl01Mlp06eq59FdCwU8Q8zpycslwZA4/mRVL+9IgZmuKY1MWg/R/34aHgG1eBIpF5G/0DvvBvk4lUayTmcWfWP/PhZvibQG8JSVx3IeAhEbVOVQHQAtLhcK5vLLOjyd7NwRrcSe6SFAm8OQQLfDjicWnOW80bOoWslkBXdg8bOqoyINqED5jSUYvOaMrNIeDYB8m+GESxTMae4QDUIVvh3ydpsrRuKUktBbGOYXIaFZskNHEA3oVbAW1UsCmUwuWUP2GXGJLAwksrLEiL0RAorjwkvC+nbKQ6v5//wmCV+Ck8TiCljW2YgImQE4c5h9qpRvGgxixAdHGkMJUpUJ+uCCaA2ZOORvoMcy9cVdC8IZnsXioQgpWYBuFAgkYUGdjPXDLcJhdFw0Px7lbB0XGq4O6uwhlWLbti1yGNWJLODBvArz1NS7xcx0eAL8cYVSt6wNj6BRC5DIkQjFSAAEoZPPlvDraQSFn7kQDw+vSdVLzqoxafBE2LPucySHUEW6SU9XOD6Plf4NPOjQTAsHCxQEEv7jcA2VyEnBdVLHqSW3bG7zG2Mck6SVaYyke4VBfV5qKy095bSKAPEPyH2wY94fy0a70EolJnd8Rlk+jRa5bZWzubNpEHhy+QWsaNm0OkDVMqMUn+qnoXLIG6AEQIS1l5kXHx8plMKE0QOsmiw3wHmdKRTJCkhrc0So81EOMPbjUeQ1VodGRWW4Ufms36oMv1lVseguSNXI8isGmMwHd1Ammd80aPQVZ1jL74e85yi9THQgAlXHwQQUechuY4FXDDGUXKwuVSimNMoPlU3yEUKneLwWLpBNrdTPdE8mD5CEjCkBeAnoLWGWhmHpVJlieicOMWIt/7NWlOZacKEpYnJls42sSMlam+iG+PTVQUU+6lNqhSo87TnDcRiUViEb0/Ext0TH4lxivXz0ZzIP4TWlD0DFqHG8jdARk8tDxX3oAVqiAp8BfQdgbduhCMjXpnRT2TJplhgZRa1htBwpJHFNJ6I5UX/UHGyBQEE1ohEjsim0hpwR5Sz0ms6zEjoNhsZA7X6a70MDozV6XYu25HRN/sp9IpaljTKWrMXNSXOjqU3oeYhu+i6XqMvxRzRMpxdTSXrLiypZgZuM0SYYDjcZZKIH0cIBAedgTGmSIH7P2GBqF1cwguDOYTwIPQB6RNbIeAn7w4yiIXLpbJpXo86hiDN+5iZ4bbC9YFyFU8COZMNDY8ZLxJUUzmEpZP8DTFVVH9t0Q0QYn3RpEKS+6aJ0VXDg7em1NAKNIiD+JUZR8PEWyqbhEohdgyMazWDeK6kLyc9F/I8eotnGnKIBBw22UQWIAcB0TkEggQ49FcOVSpp2ifBlgSJtRA5XTkbASWhQH8KKpzE0QjVkBRzquRMl/IpygSIur6F0Z3xKPFFMC3UxV4xPSuvEjVBUYT4bm1NnNHIqCqfIXlMAFvaa34DjHN3Q0zDWqA5MYTZVAPjpbGwG2Sa0US6jJrjaASGk6fCgxhHyMXGVd5xGidBurn3ybjCpmRTM0iRUkerZMBXNVPVLUAP1DW0wgCzuUmWpYSi/u77AGbqVCgwJeOBLk8DdRz+hk+FGdv547u8Zi5zqLtGTuBUiRg3HbSh7KD36Vc8QLlyFfFISUhoY+pDWVmdFyhjdR0+kmznoSMkvfUBlk4EKHJCfcONOtBU0M26oTeqaOr6+89bO2HPGIkDxXE7mJOez0tkoy7RU9GU4+DPTrFTwz+mmJoGaokmoqmRqlpFReE1mAZXM8BI+GC130NJlaAGuN2heLtVJi4jH0XhomOpxn/6mrqiersLzqUFmfA2brh8mlykNm36kpKmuA6q8EpIqsnNy05JdtwMTEOF89Ev1d3qhBDJf1TXoy9ieLjSfUR9avdq9Ojfhe3QCqI6+Qr9xj4NE6VMwFNHJ6rxMtYIR1f05Dr5Aya8eV/EOdDFPR/SghHH5p9dzW/NpG75W+Ndxi871Xu7Dq9QzhZiA4yj8zyePU5gEzyckjME/diSfeG1HwrqaPQkuNs4EKy7TJfqF9A46zgGd5L2kt3qbDukov3mQyefYrB4p87Ruq6dK7OpxkkR8NJdKX6WkCwrqUJ/8r11CBtyu+xP19p3NKEPbbeCrv58dYaNxJLcBhZPYDhLAdRir1bBJW/POEuxugjK1xgCYfuUn95/uQ5vTEa9O3RUAzRX6wcGlk5tvBWbyGLBxgFbPzgYU3Q0pgOob0mq+At1CR1zl6hfvbHchLd4VVL+6mnU31fh5c714ddhyljtZlhM7emv3X8srQmO6ET9wdfPLuOJxple97mlY5O5xwKMXcW3GQ+PDd6QXcx9ewCse7nB6gW7uXtm9jYc0bZ5T8D7qRA8zd1YzbtC/99U+dyQCNBFXkeggavNsMktcI1EbkB2tlumUda+cqlR1BzUDXaTK1S/Oj+B9d990zLuj2/skPzwZJf2PYmzog64b0dia+0tzb3XFiLp2rl1KLtOopaBed3cn8ZpyAGLACSDZCeo8aH862X3R8Q1Pc93aQQkqjgA4R0iK1LhC59J5SYpIPgTX8imZJw/0UzP2lF6XuceJA3HLuwvZ4aurGN1nW7dmgbjpZRv67abHN0KDccKP/7rJEV5Pr7zJUYfFhmPuJVpuu+Go++uA/chPzSd/5KwPv3z815Yj2vlYMT688jO695E3+siXzb5QM54bftsOTFrw3HCPTf42l2Gj0zaUasPfD6vhwyPeTTb9ztGN7tP8oK2WeTN32Lh8H7/bh79+5FL3ZaMjH1642YMf3uXDvQ8v+fCY7e0QBDbU2Qa1ZONCbKY5fXjahgu9Cz76beObVOv+Zku86cFNGuqHXzc9ccNbbjjefOaGr80/b4LeJr96InhjYwv2atm84xsfaflp6zsfFnrr59mvhoAhYAgYAoZAtSFgHFZtNWLlMQQMAUPAEKgUAeOwSpGy8wwBQ8AQMASqDQHjsGqrESuPIWAIGAKGQKUIGIdVipSdZwgYAoaAIVBtCBiHVVuNWHkMAUPAEDAEKkXAOKxSpOw8Q8AQMAQMgWpDwDis2mrEymMIGAKGgCFQKQLGYZUiZecZAoaAIWAIVBsCxmHVViNWHkPAEDAEDIFKETAOqxQpO88QMAQMAUOg2hAwDqu2GrHyGAKGgCFgCFSKgHFYpUjZeYaAIWAIGALVhoBxWLXViJXHEDAEDAFDoFIEjMMqRcrOMwQMAUPAEKg2BIzDqq1GrDyGgCFgCBgClSJgHFYpUnaeIWAIGAKGQLUhYBxWbTVi5TEEDAFDwBCoFAHjsEqRsvMMAUPAEDAEqg0B47BqqxErjyFgCBgChkClCBiHVYqUnWcIGAKGgCFQbQgYh1VbjVh5DAFDwBAwBCpFwDisUqTsPEPAEDAEDIFqQ8A4rNpqxMpjCBgChoAhUCkCxmGVImXnGQKGgCFgCFQbAsZh1VYjVh5DwBAwBAyBShEwDqsUKTvPEDAEDAFDoNoQMA6rthqx8hgChoAhYAhUioBxWKVI2XmGgCFgCBgC1YaAcVi11YiVxxAwBAwBQ6BSBIzDKkXKzjMEDAFDwBCoNgSMw6qtRqw8hoAhYAgYApUiYBxWKVJ2niFgCBgChkC1IWAcVm01YuUxBAwBQ8AQqBQB47BKkbLzDAFDwBAwBKoNAeOwaqsRK48hYAgYAoZApQgYh1WKlJ1nCBgChoAhUG0IGIdVW41YeQwBQ8AQMAQqRcA4rFKk7DxDwBAwBAyBakPAOKzaasTKYwgYAoaAIVApAsZhlSJl5xkChoAhYAhUGwLGYdVWI1YeQ8AQMAQMgUoRMA6rFCk7zxAwBAwBQ6DaEDAOq7YasfIYAoaAIWAIVIqAcVilSNl5hoAhYAgYAtWGgHFYtdWIlccQMAQMAUOgUgSMwypFys4zBAwBQ8AQqDYEjMOqrUasPIaAIWAIGAKVImAcVilSdp4hYAgYAoZAtSFgHFZtNWLlMQQMAUPAEKgUAeOwSpGy8wwBQ8AQMASqDQHjsGqrESuPIWAIGAKGQKUIGIdVipSdZwgYAoaAIVBtCBiHVVuNWHkMAUPAEDAEKkXAOKxSpOw8Q8AQMAQMgWpDwDis2mrEymMIGAKGgCFQKQLGYZUiZecZAoaAIWAIVBsCxmHVViNWHkPAEDAEDIFKETAOqxQpO88QMAQMAUOg2hAwDqu2GrHyGAKGgCFgCFSKgHFYpUjZeYaAIWAIGALVhoBxWLXViJXHEDAEDAFDoFIEjMMqRcrOMwQMAUPAEKg2BIzDqq1GrDyGgCFgCBgClSJgHFYpUnaeIWAIGAKGQLUhYBxWbTVi5TEEDAFDwBCoFAHjsEqRsvMMAUPAEDAEqg0B47BqqxErjyFgCBgChkClCBiHVYqUnWcIGAKGgCFQbQgYh1VbjVh5DAFDwBAwBCpFwDisUqTsPEPAEDAEDIFqQ8A4rNpqxMpjCBgChoAhUCkCxmGVImXnGQKGgCFgCFQbAsZh1VYjVh5DwBAwBAyBShEwDqsUKTvPEDAEDAFDoNoQMA6rthqx8hgChoAhYAhUioBxWKVI2XmGgCFgCBgC1YaAcVi11YiVxxAwBAwBQ6BSBIzDKkXKzjMEDAFDwBCoNgSMw6qtRqw8hoAhYAgYApUiYBxWKVJ2niFgCBgChkC1IWAcVm01YuUxBAwBQ8AQqBQB47BKkbLzDAFDwBAwBKoNAeOwaqsRK48hYAgYAoZApQgYh1WKlJ1nCBgChoAhUG0IGIdVW41YeQwBQ8AQMAQqRcA4rFKk7DxDwBAwBAyBakPAOKzaasTKYwgYAoaAIVApAsZhlSJl5xkChoAhYAhUGwLGYdVWI1YeQ8AQMAQMgUoRMA6rFCk7zxAwBAwBQ6DaEDAOq7YasfIYAoaAIWAIVIqAcVilSNl5hoAhYAgYAtWGgHFYtdWIlccQMAQMAUOgUgSMwypFys4zBAwBQ8AQqDYEjMOqrUasPIaAIWAIGAKVImAcVilSdp4hYAgYAoZAtSFgHFZtNWLlMQQMAUPAEKgUAeOwSpGy8wwBQ8AQMASqDQHjsGqrESuPIWAIGAKGQKUIGIdVipSdZwgYAoaAIVBtCBiHVVuNWHkMAUPAEDAEKkXAOKxSpOw8Q8AQMAQMgWpDwDis2mrEymMIGAKGgCFQKQLGYZUiZecZAoaAIWAIVBsCxmHVViNWHkPAEDAEDIFKETAOqxQpO88QMAQMAUOg2hAwDqu2GrHyGAKGgCFgCFSKgHFYpUjZeYaAIWAIGALVhoBxWLXViJXHEDAEDAFDoFIEjMMqRcrOMwQMAUPAEKg2BIzDqq1GrDyGgCFgCBgClSJgHFYpUnaeIWAIGAKGQLUhYBxWbTVi5TEEDAFDwBCoFAHjsEqRsvMMAUPAEDAEqg0B47BqqxErjyFgCBgChkClCBiHVYqUnWcIGAKGgCFQbQgYh1VbjVh5DAFDwBAwBCpFwDisUqTsPEPAEDAEDIFqQ8A4rNpqxMpjCBgChoAhUCkCxmGVImXnGQKGgCFgCFQbAsZh1VYjVh5DwBAwBAyBShEwDqsUKTvPEDAEDAFDoNoQMA6rthqx8hgChoAhYAhUioBxWKVI2XmGgCFgCBgC1YaAcVi11YiVxxAwBAwBQ6BSBIzDKkXKzjMEDAFDwBD4ryBQLpeDwSCfxWLR7/d7+9w5EAjk83m+ssOvbOyUSqWtPNQ4bCvg2E+GgCFgCBgC/30EQqFQNpuFq9iBpdhnBzKDrtiB2GAynsoJHOGErZRga79t5TL7yRAwBAwBQ8AQ2D4ECoWCx1XseCyFyeXZW54FFovFILBMJuOdtpWnGIdtBRz7yRAwBAwBQ+ATQSASicBSzl9YxgLD9oK9ML/YZ0ulUvwUj8e941spgXHYVsCxnwwBQ8AQMAQ+EQRyudx3v/vdcDjM3SEtCAw77Be/+EXLCBnHOQcm49etlMA4bCvg2E+GgCFgCBgC/30EsMDY8BNCY+zgUeQZP/zhDz3G4iu+RD6x1SAwz8e4pUIYh20JGTtuCBgChoAh8IkgAC15NlYymbzggguwxr7//e9DaRyHxrDJGAmD27DJ2Di+lUIYh20FHPvJEDAEDAFD4L+PANYVFHXDDTfAZDDWD37wA88au/766/mJjYMtO9tph3EL+JD78lkuf+QdIEa+8wB2+PzIb9X0heJ5RWec0EPBs1irqYxbKwtlboGXivCCTbd2gf1mCHyBEfis9xdPrlKBVS5Xt6OJIYc35iGPnLzwjRtvvJH3hW44AUrzJJ6HQMslLchs9tFbtMNa7sKNiM7PF/IeH/DJYzjI1iJYW0TtZp+xQw5STopHcAvlxFClhBDY1m3SHVLOLT2U0lKvLb96b9Hy1XYMAUNgYwQ+B/2lpb8juDxtuwrl6saYV77Pi7S8HVchnCGw2tpaWAbJdtttt/F53XXXcQ4/sRGOyAnscCGbF/expcd9KCU3OYPrkfg8A0D5KRxqpgGO8yQe2XzcRZV4iG9yhx37lXJSAJytQMAOL+K9zo4tVeVPp7S8gmd7gTb7fLJVfgc70xD44iDwWe8vns2AIPXkFa9D3THzdztqEFmxyVY9cqOlYLxgU1MTb8eLM/R10003QSstikg6nYZfCOvA0+idsxUctshhQLmRAPWlM2kewIM57iHilYbHe/SwlWfskJ88oqXMFM8rIfse7+6Q8mzrQ73m2xJ4CuyekrKt97HzDYEvAgKf9f7iiSb6uMdhXrxDNBrdjrrjDpts3HY77vPfvcTjC69gnihDuEEovDg7Htew77GMdxwmg8agm63bYVuM99DD9ObNmMZjccyZQiEXCkV4Nw8UisUz+EoJtv6Y/y4cld8NLFpOBiDK6bWVloNVu0PzpfJA2Kt1ysk+ha8elapqobOCfQER+Kz3F7q5V2t0c/o4MeV83T55tbHE8O7ZcvMd0jB4o42L4RWGg96GgYFYa6GxaCzKkXKpDNdEoiEoDR5Sto6giGaz24ci/uM/c2sXFYEY9RVLRX9Z2as4jULweICGyXgeX73jH7/DDjziFQ91xmsNFNgrZzWoJJXA4nEVZaYd8wp8ZZ8LPyvlr+Qd7RxD4L+FwGe9v3gC6uNy9T/s79wQhPn8D+/zn1STJ7haSgJlcDcOtnAH+171wWTYXnyNBCIoJYViLgyN5ZVB0ffRuMKNyxPc9eBjvnLkgaXGTDIS8vnLfl85yAd8RbaPdCoSiQ4ePDiXK2D1cWsnRf2wIg/be++9YQh23PFmJWLjW+/wfXCheGL1DWN4VKQH5Q4v278tAEX1nJ/oB+C877778ulVwL+91k4wBL5oCHzW+wtde7NydTvkFZd4V3mSuXrkM6WiMMgxzz2GZPNEHJ8exXJCMKRIeF/JF4mEC8V8NgfXRBx/yR3qL5f87i9/3pk5e/ayNalI2y3aYYh+gkO4HTuRSKhULgW4g7aS8x/KzeXsAywDeJ7bK9zA7/uI49U9m+MBOFEbDKmPf79tOJ0zvSiGj9zWu/7jt9roKl+pxOhXOJPJxWIRZs9dfvmlcFn1VOe/hYCiwsGAzA4ne+rJv73KTjAEvpgIfNb7C53d01a9HQKqEevI3u1wcXlCA55Ag+cTZFrEyBbbxgZh6olQTtuClJYw59fm0/VHR7yrdEnznhPa5Q1nbrgXJWGLJaKRsByD5ZKvtnbDJRsemS8WQsGQT6ZaiTO/891v/+6qa7ZYHM7y+Vo4jOfxT5d6G9iVSnyVC2vhwsXRWLiYJx2IKzG8VpKDqwivFYN+PzfhyRmKE+KrKzo3wZwrBkplf4kj0YIelA9wO66RmVeG2LRT8sjPvbve2Yfc9geKvjAXhgP5cikb8MHMsCCvDY1SpAI/cfMShMld3JXFQjkQCudKiqX0FfIBPx5OfggE/TUP/HMMPE+B+SYSdfDqQdW90ewoIOC3FNM70vLVdgwBQ6AFgc96f6Gnw168jrfDJ28EjW1fr+dWjEEkEomFCxfilGN/Y0nSApp2nJ4c8ofypWIAgVvSmYxGIVfDwUipgE/OHwiWWAvFTTkuF0u+UCTclM7HwpFAEc9QGYspWyzwa7DEiSHJ9kBGwrnEkB6SHHkuFsDU8YZFeATH/b5wgPeTAG+mAF5ebkD+YY2VWT/M98ST//BL+FMGr8juTPY50ryJMlo4bMPBDX+5EYXhfbgXfKZRJYXXC1aosibRLpVJF/OlWE2NrxQoluGQoMiq/CGHcSeKLtICjiIPCuTRLAKlYFmpseA7PhwTcYKoseisRF+5GAjCRlG4LehLl6WdhMPBaB4u4yRY1s/QHHjrHqDlF5GSdyvAe4GvK3U4GCgVy6AX9JfiDAYCrztZR/RM2wwBQ8AQ+AIggPSEw5DeW+IwOfFwzJU1XQqRnEeS+0sxAspyWX+J6T0ux0UQc9Af8mt0A0rjs662vogDsJCT5A+HEbLFQg4CC5bCjnsdFyDDfdpB+uYKaZ5TV1eHvzQZr8Xk4M4egfF4rx5K0Jk4DFKFJWCHUjCggarN1xL23wYm2yKHtVzJ0xyTQbRYMiXmpIVj4XQ2Bwklk1GMsxIx97xiKciTsdr4510bFMcSBOK+BsrEhDi/GHabMxTF4LKrZGQV9T48BcLDiuOdScqfTeXitTUkIsEsa8pkI6EoRhunlQHFH2x+hj/gD0V5ekkUVyjns8rVT2WorDArxQ3I7mODfF3BnNnmFdA+DQFDwBD4vCHgyX3ktrfx1TnVmqli47cVZ2AvMf2XYahgOVvKhCNBRHAmk4ryvZgNh5L+EGZWOlfElSVJygLLiOJCOuVuGw74g2kFHORxWXomlSSzKwHGCsIWYy6XT0ej4UA4mEtncW8W0oh7R07wEKTg+R8l9yWgsZn4C4cxGMSdeIWNC7zZ/S1yGDfyTDjuAkWzyUiEhoL+IuyLny8QaGpal4jHmUYt6uFFZEMx6MZTnc3EX7EOR3x5GWT87tlDKhaDaEUiU0RsZc3mxYTjTIgxFGhKNUbCQdgo1dgQlHlbDkWYJZCDsXWaQHfP0G1UHvQCeDQa9FEYxo0CkTBRlDqNE0owPiUr4osEGV2gq2wzBAwBQ+Bzi4CjA72dJKuLadjsqyILi7jRgoE88WKYY+j8uXw4XoPrUMJYjsZCCfkr4QlF+cOhKPPwsNJCEFrZh0MOeoT/4ELksxOu3FKinM+CZLvsNG9raGgMB4JRDCCCB5WdQ4ygEyAPGTM8RKKZR8u6cXTgXchBnr4Vub1FDuMRXtG5vnkTDESMBCOhcCHvh2aYmpbNNfmIhPQF487OcVYp9BRyjCpXoQagYBOOyYrDu+kL+jA5AQjnoQa72CEYheJD85wPISUTCWYFMJ6pqMIySfiT6AURDDohyZkhPIgoEKFSAVYrlNIUNR5VUYAkHm+dxqWIuxWXrmNK3LB+H5TOlAN+1yCcbYaAIWAIfC4RQMi1vBfiEkuDT454ny0/eTtwjz8YwJeWiMZy2XQsHErlyk0NKdIblXJpPFw+7IxCHkOCOAsEcq6YQ1an0tlahpYgMGwSQg5KpBPKhiABZ13Ib4aIdv44PbjM7KZQoVSOhRO4NPPZQjGTjkdjnIQsZkgIoe6VGNel9vQ/Vo9IizJ7xd74pTZ5Bb6KQza7eZd5t+AEdzcYwB+EC3IFxpvSqUafvxAIMd7lZ6gs7wviu4P3+cOvvJhnAJV8ULpsMY74GaPScTa+Fgm78b5CdNAxR7kcG1L3DwSwXvNc4NcyaNjCED3f3LXeB+NiUJ72g5ShVMBdC3K5TJ5BxywjX0DUvDEs1vyKnLzZl7WDhoAhYAh8DhDwJLYnIjcWdy1HPrqDxypbLGVlivhKzhrzxWN1hDrI0CoFC8S44xnzlwvZNPKccTMEeSRRsz7V5AsyjqPRMkgkFiGCXQLcyXzneUM4I659eTiMHUWKlKI5IijyeQLFiz7sDbnH5LVD+rvNE+aezObAxnWxydeNf2J/ixzm3WuTs3mqr5iJhUuxUCAe1uwzXyCSK0ZypViW2EO/Qk0goXCJ0UAiWhgeZAxQTsSQs8CAqSR+U3AHQ1/si4ZhLkwxxq/Aq1iO4TlkfLBQKEcjeYbJwmH4mJ9lwPFPBhz/3LvrMHPawgT5400Mh7Dz8lGsO5yzoQBKgv7JDBSWaAdEnPBvkzeyr4aAIWAIfG4Q8Dis5XU8etgSB8hPVsrGwkjYEpHn+PrC/mhea6EkAgx6lUlmKN8XcXPMMY5HienIwlsQXKSmhk/8jPyIGwxm8p7oYiBgP+R6wElsosGz7AWKkUA+5i+HYTtG1/CmYahBHo6A+JTtBVNwE+7G5hW75S02eamW497OFmW6iu6MUO887yuGaShcXPfB8j3796tv065Du05t2rT7w7U38vxCIMi7czKGmv5RQlcmjoCUezdnJuKBdewlK1KGo0JimotC2EXJX0ilDthv8BvT3sS8y7o1U5xfkDAQiJ3f3cku1tFdhetVIMrrSGr9bGa/fQZOmzZV/B50wSHuKR5V8wryVtpmCBgChsDnFAGEIW/mieuWT0hpS69LRFzTug/23Wtg65pWrVrXt23b/pFH/w5zMSwVwMlG9DsWVbEUZdyosXHqpNc7tKk/5PAjmlIpxXr7g/lCAeaTn8xtGCSePOd52GVIfmR6Q8O6Q/Y/5M3JM4jgxyEZikYyeVxtmC9cw4k8Q+YI13IAES1B7Tav/JzEjnf/zX5u8d042yNDrufBzXzuY4AvHUvCD+Hnnn5l1bIPli1cPvquu79+1pmFUClTzjEUx9PLuEqds7CMkYSTFIsLZycmEUOAAUifeWdMKCCOE79pkLEqcorI5RgIKvRF5BbAfsJqCvmLcSI+uAxr1B/OEzwSxk5TEAcmFcjyrCCzF1xKC3iL96ecqUzWzwCbM1G5zYa3V8wI22ZRsIOGgCFgCHwOENisuN+S3JMQzedioTB+smefeHr96tV/+9vfLvjB91e8vwbuIugQQDRvLBRBQpcyufO/du4Nt/9p3LhxcRxxRBwgwENK66rwfGLukbl+DX1BXXgZOY70RUSLC/KKASHujxvimssxCMckYGwK+cYcdTULZhEwmxPVzR/eV3d48x9b47DNXsFDs3j6iFkvEtwRq41Gn35s9FtvTFi+YlE5LNOnUMT/FxWH+710i9ha3Ik3wivK24Z0JQ7GEOwTIWAw5AvWJOLMPyY8hSNBUoy4BQhKjDQGI4yGcT4zl5kXxuBbrpAl+jOKGxMawyTEyMXQLWZF28wqy0OS0Ug0qSkJjIdJKQAUZ6Jixbl/m30pO2gIGAKGwBcQAaRwOV9MEC7ITKRSadB++3bs3GnBkoWMwzStWxOLElWH4MYACDBBuE2y1S69+yJXZSLkibyPZfOEHhArr0nQQUXhl4LMfQ6wakwmHI1wJM14k4/J03gric9jEAn7JBiK1kJg4gU30sQNnTW2nfBvG4eJSommjNSGo21goiIEU2zq1Sm+T79ur7z4FAWaNXdRj157tK7vlGzd5tFHHmdSwP+9+BK4PQ8XFbKHfvmo11553VfILV4w+9v/57vpbGHwoP1vveGWVslk61atrrzq6nIomM3l4okobkFGuua/N3/n7ju3rdd2/+iHiGdkIsJPLvyfdm3qOtS3PePMr2HDBkq5JfNm9u3bp65t/ZXXXZ8r+DMFXy6PRSaHrBtIE42BEpDhxtxOnOwyQ8AQMAQ+dwgw3hUKRssKn5Nfb9r0KYlW8d127x0J5hvWLO/YqW0HOK1Hz0XLVh6wz4GLZs8/7vCjrv3d1eS++9KgQd/5zgXduvdas2r5nJnv9N25T32r1t1777J4xUqMlbO/OrK2rk1dXbtHH3+qXCbzYXbRgvd22bVn69Z1l136u3QGhxjTn0FTNpycd8122Pbgu20cBlsWiv5ckQh4rR4djYQIeQ+X8xFfIR4O5DLZoScNv/b3N65YtebNadN/+atfTpw48dijjnzs0UcxCye9MaVVq1bPPPU0oZbPvfB8p65dIJVMrjRp8pTly5Y8/eTYW266deWyVZFwOJNan4zFsunMsBNPvubq61evbpw4aeqvfv1/X3t1fDRYuPHqy9etfn/lqlXT3nl34pTpnDb85FMvvfTyNWsbdtt1j0VLl1AmvJDOCBMiG0YO3e72QGTXGAKGgCHw+USAERs8fOlU/rghJ7Zq3/76669/7rl/1dXEM41rhxx/9GOPPfr+2g/uf/Dh++5/8NVXX+/Vrfc//vnEr35+UTmXJV9v165dly1b1qquZuTpw8eMeWjJ+2vGPPq3O/761wkTxjO5auXK5WsaG4edOiJX8pNf6sab/vDG1Nf/8ffH/nTHX9aubtzY8FKAuQh0O7dtvpLAEvx4Pj/RJoRiZjAQGaPyByPduvRcvmi5vxD88sGHc0LP3j1PHHr84iVzd++zU2r12nym+MzTz5379bPHT3p5XVPqqeefP/q4o5UvKhL9zv98v7Y2uVe//p3qOyydszCQz0dDgWymccWqlUVf9MtHnlDwR3v26XvmiJHzZ74VL6Ymjnuydat2HTt3W7RybUPOt2z5B1279hx68nB8rycNPb5713ZlXyboz+F6FDSYsH6cvWTu0uQDnLTbiZNdZggYAobA5w4BBquY/BVv1frvjz0xY+qbM96cvnrFCmYNN6xd9cHqNUcefWzbDh2GDh02bfo7ionwl5LxWAm3oWLuo0cccRgToZavWLLq/RVHH3Vs1y5dTzrmmLfeeqtTp06vvTrx6quvZhI0M52Y/BRNxK+65irk/AEH7N+mVf3CeQtDpBQkTEIZ6jVShj3jmWUyOrZx2zYO45F5MsEzNTvArOyMBusC4TkLl02aOqN3797MciNjB7EbUSbE5Yph5s0VC+3btYGop77x1tvvzBoy5PiOndq8MX3G6g8a+u/Rj0hCSk90fkMmxfBZjPE1nK64KBlRww9YJoWvJnkTnEGsDRO/4pH4/HlzvvOdb8+a/dbCpcuOPvYrpAJjfgEzv7mECBmGwAJuqIyr5MFtZiy5XfUgNvkStxmjbYTUTjcEDAFD4LOBQCbLlOVsUz4bTNR07dbjZz/5yb1/ucuXy6bWr6uvr5kzd9aKle+vWL32zrvuIR4vX8ylc+SUKESjcWQyU5gISGTCVW1t7VvvvLtixfvL1q5+4L57+/buM3f2vF49enZs3Wb0mDH+UIiZzST5YB4V5g3sENWwkKLQA8qa6zhMNEY0iAJCtnXbNg6DBMJMySoQlEHG4iwc1pQLHDX0zF/89ndwbK+e7cu5NRNeeJLhu4XzF44e89jhR38Fz95xJ3zlol9etvde+9fUhQ86eN977xt16EFHtI4m6gj98AWhqXAsmpFzMpTPMcaXKENnIV+3zm3C/vSrLz3DtITF8+f98/GnDjr4qAXL1yTbdgrXtsZKGz/umUC+oUvb2nmz337iqX9GEokHHnrs3TmLApEk8Lqofc1Lg8wABZIHnf/A6bqtwNr5hoAhYAhUOQLlBPF0jLxEww35DFGEI08/4x8PP/7G+EnYJMQa3nDzLcQZkrAPI6Ac8ZcikE6JvPXrU5kA+f+IBillu3TpQvz93XfdzyTdADHkRZICBshNf97ZX7vphptmzZ2Fv438UWKxaCSbSRGWDnFpxjBjYc66gMuIEYTAtg+sLXDYhjlb7qbunA1HcB2GgpF0pvGoY45s06FDt516/enOu08dcSbpDcm78eSTY3/y8x+17thm8Jf2v//+Ua1b1ZONa/8DDly6dOmhhx4KlRx++OH/evrZIw47msh4Mn0QAx8MBTI5iD2WK+cCUX+emMVQJJ8vhoPBJ574+w9/dEGr1jX7D97n7nvuat+x0777H9K+y07dunQbPnz4fgMHRMO+RG3itj/9+RvfOLeupmbugvl9d92lkMtjCyps05GXewX2thOg7YPVrjIEDAFDoOoR8KdSaXxXuXKekHBCDPFsfe+7377olz9P58oPPTb2L3/5S5d2bTt3qP/6N85hgRUmRMF3hUIuFE8Qgkh8Pd5AAhHHPvH0bbfd1rVTx46tas4+8/+z9x5wVhZn//fpdfsuy9Kxgyg2QJRi16AiGI0NJcaCNdEkxpqoWJOoUbGX2FCpKvYaC5YoVmyogEpdtpezp7f3+5s5uxTFN+ZJnj8+n71dD+fc99wz11xzzdVn5ui3/vlOVU2v0tLyC847d8oJJ5I9gQxkR8JYMhkKh0mty+cT2p9j7bXud+52SqUfkGoweOSquZzjz7/m+ivPSa9p61HEcSekp+R8ilOxFySRLpafudgw/9tlK8rKylgUpn065KOz72rDY0Q3P4wIVfjJuDhlG9pYFJKD7eRVwBzyYnbuIEVQIkZhPD3Qho15Vwp4nHmkPIvZaNfsVUXrOnRG5dSKgKZWamPXKdlXZLNQiYdFaVo3zT6KZjmDvgskhb50/pnj8Sefeuutt6657q85sv7ZLkVp991XNwa6MdCNgf+DGFDQyqwRZu8M0rkxHtj80N78vt6KT8t9l/cZnixebQ7kgm+TUsBWR94CpyWZwEFyBtxYHFu59eK0cm7ZkI3y7fWuFnshRMg2lAtMqU8sl0IAAEAASURBVODcM6EvPSMChQAhO8FuNqFKKGMtsIJIYimx3cHJkZv3+KML3nvnqiv/rI2WnOYtdgaR99KZcXoeefzZ595f0hDeWgB955LgYD9i8vmpDg+mz8cRXKx05peO8zJgdb0kOEzzvEXmvYXO3DRSqhCI6vouwcOlArrYjEqvS+oA2Do1K9wnFKgQV2HXD1ObHrGczFZCZ2yJglC00gtQtHeV0IHc4mQYcibZy4NlAazXtuW7P7sx0I2Bbgz8H8OAchTMBbuja3yF43Xto/GdzsreMCEWMcuCbWKsjqy1Oro4rVixuLRls12MWly6YDYh4AqX4dsqzEVig+XepnJz0/D8zrZUxogPfeECWlg3wLOPsGSN+cni36wVr7bQ+p+Flta/qV+ILmVG8LYOdNYGVnzXKck/kQv4gRyYGVQuvtAFtg/+iYDfDWY3Brox0I2BH40BeDXsDtbHJy//tJg2ACO96AJGJJDbT/g2B778ACI2KpOoi1XJFiPIA8kBpzOdzvxUxBjQ0m0gpwsIc7b9t1LtB3DR/agbA90Y6MbATxoD8G3YneX7oVAIrR1OCA9EJPwk+gXwAEyCOSt8LQ/nU0JnXcNt/Z5sVIZRFyW7atHPTpts/Ro20V+MGUKLztMFLuC3PzdRcLvB6sZANwa6MfA/xgBcDgHGhdYOD+RCgFGr/fwfV//fr8A6zliAnEzQBWuBEFD7gYY3KsN4B4OUTwy6QEDxMPDi8chB+QPVbTqPgBOASbMBCxYR1kqlI5sOkN2QdGOgGwPdGPgPYgBeB7tOJBKG7Sl9wVb+k+F7xt4gHw/WTS+sGMaZVkjY+z5MbVSGyXZhEw4Wb+FUTKX8pLGzWWFaB8Z8Xz2b3D0GDzEWi8VI+rfeYWwy/Ko/Ffg3OYR2A9SNgW4M/BQwANOGy2GQIQDgeHgUYX0/FdsDnyHAs80wmIZv0wW6w+e/40ukCisDkecvvfQSS7LZLYOqfiq4AHgg59Ma13y350GDkZ8CHXbD2I2Bbgx0Y+BHYwDzBbmlAJKy2PNvvvkmrA+p8FPhe+Q0inVzGBe58SxAM15QHQa58WujdphFAXz/wgsvJOedrfW9Ho/Nd9x4bZvQE2QtFiQCDGFuR7TbAtuEhqcblG4MdGPgv4ABK6v4RBKcccYZtAADtAl+/4XW/vNVsnkjrNutg2AyOhlTS4YlgH/A+7dRGSYscGCl13vxxRd7fSGJQ0kFdiveeKL+f75H/36NyC1GjvGjCiQxPmJQg0ry79fY/WY3Brox0I2BTRsDlukhwGB3f/7zn/nku7xzPxHWlzGnRWp3C/a0cOWT6YRkMEcgb1yIbVSGGQvUQVQN4zQjRChzn43qrVTYtMdR0CG3SGuxcosv0WjUZrkIN91XNwa6MdCNgf+LGEB3x/yw/id4OD8tD/yp8D0ABtSclkSxTaGETiadcXu8621Ntf7AbZShq6JcrqioCBlu5RaoWf/dTf2XBRjg6QIdEVK6BdimPmjd8HVjoBsD/z4GsMPkQutkdDA9uB+S4N+v8X/3TaBF6NKmFTrE9nCh0akfgGKjMqyrCgwaa5DyiSnzA3VtUo+sEcZYAjZdABddeNmk4OwGphsD3RjoxsB/CgOIKyvAMMWs6EKM/VQCQBYJwI8k4zvCmKRKcst/WAZvVIbRbbyIVMeFfWflOcLgP4Xr/3Y9gAoiANsap/RCTtGfSDDvv42c7vq7MdCNgf+TGEBlx2rhkzVFcH/Lva1I+En0FxbdZUfyhQsebg2qjcG/URnGC+DCii4QQWCMihADG6toU7sPqABsV8lZYfbDBummBn83PN0Y6MZANwZ+LAbg1dYUs6kMMHDLxn9sPf+vygM8cgsZzEVfMEUQxtaLtjGQvleGKXmPhEbzqWAYWMApCTr+F+wwml1nG2PAs392i349Mk83TC+0r5CA2ZWDmUoRFnQE/QGOE5MY1zpvXMPrhfTWLb8xBHXe12b5nW/blE+eGEStV6UtvgF4XeV1IowOhTHnHdg9+OngOjV3tvbj/7V9UVVdZwKYSjphtpj53uGmX4KBy56hY94roN32cf075pc+1tZmatBRC9Rgh6ATEnW288++2PWWPfWuC1dqce2734NVvW7qty9aCO2nrfn7PwWJOQPBVm4KdcGgX+a+BZJf6z2y75pXvvtR6Jd5HQTqz9b2fb0oVLsODKrQYr4TV7pjC7Dbt9nwm7fWh0eHuXbhs/DUAFn4zuvKRzZvWVzZEfzBjqjdf/2yVfH5L162jxQWbOvM0K561qlKvdgAjby4TpfX4rxr+qwLxjpVrXu76zuvr70sqs3vtfctVNxcB9oCbi0Zr0fha3mCrdaCp++2ctsXXuQtM5S2Kk03A2rhpym/9t2u+aJihRG39a8HiR1Z82BttTSV71wgnNNe806v28chJF0g8UV1rg95F4bXGSDqtEgQyW1QXpWohsJg8ZPLvKuedlVCma7LIKQL/sLt71aL6OIZzjOYNsKMTywzfnbV890v5lyu794u3NHQWlOML9SIYNxo2f/EA7rEwTP8mc4b1s8NHVhGsqWblQI073WaMWBHyAIGhRedJZbnrJrCwWM8YuwcCHIWCGjDEc37vCvrcIIgOx56S1TDmWRmONWy2aoL7zFfNJU6pxyPVCF/FIdGdDoafxotfpJGk8umhWXzlsbbcJnCWBqGQnmHi3yhLOFEVyZNeWHW7SFllOJeF6CKIGQ4A6ZZSG6gUrv6W1tngUN13qEWCgj1nNZDncIeh6oaAOy79JMCgtlgUq0YyPUOOOGmwR694z6d0iFthjqFdmHAgLgevQp2NSWWTbUMC+f0eHUUqzOXdHLendljFJg5v82dE9rzGQeqFZ3T4T96C3hNczorTn3hJs0ZIGnUSnrbL1qy8FjIqTTHeAInaMlxXqqtkFJmMFXV2vI0xFs69Twv5NgDI2xbBgZ1g0bZjYZRAhL+d3E0nbqkPy4z6PyryvmHypkCzAi6o0HnBCBSwOgWq1pweIB7HZhUyGK2/ewC3sCvWtSY2qPP6FZumqC/OoSJw+3MkUI06+Hoi6w6qLMvCkMsRFHMjC/kIjrkTzd1Xz01KKV1N38WvSBKGFZRO0cAyl4WOvtpMNbZx84C/Ktea3RM34WTdajFtigM2T+DLhW2s8m0a3BoJo4GnWeanvyZHomVALn6bhpSYTOmtmZDz6aDagAYTJepluEShjUHhRxDTjTKpW52QdsJmBrpRCAvGmxYXAkevWZIkfsWKgsPPw2ojCaUKTJTvyjpEu2Z1wQ/w6OOdWGASlSPWoFQ+Aeo3VAUk8KVzzIzcm6X28e08OXd/NEtdcEJH6AfnJacYC2vsA2ctMwzPEic4cUZWFk2SHIzM3iXBb9UJFRbyAEhDx6A0A5xXhwpI0kghDuy0JghJE0BIOItGlY3Lc1AhyIdIBB8GX26JQTtfNR0E8l1lRcunTkvq4/1hDEAD4AJvak5+8dEo/+Cp4B6MJZn2IQtUSmiROCZ32tHX/d5q/OMESaIvbDMfjgGtBH5ppH4f3/RyXUveAe+Xq/Xp6Gnv7mc1+vPcOq1Rl3EpFlgUAM69M1ca3uikeaWqA7y130zbQwVihMn0ykfa+JcnpSOTPNhhCOZxLBMZZCMmWzmNQhaWyu7sikJRQrH41FW0VEYQtNQGQRa+A0gLsjQ5/FmEgngTzuzjz05L8sBcy4vcxHqlrcTWvE4E6lk0M8x1hxnbYcG6OzEULWmX4LXg1QQU1YZeyIqR6xysUemua/vTohZ6NAtI3Q5iU4/xUQgaojHXJCavjtzaXcGGJiW3OFMPF7lbFJehUx1VClTjv5wih2vi3GYs7KBIZ9BZXIlBH82mKZMJp4K+kO5VNrpcetM1VwmAJcG4XknZ9l5ENhA4dCE0TRlBpMumvPALOidkODIebM06uD0Be4YHFpQySvltHNRP8C4swGOkNVXdSe99iA6w9RURg3qdS/vOB0pBp8Twtl3revEI3MiH01pnjt1xlI2yQ7ZUJemIu+rkwgSRy5j2JHQQqXmCgX9rPd35NIujy+RZzScIQmbfNrDfgCMqGYv57SqLUNjVKZqgR8qymnUmKzZdMZnDrRzOanHmUhzFh5IRv90+BH6TleKY5OcjLVoTH0x3IdWuAl/yzvsWYIpWnDl/LSacyUYaL5Tv8MZp3m6ARJpkUGkaQFjCJ/bKlO4zHwS3+Ra7z6/xY66eDTsDsZtqMjQgFh8V52MqSAx6gKH0qunhpY8OnoefVIn1afR5URvoky3aNgCSD10UGSgVzi7FmYK0THDjIB353Ueo2SzgV+fOkdR9MHyVwOh8NMJrZkpnR0xt/W26E1sHP0AeFwZV6ZzFuiRauuEysApmhEy85T3qnFnOu+CaGHvQOYH+7AGmDt6spBAT0S6YEAkrZmTyzO43jyHI2fjuQ5Un6CrhM370tm02+PkTBB4S8JJjZCIy+3hfMmIz+/RoDnd0BsMgWO8mAt5RwYfWDKdSwOvVBNUX3h7GtFHf8UTOFrZTATTNB1R9AjFSp3y5jLJtN8RRi6k3JL9gA0OEEgaEQlXxonM9TxLkSACt5dv7mQiq/nLeVvCGD1i1oB6UTQ4ydBHOFYqXRQsgm9lMiT6uRPZZJ5aoHxz9pgByaW38iTJpzknWnwgC41rB3YEmBBG9YAKL5HaZ8caoNBQxNnsGmeP13XscZMaGpoCofAPnB8m8trULjBhptN6cKFZeN0uDScZhh6YSs7n8XE6jDmWWWwatPiyUBLvaiBFSJpV4kc8YtrYkRbLcqI6axQZUS7DaHRCGiE0IdikXyqnk0UJ0K2ZpQyP/lSYeQXJIHM8qVTM74PpeeOJBJ8ZZB7aFUUMB9QUMIozhGLGxgEDc7kDHC2QyWr5w8SDD+Zw0TzsO5vFdM5kUyyNAPJkKk43rU1tOYWhVtEQ0JrKDdPRtOGmzlQVfzSTFXOVO+ZDxGov8GAu0CCYOKabuQc3N6Rsq+KR7ChTsnCHV2xHxHMlwOAYuCbi1MFPmgUDwgecE46d1/r3ZCYqW5Pz61JZtyvEjIdj8DCdiPgwnxGUoA2CZRtqBsnwKVqBjo14EDeEeamfBnI+uGMe6YvadSYtSI48u3cGUAfVL7DtTFoZJnQVTokVh1JheJDGnzmsskxFahKfpC9GhrldqEFZZIdcFnAc2KLHm8zI/8xr655Xa8cCRZUxzyRSjJUXwaPVKz6vJ+jR7jj5jNEDKEkvwL9RejQi3NEYwTeln2oc3WIfDCBCDyEknQnuqEHXKKnXGhEzvpynRD1CW0GGadwtm6Bo5xhBkpJhfDpzkDFNiyuZpaHiznqZGgxCVNN6VyehrHeTH+a+eQWw9ScZxk0QbvUYyghO/qFVy79s74zU545UJY/oB1mgE26NpoUMA7eQlDnVV5zR6nzmFHgRbybryqdcTpisEXg0kBFW8mgUohADJtJFZGyQK5hEnzwoPFUROxcsfuwcX0eGUaN6oRoN8CLVggQV2QKSQbiqAVpVZ/QkqXFcwjCLl7CQBAyFM3hZJCHE8emsinDgMXSSwrZ2oWzAHHymLWwy+Ew+kaKYpIHLx1ykJy5fNhprK3YXY5knkCtkF2ZAk6YMvAj3ABTCUl/YFJwd/YlJByyF2WE4g+07soRIWFgnsKSzzjST0ZXyUUnKnWQ8bB8hJ40i9p96mvUgF2F67F+RStIhrzfI/JWDoDBDJcNoCBihYUCVjCRtJMMXv2QSqh93pFHAUaWX0HVQoHXKclM5KYqSyJu5NLc8eNKgczePNYLqukW1RS2VgEFEITv0wgmR8HScuel0bHR5gKUBjcumcNGBrgtioTvqkaYHuAA52VQm7fX7nGyk5fHBethIxFCMyBf8wg3FEFWF+gV+IC8+OUdM00fkZ+7bySx9mbFRaS6x2nQ6EYeh6MxPs9m/TfHUK2JAZnoYqLghHoxJwZB0dHTgLGPIA74gL6iu71y04pGFp80b0xk2lg4x9gG/N5tJpfIZlw+1LE3NDC0KlN8XlBKkNsS79SewC5PWcArNHCZtVzt0rYsCuG9UxcJT8TtjjuhFy9b1mp5qHqomqrK9k9prfhba1TORmRVgIntzp/BhuINEOnol3DmWinG8nN+LaEEOMF3EQSF1mJXPX+Ry+xOxOHPSvKV6oF3+xN3UR4bNjJGpW+RuvtApIwb0g2K8BIT6M0/NW4KKYtyk7Lo4Me8UukPHTT2iJfuqxlFVUW82h3cXxsX7zrwXl4zOZ0AXkeFiSpsPy5ggDsxo6Rxaiclo8onCAdcwcJi6DXKpDYCpoXCpg3bSFqgO4PlLZ5IerxdJFo0l+O32+ASS2KIDTVs81ym6BVRuUiFskDqhJpG9wYiANENssMHLklz2FbgNEsW+y+uiYdWtS/0WBvS37mXvULGp25bUAJnL4gMwu1rUbdNLPZIUEU0K1M7LeGhN3y22bXOAIQDMfd7k0jiDfv6XVOBhAVc8MgUs4HKuuqQBiDkaeoZjSm3XJRSJnOyvDfplbpoC+kZttkJblk8RlW7K8rAtGoAEjy1T+MfgpzDJBWjn+ApiEa2IkHv8oaMIJagUWt7DK0x/R8DPvnduThWBY2BzY3EjqSEh2mGmhPxF3EqgHnk5bQN2lIQhwC58fgwp3kJuYYRh+qR4hf7b1nm5ExW0B0Vl/CZ3IeBDdLmx3oBIbnzTa4bJ9B97CyMMLAtkWf8OTyKeSacyfk5sgWkqaqOSpr8aVjPoupNKxvGG4d9jImBgoXfx1UwrIV/l6btxkuoV+pVFctEPcWIMTQrL91gYJsl7VboOzTD7EFrML7gxD5hitAU/VKmNXFLQNrELXDA8DE2BgKyURlmAr8Mc4YqKc+XQ49BSKCWfeB4OaMgMIsoKQUxyr54yeFKg0g4X68MYT6rpJMv1uw2acAMWl5REIx287YW+sPVgBwaSQlkNEm0ZAQOn8/nzmTRcG0WcFJJYoiPoQzEB3ZrnkIX5NGwC4HPS3/Ee4hCFTKE1XhFFux3RVDRIwiciGdi0qwq1ibBMowVNkzqtEOKmulXwNBbgEukIKk0G88n9wqjD4PjhEisUidN9KzmEZIDSUz5VvpOwqBzasoShd4V/ZpowafiFMcLELNTTjAMlK4MrMev0eor95Zk4J4hjG2NrZukd6kYiFXN5AvgUQqFi1DcApU4zWBpoKhFMuPKozMgR4FcXJHfFU8wImv5qWPHq6BVqYMRRabllqjKdzcs3Ap/T3Cl0X7zePOMjI82eIVGXTe8M/UBRjIHXBY9IefzMdqabumw5C/0wJrvwYDHJ9ETPCLHuMhnX4CFseFGbI1BEpUDUWkxKixJ2wbk6qK4L7dRPII2fJJEhPtH1/YEQ9afTKaJqlGJ8VZ/ULF4TxYojUN5MDWOsqiudFyPbaSF13hKpi6HoXYMNg8wCuuzYCRRz2TIWOoMte9twFtgQv4jTCavEdVSh7GTdVddEV3wVLzTSBUDt5DWNFtqz9Ulroe/qC2jRiFMWlZsKVUBaiEGyxlcTDeC5bUQBbXCTF1DfGTHgJ8KEZxreBhUJ4XSWCjVG6pQmoPDIZQnJViUSEia5zDd9rHsh5gsoKQCurqmsQOLPAAj9C1Thn1uKYJoKJa8EjEpRLz8ImeKdI4wVj2fCfl8+FU1EE85QAH0JWweDHlbgwtxHMMTTbp/EXjql7DkoI5lIF/kQWBj6DsQYUwrcpbOFpU0QJwDQukdYkm8BDxTTlu5LU+Zrll1z8+5AkK+JZM7rwylt4aW1tb2mlkw+lRF2mQK+UMCXSiQ9UA4mmkMxGnis0GWGBpzTVkm4iJR9p59AtzMlcqVVXBpCEx/8dc038G+azPtDQaUApJNiDBi1OR8uLhIEVa/QChQSycxcg2QXVoHfzbIuBWu8Hm9ba8RHR0wMQc1859rkZBj9sJfFiOkVN0gRVdAIae7yuhUQEAGJv0MrXCBL9IV92sXzdVskpXrAjqwCFeEu/5qX9IjL8Gj8QhBQNhmVHML5nMWdjcOaA2w8BbJmBnbyJrEDCJTRwnngdvsyyoHMhcNhQieIPYFGjMQMDG0YWQSwmXQygx6GJgLNoGuIEKGDRNrjk9KB0Z0hcpt3pZPJYCgUT9njtzXLdSGBIFS0FHWW3uquZBL/0poe6Ka+mmf85qIMzgf1WFFUfeWbcKeSQpoYpqSf0AJVqk4oSrKEbkhTECEKafyb0rv8qzrklye3wu1I+5AMjqw/FI4lCITlifDRjLZGkWssRY+Kw6XtMU7wKco74twVOAXYNAz6D60Da0ijqUwHvhs40Nv0SDaugcfcFjRSIgSnxs3Apn+kMQgwvpjb4EpzQzeEInXIYE918j+/hXyhgHYVDkgF4R3pGBqS01Pk8QWYcwZ5tjwQwqJAk4Sc3x/E4gRX0qjSKVwCmON5RdENmm1bazkFNdBDCcwChoHRRdBC2jGcIw2zUVzdlTWH/in3hYqASexAEUOhhBpUByMhzd74wFUKTMiXy2ODN2DnKz/Er9RzIYS+CnIJUzOaKsNt1WkqVkH9sJf5Wvitu9A41fOOUWIoSV2MPrJZ+OXS2FFOX423B0I3NXKTO6pJljgd5AfjhtARr9d/jAcqm4XUBFz1AywBsXlP1oDKUVBkowoEieV7fKfrkvC6yTz3EGvim6BVDXrML1rUP52N6F0ujZ0pqXbUPVMnFC264k9ij7pNNbYHvACZ66YFXnf1HgyJT3tTL3Of/0W5wI7rhe0hmEnKgID88NcFAxHCp4HipJQ59BrEQByfkj+AXMQpw/TXKGFLFYWD3kyc7Rl8vrCcsAbZ2FWKKInZgEZVoAY7O6umlcHhwi0e8nkIryZo3ukhNzuVTXBbQ0F36Z5eEW6Yj3AjmvYFilPxVCKFTPKgkiJZcw68nQyc4n/GI43Mor1cLNqBlE1nsApQGekiCSBpqNdAgg5gZoHq1x/cwuX2RtFrPfkA4QR6zfRyeuQbFBHzklBlIOeL7sDb8LUGPMSM4ghkFOROO8yOnfC+wbXRBxuU+1/8CY8CKguYuKf5wxRHX3YhyEE0y9YYAh0Hw5hJoEGp0heY8VliqObC20zAw0PwE4UXiZL3Eik3jmzrXVF5EQx2EZqe04UXEaUdMwoPkfy2eW8KueKDWcsFZ2wXniOPAIzBx8hAu4H9o4d4pcXIDR1jDK1aCgiG+3d1RBt/sdABJR+fgHhfUkuwoZCgL+R3+sl/ZQahLjHYwaA3GovwUNOAjlEORZU0S/3B59G6EBGat3ibPHSa53oE9SqPiUdKXzAXuo15QYKK7+YReR+KJkF16G/4TMmLNI/oud5SppzqN1VpKLIKEsEB0Q5UM/ap1yV/tziM9Ol8BifhtoN3fO/Dz1E7815/gsQOJLsrQ4As4M20t9bvssuw997/GCavuLRqNksd1Jy8XRZUAdf1zX4x8BilG5DgaOoypVRM42ELYQmZP/WuAHThX4NAA6TekjMHBEnHBAB1X58Sqqj0OY/fF+noCPj8J5544uVXXZ1I0QfMclVq/mGYhWe6z0jxKkwEFRG+gAGNccksB2mUNlBQsHABJCPHRT8VEnB5lbLhcCorKRXHJxBXcNftDYaQZx6UaNniwj/lSNLwFMaCnptKhAIvZrqp3bA1t7JRQIvBDLdpjT9F/YhD0VaBJPAqipBQp8yrBqe8Ir5mau6CnJ/cNBWqJFUZYuC5HTLzuh24ThoTIy3Uat7gqQroAtGSSWAdjmXegp6hWDt2uqn6aVPlIWxKKnxGtBTWSGfUAXXdgg3segTvM5VjgvCDMeCpKhSJIj5AkWizMByd/eUNypi+6uVCr4HA3Bd8ps7OD36pv12XRYjpi3CyTk2FIgZIoZd21S9AAw0KaikpzCtWHMccicUzI8fu//a7H+ecPjknMKQwtrxEyxLE/IjyE+sCfNTZVCyqOYYXLkNMCGpkngtdqJZY8BoVMxdo3sJugDVugWwqQIWpuLx2aFe+AC/jTAB4Ax4ggm0hXM4PR9aHbh2LbLfttu9/tFBge7xxaBFNFLwKjaInPruuQIA3CLiISJC9KbQLJzERERgji6fTzBSDBINv6NlvvY2IPRQLpg7szOvXSNEbM3rAYsjeTGp4umGS4I0vHvjs/2SN8/+i3PqhpoxihlKfe+uN+WVlldU9q/v3G9jU0mZCnehokkFGtIBqEMT3rouhl/1rnsJCJIGkjugy0kWFkYdSNmUYQRBk1cU69hy7d2N9oylmayvUKbFn7hr9L93W0rLrbqPhzohWpJE/4MWcgpsZ3U78gaaRFFYnQTLGkylGj0R0mkSXwQs3a8ZDVSVle40ZC2EqUsqF0W1UDzqloHEhbgy0aEZilWI80K3awNI3aqDgZ2ZL3gEdjVqMUYxL06/QZXFu3ZHXBajUd2gZ3szsVxhAOEET4pM/sIqbKCObUZe5aTiEmIQqpJzUBYj7kUfmDR2y4847DcdyiyZjoaIwOpQjk1Q6VzYzd86cHXfaZfsddwATci4aIBkmfHK0oqq5I01W/dIdGZf6bQA30oHJpKAcT3UxDfiqPhoVjjsSsAZ4XjQlVBVVUJLabCuUV0O2j3qXvlMGFQZBQZJhOhTWUkr8JG4FXCnZdWkgcOSoOYZBamuOAkytZDp7/30P9O7Rc69RozQ8BmY1rI7YMeJfjYAFwqCyAAPpP+ed94c+vXpefsXURCoO65I4l6WlAtTGn8GVxQDDYYZIgwkZ0wKP5cdTJwwa1T/zroZfl1ozo1z43qmBqWudr/CyAYpb5hJuoa5CAYsENWE6p6ZNE0brg8wsDgUPgCP9KFnoqEBRFhWvSgyJTFUpmMySJmMnrJV13LUkQadM6/ZTs0aNFYjNQid4aIBi3Dd0iDKGJ4n7NG1CBioghFOSGja4uAMUgmT9S6CBeYBc777FJ9UBsBlcPdUkUrdUiQhVo6SnTEYqsJfagTt3xGOoDYiSfC7p9bDjXXrG7Me22GLwDjuOYCIw15nyUBFONp+fnH30O6oT1YLGYMAXaWvfaacdqiurK8rLr/zLXwkrk5efTKZRhTOZpOhBbhJIC2iMbmBGH/mXyyQennFfWWnpXnvsQao8zmq/UbwMngWjGQsbflaO5rw5j22/3Q477TyMmRBLJkJFQQjSYkkoEKp5SyjlXxx9O+ywfXVFdWVFxSVTL8+7/KgdLtiaI4NXxtgRsiiYKMIFQ0UQJaWYH4zi/gfuqe7RY4+xexH842FhxnTSIm3wlcvGw3iFS+4uE3hWbRu5BNkmddHrdeBhgAo/V61cfsIJJ3z++SfNLS3z33jz3XffJyeQcBTeDHBB5iWJK2iyOfl2vFjbGKnCvcYZUxir1JvFe2s4GiORImcHk4LpYyhJfi/mjPZ4ThPVx1WLdeUnVzCdFHFr9xNRqLIcGRZpeiiAxMwUk1H2FLo62nwqI08aeVbQL+wa8k4n0K28pgvSOHzBBB4dky8A0wx4PJOPOnLhuwt6FJXgiULBJ70Dfsp0wCIHeLQzTy6zesU3hxxysGEtsDVCEbhxtAQEsnVmU6tXLj94wkSyiBwub1qFZC2hvhl5rtNQlQiIds8KrpwrTc1OlsGLRUNw/KHmiVCgAkLNIBMzn2kBUcrkynizCRazeDDbMtiaGByk7PnBAF50BC68nGqisey1197yu7POVaooC1xIs8rLS87MJfZBldfdcDPnGBEKlPdI017ZVmTQAhZNG2TKkCVyIHc/kcs8rglUQQBDBfRiBoILZrbGmbGk10Y1M1xSh+kwLtw0ZQyHMn2mOBBwSTPQceRMeL3NfYgETUVZoOSIYsaAcDEoySQIb+bsOX847zzZBMxCbE76mgPb6ZXLlhxy4DiGlclKtyAeAMNdP2nSpM8/+qi6rJRoulxG9BBoYGiQHjWIxdCg8o8Yfw0GNq2HTEilel1zzTXXX/tXjyMtCskrgi0QqJaMNjg7v/A/iXjlqoGQ8SQgrmEQwpoj5SJL2ziTjfeRMecdvBCgirbQ6Ml0TebyrCui+/BFHJnQj3JVuOSZpx9ygEoltyRtkQllyCMEGgVPhvUDjCa6Fe863WQbyTZ0MMRkKpAVTITSGcCwx+2kwSW8ojgH7/I4n0tj3/jSxH+wENw4bOO4l1cv/3bCQeMBXMSMtZnzE8WnaWM+QUMpyDeHu482MxCSJhRST5akiFnjwWW4PygR79bMhJac6W8Wf3HIIYeQIAPKaN30WoRDR/RDSOC7cUEau4s7VKXuM0dAk3mHO8xnvHkUtTKGQVRWBvOHXuE6E2mJQTuzWE6SZya5jKHRcgCApirZRtCeNDbUW7qe5Ek0lrrhxtvOPvt3kEkuhYaHkIZIdFwWjTIomtAaacxJRiYdCPk//uzjlualt9z8lzRiEHaSZaekIAEOD2h1ZL5Z/OVBh4zHNJcKy3TEWUBePmaMK3vscUd+8MEbFSVFOF2CyNEMI0TkFZPKB5cQRyDrER+VyxGPZa7/281n/Pq3AoBQFeSYipJ7wnfFyZhrEje4DHBlCZmBUPCTTxa2NH5787TrMNJSOVokfCCWkkvHXLnkqpXL4EgQGz1R4pMsLSM4HdkTTzh+4YcLykqKuMsYC/EG/9Qsl6vZF9DetGikOdbTCdWmBr587wXcm+Cl+bPBtWLFiv59+5WUFNPhLbfceq+99mLWsp0UxbDZA4EwI5NJmIR4uLDJ7wIFOjVGaeuiLT/eGQdJo9CJKxwq0RClCGCCO6a1l1eiibgv4CZHDS1J/DaZZmETE5OJJB1BkgC6E6cgXiYWgLNb1r0jGY8g0ux8Y1GHy+vLppPIAR/aOrk+hgEgY2R3I/usS8Ns5QVz9sC1c4mgzxvtiPt8IeSE00FCLEkQ2aIApp0zr6qYTRC8MwW1o7sx5FnewkfBQo24rECzTBKnFG2JH8PT6QUp3whVYCYXMk7ef8DtJd+dhFpl8wMZK6uLggEUQJynaZLjg2EmLrIELUwiOZ1C7jHDPHmcuAEmrMcbQn8igUVP8dTDSjPZWXOf2G7oLjsP3Ym4ocgWuUoSBxAhhTK5mXPnbbv9TjsP3xkHCKwXQsfagDcR1dWebigOsHt84y5/PIb8kytV/FESlAkj1gmGiTbyHk4Xnxepo7WiyokyyiFiQ/SNE58uw5LSJG5IABF1zGDPqmMoJdrwE2JgfR7cgfOD/GQCgn96m+cbKzQKPndNOEBgbQAcnAbAkhQheQFTySgBM+rXCkVKkbLs8QM+pMIznvt9rkikrcBzGVUhHtZHXFWagt8LRWXEttzuGKPoxpeC1Q4xJkOQYCrBB/moxnPjxZMpQQG6cMKwApJuMOzQaQoxGYS8qBayDdIAVcgBQJorGKcFWTJB4u3ZRC4VD5EubVQwum92rSE7GWkqns6rYE6tmEPrLY+g+0wN+RIQLHKUo4h5wDDEHPAHIY1kQlm7SAGA4SZxC0qSmoR9gGSlMtgYSWqMPO8yRh4PO45n5XFiIDKZYBhHlDufTqC9QdJMBKICjCV90ADlUplEVI5aQkdcICgQTEAAWDJE+HFJoW4YV5vmTIpc8GAKS97po2VKIx2DAfKVSRBHIOHKZqKZtbpizUI7tWARoAnBbxW1NtyTLvMUUS2aNCFqc9Kv2ZbI6cLooSPGNFUNzC/uQJEQIW94SedjkQwzAgUxGfPjSlOGegCGRHXkFEKvyBtahL2zouvxJ5/dastBw4fthHsD9ZtwgpbMsd7ZF4BNSdFCY0MnVsaHl/CwxDI6NOskyWND7cMXyLSQriDTMJ9JFgUgQm9Sag79ZXAVKYMb0hF0J7zVPhPnID+EaIG4lyfEeguXDzUUgkSSMiqpGTMf3W6HEcOHjwAJZMl73bmAkyVL7eo4K2URmz4fn7TJ0HOL1qEpeIoYn9WpIAlwkgb/UAsRPlZq4+JVKjyODQZXeY8KOeYzqRieSzgDNXhhRyaXB5hBFMTA/AZdvPVjL8G0yV5MS3vBl3feecfa2lXTbrgRQoFEwoEgw7L4qy/6bzaQZMKq6t7NjS3enHvkTiNOPe3Myqqaffbae+7sOQwYSunrb/5zrz3HJKINy775tP/mfUvLyksrKluaWrLx5O7Dhp1x6uk1vfuuXFPnCnijGSwlcR4U2Xw8tetOu0y76bbyiqrK8rLrrrkyk40hxr5avHTLrbetqOx/7bV/g+4Y29Kg79sli/oP2Ky0vLJv/4HLli8/9phJ1/zlamb6P//5z7323v8fr84fNXaP9o6YEoQA3+QXsa+ZkvdcWbjEfff+ffDgwaUlVb17Dpw75+lkQpIVCpt4yIG77DLylddeLi3jv/KeNb12HzWGuQ3VxqKRX046ZrcRo1+dP7+yvLKqvLKivPKAAw5A2YRzXXrJn0qKiy+//PKHH7p/2222rqnu1aOy57Rpd5J14QgEmZoo9SsWf7H/HmOqykr79KkZvtvIcQeNnzX3kTRrXbRMTqbeh++8u82ALftU9130+WJYdjLrSGJtyl8KN0jCU3Kp7N+m3Xry6b8J+WGu2BIZKcZQv5YwOxLp9F+uv/Wk08+CnrEbZFikMwve+WdFRXVRccXzzz//4ov/2Gqzrasqa06dcjoaBZAv/fqriy44t2+/XtU9q6oqe5x11tltHRF/MACvOezQw8vpZlXPx5540rL1d956q6ysoqK0/JhJk3ibmUP4GpGYTiUS6ZTMagkSIOKWrJwHH35oq6226FlTs+uwnT58/93tttuxsqrXwzNnITza2lp23XV4eXlNaWnVJZdNhSfA43iFT9j9EYdN3H23/V999dWKHhXVVRVlFSUjdx2dTFHCKKc5TGrHQ9Pv2XHHocXFpb17DXjs0ae1GUs2/dBD08srqsfssQ9aDsz9gXvu5u1e/Td/+6NPUtqlxcE6HhIiF7z6ymb9+gWKinrU9L1h2k3BUFFHKnHvQ9Mh1FGjx4p5OpwP3Xtv7+petP32gvfgZhLz6XTdspUTJ/48HC4tKSvba6+9Dz54/LxHH8mkopwdyNhcdvFF1T3Kyysqi0tKJx52xCefL1YQz4fsTH7w3oKKssrK8qo5j8154403Nus/oLysdMqUKW3RNpg93HnFsm8mTJhQWlLCX011z8suveTwnx8Kc7Q4Wb2ydsL4iRWleLkq99133wULFjBArHt9b8G7VWXVA/v3e+fd98YddDDw96yueWzuY5Cr2H42NWHCQcOGjX71tZfLysorS8pranqPGbu318+iFAYpWRoMXDX1kvJSxr6mtKLigAMnfPrl0nTOE0/lFvzz7YryUN+qkoUfvjt+/ISKqioqePzJZ+D4SCXo4dijjhg2dPdXX32lV3UNMwW62GPfvRk8Hql10q4y6BlYp9KNvJ6A1+MHIMnODOqdc83qlRMOObS0tLykpIz+XnrpZYcddpjprwz0VatWjR8/vqi4rFeffqNHjX3//fcRMwveer1Hec+xY/c8//zz+/aqOeO0KS+/9NLAgQN79er1yCOPQP+ozCVFRVi0IAe95K/XXPu7P5wDfXodSXc29ul771SXVW7ed+DCDz89ZMIvynv07lnTd9acefAesnw8fqZbzhPwM5VQToyrAEENQ7QcO3/sUUfuuMOI+a+80rNnTWl5eVll2T777IM0JY0qlkgi0ZXCS8w1m5r50AOllaUllTCA/u8t/EyyUEZjIuRRHv+Nt95zIjMUEsuj1Gbee+OV6vLKbbcYuPCjD8ZPPLSsR3VZVc+nnn4OLRldAfmPkESIIZTQn6nHWFj6YPIiBSceesiwYXu/8tobUBeU16dXr7322RsBzOyWEgl8rrwf5T7vnH7fQ6XFFdXVNb17937jrbcogC8CI6+L51Pnv3htojIMArAdQGlEgIEkNuH/BCN24cLqyqp58+ZBmql49JeTjnps3rzmSPus2bP/fve96XiCNL++A/rXNTdedcXUp598DKUAW+n5F1/69a/PRjE7+sgj5jz6SF1Ly+PznrznrntAJa9sNmDg6jW1VTXVpOe7AwyVvIXSz9Gn4qkPFy6sb25+/umnbrn+ukhLSyzecdBBB1973Y1r6lf2GzBw1YqVKNfR1qbJk46aOWd2WzQ+Y9ZMrvvvv3fWjJlr1tT94fwLHpw5OxAqcbr9sA+WhkCUPgwb+ai08Qxq78cLP/z7vfe8/PIrrU2tM2bMOu/cC75e+g2eTPJjH3t0zqJPFowdM7Y9Em1tjdTVNbz62nwrxcvLyx944L4F77y+59g9m1p5ta2xqem5557jKdeVV155/Q03vPnmm2+8+eZHn3zc0ti0ZnUdDP26666Poebjbs2mjvz54aecdGKkrXX58uVPPPEECiaqK3iVuSm0w8gxJXCZQF6kdpByYleEyJcaDPmjHbFZM+dssc2gXUeO1NISFH/M34zYK2YIqu4jjz+1+Vbbjh4zJoWTwY2opmLPLrvs0tK65tdnnXLueedcdunUW2+9tbmxGY8chm8mmenfd8DZZ/922TfLamtrG+tri4uLJx56eAxhmMnNeWQuEvq1V1899NBDkSsgcNSoUe+++87uo8c8/PBMAMZHkkklxJxkb6HXyUuDtSwvnMv50EMz/vnWux9+uJBqn37yib/+5eq6NfXPvfDS0UcfDQ8kp/Sdd95pblpxy83XwJ7oMZ5Mpclhmjjzc+fOfe+dF2BekdZoc3NzpC3y2huvY14gEIyd5353wdu33nHrCy8+19TYQkPnnXf+kiVfM2mPO2bSxx9BsRWhYAD/0XHHHbemvvGAnx2IKkA6Iju2sBThrdden3bj9W/Mf72jPQp4C95ecPWVV0EsRx076f2PPigvKwEG+jZ58nGRtuZx4w5ibxqEH4yVqTvx4IMmT57c2hHBwT5zxmxYNA+wYzB0Zjz8cGN9w0fvfxBpR1trOut3vz3/j39cXd/IWNLBnXfeqbFxzZQzTvzrX/9y4YXnT5s2ramh6aSTTkL9AGmowwiwU089lWrb29rratf0qqluaqgHmSgEH7z7wWmnnT571iNNTc0d7ZHnnn36heeemzN3Fm6u3UaMXLPsm749e42fcMiJp5za1NL86KOPnnvOH75a9AWNUjPM/bNP39lz1B682NwWqa2re+2N11D7szk8KM77776raU3jJws/qFvT2NzScfbvz/n9BRfwFUSNHDmiacWyAX167bP/fidMOaWhsYmaL7zwws8/XwQqsBpnz5j5ycLX99pj7xWra1ub21tb21568R9QhawcEy8wa3jJ9MOB5kun8mSiIsCs0Uly4JFHHnHyySe3trbT3zVr1tTU1DSBK3hHLv/eex+cduoZs2fNbWyor69vfOWVV5hls2Y+PGL4Lh988CZzp6ykfOXyb5ob6y674orHn3h69sxZZ511FjpMLM7mB3HUVuzF2XMeHzR4CPEt0jVY74RJsuuIYc2rVleWVOy3/wEnnnJaY2sbjOKSS6Z+9cVihG4kFmfpDhiTT8VclrlD9lywx5kzZ3z88YI99t535eo1bc1tzP+XXnoJsvf7wpCuljYTAGAe57O9+/babffRb7z97qqGRiLTvA7xMZ8RYPMee2qLQUN2Hr4bLgwfqwBcrt1H7Nq4/Kuq4uL99t7vxJNOqW9qmv3I3PPOO+/TTz9likN7alxOWfgzDIMGuSGYsFOxuefMnfvpJ2+PHbNnpK2prbkZTM6fPx8kAxLDpKa1J5HSgPv06Tdq9B7Mo9q62l2GD+N1CsSi/44dhg9sU7us9EIzQ5HRdztsfKGTc2bNWLKsdsw+E/LJ5N47Dqxbs2rf/fbRgjBn8fh99vV7T8Da/dmB49KZ6K67Df3D7z9qaqoPlVR88+3qP/7horpV3zbUth6w7ziHC4biO2zcAbzm9/j33e+ARDJNcITRMX5wuZ6w9fPpNNzw5NNOxy0ybOjQgb17f7P069KqmiHbbzd2zz1w4Bx+xC9uvG4GruL6lSvrV64+YNzPsqQXe5wHjftZwOu76cZpQ4YMvfWuv/fuM6BH383/8fIrhJEww6R+p+WjUC6PLOjgzruMvO2+B0MlZazh3nvPMXvuuVtbW0POVSUNk2RWiT0PshhNxRfw4yzBUYFvJxprJ5cR5xiuJvZfhH1pLyunH7OehE0sPCRlWVnZdTfdQqKqJ8cKgPyUE341ao+xxx17ZL+aCvLeQSl8B49ZOBjEafTs088oAuyIGMOfxJP0zrvutnT5ig5vaVRBuBQhLVQtHHGoljhzSIK98abbb/r7g6xgIWSNIocvg1Q6ojuxWBSx9+drbrjtntk4E5DYip1kcRTJ8YsWh0PvmGOOuvT8KwmZ4IrYbdTuZIYi+FAdelb1RX8I+PB15E8/bcqHv/mD0xlkOwtXPj3uwH2WLv180JCtjp/8S+Y/ZlxLc3S3kWMTCTbo8rtdadTPRNTpDdMp4a0Is8M0nUhmbpp225NPPBMqKmcvbMzqm264fvR+x+JMw93BVo/MQxNjkM0Wj8eRXbjIwjiPnN50vF0uMo+PmCv+SWYgWiwp+Dhq4fXFPi3AHDZ817/PeNgbDnn8wX333Xv33XePRCLE7fAuscsCJdiKzBdEZWG7BTJHWJDgDZIzlk3DYdui0Refe56F7rin+tb0mnHf9BGjR0yaclRVdSXyBGcDS3bgv7CKWCpJW8kEoUQy3zzxSBuCoTgU5iYsoFfvnuh2fnyWyaaOWPzmG2554olnKnv1kC/H4wEqV7j8N785c9YDd+KWJlUsmVXq2kEHHXTFhZcTXqGS4cOHZ/1I/fTUqZdghWBgAS9uA/ZMOumEX02ZchKOIJjjjdffPPXSq4uLKlmgjZ0TCvgnH3f0mWeeedghE1H7AnQkkb7+xpvGjT8Yf+XosWN2H7lbMk7eHYEThXJj8SRKaTqhXSRQAzI4ypxsykHwN3H3bXfNnDOv1xZbxchhy7v23nf/TKDozLPPevzB+6BysBmPtd921z3jJhzizjjHjh2767BhqVisKBDMJJoh2nhS7mF/OAD1My8U1GWo6L/CRZhjWGU5bNqkcqAwRtABoOdcIBj404UX7bPvXvsd8DPsDDnhPZ6TTjjxlJNPIfCJKXbDDTdcetlUXOi4MjGIcDZOOvKoP53/u+N/MQ5ddMehO11wwQWBXPtWW26xzY412+2w46olSysryhqaGnr36on+ROppNu/52/W33nn3bIiH8TS+f3yqbAGQJQF12k23HDB+PAm+e+6918jhIxIdEbRGfANMtHikVUF+yQz+4E/igjI74HgOJ2SP5leE7xidi65KrwP8TNDjj0eacQ2i/UydOvUfr81//LkX88VFbPQFxyBnsTgQIJQQS7n/cu1NN979IOjB1UnsX555kMTvXO6Ou+49ePwEMDRmzzHEAuId0ZA/lE5GkXOUFiBiztiIoAyDTOsiFN1jrTQO5zxUz70kOfIIsJCXdZeEn3FxkyqSg/Cuvv6vTz3/wuPPzCsuCWk5FG8qcMi2DwHUGVX+Y65NTYYVOmBEu9CjC4yR2oR9zVLiXH6zzTa7+OKLn3rqiQN2Obs46Hv5/QXlvQb6HcWgLRtr9fmDcbY9DPgcHanf/fY399x5V+/+2wwatG1RUQnL3IvC4S8XflbWo5efAE9bmzMTQUFgSEh7zbviuXSCmD3qe6wjyij6bBhMUWUccI5sAgMFPy/bKqbD4WBcokVBCAYp7A+UhkOvfvxpUc8+zB52mEGIaD2EAg/qgeIrMGX4dKK9iAXU9nwB8v3dHtL4I/FEUWkJfBMxQBoGS44oQLVFwVAm2qFGkeN5J+EF/DGsYZNGmc4H/H4PbIg4DJseQVkQB9lEBJfIQKA5bElnftvtt4VbRnHiy/x3FHu9gzYf2NjY2K93Zbik5MZbbjvqmFMbjj8h684M2HrgCcf+5ozTzkTyIdXwgKP8Gg6QZucbcoOIzKUJdLE7pTSmVMAfvmf6jM223H7I0B0UH8xECekxLbB4AAWz5s77Ht56m6E77TgM3zhE7pE/jHnINMO9Q6qLa/A2W2Ga4NTM5ukvcTCScvPLv1lx3oV/evr5F9BUsSm22GpzZ3EfbcuGPuPKDRgwAHNnl2HDOiJtfQcMfPeD9x974tmhw4YF2B0nEUdQM4d8BCFYdBwA2x42LQJ25nX9mrqaml49e/bJOVP5PELLWVVRifzAFKa/LJHBKmXCZ1OkexGBYfJ7AgGERMQb0iZyxNfAP6Ev8jhwHaN4hPz+WCruE/cgEUarbf3BoMNLgn6bT3vNKZkKKQ4QSC7itKFwIKEMCA9iCXmjlA9CmylCHb5xB070+DlknKQQsjZ4NbfdNtssW7asskcFumsItyacT7nyiDOnl0AiqKS/aRR837Sbp0087qTGSZPp7JZbbzXpuMmnnX5SyOdfuWJNbV3LttvvwnIGeEQ6r42w4O5bDxkKfhyZuMK6IhDH9kMGQ8ksJ+KKpYiiZaAu1KVBQwYDvCYfoGKLYuQmE5i/iY7U4q+W9h+wOaYxES+FN1z53jXVDXV1ra2tfaurk21tYV8IDxLEHU/Gg/LoEh5lmnCiVQjvvbKd4GQ5bSaEpEGqoQWiG61Ztap2df0OO+7UBrXTZZJcIB2Pb/COOyCA4MuORLSoqGzXkaOIQrLvoIxC4j1ena/kxxeGRsgNoqcpvLi4DRkndC1lMxGI4T9QSBSVFVPofAqtkgeWjrKwV/w7nRwxcjfEFTKQwJrCAzSQJGXDEeuIf7l4ab+Bm3n9AVb14JwO+4L9etV8s2RpY1M9y2mgItbJFPnlOoYhSIqyM7BNT5B/jl2oXA8+9PiQIcMHDxoCrrxEvqPtRUgRGs6iAQR3HzOWcUVHZJcEkkC0BohQay4BFyoOFmEziR5NDImJBGQQOX822scgZhLQDKTIxHOk8mlSBEAmewZhMy1Y8F59c7L3wAG+4mCMd9DsMkk/2SGEAxyuh2bP23bn4cYGIkcY7cRNkN3jZPe7dDBQstvuY/A8O3MJGBIaVDDgl+UqZOKWt2JMNMtsVkYMojOXKwoV5+Id+Gk11bWSmbAcctOTZs9Gn7YhDhhj6/PPP21oi/fqt1lZWVUi3S69lrQU6etQA3RqmT49/FcvYWOTugpyy8BkxD3fBORHHy8ktsRMYyXgs88+O2TQ4D69a5Dt993zADEseg/XQMKxuAH9NwXW/IERw3Z9+7V3Xnjq+SlTpiRSHT37lBFFvuuO21CxtaY1HALvsAeydZjG3BFvIUCddWJFMb0VtmUXsxSrj+VBxnfE8qbqmr7Lln/91JOPcRNvxvIVK3ATV5RXkSp99513UAxezNgjgX5z+ilfffL+DX+9uqmxHj/V6LF7t8UTbn+QsCqziPoVZGb40QyJ4vjdiXQUgkBgMWPRB32+onichJQQiYHMVtx42js0G0MyMlvQu7RfibIelFhIPWk4UYAUJOUCMBtRMPFjfPXVV1EmdqCItEPeyCeiq79ZUlVWDMsjuLXLqD2WrljZ0NDc3Fg7b8bMp5949PFH5rpzPvY/YwKQCkXwS3u5BdlHEEGQDnjzIR8pHpwkl21pa71+2t2/P+cSxC08Ap6IG5c9Ypg/2FhE/m688Y5zz7sEvqydO8TCcAeicaNiIgdkQDKoGF4+1uxhU6fjCKlUIn/UL44/+IBDMWujHdHGxq8feeShojCb5ig1EfIeMWIkeuJrr8zffbfR++yz14v/eAFtd9So3aR7aodJ9ohi+8Eko8doSqfGWgG/Tg/iq6GhYdWaVXBuTFu4V92aWjKyyCWRnk4mJMOdRn/UfqwGewQMHOGiokSSXeYk0thZBV7OlEUcI4Y7WMBHxqnyHmAMDDqZBQEkXDCojVqwicnWwFGsbXwzSV+eRBDlfHr9YUlIAgna8oC10uREOJ946nmIDnyI/EjqyySXLPp88wEDUXwCZFXQK15w5omQkTAn2mD1qRQ6f97vGTFm1LffLGlrbWxsqH21wD39AABAAElEQVRw+v3Pv/jCnEceJZmzsmfvnr0GLlr07apVzfX1Tc3NDZFoy6q6lfNfe1GjmsePlICo4d18R+EgyE9PgYe+sy6C1ItFi+SjQ0ggQrG3kPT46+Ct/G0zeNCSr79GCkCEpBKAHsJjvXrWVPSowqgN+4NsEYFQJ30CTQJahVPTF15nCSYbkoAu6BYBBsJhptlkCtsOGdq7V9/Kyp6ff7q0tSXS3N4SiTRHInXf1H79jxefBqsgRhssO4I+d5gjKQDbi9vfmWEg2ElQbqqcM+gLsjWT38OubzKOydSDBDRB5OjSFNa6FRiqLDP6ronD+BFuQGYt+uzTVFJ3GAYGCwcMhjKODa5BgwYt/frrJJoUln4yAy9es7p2QP++FWWlbNcCf6AwHnjkEzQC96EvcHAUBNCLqRVPxa+74bYzzzrXLA/FIZfzBsKxNLORxtm3x03QK04GKVtdo45myL/QlndA6MdeZOs7ZiCSBeITH4T0TFfx4jjz7F6hbaM9LnYJhwOQuIbsIJMJNyaxZZS3kbvv8dLLr225zaDLr7yC10k2ZKPPoDMXkhKcu+bmu04887foF+lEm087ICazJJHmA3lXOOsIOF0ho5xlROS5dLQDi5DRVA8lw4z9pdmg7RaZIqzj9ndEAUD5UIKKNXFJ3FsJtFY4CVSPCoiwJ411p6Hbv/36mztsO/TySy+DKsg7YzRRMVgWp4H58ZfRtdZ/Db6+wcWQmHugb8NLPVrn6vppDal1nnz3qxmUwm0NjPnKzXUvYx0jGJyOrbYZfOrpZxYXV3FhX1/0xwtQXuY98cztt9/Zt3efyvIKAhtuaB11izx10J1z9B8wsLKsEuWROLyXHB6f9/Gnn7rrrrv69+5FrPuwIw7zBEPaDEPb1DqDVAojIemLO8wObz5JDptTCzVSCR2HCg8mjETU8e477jzppJOJkC5a9GXfzfqQpeoJFT3x1LOEdmoqS/tWVhxz1JGTf/nLgyZMrKqu/vXZZx188IHxWERWBsn98G3ZI7qUuK/wBVM6F9OGIPBbkv7ZR1gKMvnKOWfA6Q7hJfh6yRdffLIQ8VZXu2rCQQcef9xk8pBEYXj2Ha6li79Yuvhz7KSlSxb//OeHH3n0JEgHy4YJtmr5inN++2voD8pGUt5+193jxo3bcuBAqGz6QzOOPPqor7/9VlTk9LBjVo/KKmgJJun34WsFgtQ/332n/xYDQPiXX34Jr5eahBhHt3U4kd/Mje13Gsodef3MLmdIKRYLkys1e86jW221zZAhQ0AsS4FhKCRcaFEwhGT0f6Qwwpb5EGfya+M11GEp+/jNth08OBwKcYbA0m+WnXbG6R3trcwXtBmmC1wlEA489NCMAw4Yhzv35Zdfrq2t7V1TQ5IVlhTjAw0RmurXp0/vfv0/+PBjktbI/KJmVuOddurJf7nysnikneGtb235w0V/bG2LEOmH3zHl5AuByDx+WAwEg3lBziK8DP2eDEOsGJ8/sOSrRUsWL0KeLV+x6heHH3bir45Lxtu1TIdMThpmZwEl9AFEypGOSo0HYLQKV/aLLz/78P2PyCj7+JNFpGC88PzTKCr0NUUulyMXKi6ZOOHQ5d+ugA3VNdSdfMpJh0yYUFFRxd7h5HUt+oRo6Yeg99uVaw44aPzzLzxFZJGfyMt7pz982BFHrFixDGFAqkJpaSndRJciKcDrD113w/XHnzi5vqFWKjEmXzJ9z113Tp50DEiGL1MSxUj7iLPTpfiv/OekNaYSGXbtO+a4yffef98zzzyDIKCtuoaGO+68Z/PNt/7kk89Qkk4/Y8pVV17y7bdLmTm4B9c0tP7xkiuOPf5XRgPIY8zJvcAFw00lsHG5LyIHERg93iCuzW+XfLlI9OxcXVv7859PPPLwXzBMpCFef/MtvzrlxK+/XQpiSMxJJmIzp993/ORJuCLJbcOiMQqEMg8V7UlGcM57Qz68T3jKWV8PrMuXfvXVZ59iMtauWk1I79jJxzPcNARVEyR6/Y23tx607eYDBy54+x3kF13Ddw7zPenkKfc9MJ3AHneQ2/UNTXfe8ffNttj8408/QdLT3yuuvHTVyuXM2UAguKp2zSWXX3YkmESk6WgLsWAImNWPBB2IZSQTUTZKkvGEBuXIPjZ3DnNhx52H4fKH+CEzbCqSj5iSJLyy2oAlJbBy/NSa9+hXHJrhx++jIJ82Z9KGBHhzlEaB3cNEIFNTyfSsTMjlln+9ePHnn6WTsRWrV4yfcOhxv5wM4tFQ4X4E4Fs64ii/F114/uJFn1971VR2RZOtqUBA5uGZM7YaPHiX4cMz2QT5hDAE1BT0FRAC0aM7I6jw+kkjI5jtTBaFpBbQIzgyE4WgCXqbBaLAull6j0LjUf7q16xy+PxTwF9TW7//AeOmnHYqPJnXSWzOwbL4ms9ceN7vvl286M9Tp0JiKHdwV8CmTJcEYeD+1Wviudd8nc0vWtXa2Bavj7Q3tbW2tbRHWvjEN0CssJkv3DF/9ibxUn7qe0sr5dtRyc3VzBf95Glrc6RFL3J1vqtXqND88aW9taVDf7p4sdH8tXZWZW4XPnhFbQkS88fPllZebO9oaexoadDr1NacbGuO2wJNrdGmto62trpIax2tt7ZEKU/N/OSvC0hqoJv82V7Q8Za2ZhIjBHxzR6yxI97Y2tGsp5RMNDbHm5ob26lC/bXw8KW+XW3xNNXYyE26z09hQDULYAstIDW0djQCFVC3NEXbWpmcbY11t0+bpg02ECFlpZ8uXbJ69coBffr6HSQj+X9//sV1bR3RaLSlru6BW2+vKSrxO9xBr+/SSy/FGdjeGmFfx+aW+pbWhrtuua1nSSVaW7Gv+KKLL29Wt9a0Ni+/9da/XXD+7zFlyivYDDvk9FROvXxac3OqrTXa2tJw283XTT76sD1GjURBJZSE4XXZlX9raEo2NUVjHcnm+rpke+P8Z2bWlAZ8oR4vvfWxsNrUhIO+pX5le+O3QwZt9vSzrze15pvbYu3kFLSi7ANVW0tT85raVdtsveUrr7zW0AiK44wuwSGNO3TR2nz2macxP7Cs7BoocnC32Wn3hkiuqbE90dT23EOzBpRWePErOt1jRo+cMVN5fd5A6VdfLe+IJpsa19x6y41Dd9hl1UrGoflnB+x34QWXtLTEWxixxibSBNqb6l99fG51ccBbUjzvH683NMRjbQkgjratjjWsmn7LzTVFZbQ+aOjmjz33ZN/NR7/40uLm+kSkqeWWG64LakNtwnUAF3B4ww530c8OPaKxnT41RprXpNoa775hWp+yGq8j7POUXnLpZR0xOrvs5huuhN8QaAiX9vls0Yqmuvot+/UkvZrazjr34qb2RKyxfvqtN1SUhJmoWwwaes8Dcw456HBilxecf84ZZ06BR5HVdsfNd1YVV3Ez6C+6auqfW5o7GiGflrb0muZZN99VGSqGHW41ZMh9s2buf+BBSMbfXXQZ5HTnzTf/8heH7Tdmd3okqL2hy668tqE52tQcYaJEW2PzZj+69+jR4kbQUyB04SVXtrQnhaiWxrPPOJlX6KzYLP95fUO227G5PdrWHmtobMZV+8Wij/fdcwwSnItVGccde9KH73/R3hJj0kZaVi/66K29Rw2nBocjvPX2Y5579d365raO1tpXnp4TZN0kOdPB0mdffbNp1fKtelaFlULtPevCS1dGYi2JaGND3Yybb+8XKsMF7vIF/3jpVE2oNj6aWxubnp73FJl+BmQH26aQ49AG+TS3v/DUM6gDoMgRrHnx9Q9aVi4f1KsiKIeh5/d/unp1W7wt0txcv+z+22/qU1rKXCjyl1xw6VWrWzoam1qYKS0NjUy6Z596rKoSr3/Z88+/1qaLudgab49FmusXffzBz/bdD00EvcftDh836VT6y0zBxo02q7/7jN0ddd3lLdlm6IhnXp3PkxefnFkM2h2u0nDRK889etZZpzhc4f0PPmrxhwtrioqcgZLn5r/euPqrwZtVv/Dyaw1t2bqmWGNLDKYHDuPNda89M48ECUbWWVT29Kvzmftbb9Y/JMLxn3fRxfCiO6ZdW0Jmo8MBObGswOErcfiK95/48yYzm2IkTdSugjP0Lq3E6R8Mhi+YekVtW2QN06yt5e7rr+KtEbuOamiNffTBQnKPGUpaO+ePl7REYo2rvtlmQN9/zH+rriNVF4EvNYGCaPOaeGv9i08+7kc4O9gDtsfL8z9gLm/Wryrkk4PvvIuugD9M+9v1YVa6wjREWCR3hRncg8f/vLklEo3G2/mnqeXuW+7uV90P8iDcfv4lV0Kr8faWaOOqm4DK69hh6LDWpo5F77/bq4yaoF3f2RdNZQRb25Qw1aoUJHJyoGFJHbQ1xskwVPHV1haxWNgIvPSOB+YcetZfRl/4iBMZ9rerz0nVtlUVY8TgVOH0JowhWUV4rWVlyesj84jsKO4aoxaXjHHVIKtNBJCnvMIj3KwIarRi/TYmJ2q3eWoLyDuBWanK5J9ScIQ/VBMJd7Nc4F8w4Drr07+C09RmzkxyRfUrx/BxjxQXqvUL/s4tIbht4VcBKKPTWWl/dn2uex+4+ElMDKwktVpM3+knF6aEOQ/JwSad9Jrv3FnvXYM3W61R+3Aq4S1klnhmz5ox6aijyTuA9eCAj7Km0p1n7Q/5fLThZTW0S+d6ELsAmRyhDStJkdHj9aXYSyYUjEdjJkaCVcd4OXTsGcuTnc4YSxydKTZLI/z097serKurO++c35AikXFVcCQZDkkUPXcenzXLenAJQtceOaY0iqxgxWtAUiGmf1oLb9Gb2Rgr50q6qjFh85kYzhJgYxXk9PvuePLZ56bPehrmpxhtRlWhAKJGAef06dNR4R944AFSSfFZcZOn0j8V5JBHHtOHXzTr9AbwwMczShYJs8YgEyfWjB4aI/RZVKTNPrhMrj4rpUjpdDvZ9o1qmDaorxG8E253cZJ0KbfOQCLZndy2ENGeTKZNWaDFriRKLJ6jiCufIGXH4/IlM15ypGK+VCSW22fUYXffeufwnbbA0sZkwHj1BUKYUiSm4OEFn8CsjbnZWh70oDSL6l0Zd4Dl6sQufCwXTkfxvyWYNE5WzhESSYe9ZHCwni8bzzpivnImTBlx1kTM6StKkJ9hthLKJ9giD0xlsFnJz8A+Zf0Hq1s5hImsAdIRCL2ABJpHV2eFYRRrgVRJ40Bj+Q0GccZF2kI+bHYn4iAEqQMuH1u7FhWXJkn4wHdHWDSfhBVRFgJmYVA8xXKlME6qkKK0SZYbkx9EiiL6L15Budc47xcFPJUNBH2pOJ5SLSEiScJ4/4gdya1GlD6bjfrcpHIwe73JnC/mLKJ5kI+HOZxpxweSYxFh3pdAH0gnK/Gx0dlgaTtxOXweac6ATbMTZSmGr9PZShQfJObw2LvjiSguTfzhzABGWA5eDCsTFYZ+cGJCQtBDzh2Iso2D21mSbHTncF4HU+5AklN48Ow7owy9OxHHIZVzhUEuHdaxAHnsG1EfUxZ3H5YTC7cwQ4ngQrEsGOOCpGkLjzaGFO5n2Tugm6VSzLlMJOhiLTnz25vAjw4O844E8SdnuoJ7mVwUTDNziGQ6Pe0ZP7utlmTbodWIp4Sdxebde9PLL754+/TH8KngTZCTEauLmSXq9UQI83uCuFLE7oEHsvOVxhkSbSSQBkQwg0sQesN1TJ4L23jin/CjWJBsoiN2MN6wamC4Xm3z5vGBYZmFqWiZF9CzreAqEKZmZhUIJJoXwX3ucjw1495n8Eg9OIsd8yAVAqYB6mBOEaj24dhElQuyeo31pa5cG2tksPqyLraVYlt9NomK4kVgmuBkwDUC99BmWXLb4FFkVsOEjOUv5yHhTG+KJbFEhKMtxUF/DMok/i0rOuvLt/EAizROrMTDCsI0y2IYKZJUGQuW5uMeAObi0iJEI0+JkMBx4U4yTZk8Ls8jj73w3AdLG8JbdgkYy2m/89kpgZgJVlysy6MpzTh2XhtWJam09uLpBgU636QJFeWpbWHtOz/yGwNvmpBcNN8lJqFcqu2qeQMY/v9bsP1FPjGy2M4IMO4Ar+2dteqpBSmwfn83rNnwcGWIMTDGXeA3AixAKI5ZhCUUQJlWlAuHXS6Ju4TwDO4xuCAHCLFKH/bJThYEGhB48RisE3GpNBF8kvgfCOnhF8PJ5Mgyi6gHloznDe991s0k8eA+gEQcSsrQ9mukpWD159zsG4KLheMbgYv5ncyn2ZZX6KJZeeFQ7ln3pbWhyA/pjPjWkOBHT/rl3LmPQoKsnWZK6GXF5LSgmIts7wcffBCvBQl+YhBITnMBKkPuD4dh3LgWUG4U8c5kUej82peScJYjysGS+CDwtLA/DWEM3BPMBDb2TqUI0lADd4RtbUgjTYUoDlEL7tMWYIBkJD1xdbQEs5cEXpME97Ek5OdDjOINDhdhKDz75FPhkG/wkC0xRBDarPVCgDEuIkSC6txlK0tiNkpnEQtkoYGSQ5gFxADQZ3C2kMnIotGkJDRIyznioTDygRURgoE1T5QFdUk2clUKj4aeCog6IA3w3CkmT4+JibJckA3isklEGu3gh0vGY6RQEFHL+pxxuVpI0mH9qbb2RKQiSqVu8CYCVu5PoddEc8kYIqybIARFQzRHki2w+djBkqwHzsYj91IognxdqO3gEgRyh14TmqVaIpncAZN2yCAhflIhw4t8k3+VbuDIYn9dB1JczjKCZUGcl3BJmLN6EyaCBmOFnnGIRVCBPC50HBQ4KnKTOANVsVYaLz0rx+m7VpErVgp4fIpClGFhvsD42HmCyJaTzQbSZPfxhecEWvh0+gNOXwjdAVD8aJRaUpyF++PUc/lDhACSEBKue+SVUR6ZVtQsgLVBIdCQssT+IKQT4KDGA0YuexTWCd9klwpoB6lMmo9EqQZU234jzeDVaZb/c9Apb3kCsQSjAlMncEZKAno4MkuOU7oGJhQbzmSZKffcPx3lRpFObeqLk58kJhYzsn4D5PNLOgW0CTZ4GY0E2cmICPM0D6lxGov0KiVraB03pVGnCG0QGydNlm/E5BCm7PCJ6xvdBXAZU6p0OcnugYeYbaxZYydxzbYJsIHDjzzi3ukP0CJBMwgCjkE0Fk+s22/0DFYB5jmEhamG95cd5OUAhI2CNzoCdTEukCyn9TJeoDRJ9E5MgIo5DxN1GuPejZYATUJ4iL9IRzv1RImTKYNHO6wihrSxahadSLv2mCiggpEdZFpywkhSYVpIArSAB0sPfNnYJY4gqgY15hKb0TRey+t5xFCbh/ZTETxbXjN6rXgwL/JT81kGmXmFmrvkh7nRVTP310oXY5np+fqFbRU/9NkFJ8MN6HJDm+LUwxf++NJVZ1fhH6rxu8/oLDOPT5BjLTBbRj83bsxtUA+jAl74hPAZG/EvL9EXSRqGlgRaRePI9Te7icBCQTLZYsQ5iJxQFHZoo8qIGzx/DDNRKCYF5CQlEBYDvyT+y6ep7YorrjrjjLOuv+nWip59jvvVScqty8bZ84a8dwCByLRgGZWSfdvgDBy4zA5spHMo+VBMH8mGAghLkGGlWDHpVhKv/ELzQ6GNRePEbJU0byQXr/AUKgR+aJe+85Nucp9PqJBP+g7fJM5rBJMy4XiZWYEamMkyDUh1YBb5kujALlJySemmgI5sEOtB8BtOx3eqAgzJG9mlisDDFAzFS4gTe4GvkB1BOm8a25GcSerCPPAFvlz6df/NtyCBsKq8+vabbrnjzpuDISKfMkRAiFg5wga1Fh4h3dyFZ41xgYqILojQ4YYyoJC/2scBjZNFHVjM9BQORbofef28DFFgWZHNr3nAHxyRHB/ZRjoTmtFjdvFTIoScCGLiaNZkIwSD4I0eMaZkiIErmJRC/dpgkvmM6qpVd1AImcoklPOTZDtYCYo5HaT7ivpkk+weLV+DdoKSkGBqW4YI0kiiI2RD8Bxwpedjo5kBZbCoQVUbVyopNOjCwjP8G1RiaCZjdFms3zB9bVDCDgBmtxfyQoiXoEUgwlCxyQqgashWpymKJ/qxIGkLGkIGsqAbDidpoqUYiLM074FzO75AyKW3CPaaEacL0DnWPJxRDJcLdSKXQE5AvaRFIAX0Si7tg3SlHKJYuGPxlD8csjNIfF9zTXRLzWTb8gXCAydgG1ARGFRMNgdgUBV9RPYkkh0sBbFLOMVDsOcMV2GkAnQAM09BT1Iii/AkoCUavUFGSAjRLVEP3UPN9E7kgYmMNEDsyUPn8yPGTD+RWNoHhDQHSE5ZIQgds4s00teopojpEFyU/JiA2SucmY79w5xn9x+YiDYEYdMypyeahH6C9AIfC+1TDOyRXYJgg0GBNX4y0FTCKBNkVGwNVqZNnAQSygc7xDJ6GNxwII9XST3wTBIj4VVYeTEUYaWFQ7/oOvKmUCXbLFg08gMKYZ04dEvNUAN4Br3oHHA2THk5JwJ+XE3kssHxaFRAIo3RC9gViXOMUU/lnJRnCA8T0HJpTkEmdlAMPWzATtf9KVWu66LudS/Nns6nemK+WyFnP7nXVUDPO19f96YpAwLEC/i+/lWQLib3hvfF+37sZYxg6pbmYlvZQKwaGba26S4gf6ChdeG35W3CjLyIVGdEPvfXLbZObbZTa1u0j2DDjLdYNiTFALLWkTwLlBcYGRn20BYFdGQcugzJdazEJGMKs5q99fDWEUBirwt4tAwYiAYWRmklIJCKwmSwSZXIFty5ssqcUy+eev4fr2SjGGYUOj9rkMPMDOgQ+JmleJDYT8scgiDZyrY0zAylXPEFzQySY0FUSDISnuwha0OWhvwFzDTMD2LX8CL8X7CGLL547ZYLwUG7FOAm3+k1X/jkJl/oHV/4JHQEBkh/l6rudjGDNfmM2QF0zCyYBGuaYVu8DTdEJJALDK0j+5mEcFH4jmgJ7RhgmA9uyQZqRs9jIiJpqALLUSCAM4L/epu84eTm22y9dNm3iBF8VkZsw0bkumXRN3YGokUsmgN1yfkGIAe5wiTUsE+XDn6jaTrFdzR5kIGxQosMXYxD5WXDoD+Iy6OIIOc0AMpClpbMxMU5BHoZWVxwcC1gZU8eOBdxUAlmH1vscHwoHq6got1ywuiUeDENcIylg4BhvNhclfFBk0ilQ8EgYDPb6AU55eAT3oFeCXZRGFh0BRtCGEInSldxkYkga0auG7AtlZXFAFgQXvYmpAmQDCZhbxAbpYRkBKQ2eFR/eZ2xIIiv1A9ZQqg7ECf4MoIWJYzF+Np1Ex+RbBHIj0Xm5JYAKHuAIicYF2QVvi/krdcVZJBwtEo7o4dq19gbWjoiMwhSgeka4Sqjn1ZwVEjMpFOhkM4aZaSQrOhpqPrUDCdmYy2cVjQkeoSv+32xRFybSiBOJKVwGGLlkIziRd7TX5nQcBwSOyF0cwEGhilLU2hcCEF/QQUio0t+TfIj1DsGRWIPhcOPNxSXnJbA8wjy0/oWyI580QQefoZB5r4SInCEkJebymM0ogQwa/AKQJB0DIxRiPQnloyoKjqOjYJwlWsOL52HQDgjjkIlLo/E8suqY/MwYJZTXcYcFCBk8Ugool7kB25cX5BuwahAkyYsAKJ7oTuSe6VMtxyGPsc6oaZqeR9l2ISPjBJYvdvDKkYmF2QDPdjtTCE4r0+zgKFgJkDNEBJQoRFDLbjxWY4ifY4bpKFSJ+St1TUy9/mUEQ91MveZ5X6sREabHbBQ/fD+s/eeFE0iC0u++nLfffetb2uVwif2RYQ+gLCHe4BhBh2/t+Wi3/v5HVYLe1CeI9faR53M2nBnxoo/eylgJpvMFoCt85NPAOaPIkYAdBYuvNP1D/e7qqJB/lAFN1a4663vfrFwmtrWPuTnWviNGFv77Md+o3ddkt70aKMV0GonrjYsw9xg/LirWSp1GyzL8274qPa84SakAzuE12ty5TDVWbaZRNhALtJy/ex1neJXPI5JZriPdGO4mrZGhHSI6OA5QBGR5EO86egHfCtekqAgL5k0pKdlkoYpaNMEZoW0e6UMMuFhn3K2IGWBE7qBQJWdCVXJCsXJhpWGRMGTocgTPM6MPLzABUO3vaULAE9fuEMlfKcVbnKHArRgBgU+K7EHBzMuHSyzDnrKI6azdgRCLUVIe9xMY17nAiq4hhFd0qa5mGwUlNwSL5DNR/YLn7QC84pr3RV8GHaKNNREpS9sjUF8ESPP+kAwb6WzknyqCY740ojEYiYeoyGA2bHMlirJ1zJH1kpTlprKLSqEq/I/yMG808TWaEpDwAGIOEF3BmUEM5CELCVn7DTucBbW9ikUjp9Wl3BlNBvu+DmBx5iYTD+1Sloj+rhx/YkxY0YbykF1lpyFPrBdja6KuQbGGDtwKNmdxZcoyvEGxKO5YCUQAyOCIIHRIVADoTBMTpnuJv2MehgcholG4Y+IarrG8GpEpKpoh0pGH1aopXL0GpShbCmBW4FYKNawAW32hUsAscqbMhoMqSTYNB09XX1nITO8mt0xWDMtekY00lEgZDcWCktUm8vQv6wxSAhgAIzbFIYmkViyXuU5hGErjwX+TqVgnmnAKEhkmhlET+UrJRCaSJiuoSWyURy1IaSFWFrhPhcjAIT0HBhoyfQXvoQzAGWClkkbBjtsOEn2MnoX6fUs9kfRglVh5mg0qVDtYutAK4wUwgBQsRYTWrAbDBfxCGkcj0YwFhkaHODMZhMZkvs1xTateKUJHqOJYm87nVC+9AZJN4LddCFGKyCqI96BdoIA4zvkavvLI8YXaAUrkkaky+BpmNQuEtH6SArWDCiSKsnrvGjFoIYbV3iMJcksR2QZCWE1nCVEMhDB0DNkz9F6zCbYFzqcBhzDUsPBxrNhDqkQrQJNAYfQKxXL0M/AsgQM1MnKe7zBjjzdBHAKCH7QaPqy5eYDFy/5kuU09fV17ezw0dRYW1vb0tzS3NRMU8APhIJ2Ixc+gbVsV5xknev72LHR/kwZzSqNbsFVZ3RjySBpeuqFvlNGbL1QhHv2hp7+By9gEDBcoqvCV3tjnc8CA13nDl+FzY1fqmoDX2iha0xihsG8j8DfwH5dWyHwqArVw0gwS+Ulg/nk8r/81fEMD4wMOoCAID9dYhxcOKCENkYDPRKMw3240HkCwSoEC1nXGGLIBOgEqhWRsekqR6wWl2gGw9PTibLKYhRerAwAZZ6Rd4iFlksnSaqDuwBDaTig4Tb7vrg87CTNV/nr4GBMb7Q/XmVBs7zbUoulRbKILlQUAhJp8gIJQSbGzvrxzo6oO1Ct5Ur/H23vASdVkf1vT54OkxM5KeaMIoKgrJEoUYKJ1XWNmFddMa0YATEABsygIkFBFEUx54CCJMlJYHLqmememZ70Pt9TPQO47K7+38/vOjbd99atOnXq1El16pSAVmFRFZ+QO0+NgO2+l1hiWSzsT3cIQHqSqU8YF+uMSvJlufddY1SL58l0utjkZD/r2Ty1xSYsUg/1w46Qr7J2gU1cswbOQBmCJHiEtOY7ZoXqxAwhHQPL+LLRzGTEVnCam6ZblCfZMWIA8dMuszE1JdXG0sa9ocknK4KC6BwsQzckxScTEy0GxNzEvAZXrMkR8ALHpdF6bc1hFhNVIjtM2zhkS3IslEiHl0wMI/ccetFW2Y0ukShJgvDA9NEKHALEumlTjg+ioJnb9FSsSpqvo1U5k5WEFylOp9ErkXkWuUiDBNYnIaGjfEnJoBrKFe1pKOW6gV2AdqnCVKC9IGJWgCGqUMpLeWWEBGIokJfgk994Q7nFGQdyJ0hxwGFGvjdFh7sRcty0yWOeEgQCi7XS4VUNRzV6fYCGBE5KSmKC0BXAEJHYaPrZwdmAExiHgZAg3Rh+g24hQU4AWlRZqCY5jShEP12GHYoZARILmfFJ+opljKxxI26AM9toNzrGj/8RzYPvzi8CeUDAdIqLjJfMU/wj2ulMf5DW/C9pz0/HjmVogCjwozYVoCeqllsOiiAUy859VUtCq17CFYy/JSnJT5ej4pTslEdgyeuXNPL7OG0ZqEPp3gygoOEkrFbKuOV8AE5JthzFaDwpfJH5Lu0Hc9KaaGhMSfKDIpGBbC8DxjiGgcuIRPvYAgjE6CTaI0SQi1+Ex//Y5VrBq8fGpS4NLhdbevQd9gIWxHuClTXs3JCRz7IC2hpaUUO9PzaJmsGb15MWeZWuUh2lDGEiQPDsT8LATU9MomLYhVJlJ+JfJZ+LmDWOfoKv4GOEs6I4eH2yrcUomvuOzAb50m8U03HgSwPpLqMbWU6OtTXfFlXQVstPvtB766RiHPRtv8uNnbvF9/1ebC7YfF98wMYhUiW/9n29ufj/+Nc1sU+de6Hd9+b/Q817G3ZSylCx9+YBELX34e+/MQxyRtknBs0rr8wGOaI5MR5zyjF7cYlr1pEtoRo/mPlztEhOFJhIrTHIYwwnVC6t2UDteE90ZgqMR2YW+i3nsvIIZ0gNljhUjt4IgmlDy8i48aXToaE7dRb9CP5BYfmmpSRjV7Cwr00kOK9RIdlHBJVFEYqmrAaYRiyeYYFBqLJhSLePYwc3AiWtI8AjlRn1GX4EcYMCkye0L7Wa79hmrLkzA2PYwi9nj4I+aEcnzjBd6BKpUugVhSEujApWxbSjBWcOhAojg+ZpzdTjRq3bsfgiujV5BlRaLdeaIN1ikoNZFF4yc9iZbbLb2EIk9mHngckzmej14Y+lBtAufw4cm4gF01sFBm5Y6wj8URLUmJzTw2Tx4G9Tj3nGiMiLhklc38g+P42KhgxOyIFPiA34XziE+xDzma3C2GzqLHKC+mNlPct2kUcQFVgmOImgNDQSfhwkxATjkV5BF9Y3HFwiLnN4IMbgxej8yDstW8pAQBCoIxCIGKFqBoH0UfuQvOxwNX4tTYPVddUGa2Hc+cnsI/UGo6PKxQgkaVQtSzJmgDIMrNdjA4pTgWj1kcMcCevUmISjZI6rPViI2WFsnYMKsFJh4fUx8HZyomeg9ISJwAO7Ulm0k4mOUzHDQbWOkIAWkqE26IlvksK6QBmCBP5JB/2oI6Q+J9qILeRoDiw96T6vsfoIqcTF1YblGeOroDUXN15VammMttU+nZwFrKYJkZ2ECEkaAizEjgw8NAMhDTONYBIgVCyTXMy2FmC7zRR5AnjafY2zXSl2QaWsC7e4xbDJ84bcUPggg01/GTqLb1FAkMhU6gdqirEpDsyQEBZtAzAzhUnBI2x3fjLhIBJUGspTgA2VDLimKF3AUwcZJJjTFTuYOmiVIUA+maZEuAdtAQbTn6lCeZy6fDq2g2yTGUrMJRsllc+ERQH4OpY3JIK8Yve0lgYwoEm6gaiVroA+4qxYY970hCnPIi5I5sJYh5C4wwKb4ye8Lm8TcteUMMowrajLkTrL6oTp0BHoDwipH0rgoF1Ij+uyyy81VMCdKHLga68ME673vxhC+ozYRbISFUyGPalacAb+x2OMj1M6Hq8Z5eHQEAVzyZHDxbvMRPsKMTpJo/v7XkY3zEymifwAmlF/8pLbksEXohPN2hXFCZXm1yLluSQ5YGlsCR8SPxWPZnO+/LTxwrU81JolB2wZtGjkNHXVBbqL7QEFNItd3aRqu+DulHDf9RnBg92gCUd/EbKNjT3vvGHCOeg0UDXS2vkL/ckOUzYdUB/tZR0XUwrM1zcEjaOxZ9ja4z0yBCJ7aFYOHLgN3DERFsbKh6QHFgLnjNiwwn207kRNLNJo1GgIyFWRbkKvemowm9phxjSFxTNIwcGos9dSvAQfnJW3ukippfliNdjL//uDZhkfhDUOU0UJY76wAQanFBOGyUC+CPpufg6GRd00IhKEBq1h2/Zg4N7kqWYrE82+UwaSi1xwZzRWzkVUegdbx3ThxdY6E13UK8wAiywYJhj4Z2iAAeJxjkqryhGkfZqCBVp18BIRi/AzGCQzg/BBII6PQfNgqyvzg1a1MNPIgqICBNlhjHLBCRpAj9wgDJr56mQYvQPCelbWDKv0hUatE+qpXXzRTU1vW41w3mZIGo4A9UL2+LKMzak4XBY3Jz0iq5G9zrugRbW5T2QKvEOrUdKqmQJQsvJFif55yZYAZK+KMMQcRP+cLENMGnafXN2wABQXdCg2ViMoMGHYehxLdGA4CpcX9g3rHegEqAjwOw7Dk57Pv/Vs52VQGpIhKJ04okQTro+CUP3T5eC0r9qB03xFuAdPoXUxfQLLDVoImCFQsTqEouki3GdsoQQt8yn/k7hhpKIm6fIwWP2077gh7JEw7C5xCfKc0TihRsaSWIxmikkbJKYDNyIjyNiDMjg7RAue4C30BSAjKrhqg59BUXjlUCTQQzCT0Jzw5wEQIYTCEpQkQUNiEbZn4HLm7CEWFBQQKdK3XjDtGR1xfHk86Kr4q9RGyE2MV6HDagtJh9LCVDDeixoBM2VkGXFI2kJ5GWBz8tgLKFkabvsO/aMpMg2EVHogVKNmMFTwFN7XhKWw9MIm8UzRN7NGzYq/icXtHR3xfF0iJD7R3QwzusUbeskRoW5ESF3N2SzQPS5xQ7QgRL2aVfdEqPp3H3pQwb2XA0a/gcZhxD1kIgtii+oh+kuJR3HPwi3FgnBSMRfAkXRDVibBAkDz55bBZNDuS457m+MbLYqkqFmqhS1paM5AlcTwiHD3grTfewf+oUUF+DtOduKKpb5bzVJAGeCYKJy2VCg65twsHGLy9kjjcwyLLyxIQkwAc+DqTRegAMihDNDSXOQV66+D1fXd1aBB/TMXmKRaSMQYqMYJ1Q8lgS7Yp6LJxaFEnhIXkvbmckkg9RO6ncIfPPiyAYxx4Q5aFQF5NnAkcmTri4YMTVzvq6f4PgwLYgdGGzTJnIIc1TZ42It/JyvVtEiy+b6ErugOOv8zHXVlzeyrr6aPQC7/G/NNDjMmJHekJjCPGB2kCJ9QtL1mt/lGi//eaGQKtcASKSx2LF1e017URcJWCR35DGH94NzmDvyZHInRLGvrJudsARTn0nk9+45ppGpriOhnh3b8+yAcSwJfm0BlkrETQXFWWvrmJwMKBcKEKGad1ZqT0CbxKf7i0Bup3P4Rlo0v7ENFQrLQD2YwiVhgw5bVCT6olHWsNwAMtcEnUci4SSiOiHk/LIEQvW1/gMV2PNRk2x0ogFQ1lViZf/+Q+mz9pbtuHwXaBtyZDfcQBU/MZpZnjBURGTFuKlFaVWOZkuA4gTBrKbxissIhfM1437+39ofuqBbVQ3wgagqAYwJD3NhoiqlhVSxMMCUIYZUIzFuVzYRqb/3nRoQoPPbqL2lJa5hQoJWTaVkJ00qwRcLHs+yDOYHqbONLzZo7wCNsGIW43kHPoAI2yAykQpETnAfPQpi8kSwGC3dyX5ORsEa5OvGwKR2bC+XFmuOL4i0UxEjEFkOKUJGBLxXERs0wCTIV/eMuN+hy5cmnR7gqFhh6BqUZROoRGMwwmSAKf+cX7TJkErISiPxEMRJ/h6JYOadr4VotJ8OdmI/ySciKjbS2dxAjxGZMwh4auTbj3O4gkvehSUeK4C1SxpG3FdzvrUhL/+ufyDsA9LuLCYmJan5SLfPjwyezGcMJxyEkFFlTS3gp7gasH8KIbckroulj46Pmm5IlWdbC+/ZvQEOikz4UzlCnoRLOZVj/yYtwVRefSrZAFsJRl4jn0ThptUHxZoyiQvPQ8lkBrq9mvBg8DDI9MZnEAP+XNhldFF5MaUpTEkvZ1jwls7ncQGp+Qo34x5vJad8KjeFryunv3y4oRtq0vIQmXBVVVYvHWbtI2TyDx0CCCQK08xhld4gpI62Ja4C6FM2Fi8bjg4Vxn7aojUnCO/BNraNKC2lyd0COohtrxLUpDEAMmakdSD9IqoW5uKkPtJDF72Dmp/tzPdmXNN2d//GJhwdbhyV5Jq1yHTVF4aeSacjFeCTGK1ScNKNyX0ha/Ft1v6PyfYGhLFNMf/wvycuEV6452WS1Ibx5OggR6gUbKmrLI3KzYL8zBBhOcApcfoQdsu1rn8Fyo6xPzCqSS7BCExWXmprBYhicnWU9FiDpAEp3VTDs86YiO5km6iabhcgSyamPBA3j7ILBsvxudlJLv0RINpldK9KA9+k0TzWJrICSD7G24fGSe4nKiV0mCoCyiF5YOJE+5tGCL4JHuKwkn/tzbVn9BOZg49cxa4ANlINs4HFCtxmk/Uac6Wn9bUxNTWYuIKuYX0T6MaFYTZTZ0FiL05qMZejcqKH4P1AU5FAyDMsvinuPuG18ijL3xes1Rs19dL1ubvp//isBZiwFIFGAZMwxJ/gjhBIs4Apnu1aI07qg5/+gm1qLYEl08m/cCVeYG98YTtxC94Va5GfWqaSxOEOrqipI34wRyawiEIOV0paOiBCNJ4j7SS0A+4q8JZM4eoxQZztz2cAeJIOozT8looyNU8JxOe7ECflEk4OpopJgXJHoDrrCwcuAsmKmLkF58o2JOmnBqQWuXRpVqlZRA3sZ1aKiaTjAiUVfortkL6hZiUcoX25ZtrtJYEMG4F1zDeVYK6O4LAn3lw3t8yYxOWQsJrIcjn/BZt/eqWE/bdA0niaoWng+9Qs5VthuCiFCPiJWmIcOKAIrghgox9+fZiaOXPYC4X47KKkP4qZvhDPRCE3RPSFSmNHGBT5F/XJkS55DqVSkUbOyEJabh2IlepmHGuLmJvQvCJKipGVkzCPlu2S+kw3dTdd9S/7373gFmWPGrCWmUB+wIHmFcQJIECT9WqldGST0X3pmHmH4ul0QDeyS6z+14lQYbE18FRSWlUCgNNq3Yd295WQY39XXP3XZ+IE9px8BBlgldAfobDUC8SWJSy8MeL6rBSNCxU3V1bKeJLUK6Qne1FM5/wFZnmv0D0aQMUJcY4+CZyLmFCOM6YPGyPs2OnxqNhvohp5IB/jujGn32zRNqE0c1j2CJf2pvlphBCqOculCqp62wSoCAyZBGG68WCqxbSaPmadaI9JbZvnZ6/u02KzE2f0I5gHM5oPuqVNSKsRMwSMnWSCr6DtEArt35GHjjh3METyKL+cCd2LpRsa/o1j7qYGA2FCAyssqoGGECmsQWvHgdAnMoni/0tNDejJK6siXyihxOEYoVIWCRiC0XAYoEnYZSt1Xwei+uSEwt23kkRsdQAuFQjAE2yeHCQ5vYT0SgwymxGxt8CT6YFSm1DOnROf7XG7qqQnzr8iko7N0EwzwBbT/h3lHfwnmRhmPJ+Ma33mF7OMAiSwiHEbGLraPPHIKW60OBi3gTEtW9JfyNEyYKLnMbZVeADhjhS+mhnMn0vF9oP2PX218xQdbLqNeVDFdoATlArMYBsU4Y2CYbG5hOzTEd/5+1+J+P2182TgRXxqoMHsWG12rv8x9NsuR+JuoHCFFZjbbEkRdzRUy1i1wwWRwAEKjDezqYF1WXs0EL+vAnOcJzqnAY2n73bCKxM3SQglAkhFaiBSh1dpgJZWjpNqcxQmL4MYZyQX6zX8o7dk168QDjmnRJ9igFXQdKWcKxHeSC7aMkqZkUi6WGBElhEgimmZhxSRq+AlkJFogabWYvOMtWlSjMccBmrtq2NNkjPATd3/fMWou6f7VEIjxiIHuh3l+Gtnvf3P/lw/4a78XxNdEZCoJ3Fi00vBgAPDEcD2Bpey4kCXGDGkkNygJQtiQQDpUJETkhGnBEeEnwKpqDDLV6aq1m+6RJB0/GTNWOmuqKwm3q65C/FjzVu6PfDDSqLreRBLV4K2P9XsJ2dMasgIcxEcacP0pkVOMEgGwUAT1oG2glCDTqB+5LJbPHN7nctA6VGC9Qb9MCBZV+I64IpxX3G4fMF15btjo0qn9sOoqtulH3yIcKfIFZEn1UYUoTajGFEOewRyhf1ieQDQkwjY0TS2RoEkmuhD19qIFF11wgaIqgA7PBEdQWv7i+jq5fegXAQtoIkT4gmO27OBnhqYJcKthetkamEGj+RBppxlywNinD/t8jbAeK/7nP+j1orcWjBk1Gi1eIZfKNgdY2k7D2dQkN4RcWHVBm8FLJH0hMj/3bWk/YPY+sFlkmNfAOOkLfYFgGuUnebMItUdtYsE+gcSTsfIha90rjmQfbM+S5WcUQVmF87bQsSabXTbKisKAgJCvfg+xkWjEUS++MHPcuIvgDTVhnE4k+9BqgnsFvspKPClZoRxWKZE0qPYcnUWdNo8dT6WwMSDjDrSiR5E24SUiKqa9TvZEZEHuzEA0WZIdwFWNKGBAqJIwQZQBvz8ZQUM5V4GJSTe47gZKjSiMPqDNyEI3ZeL3vlPxNJEG7+C3YBxYAPdy+oEAbXjphZmXjrtILBIXFxYn0oIQeZYeGxuS8Ac0kfHLeLTPT+wBhhd8nyDzaM4y0nIaE6eF3tS7P3JRzP1RGMnnhJ+jDSNgahHaCPRnuebCMRdOfPAhNtVjC2oHiC46si/ZCOF2c1/MRMpAjS7YwRnr+Clefv7ZS8ddTKQuR56xWUr79W2ANPpOv1ddCDNoQRPc5BEAaRslbNPHvGT/JdvLOPELZLFiIidQFOew43/AC8DEB0RNahZaaUMRKwg+ttCHfR6l5CeUj/B1Zgk9165hVshtaBzbAQ/WHYci9QKvDPJHq506QgiAyZWlSQHngzJQZ+E2dBM9TFoRNMpsoy70MfUAVqnEoeSyAXBkOThETcKdCFEhIF3T1MaIQJlGnC24dZBEfkaGrHkuUDOY0Yv8b1fki0QXZeWf/WPk0Px+878tzTffsH8ZJOB3fBDk0hVc/SSsPemkk9KzsjlkITMlc/KkSXi6Id4gp0KAAchdIKgb4olApW8t1QK9OqBP6wnYYagYIWk0nGnfGD755B6rV69teeEPfWFKNJHiP9Tj5N6/rOC0CBxonDgXIh3u0Ucdn8kJgNnZSclJDz30IEPFrCP/+hGHHb5ixQo6Rf3cgdHL4jbudcAWkYIUZpsGqwiWa0GkQMmWrjH6XNbdA1bw327yFpoBOheFzIrCB0UcIF5phahh8MtPIoeBsGeuGO1zBm+yxcLVQwb237ZlM4f/suaFF0H3UTBqq8kXgN4nuej3ErWYQGJqJSOoRjpiROLoTsBFYGs2NijiKSbG3NgBC82JU/BHN11PrYDsMLsp1UTl9lNN/ltPW54NGzxg++ZNq1atjYn1hu24CJlldUGyUihrEuddcuoFAVXxHoCAN7e8CCBA1fJTXyLTQ1Dtc999F8bMU6ontPDGq6+0zel0+l/O0LSsbyIJG3MSdReB9Prrr7Vqnd27d29KIr0YX8xC6+neYXXdpwBPZXoQ9C0nrU5dGjNq+IaNv3773Q94hapDhD/4eBd/Dq8gIxkmsA8JEcXI0WL0yZPgkYCITAeBt/fSIrpYpD5tQjGn3FSnORQS1ErAJt8CA0oSCmwogOF1J4DJXcSuL9R2E9V7a23+xtgBOiownmkxd6qC/ukRhmlzmf3+hSObwJYFCzkyFzBnR48+b+OG1d988108AdPRbOMlmR8RCiQO4wS+auVlIi9iQkJFKKgzWIhchSEmehFgeLpUuxGbmzX7NfYHf+h1xkV0aORnpIukxJ3IYgedQtFECdQoKuxl/1pB6r4XPwGJv8h9anZeOKemskcT/9CY80ds3LD22++/Y9d/MEiEBYHsWFn0mECLiDiBcFDLQC8TQ64T8mOZ35j5eOShXVtntk9PybzvgUlsSGbNl4tiuAtZlYQCMQvkYdYaAW5MdrzIDcCAzp83JyUl56wzz8EfjryBMoGTTWZaDTFXUwT4/Yhf9En9bAmlXvwCbOtmQZ0zPTgw75FHHkFOkBERw1I0jLjSdjbmsFkliGu9jbbRQCIYpC+4oCqybZAnAT8/YFE11AZVSFTvc5n40eC6uyIz4xumzBmGJRHcQ3EUFUDKy0q3m6TblNv///FSw7+7BGZUFN4PSBxaZFEFb6pMMcXIxn306ScF7EHL3fXaS69ccOGF8o/InytOh6nLAAAiJ/ZAuNYT+u2acOC6bqh+jSQY4TlYg85ZU5CGo5r0+I9eBMzQWn1tkAQwKDgMCnsnoTNCq72ffvR9SXGgsDB33vxXLxk3BkI5/LCjNmzY1K1bN2YjrTtDG9Pb0UfzEOzXNlaLWEdtXY/ju337w/dE+fAYgnKF6KbrkgbqAIPQ0uvffYk0wVtM/d3bd3JsbnpGOicSnd33jLUrV5184smVuGBAivDDjIDepA3xU55sKUThJB8pdRKuu/bqKY8+DkcCRnQ8ZhauLRZg/nX3XdnZrZL8ydltWs9+/bWvvviibU6bzMzM5JSU0RdfjHHmeCMDxR8eCmDH8+ZuApyNnQrZ5broPrkRGSDA+rMXFab4/dddfdXjjz1JTqAYjx8hXUuMPrtFomp/+uHrVmnpaSmp6akZqcmpmdk5c+Yv+F0r++BYYADn/peEq7gAvSGQUxPFieGmSy4cs3LFF6mp6fgRoxri/LibmGEs69bVXHXVFd988w1nXoNYfGzag4YXygY00lVrA0j0Jw0GokBjkGJcHw75vJ4brrv+ienTRc1k5SDPhem5iAdW+ua8/mp2Zk5qalpOZnarnDakLacUooEqzSKxOoVSiWtQDMx1WgkVr0fFI+aPPtqjRjICo/ezhgjk5NPnbPEsaIbjhdLTk5NS2rXtMH36U2yH8PnkkBcP0QA5wtuLJFu5VmTN9i2bBw4ciJfCTXPXu73ljFXxU6IAwaBdTdoyH66r9vlibrzh6qeeeorIO445wk0LY0Sskg8rd/f2Iw7pmpHJWfapbdq2ycpM69H7lB9XrAgGawhf5E8VyhTTJ9/p13+/6EELlbkv9q5wYxJRFWD58Yc/VMOXkPD8rJfvuHNCPKJMscR7X29uKKKHMQYtNTc/0r82vlJlsBlZuAzXBf3euBuvu+6JaTMwn2Jj2Iwh14mbg/h76IjGElmtPwZLygeDyCIWlbC4umHd2vLSrdOfeJicZuQqZSsn71pqN/J3xG/fvn3YsGF4oakDguEiIReOafRadKPVK7+CcshkAuZhWSjrvmSyMdGGBkVXJAjOEGlyQoseLNMRsK5MHGxHo7XY11+d/eQTj1FJkIweMEc4LQH3iph1rjdGAsaimEN9aajjDIGxY0Yh3nDGsrgIV2Xtk0u5WA9wRYbRFhecdsudyE0gpNM421uChzVr5ZNEkDv2CdrwykiEH6DuP3BLr7UwAgZDJCI6i9KqDPFtRhl4z+i/B8uJnGMwB1QRr3fpe++s+uWXkoL8hlrLaK56MByUZ51vQMfCgkGv+A7ZEzIVZXFjaxD0zJQFQcqngiuefBC2SMLJayx8U4NJvt91qWU2qh6rCmDRIsE8VjDBDRzlB80pnZrkItnkFWBPzFbjR++8tWb5t0WlRSRtAnWYyUy+ZO2djCX/LJkx8TKDB3qNdULNinPCnSfTRzGyDDYF4GuQGl4/cgk11YVsAkBO2q3VjEBxT7miMC1Z5yNSineJw5aQABsJYXZB6dQC+iXIbVDrV/zy8+Spjz722BOBQFVhYdH8+fMfefjh3NxcJCtvgRVeZ1cLvExKAuEqtpMX9wIqP70bNXLE9s3rV65YQepAzmtmlwPTAOJ78IH731ny7qBhQ/MKC8aMGdWzZ6/SkuJp05+49bZb5817g2wVAIYvyWayuIl6K1WCSaevjJw0Ertt90EJdKbh00Q1+HlJszdy0Sn3x9hAA3jtVa04KWHkhg0V1GJdeMyYMZt+Xbd+zTqURPDHU7AKgZ3S/aSigvzivMLDDzlqw6+bS0oD558/yqrlTaELZQWUgnn+jOdSOXuxE8QQOT4U95omBs/0IT6uHukP6aIVQxFeNGc7YXmzbgr7CbPSEO8h4xwJbwh4J1uw9qtqmxFeXMBOAEHwS1ywVK6Oo/uTq4hlVyY6/nRcafFeTLJRo8ZsWb/x5x84lUoODPE1hswUnUsuubigYNeS95eeO2jw5Zdf/smnH8mjCLsTE3ch5gJWMIsfQX5a2jTa4Cn9iiwtN9P3eQAAQABJREFUC3cIPVaRFa4Qn56S/stPPw8dOOiDDz8qrgxw0FHunt9KCvLuu/ceDqkBm0KXYBY1gkO6oyGVWa8lLOYsp0kirYlZAPPE0ah1x24oB/D006aArBklz0S4i3djH7BxatSokRxstvKnn5khBCmw7AKbo5mO7TutX7Xm6IO6btmybU9BPqe8TLz/npEjR/66fqMjMbgmdKVBVCwfGAcw/dkoay8Ef/juucVlSpUMKY2s2xAuv5m7QBeeQwXsWM31RNZQLY4vJgKh79RaQ4oW5D2NoNtq7HiRwoKTtonPlSvb0Cpqt86qjBzvMCEyQSuXC/4A4tpHjxq5df36lT/8iBOQEAvxYHlQaBGyFEG21K+adLYWFjITMWybXjgngDVSJfdCNmEkQyTAZbES6qnWDtjZi8kaD0japw+S5cJlNyFjTjyF4mIooVgkEvfATUjICW3Td8CwfqlPXIY2LYkR2II1DPHAEsEJ3WAdE2qlhlB1hT+O06hjaoNV2KmIMZEHmQbYko8GrOBzMihWsJEUGFjlZREQDZfUXkwhNpRAGzBw031lPELKkAAZqWjduYtEtM0XBRjl310abkbNaPt3j5rfbR7lfar6fUnV4LqLHLEvEW+VZqj+eAFBkMj5hcTLIa6Z/kYibLvlaDUmEVZPp07tjj380B8++zS5qSZv2/oOnTslZ6a1zUpePHcWCRz/OWHCa4ve5eBxdtV2P/ron1f80hCTuH7jthuvv6m2qvyUE495ctpjGVmZmamZUx6aVtPk4TgJfCOJ9TWe2qrCrVsOOeiQtLTsrKycBQsWwGu47r5nQnpaBirtRRdeSgYyVkd379rZpVOH9LSuDz40RWELpEgFzcQWkzWcM3fMPiVNZpIn9tCs1B5HHfLJl5+ysN79pN6rvl0ZHwz1OObIK6+5ocNBhxb8tid3+7auh3RJz8ho3bFrbkE5Tmi2eo4dPSaTE5ozMubMmXPyySdv2bll4MDBl158SXRd1e4dGw7tekh6Wmbr9Fac0gS1sqe420knj796PMbOGX37zln0Hrl4YeU/fbGs3xmnLfv4k5P6nltSE1tHRgnFr8KYatgORmrRKTOevPjvl3fu0pUlG6g8s3XOrNmvtm/fHgZIMF2szl2NWv75Z0d0Oqhj+0PWrNsCWTCpomJ8tdJ/PV5P/O3XXT7j0YlwbFKvsyZItjX+l3YYF1uN0wndXTlCcX/IZcoupYZwZWJ0rb8xVLht0/DBQ9JS26SnZfU57S9nDxg0/+2FLK6xFY2Q6skTJ+ag5mdkpKZl9Bs0bO36HXWcCYFKEBf903df5GRmpKVnvLXo7Y8/Xta5c+esjOwrr7i6ojIIPSU0VEMPgweeg02Vnp7Ro89fzhk0YsHbSyR1sDpjozy+xFvHXz198sPYtHAKkB0VTeoEZR9uIhpRWYnZ9szKijRDtl3IL9fA8aGcgRJ+6L67sjjDHOsjI3Xg0GEr126rb/SSEoNMUuzBeuieuzkNlQMkM1OzBvYbvHbNryCVyApiMLQGxaRn3auh6dVZL2S1zkxJzWrdruv3qzboeAj8rnW1b8959dCOnXIyWudkdZg7/z3Sa9BqU2x97m8b7r3txq7t2menZedktLnu+pvKgxXK6xrnxWwjCzynhv7juqtnPj4liiMH2PcrzyGyTmfaMnf4e2/JsqGDhp/b74wnp08Fv7VM4oSmO+68OTs96+H7J86du6Bjp66clNa6VYdpjz+HRo+38e4JtyRnZD00edKceXM7dzooKzWnTU6nGU8+F8th2vGpDCz+JGrnDEcCKggWjouuve/OW5Ytefun1WuZHfl7dtx92w2HH8QxsBnZ2e2uvOamsmBNAzQAt4qKuWTM8BOPOfHbr7/hWUpaalZ2Vu/Tz9JRBgpDaCzZtWPCzTd0ZVjTM1pltL5h/M0cMKUjGmM8GF5kvuOo+39cf/2MqVNomcOAMC0YKO1V5wQC6XjyjrN81xSu6ndmn7EXjFm/eRM5H0l5wSHBuZu2Des3MBunQ0Zaz9P7/LDyF/CFzcOkKMzdfM8/rjmyY7u2aZk5OW2uuOaGqmqQF/Pzd5+C+VP79L7ltjvhANdccdWnX3zevvPBbVp3nPvafCR7FHvvQpUnHHZ4K2Zkevr9j0wMc9hDPFQBuYV//v6LnPS0Lh06rlq5dlD/8zCIc3LavrFgWU2jDw2RA2i9MdEL58zr1L4DjorTe/cGLUcf3S09o/3Cd78IcVYMS4E+LxT7zNRJ5K/naGbAZV8xyS+Xf/9tTnpm5zYd1/3087CBg1LSs1q17/rGvPcb63VKAOGBchPBYC2FNCHDfCEKlqBcSBHhceHoMaecdPL333xHp3JyWqGXnH76uSzWI9NYFuY0ebyjaOTEpc2Z/UqrzIyUlLTWrTt99/M6+mYKpUSv/kCAWd6SIwq+4+36hfMXdGzfLpuZkJPz+BMzMPBgEIhVnyd29471E2694Sgs5rTUtjkdr7nm5rKqGhw8uIw50OaCUSN6dO/9+Xdf+dL9mdlpGSnJZ/zlLEJJeD0uKgFueeettxzWpUM6q0rZrURXITRHD/HSaNvsGYeBIBOloACL1pjgWFCH01SQLOANESUZw5+pLyrjbLJmqbSvwHIF3R0TfvZ6cwme0uf9LlmT/OmBPOEoEArBwhzAyw4kuIHpph4Covb5c2hIbG1l5YghQx97/MnyiorlP3xz153/+HnFj4OHnrdw8dvomyt+Xt4qJ2fp0qUYdctXrs7MzCbHMicq/bh8eX5h8bIlHz779HN7CkqQOzIg2N5RW3NevwGTJk0uDVT++OO399x9x6pVK2vC1ffcdQ8nMOzasXPdunW/rF1bGQz17z/w0clTA4E9hx5y+M6dO2HSqMBYUACsPVSN7L2XZ7mqqgrfHwtlPGcJG/UUOwxlKVxd075T5507d6Unp4weMRxBVVARWLBo8UsvvUwk1tjhQ4877jgO/C0KFA0/f9jPK386qMNBS5d8+NqsOQRijxwy7OGHH+bovhXLv71zwj9Wr1lBhrTamsZ2bTtz/CCPFi1cbPlF6z775OMr//a31OQUopLI4w0K2U4gO82s9j25uzjYrfPBh7HnEfUc2BFjuKh++PG7zPRU9jOghbG0K/MHkkcJ16Ud5cwgrzeNFVZ+jxjaf/uWdT989zU6pZRHzrbADal1HSliqHMQNClN2UNGafRpHS6O47Y6OGrY0EsuuLCiQgd9zps3T1tqlHyvhhTA8+e8nrt7z4qfVnIoXXFx6a233XHrbXdyKB0WMyTR65STiwp/u/76qx+a9MA9/7p3xowZhYWF48aNw/NMcyino0cMHXfJRVXByqKSsjfmzUU1xt4VUckJl4hZf8HokRvW/sLCJNyAVW4y02q6o8yzJMYWGDKFs1IAU4yOJQddbagaywnJ/eqs2YX5Bb+uXJO3ew9Hbt5y26133HVvXlER8VM4WV97eVZRXj6rgwBcXlp15x133nHHHfkc5om1hxQkkSjnyBI9Eq5t36Ftz169vv5ueW5hyTHHnsC6N57aX1evfebpp7/64vOSopLXX59z1133rN+0GZBxOHfp0P6Ga6/5bcdOTmosLSkiMdKAQYPMnCAZhNQmGPiY4UM3b1j94/LvmZtoCryI7wVtBVfDzu07fl29ZtDAgX169+IM++U/rwQedlBMemTy41Mnff/99198/eXa9Ws5jTV/T26KxzPlwYdZoHp40qSp0x/98LPPvvr62/XrNnAuYN6u3Unx8ZMfeThYVaulEx+Zh2De7ObVYjvOL19i1JlnnvrhJ8sgr5ysVtdecfXWjZsDpaVFhfmtW+ec3W8AJKY4rLq6N+e/8cvyT3r16MlhghwxW1IW+OyzzxhZQrOhqJz07FtuuGnL1k0g2fqbPGDQYGYW1IujVGpiVNOYkSM2/bp23ZpV2Azs/oLU4KXyd7P/BM6FWBKPqH/26emvvPJS3zP7NEFc0U1ff/nNbTfd/ta8RRw+Sbuffvrp+0vee3fh25SFw2TlZF173TU7tm0vLsjnQhU5q19/SKZnjxNXr/g0b1deelJawc7tocqyf95515IPPnhrwdu33XZHBYSNE8aftHr1qrKS/BnTHsMXLBNFvEysvdfJp+Tv2oGw6T9g4BVXj4ftzJv/JuO7adMmbBbi11989vkfvv1hw68bCwvyFi544+lpjxeVlC77+KvzBg/H9UeID4vTY0cN3bFl3fLlPzBDkdCIELaOnXRCt+Jdua2zMs/ud+5lV1zB8ZKzX5t7z4T78SIgS7TSL++J8vmxTo9JxZoSsxgzS26t+DgU9G+//vq0Xr3LS8pIFVhUVvb111+il/CUaU7wBc5G3AbsVmvXrsOJPXr9sHxlbn7Rid26Wy4xGL74sC7ZK+Lm+iQ3TUPD/Nfnff3Fdxs2bOAMbg4R9KckT7z/Ph6DEwBonZN94/Xjt2zeGKyszMvbQ76u84YMY2ckngPChhYtXPjjj5+fdtqplVWhskCgsLTsy8++4F3czjgzW2dlj7/q6s1bNpWXFRQW5rdq0/rMcwax9QDtB4lgF14VCW4MCjoioA50aXAc8HpKP1q6cKDS//Wec5rvV8QJQxgluKZXUDwkC9bMMxetoCNCA4ggIL9lQkL7Dh05NzZcF9v71L7M9o6HdTn/olGbdm7Kyk4LV5RVByo+XPbx1ePHc0I8x8y89/7SAQPPwxJIjE24/sZbGKvjjjqyU7t2uXvymQZ0Ga2ZZI/RMb7ep51BcEKXg9sOGXb2lq3rvN7E1as2JMb7u3TuvCd3R224vLB4T9euRw0ZPAotd8TIYR06tmMGEj1FNaAQl0kC0ra2SvquJyVcQwa8zM4d25MKjkYwPnWYY2LiGWf0RbIzw0uLigcMGtgqI3PogAHr16/fteu3rVu3Xnn1VYjV+vpan1+po+FKSG2W2XJ3lbPDqveppxPk0fmQ7KEjzti1ewtbOhLj0845ZwR7PY899tjtG1ZXlRWy2r160/Yhw4efeOIJn320zHLIKW803lj2fUl1xQiP8aWlZFE9AcFwch0BRwC2jLVYNmRAVETNnHTqKVt3bc3N3XH4oZ0owpv8gW3zwcb5UpKvHX/Vc9OfxPzFdap1MV8SNg37wCy4XrRFYQ/Z5whe5HxFuK9CyeXLhX3DcpF2bVq3ev/9JfiIEj1kwa96cvoTDzzwUJfOXXFbJcR7+/Q+/Y5/3nnjDTcTN5UQy/5fqBMYawcMPPerr77qP2AQOlzPXt1BFJs4lc0axcybTJw3hN2pQ/u3F705ZtRIk8GoiNAUuXIab73tpqmTp+K2ZCumvCvmZQ3XhRQaoJUHvBMQmmIiiFhncZB1rCdnzLzvvgfbt+2Q6kuhp917nHzHXbffdtstTPja2vDTTz3/4EOPdujYGS8h3pY+p/W9cwKy90YdOIU44VDUEMeTBR97bMqdE+5e8OairocdCr/GfGXjI6R++LHHLP3004y2bZCcZ597Zu9ePapKShIxtThAvSEmp01b3NV15GBMaLr87+OwzxuBmiMRPckkWcCZneBllWj8k48/DmAgTf5C8fGG6HrW+b495aRuyV5OcGvs27fv9GlPs6Lv82RhE8ayppma/NQz0xKSIH7iZuuvGjd66aL5gSpyhfk4EzO9TbsnZszwen2sOyU01l112djFi+ZUVFdy4GE1C+9Kw5tIWCUZvBTI0Rg+4siuyt6ifeKpnTofic2E+5SDK8eNG90qOwe2QU/xDmFMozwg1tnYQu+gEJa0yFpTU1shvhOT2L7twfAs8I8df/nfL8W6Jckua3Eer488ypTxeOOvG3/VY1MnwR/QMBzD4lWoIhgqP+KwI1ulZrdu1WX12vXrN63Jap1ahzu+sfGZmS9PuPNBnyeziVyPuLai46656OI5L7yAmpXgTw7HJ2d1Oow88By/CJ+/7LJLklKSRUOKP4rpdsSxD95xZ7on5pAOrUaMGHb4EUd1aNsuLTUjEKrnaMdQTHy15hMxTEo/j6kjX3ATh4WisJKYGQ93zdQnnzhnyCD2eJ/W99RTux/TECxpCtdwwPvzL712x50TfSSR9Ho7tM18cOLdKJ1URro3tvgRW0owTqLHc8111zz++FTtPYvzVpOxir2C8R6CMhuqq6e/+MLZI4ZXhcNnnHnm6T17NQbZBSGljNVWInEI42Gg5IFETY1mV5+OJkG8MSsJppfjS4INekHf1J5xHfmFvezDcaKg1kcnT+GM5tcXvtvpkCPg+0zzppoqfHqICfySeNjxP8ERzOIhbRhLXVXTps341933+b0prAuy2HHZuEvOHzWIQwalRMZyIqCnTbtOZF4OVlfhSL7y75ckp3iJ1iXjFPYW1gpqEXlM6sIkhiYnQKKxo6bqcCDRB/F4unQ+jI2pIBmDY9wlY1tlZyKAtG8EYrOLVjDLZEv+1623+0md/x8/JCf3kYfSprgD0KAV6tRTIUu5+/CLhNnvVldLQDRa5Padu1f/urZd547wWzlOlMzRE46KCeIwaorq0qVTqidm45qfN27Z2rvvma2ysjesX4fqdfTRR5OeBy8MW/cTOKqIdH/VIel+mMXYSQgYPAAMEmMNUrD78GQ2hbdu2XzZZZdt3ggfzx3Qrz8HswGibHLlB7etwfie/KTrx1nCsh3mDnXUxrpVmbiEXUXlX33/00Gdu9haHZm9a3DEx3kStSuIHjU1+JJ9q9aszS0t/S0379VZs5AiCC22UHh9KL4eW8AgTodINh01hBiAqLH5QAtrA3CE2roqHMuQnRbc4zjl0X/r9VfPfnHma/MWHHLUCVRCugxCLVAJdQ6UdrAoqRo0DiP5dd26ytJyaEeaGj4hmeHIKA0AE1mr5aCfCDp8D2x8IUAJw506IFlWetBsMYzqwmNHj9qwesWq5T8wiXGrs0FXzhxNCq3igEMGUVo2zjlkF/55Tk1NSpn82GM33HRTampmRkYmztInHn8MnzuGWH5eYXFRedcjDpUjkeCKtKScnLRhg8/Ztn0TfI0aBCK1REUxmtArdM13FB0Wk5kj2FUznp554w034Spu2yqnR/cTZ8yYhpjhxKOaanbXyOPLjD1vyICt2zavWrmCZAhwKCCUh5t9M36OIOGgEuxmAvtQNhovvWTcqjW/FpZWFhYFuh5+ZJtWrVPSknEZdWjXZui5Z/6WuwNuvGfX7ry8okMOPTIDD0dWVnJaSlpa6tAB527ftpXZJnJh4TPRt379uqUfvHfQwZ2R6JA9gWGKhSRZB5wGHYokrH4v+b45eKwB2Qn3g8Ca4vbsyR8z9iJfKs7jDMJcx4w6HzOCwztI6YDgAAHMCqho5MjhW7dsWrH8J4JJcL3bzGepqWHiAw9NfWwKAQ6paen/uOWWzz/9tDC3sDYU1mJwQ8ORRx6JrUbHccrRcW9C1MGdO23bsScMs4pLOOKYo6Aq5CwJJBDG8QlNhx128IYtm8nBj4OLsYBwWLpmaQb/NP1cs+6XQw7tDHPb9VvuqFGXpGVmATPSCzOCw93RRfFfE+4QqtY+SjQyLGdqZaIpX2ZdyJsongyeh40Y603KQHL7k9PGjB5RVlIKN2TDkPpLSIIyGEVdfOHo1WtWrlmzilHFhQCBASlxRb7U1DWr1xUHQrNnvbpt2478/FwFHsPRGpu2bNvZtl0HW/IBezr5HBdZYV5uaUlJqDZcUFw59PyLvWlZ/nT8Zv6xY0dUV1dBWVg0QI6cBgmMC6AixTmCgJBebEOYTzyaBHkpWY7gTGB89NIOEIIsTRAN71f29fp6MgiffuZZHOejdTT4A+cmc8RzQlxRUUkyTsDsNtBwLXkDGuo7tmsDSuXEjFYcJrVBHiizY84fuXXT+rWrVyHNYzxJLI6QGw67Jj0j9bju3RXA58WfTfAyi8Haogq2EMXiYNrCIDcfx0swbUE484jJyIDhlWGNinEkbJgXqQ6/v55wcInFvq5b++uHH3zUoWMXj98vY9dW/Yiwp37xZktT4Bi4JqUZZPgqiMfOyWktSWN8AvfZsccfZudcQtuNeYWBAYPO96dlZrduk5WdM2bMMII4EDcs/ikemFUY2StyVid7k6iBs4owJjmhpa6xdteuvDGjL05Jb52emUMbo0YPwVcFKPSbJFlS9emqmYcQg/i6DKz/28v8kibBXTtyW0pmWeCN5Jd+QLVMcNZzcRZpzyZ7UcNNA84bdvNtt7Zq1yYtM41dWV9+9DGnu23cnvfmks979u0Hazt/0NkP3nXr0ccelZqZ9Ze//GXOrFm9+5xq2RBYZEOt8ZBDpaa2GmcRceAsvMmRFRVObeWNSqj/7POvGPEd24reXrS0b98zMIhT0/xkK9/1254fflhOBgd8Izt37li27AMY4uJFb2/dtqkmHEzwxqMlwb4hAtKRIsZAYmWo+qzBQ+99eBKuXQgUfzTue1gjChssg9D2tm3bQEMvv/wyo4X7DvdCm7ZtAfvlV2bjHoyJ8hNf1hSDTiydlFjqtPQkdsxhf6Ck7Nxe8u7ij88++0zS92iLDNsSlZcv+vRTun3+0dKF7yw9d8j5bKP59quve59ycn1NkJ1bMrB1ppR8Mp07d+7e/cQPP1ii6HeWQQCaZWnIgPmDhkWsMLNFZ4BJVmmp2SWUUoAoehgTI5ZFBsLVcA/edevN06ZMpnxUbCIGKdyOA1eYUfjZGDuibOFTG9dvICwEZVBVRcf06tt33cZNJeX4MEpfn/3ql598smTRu3i923c4LLtV+w1rN1VWVlRVlhcV7y4s2plfvmv58i9rw2x0xVOl+UhgOXEhaG1wPfBM/ZAK9ELvevTouXnzZs5D2b179+zZsz76cOlbb84HFsw+S4aE46iB6MPx117xyKQHmDDaG0AiUvINxsdzuqZUG8JoOLiLWONEcIVFGt263UFZOe02rN1SWlQGyCUlJbkFuYXB0s8++QBNtEuXLu3bdVm9amN+fmFlVSXHNpQHykorq77+8iv8plSLoA3V1h5z/Amff/55164HP/LQ/Tj6CARilQJpgz6hWJ9YrSDW1oe83hhUZ6I8kelEqw8bPmbIsPN37dlZFiiuqihe8OYbWelZDBJByrA3mBYO0nhSX3jib7ju2scfexTZABIk0sMN3/209tjuvYoCZUVleD1/qygvunj0mNdfeokFBDKQonlv2biJIeK8bBYsoVzOCN2+47f27ToTYMuEWLtqBck5ULZAL4SNpr/5t+1dDu6Meo3Nyu5p+q5DiwkeZgttY0xBSWnnTh3giIMHDxk5clRubhHe1LLy3QvfmpuenIxaw0AxRVChtH9JKj9HfrOWxtg1evFFsp4frh44eOj5Yy/Mzd1VWJxXWZW/YMG87LQsljk8RCUgjMyYY8rQy9v+ccvkKZOgP2x6KBZOgYGiY6yVNy663zkD751w798v+1st53rEJaFNdejc/rc9W9mNXVsbggNAw7mFeZ27ds7KyiD2ZuDZQ0YPvyRvN9gKBAIlb785z882T80XbCoWt5ghBKLE4V6PA5REjlmoRqXzIFyJYoGFEFKmqI46Is7ICo9XJsGXrNB/grbsRBsUWztDnJ3+GMsE+NCXppxWrcsrKvGLkbnAPNnReHSrQkFbJNWZNV7yzeP5R0dPSPjnjeOnPDSR6ROq48xxnRfOqg++E/RUuAmbNLHbyGRN5A3gqF20TMDV6ZX4xgm3l9ODD7RP2IJEocdDBLgdwspGe0SafBJMLy6YABzh2BO6ffHV10cfeeTkhx+WbUfOeDQURcTAJ5AVkl+Qjf6xC69Zhw5d0Btw9NWxH02RGuzoD65d+wuaRBTfoxr69Rs+5oK/5+aXF5WWFRTsfHPB3NSkJJRFcApUOlsZyAmOQUPQyp1OSmLWc6wPU3LggKHDhl+ApzevcFdpYMeiha+lpTKpWRMgQojVVm33UEyedphrVkXA+r/8Z2/naQXpBSr44wvuaeY99AP7QxORozuqqaqmun+/s5N9iZ06dZk9e/ZfL704VFuZmOyfv3ARaw+se53Sq++s2W9kZ7XFNdTrlB7bt24846yzQHrPnj2XLVsGr0dTgLYIbgQd+DI8SX6UJD8hgrhQGRXOyEvxLX5/8R133A6bOLl7z9mzXm+V1faE47q1a9eubdu2f/3rpUcecRQMg7w7zzw3429/+1tmZuuNGzd37dqZFVR0MrQeqIUYG4606T/w7OysDATSi6/PHjZ6FHMP+SFtN7qB/QCEr8KJUUDxg72/7MMXZj7XJj0zOyXlskvHYSi+NPvVuXPnts7MykjOePvtdxJ9/kGDB5/Vt8+FF41KT095573FN954Y/sOnbqffOozT79EEAFilT2m4cZqdGqaPvSgjqf2OAn98JhuJ4nuOKSd3U9NqN5wfGKvtQqklYn6hueef/qthfPfW7xIjgQEQlTUi7Ne7jdwQFFRIcgXp4iLY+9Rpy5d2rZtv3nDZuiWm1yYgJxUCV/ANQELHdTv7B1bNq7+ZRU/mTysTBx/7HGrV618d/Fi6sS3/vGnn7zzzpK/Xvo3VEFE5HMvvTzmoouLi4tNAsWmcn6Dz4PChSGJAjNp8uRLL7900+YNwVAlyz8w+ZnPPDtq9Eiki7JiqQaEFsmbkDJiMsxMeL+8lLGxL7z00pgLxmIxo6HgZUonaD0llVnrLgBDLPPBKxeMGb5j2+blK1YijOX6Z8cMymAcuXyQsOCGE6dYcCKjthdPLXrxo1On/v3Ky7ds2yx93xLzPPvUs+MuviRczZFOcSwgXXXVVcWF+Yr4Yp90Tc0zM54ZO/YCyBivJtsGYxM46UNLVHfdNWHN6hUPP3g/xgt7ZSBFJi2zDSqnLz4v8fEsb1Ypxz8JCSHXhsYjjzmGTc30fP2GdTeMv664sIi5jYLgQYyw+xVYsTKamjBZtmzd+N1332GpICDJTzH96eevv+k2+gude5O8xHZdc+3lK1Z+FwoG4FZ4dqhq/NXXVJYGMD7jYhNnvjxr8LCROZlZ8A92upYXF1x95RWBQBk1kEb4xdmvn3FuPwIA6KCWfDmQjOS/hHl4/IGq4LMvzepy8KEndz8R+xubpEOHdsqb5PPiHr/yyiurygOE0NB9qN62R8f+suqnrdvWe70elvoG9R80etRYZjq9QG/t2KmTNykZ82/d+vXXXTe+pKiA/iLfWT2CN6OCgChIfeT5Qzf+um75zz8x+E6JQX7VIYxl48pDe1rvPn1O6TVz2lOwD0+874abr39o8v1bdqyP8eg0rPziktvvmzjo/JGggnBwtK5DDz6IvQFMVZa9r792fJi8TNUcZcBKNpGpKF8obezq4/zYMGmjtdOEolj/6HY2HM63wbGJSd5EBgWRz4IqHi25JZQZVcaxV4qLznbAG4HHN97r+9sVf3vg/nuDlRWQ6M49e+7610TUJIQhdevkZUvIJGdgdPSQ8wbu2LZp+fLleIhY4BCuiK9HX0ELwroMVfvjWBTAV8eOEdQDdDqUAxQyXwKEwkIv3E9+FLzbyhcjfSIc3rJ1A+4Bbm7ftm3k8KHjxl2MJGOWM7sx6KFagmBvv+XmzWtXP/HoFFz1jCk1y9RR992fY96KSyRdCzPl+huvm/jg/bh2oG10xBdffGnhW29RiFkDK6Avhx95NIoXwg+F6dprryWmQWKWGG80G9xpDQ3btmzatmkT9e/+bdegQYPPHzMWCOEVOD/bt+/IzgGP1w9dMeOqysuQt3hBAQmtiCasg5rg0HyLcKX1/6ur/4QpGxubNuwpLSsPlgTKWbQOlFVUllaEKiqZXZWVgcLigkBlOaptqCivpgQFuLQ8UFlRUcG8YiWyrJzjN4vQewPFleUlNUUltXmloaLKYFF5cU2gqKasUAvsVdXlFWUFpXiDqlmSqMkrqyMcuKK6uKyqtjwYyC+gHlSv4rJQVUV1oHBHVXleWVl1UVk4UMG8Y9GZuALqI1I3WFEcKisNlVSEiL8oLS8KBcsDpQWBsvLispqSQH0uUFSUB4MlVSV76orLKvOKALs4QJB2iL+yshJ+BkqDgFpVVFxZUlJUXE4TlUX5gBqoKCmrrCorqy0qLK8JlpeX5BaXlJVX1tAWWXZC+XmhooKiQElBBSFahYHi/NKSYGlpTWUgFKyqyC/JLasqLS2prCyvJaajoqQwXLzr5qsvmzl7Xl4gXFFaBhQgMRcslAUqA2wWr3rplZdZMK8KogKWrP919fV/v4o4X+lfsVGjL7zoN7x5FRVllRXAGCwv+Wzx221TMlJ8bb76cnWgPAjuwGpVZU05CAmwobu4tHhHuDzvuSce7zdwZG55fV55bUmgKhQo2frrij69ukM6UNWxx53wzfLlhWUVJRXBouLS556adsHwIT27d4PZMR3I73D/Q1OKA1XlFVBBMdj8ePHS3qf0ZFkOHTTRkzThvklFFTWBilBJceH48ZcT7itope+wgh9z9DEnBEN1pRXgpPiF6Y/+ddTg3j27Qcxsb0V83/PglD2FpeSaqyovCQbKK8CdPgn42D3tmelnDRhTVBIuK8z9+P258DLqhFvHkdIohnBeHBhxyZ7Utz/8NL+SFejKJQsX9u9zusVERyWkpP/zX1MKymsCVSXBiqJQQfmyt5b27dUbtkGiAdK+3H7XxEBNI4Eb4PmpJx/0xkSdcGS3QEFow+rVOZkpDvjb/nkrixyJCqxK8Pszf920tbBgT8d2WWQop3O3/vPuguLAe4vfyUhKYoGOvzN69Zj72qsp6W0T/a22bSkoL6tm0bsUuoIaAyWVpYUzpj/Zf8T5+eWVJXlFB7VqF6+X4o85vmd5VbCoZMeV14zVThiBGPXszOnTH3/0zttvmzt3flZmm4SopMTo1AcnTqVOIn2KS4ueefaJf95x07y5r7XOaQN4nsTUiRMn5xWX51cEcovyurbJ1tmRXFI7cIKmPPfccyUVpXklBZXBivcWzM9JSsbUpJu9+3R/Y86sVukdknyt123YyfytrSgMlex+5YXn0ywrYGJC0j33PkBYaXkl063onXkLs3wZsGze7dPnxDmvv5Ke2tbvpb95TJ/S4pKKANb7nmB5YaiibNqM6WcPGVYQYHiDv/z4U6vk7LhoX1R08jmDR5eXlTAXVv+yJiU5c+DA0cwXIkR++fnbXr2Ol/84OuqIY7t98OXyPKZsKFBWuPu9BfPapqWyVAHSTu3Z+405CzJS2qd6M197+XkP9IaxGuv9bOmSm2++hgO2zh42ZOPKX3JYNUrwf/b518898WRaTBSGJGoi5BPF0XEJGQNGXFRSVvrxh0vYWy4cpbRa+tmPRQXFndq0keUQG3/T7bczLsGyyhenPU2kHa8fd1TnJe+/2/aQHku/3BAoC1eWwOcIVqug10Hxjvxnnn6yb//z8gM18MmP313CSMK1oz0Zyz75tnLPnkNbZdEQvPzquybkVlVNmzo9JSouhdww3CSsD697TOKQkRdQJaioLM2H+cye+VJWchb1oG/c96+HYCMV5QH4zwtPT4aMjzv+pOLiqjUr1rbObIUrjE7ces/9hVUh8QeCymA3/JWxSiPWXVZRhNekJlhakZ/38lNPE5vDVEqI9U28D2/2JNDKqn9FRdXiN9/JSs2GbGITE/qcdsrrr72SmdHW489au3FrIBjCNqsoK5z99HNtknISojDOM/55933MXlg9vOi9uYty/JkuX9qpvU+aM+e1zIyDvL6OO3YV5xKWUl5QHqBfABcqDwSLyyvpqYD7w5cCzCrUJ3WqrAQ5WI4THMFUDgBV+mq9hVPNnL1g2A0P957wVjQy7IkH/tGUV9bKj/YkDzWLy5ABKgkuZYUYJCqiASshAZlK5ko29DD82ABKZoxSgPMUvZyUwBjyqLny+OKO8BDgqeyuCeyLQhNg0R3FJ1TTyMGACbyPfYu7FT8AQ4usRjXEXRxNUqh6znAgLgDGRa31jUFsNbwEaNmsWqBMRUsrkf8MrauhLuhJxIBDq0mo0f6VBtbJyCekg7Xx6dJUbEwtIbY45exEElayqYI4IYwIApHpYJMyA9WTQgCPt9xhuI+jWO/BpxsiOyxeNVpEIcJhE6+UA41VJBvAmUFGPC1EsV2fPpCxsAF+S4YY8hKi5WEisJclb/vma66/6dn5S0hOk+WJCddU4YhEBWZBTjDERi986+1Ro0ZxOpw8+FpMAOUxUb6YSs5pjfVJo2ElngSmOOhwqeF2wkUTk0L1lqUhiOGu8pyHAm7jgadO0RR1Mceees6zL758wvHHJXDYd7iSDVXocThhmK7VbH5C82JYEWiob+i1rCSQ9ZVPoiJpQGlBsEuwhxti62QC4qVk1UTxwACoJTwsyRBZk+z4Yzzg7Kf2oiBDF3h5wCSjxEplY3WAZT+2m4fITxafSsUYvNoQ1VADFaHbmgkF3ERINhLvfeLJ/V947rnTuh9ClHMtixUAzCEfYr7UxbYmrZ9Wy9ffEN9YjbGN55EjPVl5I4yd4AgQERUVoKi3ySObUnRFKzBCbxDbXusiJD+p5mhPRi02OhnU1taW4Usj25IoSgsUJKKCYWsLIwsSMU3VrHXK/vP4OdMePHDoFv4gwlkxfAAKrHHmu3L41gaV41Eap53kwWSB+Bsbju152vMznzv9hBOhYJYniX0Ht5zJmZBIxAoHWHhoCI2cFaZZL7y8a0/BhLvuxoyL1x4dIkspXBcfXYO3e/bs13btybv7nvvw8GgqqXWCqjnTBLOuFjcu8UEscsplw0qKrBLI0pZ7wtVeNvHExVdRK2pAPZRLOe3rwMeFk4XNFVprZLaSgkYHGrOcy34Aotxr5AfFzUZcpVBC1gamAxPHh7lZFw6BNwBg6ZNJwaHPBAdVNzQcf0qfl154sedxx8A98CbJ3UggTH2NLw6+oeSd8QlJNVoqxcUfYtcwbJV1RsJJmuK9xHViDXsaK3U8iyYZ7qdELE7IEkTIy4oWxPp7Hc7SZIgGVsHqY72XR+GkWoYhrob3G6L8BFBUh2K8bF9hxAhAS2TvIZaKpynUhBM7nvNNYsNMVMWxVEHktdHx4JGJht/Vz3IirkBWHL0J1TGN5dVNJ/Uc+MKzz59x0hGNdVVAi9nH0LDTiANZAKX7aWc9+9TTfbsdDx5IwYejmzOSMJo99RVAGwR1HIOgHdYNafC0YIjVc4UXw+m0TpqIwQ31aRcqqc6oN0obsLT8pnSvRLQksKlGe2C0McZTx6k2bLrR+QrVPGI1sqq2TolR3G5Is8MYLHVESqUcjGwXwN5nPsrpH+eDUjCIm3CTKwWdDjqwTaDsjovDBc04IpDwGUIgDHt9VBh/ERsl2VKgwAS2O7HBGZdzI4deyhKHkKCEaltM1dlmDBZbFKCS6KrYBIuYo9k6EmlysoE8ifKlCqo/egkPyB98d0yrqIbUtJRAoBIGA8+mChgdExAeAq95a/HSD37eUuQ/FJIQE8AIpR2+wYWNKfDDaNqOMNAT+Z8AnHqhaSYMWCWKHY6vqBhux0bpsHMWT5knWlqVvPHLbyulU5XCY/GuUFLZammOGSf3GcXIZUm1eArEUpE3rC1CHExJqqEk81LLLBJdSsqmLlIa+OI4Uh2JKycDzAdfPwMNDLRG1Wwr0s4cKATCpwh1KbqbySlXsoJjIUjCsfCziwezpq33iLfQFy3PWEHZGDBGBlecgiUKZBBlwC95VpFeYFurrDBWsKz4EuKIgpdcdilRiIvfW0ooGhOXjQHwCMMgbIE1A5nX1IXrTauD7BoHZVqQIIy7Hv+/S+oJqSH0mI4sYWhnpBRXdj1rTyKGPN4UwBXIAoV2AQ+NK27lT8vh4qJnIpktoBw8UgbegLsf5CnGHLEDUxKHEsAMpsQUzfAJC1SQk2oTmyUkhBJoBOKbDIaO8sOLaSSlPQzaXiG/PB2SNgp5IHjNRwGYhIbqKCYGGKLiLXrogs7RXVS7FrTrKbNyBfHoSETW6ukxziH6CgxyowhyvnIHHKifoFntIRoABp1Arnde5i6eQAogrui7ugxsSimpMBlcUDhdtaZIb5E4yvLMbDDio3IG2Ck2mijUA2Q8ozvyJoEinI3ulGeIiP2OoAb8AWYDyePh1rBawAUvFER9YgTjVq74SdTDAVqII+SfZhVnCqOGcGwUvFrhQMTbEECmNbCmWDaoIWuqm3QmPT5CLFAyzwhYJWj1V1YT/cQyA6mrNW34MMKWD5HpwC/oGMmvQZWxAWmzXAqaoGscb2gtaGxEEDA4whzFeMMIVh4wrUFDwEwzvLNgifmHB0iVcsvW9vnCsEmUI7GgBB5CHGzFZT2MPfsaZTZJ6A0t6MOma1kRIDpRoskYhmZeYzVLP+CZO4wyBeEITFke2JCLcRmhaEUNREobFpNg6Zr2gAcRTvoZJCJ6KDoYqjRreFJFyakOMVEZ2TAxZJRsimgEebZIbiHihFwUHyjZjiRgmpHeHnpnirNcwmBh23FKC0sARHhoDBGuCxctSk1OPvaow1kMZdlMaTAV6kJxtiQTEJP48w/fM0La5g5CaQYhyyq4aSUKeGayo6BAGMxY/OEJ8WwH5D9oWCsJ9ILhh21Km+QdMI1toD6BHIGhDsHV5K1UFXhNYdlgM1GilJnpQx9khxM9gog16FCk9DONo3KQcofT3dBMWBHEXSnUggMdkhPjVSSjMKSpBUNGA4vCNiEMWIDI98ncQcdG2QA+4MSqMd7MzISlI9ZgVDBiAnGRhcw6bBAYh/QfhZ3hjKcqwKF2SAssUyFd+JMX74meDYH0TlQk0v+Pl4SbXb8vxPBrQu9zwU3cBRM2LgbHg+CA05R6tnaa/IPGUXHFKsWu1RnXD/VHs4jJBFDGLWQI0GcNsAZEeDQGD0lSmnEGHbrs042X/QYQyms6w23F0/hT5YgRKrYiCjnVJhE4EhxQgY50B9rRi1yRvhg8rn7MBGtREEZapFrej8BMvY7l8zYUpkYBw1pXhS0XgeCsFAILYcghqD5MaJMO55QOBxWg7mkxXBDByiUYYZNCgDQpLjUvTMFx+KWOAzkiWs+gVN2MDAM8DthAArGMYFE90hO2Z9FrVWYVuhf1suqUtKOUsCGUWY8cQvRDKBXS+M5Xa13dVEEh3/61D+YjT8FNZID0yNAqJDMloQpuuTtUCECunr3AiH6UDYS1eiqHchhHTXw1pBehBkaf75K5IJmeuv7SEjQj+G1obHQoYDBDTg5OvSMhzNx2aKCP3BOUDhK1AO6ta7qtSzwBWNQoF8MRgVYUJWBcDSDJdY1/4cQRtPACfAhO6+4YVKLkCHkYVoUuxJzsDD2CDG6/Y8LMZ19G/Z786NQzB/WbP292HXFJ7JuW1dg0YcKdTz01G0P0wUlTz+3fb+7s52lYWJNyphqa5yOkYrfhJjwUonQJX5pHdBJ80TX6BbR8ql96pMQr4Kf5cphRMd4VKmjFqsINZu/qdVeeGvabepC2yjOvDVfCvlMZBCdg8hTFLIFfYECoUmEq5wbKCNihgEunwkP+49MAsGoNh4JZE5ny4FBkoWdqFX4MMMwCYVt//EapRDVFyEcGE6FoOHf4oXZmQm19rceb1BhSHnCEyaatW/qfPaCgVBtVDzuu28yZs31+ZDypcEgZwJ5IvCNACyGzeRnwUVxE1tYTtSiWLVskglvu0LZ7imJlUGqmwzeogj7YbDJJ7UZLXaEcCBSPMvQyOoKU9cdgTTUeSOxZH4t8lUG/z6eYddQpapGMkvLOVzE8lGFM2PrqGk51SbAcYGHOZSbuUeIWPFNCTFL5H7jEfwSKflChppSaNu0fuan9v4Zmuw8wjKa64MZGFegSVbD/TTaIKtSSiFUi8K12K/WHP0AvMsxd0Ag91DqrzJ3/WEVEhlnfbDAOVFJdbcY1Aw6m2NfkGIcxVkCHdWpOaewMJ+qBw4vxaOnr4gJiPyJZiTHhC8eMkaIbOc07bdIVnnFNY41RxmpC6+H95quZ0Wii2vxxgyGuahPGpizQYKUbBVGMejR8zd1w5MVd1areGcHww4bZ8XGZeEZbwGNSRGCrOUGlaROBTe+aOasvmHHa3BrvSWFLEy41TA0X1I5LUP7JSHdIYqOxYcCkGMnMASHoqFCSQMKda/iGFcDladdOmxWlutYdIgStfRPDxU4Bx3Qf4x3IgE0wqzuqSpUDs2kV/HLdp5hNFMHE0Lj8LK5T4nHCDN4Y5SvS0Ipli3NZ3/UKctgAaFY4HHL0PrNRtA4QjBQ8yHgHv9zMEWz8r3qM4YICvru3RDMCT5zMMCB6ab5oTpxCoIrSddt6ygvMLiEQiIUDmSN6ojLKQaWSeqabatp1H1rlh6uBjuiB6MfxTwwtEIBR4JAsjInY1Jm9ELl6rI+8Ji0EiqMJE8mChylvTfKBiYY81mhaF2gpYcpjTz70yJPsNiC1nscTV1tdyRZsrCjKgPCHJz/28KRnOOAIDV++e+xUq5m6cCmiKCDFDP+acQDFT+4CoLiP+qIWuc8wyUiUTsmj5h7r3ADwr2WayEUcL8jhBQ0xc5hPLpvMIENZ1+kfVGb3rbOiELOA90EJ48LoO7ZoRMVICeGwIDwHUuRscvEpROonFC3YGFO0d8DjN9YG9pYNn2CIMFx0HSvAfaQH71KxI0gcALBPSvIhXqyXBCihY5Q0FkdZkZSCIeTn0DptTF11FamIMFpw0nQ4qOvWHTupECuI8GKd9UU+OXYTENtcU8uaG0jF84hviJYN+pha3GoGpJsIIAND3dQUvBU0gfXDWAMWYkubw+y7IDMMQuciJA2M5ot95YOOifq5KWFPX5C1BI8QEI8zGScXcYybN2w466yzSiuq6J31Wi8JIZKRsYcd0+PLLz83JRlBhgCLr6kNsNLWrBYYxsCNaEYULnBw0yCBjDaohG7xCCJkdEwzUJ91gWR9aRYZmnYaRHvkcI6nx52vbaPgNB6Hfyv1Rz7gijK8GFFJLyA0cabZaUg6UBURgOyRA0el+b950kZeAlYeS2QIJqMfm/aGA5UxvPMvbesX/YcM7IvdEJIjvyBf3uKnDaqmmx659yKzSBgBj7Bww6w4CDd0V9OAr+J08AvrlhXmZvPFhHOot/nmyJ161SPXFO8a6QgrbgygBpMuYgEUYhSFQ2tD8jvyLvdol3pMYhk6DBKITm85LONiwImHp4XtUHXhcmgoLtGLGCPWiAkvRQkXWCzHpFazTQxHN7foGe/TpqMIQRUBjIfQDxwB56E5zcTfBY/eMoRYp4CJG+oTNenxv403oKsdgzMiUaRS6RIGrLP2iw/dphX+sVZUn+M4VkA/7UU+HJJaYInckScWpMmLqIKifL4YGg0wbro6ecgXGAEd13c+cRaZOJcsd4Vs4qi3utRbijlw3XN75EhDfeSR6FMldFMYFefV5fQk++pAByQGAzglFSL3qY7xo1F6xbu8EwHXykhWqkH1S5d1KqJZuzt20wZDCDc6pJg9E955X4Bxg31akCnuNb8XJ1tddWWVPIysAuGV4kyvGDgnEdkcGUyeCFijdcTqsaEUrlh2VWsaHUOjm3EOFdKK0T9E/M3Nq1H9mYsGWhFzd9SjQtxwXMzumd4jlOh1e4tqxYZpiNvWC00ixoiBtlHktvApUhH+jV1Y9byiMq7jViFVCYEOw07SiKs440ANAY3xTSkNvIv8oy+qwdILOklsvVbHDSQNjMiHas0kcj0zANUDOIljRxHkc8sWCMRB8OOFmJtsbGV5T8tIjRxKictRbmP0aJ22hZfMaJN6BJu7RPaMr1lDukcJUY5QBxjcAVmyYyjmCNPNXDdY3OJC37KfKi3QddF9vopWTa6AZdyOLF6w3KblMTh654MP3rZzh1g7YyZrjPLqoBmpcfWxrLCoTbCGPIDtkKc+HK5lu4oaET6ZIBottSZSFKhSJXisH3RBT4EWYW+F6Jmemn3iuqZX7XJDaTelWLju8LqGgwLWS75Q4I9esEqKKoRTZAk/Uz182pQ+cCV4lVs6tF8JAKcO176BIjiEL9arAAqvt0YtcjHZSWhLoybDGQEYOa+KnMGOEaL4BaWtOYHF4PHbZgMTUsh13Tbq4zuNQyHQlgYVD63KSsfmJVYpRDCuNsNyZOaA98hPwaXJwHBoAcPGgJGINKG6DBhNLUOSygOD4NVX0YQIkCnqiMzu2yMRAe+6rnPHkARcViFvQBSsV4FzJgnqD1vg3Hq/18Nxa+SPBDe6LrvsMnJ7QocaAG4h89U0fjL6gtYGwVGzjHmb/ILJBoS7esFJd0qYsOGOwOBdk0tACC/hw2ATjiN9ZOXRSAvvI9ooKMWa1tKEpLKYGnU3o8gIXRXwxz/ykwiGOPyyMjb5AET5NkXZNGZtidaFH5URtDTGTzUJVnjH9DkonTrVHJ/im04/5adQbZDXaRjZbaNmuLiH4cU9G11zGQtX0A9YthLqLH/2euSG3uN/qR1N6O98jachpqhhSTKSnRyQkVzZRmrqhcoDKF6DvcBYzUgLwJY27aoVaGbx8QrfjK4gFXqjSqwfqtbRB19AEMDrGd8Nz4Yxg0Xo4eirJKohzoKd/SCVvYt+H7SiMSJeSfuZLP5JI4AxYPUQEUF7JmetTrUGPuk2Bp9QYb2gqDUsPPPdloJ0j6aJ9LaK+OAR4etyB6kQA2Fk7+ClJjCSQI2sBumD5zzROCJZqYc5bm8JRa4utUlNtEgJswJtNZsmdd/g1L+iE8EM22BfkTBvl2pxrwpeVYRWpGdEF+qyVvhXCNdTkzDqnSQKiVKtF1oDF8mAC4qpkDDQ0mFatZ4oo2VjRnIWygNjoOZAb0NDUpy4HJtNmcL0Xqlvia2Xr1g9ZZ2Jf6VWGE2LlKzHMiXVmUhzQM9PdUvQmwIgGIGfVgg34h2Nr91TffoqfEb655qg8wBAxou4pBS2ULIyJAphOgoQyrO7RsMR6SNaEO+jVXEoECnQ6LH6FB2VhAiAqsGYlojdReIwTV/FOjKz1F9Ggb7ZLNNYOpgAiNU+e8V8bIZDvHEqb9PPGYP4kOgAqwOC3xQZjbsujdyfuBwtMabKXwYqGT86pAH8T5dDYuSpkGeoAfr9XgGz+ww/380iYZWeN9RHOm7aq/BnhoM9YGarkyZwxCXdI8YTVmJyVehXD2lLLYiZ6o7QyBfnAzGS5CeXjYEgpCB12xwQg+aRRIDNBn3lUs3UBg9VrJ0klopBdQ6tqspK6mdL5fZdd5pp3SaJvevKREbXXhEh6gIyN5ccmyYWjF0jApddYpjCzAH2XbAZhPgIpBp+XeQWdER8PToU5rJbs2Frvnpk8jaGhAyS0kBCg+ZQxe6UvW+wGdzOR2Wmm+FOgMh0MN8g6BWvcNaqKmFWUh8LL2xAkr6mzPbk9GYUWanjLUGiXkAxDiHqi2FbspwLYJyDMkEVSYZRp9JVCdMaLBs/owpxBnmoxEMYFOHZQSLoRC3mYXB0T995x2rgXxWOa0hEc6nDVy0ZprUjAU9SL8IUxb9FFdyJtCieqFaAkTLqPWtgNvRuuB0YLuU56xzWTTWkeFN5fqiT8tqY2KzPaq5gGVAGhmWKDuyVUalhWjp64xHvGrikKTQuLNZvLInq7HgRnkfqVGnJWnBrAlxY5Sl/bNyGvwC5VoQboojlwe0c74knm7iRjw5iIAkWo04qwGAFeWn1InRCT9ESJFGi8Lmp46rDsB2Rx5LNYiUATsZbQDDkRGaK5jgXAy2OpnEHxWJY+LGta3yKfOVT0lMQob4ofxWeUPkneci8hmeh+wtFNmFVp7uoltckV9DMRCJGk5w4ILzZdyqkW8xBuTp5HwUFBFCzSSpseJ6KaZptIXCRDYZwummQS04AvH4JfrUm7Y/yzfQgLDmK5SktszoFQWqBR7QK3yccVxEN+PqZlU0kReM25+WSTUcn+RGtQ8xeXZI/LVQTIrKDLaTVUTVUxUmeQEBZcOImi00TfQcGR4HGuw1eB6CDjxOpNCgCEnpQc1RjkMBgOXcAABL/SURBVPOPI6rmHvFIPbJhQI7WJrGZtaYarLDjnwiPxmqmDdFVep8WrRJhw3gygRnEo7K3IFqJo8I6jApiZyecl4wjppq46YqTjATYwKApRfJNSFh4FoSOD9isFHXxk1wG1O/Wjxo07pCF5mNjDDhx341fwYI0YXmL25C1eqAR/jMXfix7F1omjgwGySKMnL1W5YErkt9ZBHegp4AggSTsCBZDOioX1AxLpf9IIvKk0W1H5aJmo2kojqAjQrbgQZKlVgekT2dw2dOUhBldt1qFNaqC4uWXsAtcgwWqikx4EC3eCtlydi1lUEJUCdmLVKecbMYuBYZqY2ldmo86ZU0YgQA8/9Ksm73uKCO3QmCYJuwm0rr6pUtkofrRI3lHM0JLTnpirfMJeMavKc+UE+ohPtLSMHZswSb+qr4+xCZfhBYhTKwc41bUAeMofjhHxGHAKUsXas4gY5yQcEg5ocbiP0VP4KGZj6iUjQXY5SazQqkBeQs41Dr1GQ1Z7Aev2TQDD/omNqobGgx8I0Zb1GV+BzAgnuPQrF7w55iIxpRu6plaYBVaC9GiUV7AnFNhQt2aUWdlhHiqIghPzYjWNWYiA/0Z9lSTqlN5LtEPBSgvEMU3bbQkw2xw6CkkLa7H8BOcRnlQJM87UJogBAajfUELCqhTOqMRKj0EPSwo4aWkCtXJJdIyXVj452U36DKtGD2HCgPFqEHqCvCrRgcP3wW8syTUDg8cPRMFAEi2nm8cgQoZHSFfxdSQyvI/u+YJMwOXmljQF9owyWDCBJ1qvwnuI3bNo/rQCN4VYuHY/6HbWmWRps/Fh/7ViDsJKnq3KaNhAR6bF/LMkIyTko5InPbDDFNlssJRLGRemPqkajVA+KgUFyqQNHDavguYGPFIHQ0mLRFAzWcccYU8sfdENvpCu4ZSN5i6IfJAV9BYObnIXJImK8akCNMWytO48FvdgXuK8qVXMbiic6MlCJ8+0q5Q6qSUgi2ox/6gDSC0CpkObolXtKF90QAmbUOmJOYJeQDIMaCNZOZkMwVCp6BRvfTOhib28CLM6CqbNBqUPo9HzDr6Qv3gTRjVd/UZO0HzBTjVI8ECkIyd0xvAlZ4qLFH3gYdLGiSX6MtozxCrrhmlcR/MqH62OXJ+WJyOdGfeWoYPWqNrTinSu84dosJUSHA/OVCUahpXoqiPDJns+sFKEh3yFyFCqkKVIFRCWKZq+JOZ2YKHOEpuKX+CgMSocxoYHRNUdA+Zp/EgalFdwJfErELaUFijSZ3WU8aCG+rln7iQHJQWULwORQEzF4tk4q8HvozpNz8CcYZYUKkvjujhUHbTwNLIIcBsSEQ67qYwzist4PKTiw8V4K79tDuiVzdaYNONYnPjLf+6PvBTpADBYdvpC8iNVMV9qqVS96kyxlIoRBlHHLxiU8fowxiR6vhfl95Sv607+xYWKpp7QZm9XwWeK9j8DwuRxglhQihB5NPiJFHze0syGAnAgZnBmGR6EUnGb+fKR8xZLdKLtRYu0mAkFJUOR3F3wJ6hkMe0rGVwKQTuNaoTOCrILb7oQ+iz8eQrr1IYMLhlpfCz65l7QeVtdPQqpekmRVU7v6R+M3f0BMRqRGTiU0YlmyGwUvrpClKIGvXblEZacg3rX/EaPXeXtajmBb9wqt5qqkojta8GBSPDg8gNatZ3Va4+YBMJEiM4alapyKe+AICGhf/4R73WLRGH6hNjay7MD57z09qyxvVhRKiS9j8f0hHVrnCqd/WSPdUPq0KsRrJUOFTbutwrwg7ps4BA/WGRJTaG7Kt+TxpZoFiP4T2wTXwzr/MG3iPmM0s11gjwyochihduqJhOGAgonEKcdA4asxHScMFxDDg1Jtg0m7gNS+ApX2mEqSuQhQbony/WmchHZABcp/TMEacGykACO/jrNCVUHZ+CB9Yj4rGZa/XwoGW4+YLU1B0+NB580ikQpQtRqfVs+qsJLBjVZVUsWEXMrj8CUm1oBqkGq16Y446NtRtT6IwXRVeqng66stGE0pC3nAA/NkFhBLtdm0xKviAqSIbJQNBQApHxlo68BXpjEZI0QGMNUSGV0pprChbHA1GF0Y2TsK6P4lPqoSAUJoV5/WvjrJ/8b2Baf1UjP816hCbgGcIqUXB2whmSEKzbKFAlfE+45H827ZEIFuOSnvm8SRyAQMIa9mgIG/rPOLCIm4bBtN7VCACV0Ko6jHy4rR+6pclicteVEw71ADwYUu0785S7Qrt6ZFC5l61PevSHL9XsEKNG5Oqlc2zi2Us/v6+K8AKdcMNEYalGakhTA/nH2JgI4CINu9Qd4HY/VD/obBnTiFjCn21yWk/QFihrxfjUN4s/lDcMnmxUzl1RsBGEcA9btKFsvmOP0MX0ryN/UBuRVFj0uinJBIZVi3ROLsaBCh3YjJa1bUX10OCxf6x85D6vuDZUm64WMKx+bth91SySVQF9SNS14Ic+uZvuXZEoW3PwP0BXbIIB6v+vvfPZbSM5wrhEDkX9zSJ7yMVv49dY5JBXSF7AAYIEfo095JhbjosgTxEgQBDsntcXr2VREofM76vqbg5FKd6VKNs0v7Y87O7pru7+pqZrqv+VMioHnK1XlHg+9AiHU67SJDF3A1ollloqXXRpuq30WVuVGrDofrhMr7aX6iU7ZXeoFNzQvo9VMzJB4qcESTmQVGXoAUGAJglglausDTEaVtu+qmlFPp5vQVWUcfUWXn0oDFxCp69+3eM/H3RaDorwVjUYV6SKang8awGG4suQlEiQRVglPdVHPjU04wkQAQdCO2oeHw+ROpsTCVRucYW3qaEYLJzol3rxq7KCkiRBeZCJWNwM4U9qffDhhF5wgHiptVqjgUoTbwYDht2U6VJ6YknX6JACWxrM14syxUe8BD8FkxE01FL5dY23IOIV0EhdOFrK17Tu8lIOuIJXI/OSCk+8R5kDf7A6IdWeCpOA91cBgEUdET9ASjWX03Pkxc8So+6KrbVSKQXZ6PvUi8NEElRgiL/cJx1koLtKriIy2B6u7qshtR/gdrAEv9RD1yyr8DAPXQpEqYMkYnHUdqFZILbPaeRG3RWbx7RfEL6SrNCKDzpQSDJqxzcEBZb1jVFMfNHRAL3OWWYUnowXz1Ww1HbrnsompkSFP+si8Aq/6WbA2NqrbqFKBBVUUnDiqYbQqaigSOJxFT5snE/zWOzfZBwS1NnHrvpHeZUxSkVQd8qUVrB6eYgaIeeP1qWuRw31ncxzj8J0LU9KM8QKaclouHwyVCxC+Uzyzs+9anQKHOKql57vDsauQpYS5FnwyLVR74g1B7pLYh1Tzes040wwtibS42JBSMol9VWHka2ixq06BeWNKtGYYGrVviKFtzCOHlW4wa2MKNfAYhizRqfdrdmTbKFJtnxnav5VfI0Z/hZ+alGNeIsZeIakSlsGd/FmgtWtSm2YMXMoTb27TmMVfyeXOojmIm8rSCk3qdX0d+iQsmSMBKua1PStkKFHye5N0Mq9924l0apaIz7wm8VFu1SwUrfHWl+nYeSdNt4prt0t8WsUBqiKYnEtC+FGrUW2mHvvVhrxW3rwyvPE3QvU+gNNCq24VZZ8dxqF9nmxVmQNRLIBkdqQ9gJucmxkXWWJoBrbSlR3Fo8jequSsnHUesrIXS4FsQGdpCkKQXBVaNJv/X4QKN1u+Bv42WsP61YKqxRKsFAo1c70lUj0xYUFlKDGrzxDIviHoqLdarlWraj3Nm+VmAEUm7lqbv2W9HdQGmQnTYEisrUSI1SzZ4BrgtOCzRPxyhuUW5VW1MQ2axA1/DNxS9nyivZDxbVyH+FBqiGeOLGTpdyarWTyWCbFpSwhw7Q0jkN0OX0ShZOkjL8j31LEoRBSpaqHEtA/OyNgBIyAETAC20cg5EtIH2RN/EnocKqRlnlzxjjDFcfHnMrWYVKAGCqAGUuOQ5Tu3J0fs0sFNYxDCAlyQBYCuMhnzU+i2mtEZP1bYPtNMEUjYASMgBHYTwSKfJFep9FAqeYxHIhdGAYPWdnEGOnl5eXhEQZhTtC7dLjm9UzqFwPCLPzQIjrZ4b1GWRvoYZCTNiYVTGp40x/3E2S32ggYASNgBJ4HgQf0sBw2ROPCNDaHlWDDPkcXqQTSSksTv/vuH2NMTXdLzCHN3+mEEpmmldYVEitmUzRHnXO8z1N5UzUCRsAIGIF9RiD1sNwBUvUwlgWwzkVyasnJNR27BaZXc/YoyKIbkTpg/vd/eP31ctbdvsO0Bseus0cdoUcWy7B9Zia33QgYASPwkRH4PzIMicVONMyAIMO0MWVydjs/o3qsrZ/87rfffNW/G9+8nWJ7juXNWDdldalOTRroYWwjYBzRethHfqQuzggYASOwNwg8JMM4I5vZL6yWs8JQW/empz9d9VfnL/78138iqVg4r1XxnIusSTN2cMXa/L0BzQ01AkbgFyNAL8E0BN0FOXNmQrv2OQxClrA4y1imBfDjIZm7lF+MrzOsI8CWbSbDYCo88BUcxYRXsp8GGeXq/qEMbV6fY8n/ZimOMQJGYFcQoAehT8HRoWBviCuT7ezMoYuhf6EV+FPOEZPdza40zfX8VAgw+IeLjx6NA8YmZV3Ll1DsEsP/9upqcvIVvEfiKsMiZ7mwmb5uaU7RlXSHSew3AkZgnxGg+8ilYoCAiCJIz/LixQs+lgki0ohHkhE/46yjcPsMl9v+MxF4aCwRKcYn0ekU6+qw1ujf//0BNT858O5CeQ0N3O9KSitk98PjWCOwTwgglbK5KFjp6FDQwxBabD5FnnGXCQz6HXbsZHCf4HFbt48A3IV+xuGIOKjDWukpepikX9O2tAksVunXaqwCHxpyrDn8awSMwJeMAHKL5iHJ6FaQWwTRvbTn9ODg1atXTFrQvxCveXhZ0btpMu9LBsVtezICD+lhnCUF7b/86Y/sesYGDfyGlh9DjoOxRDI/qGMhunSwdDmS9cn1NAEjYAR2G4HsPrINyCokFlKKK/H0Ly9fvkzxlhKOZKTZ7Qa79h8FgYdkGAZd4C6+hzBrDYPh+G7q43D5u2OJH6WeLsQIGIHdRiCFVkostK5c00HPguhKJYyhRb6UGUUk0mOJu/2wP4Pa8w2EY5ga7sKT064wIVVDhrEFmk8kDiSOwQEdUyXXjgxXIE56znOkU04q0s4IGIF9RQARhXCi9Qgq5BYeOhQ6lxRjBPGTBtmWY4n7ipPbvR0Ekp2YEkv9nq8i5BmRUGcBon4whNMsDBEJbyKr4qCpNLtAhDaSlaOntlMrUzECRmBXEaD7yB4kv4vpWZBYLRL9DJGGPONKfH4v72pTXe/PAwG4K5mN6jDDqtN9Yytz6GGlijI6V6fENscY49iOz6MxroURMAJGwAgYARDYlFWGxQgYASNgBIzAbiBgGbYbz8m1NAJGwAgYgU0ELMM2MXGMETACRsAI7AYClmG78ZxcSyNgBIyAEdhEwDJsExPHGAEjYASMwG4gYBm2G8/JtTQCRsAIGIFNBCzDNjFxjBEwAo9HIHehsncnHcHcDf14is5pBGSIZQkvgUR62l4xyzBzhxEwAltDgP6Fsznoa9LwCnS9x3lr4O43IXbKp9zK7fMwGKwFJPfZD9tvpNx6I2AEHo1AHtWBDBueVY9gezRBZzQCQwTgpThWenE4lqFwblkPG+JjvxEwAk9CII+VymOBIER/g/9JFJ3ZCAQCaF0ck5gSLHWyZDbLMDOIETACW0OAgUR6Fs5j5Tg7PAgwbBVajG0N330llKPTOUyNJIO1EGYEwcNjifvKFG63EXgGBBBXr1+/hjBTF3m4+MnJCUEv63gGsL9AkmkXZbRAuVpgLwWLlxxHz1nz2A9jdJpz6/slnHU7m80m04scS7QM+wL5wE0yAp8KAeTW+/fv6WvQw+h0Li4ukF6pnH2qKrncHUKgyLCc5JKlFMajJcO68RGLOObz6+4I5V6GfmhUWdORZsMIL7DDcjjG7A/Sj4+ptCI2UmSIRAyyyEM4gzsEi6tqBIzAcyGwZM5LJpxwGL0Y3dz2Z+e/QmjNb/tuMn1/dS2bT2PsEdoZgQ8jgNyBmVLWSH5J7pALyz4LZNdyNF4edLfL+WHX3cz7bnoEX3Xjxc3R+GB+008Ou3l/cDyZLJb9ctkjzcjah9ySfbEQchHDRTLQzggYASMQfUNZHPav/3xvQIzAUxDAjGVklw1L/Gl4GVVM+lM44lGrkGRYqGOccXEw7pZHZ5eLyfHoFO/B5OCnvr+eX5+fnt/MNV0WSljJHHpd+KuRsXrDv0bACBgBI2AEnooAskVzYBsL5ls8Ni5jyBAhN7oenfRoZG8Of/1mcfabi7M3s0tGAFD8l9181t920rWWLMLnJ8cb1+TZU6vq/EbACBgBI2AEhggsqn7EHNaD8U2GXR2e3I4m3exw+u3f/j56++PpZMlMGXKrQ2b1101uIRMZg4z1IR2aXdX1hgXYbwSMgBEwAkbgqQg0uXOHUItHHjEF1iPhluPZ+GQx/vp/Rzl4uWlYaxoAAAAASUVORK5CYII=)"
      ],
      "metadata": {
        "id": "AfhHDbpSO66j"
      }
    },
    {
      "cell_type": "markdown",
      "source": [
        "You can see this screen and install the required corpus. Once you have completed this step let’s dive deep into the different operations using NLTK."
      ],
      "metadata": {
        "id": "BC0d0fOoO_t9"
      }
    },
    {
      "cell_type": "markdown",
      "source": [
        "---"
      ],
      "metadata": {
        "id": "aIpgxfP_EY_n"
      }
    },
    {
      "cell_type": "markdown",
      "source": [
        "# Section 4 - Exploring NLTK Capabilities\n",
        "\n",
        "1. Tokenization\n",
        "2. Lower case conversion\n",
        "3. Stop Words removal\n",
        "4. Stemming\n",
        "5. Lemmatization\n",
        "6. POS Tagging"
      ],
      "metadata": {
        "id": "_AU4GbpCEaRs"
      }
    },
    {
      "cell_type": "markdown",
      "source": [
        "## Tokenization\n"
      ],
      "metadata": {
        "id": "5TOn9TN3PQ3l"
      }
    },
    {
      "cell_type": "code",
      "source": [
        "import nltk\n",
        "nltk.download('punkt')\n",
        "from nltk.tokenize import sent_tokenize, word_tokenize\n",
        "\n",
        "text = \"Natural language processing is an exciting area. Huge budget have been allocated for this.\"\n",
        "\n",
        "print(sent_tokenize(text))\n",
        "print(word_tokenize(text))"
      ],
      "metadata": {
        "colab": {
          "base_uri": "https://localhost:8080/"
        },
        "id": "a645DpFqPkhL",
        "outputId": "049697bf-59cf-4ab6-f993-fc63e611d57f"
      },
      "execution_count": 43,
      "outputs": [
        {
          "output_type": "stream",
          "name": "stdout",
          "text": [
            "['Natural language processing is an exciting area.', 'Huge budget have been allocated for this.']\n",
            "['Natural', 'language', 'processing', 'is', 'an', 'exciting', 'area', '.', 'Huge', 'budget', 'have', 'been', 'allocated', 'for', 'this', '.']\n"
          ]
        },
        {
          "output_type": "stream",
          "name": "stderr",
          "text": [
            "[nltk_data] Downloading package punkt to /root/nltk_data...\n",
            "[nltk_data]   Package punkt is already up-to-date!\n"
          ]
        }
      ]
    },
    {
      "cell_type": "markdown",
      "source": [
        "## Lowercase Conversion"
      ],
      "metadata": {
        "id": "KBQBBgpuPoL5"
      }
    },
    {
      "cell_type": "code",
      "source": [
        "import re"
      ],
      "metadata": {
        "id": "WgLSeaR4RCFA"
      },
      "execution_count": 44,
      "outputs": []
    },
    {
      "cell_type": "code",
      "source": [
        "text = re.sub(r\"[^a-zA-Z0-9]\", \" \", text.lower())\n",
        "words = text.split()\n",
        "print(words)"
      ],
      "metadata": {
        "colab": {
          "base_uri": "https://localhost:8080/"
        },
        "id": "p-IJFl-hPkeX",
        "outputId": "60576ec7-32ec-48de-c228-c2a08ed52ce2"
      },
      "execution_count": 45,
      "outputs": [
        {
          "output_type": "stream",
          "name": "stdout",
          "text": [
            "['natural', 'language', 'processing', 'is', 'an', 'exciting', 'area', 'huge', 'budget', 'have', 'been', 'allocated', 'for', 'this']\n"
          ]
        }
      ]
    },
    {
      "cell_type": "markdown",
      "source": [
        "## Stopword removal"
      ],
      "metadata": {
        "id": "9wHP3lHaPvc8"
      }
    },
    {
      "cell_type": "code",
      "source": [
        "from nltk.corpus import stopwords\n",
        "\n",
        "print(stopwords.words(\"english\"))"
      ],
      "metadata": {
        "colab": {
          "base_uri": "https://localhost:8080/"
        },
        "id": "GO65VH5OPkb3",
        "outputId": "5001e4b5-659d-429c-baa7-76cfccc2d03a"
      },
      "execution_count": 46,
      "outputs": [
        {
          "output_type": "stream",
          "name": "stdout",
          "text": [
            "['i', 'me', 'my', 'myself', 'we', 'our', 'ours', 'ourselves', 'you', \"you're\", \"you've\", \"you'll\", \"you'd\", 'your', 'yours', 'yourself', 'yourselves', 'he', 'him', 'his', 'himself', 'she', \"she's\", 'her', 'hers', 'herself', 'it', \"it's\", 'its', 'itself', 'they', 'them', 'their', 'theirs', 'themselves', 'what', 'which', 'who', 'whom', 'this', 'that', \"that'll\", 'these', 'those', 'am', 'is', 'are', 'was', 'were', 'be', 'been', 'being', 'have', 'has', 'had', 'having', 'do', 'does', 'did', 'doing', 'a', 'an', 'the', 'and', 'but', 'if', 'or', 'because', 'as', 'until', 'while', 'of', 'at', 'by', 'for', 'with', 'about', 'against', 'between', 'into', 'through', 'during', 'before', 'after', 'above', 'below', 'to', 'from', 'up', 'down', 'in', 'out', 'on', 'off', 'over', 'under', 'again', 'further', 'then', 'once', 'here', 'there', 'when', 'where', 'why', 'how', 'all', 'any', 'both', 'each', 'few', 'more', 'most', 'other', 'some', 'such', 'no', 'nor', 'not', 'only', 'own', 'same', 'so', 'than', 'too', 'very', 's', 't', 'can', 'will', 'just', 'don', \"don't\", 'should', \"should've\", 'now', 'd', 'll', 'm', 'o', 're', 've', 'y', 'ain', 'aren', \"aren't\", 'couldn', \"couldn't\", 'didn', \"didn't\", 'doesn', \"doesn't\", 'hadn', \"hadn't\", 'hasn', \"hasn't\", 'haven', \"haven't\", 'isn', \"isn't\", 'ma', 'mightn', \"mightn't\", 'mustn', \"mustn't\", 'needn', \"needn't\", 'shan', \"shan't\", 'shouldn', \"shouldn't\", 'wasn', \"wasn't\", 'weren', \"weren't\", 'won', \"won't\", 'wouldn', \"wouldn't\"]\n"
          ]
        }
      ]
    },
    {
      "cell_type": "code",
      "source": [
        "words = [w for w in words if w not in stopwords.words('english')]\n",
        "print(words)"
      ],
      "metadata": {
        "colab": {
          "base_uri": "https://localhost:8080/"
        },
        "id": "V-IlUoh0PkBb",
        "outputId": "e242e2f9-807e-45fe-bfa1-0d4763b14e93"
      },
      "execution_count": 47,
      "outputs": [
        {
          "output_type": "stream",
          "name": "stdout",
          "text": [
            "['natural', 'language', 'processing', 'exciting', 'area', 'huge', 'budget', 'allocated']\n"
          ]
        }
      ]
    },
    {
      "cell_type": "markdown",
      "source": [
        "## Stemming"
      ],
      "metadata": {
        "id": "DGUZdvyhRMy1"
      }
    },
    {
      "cell_type": "code",
      "source": [
        "from nltk.stem.porter import PorterStemmer\n",
        "# Reduce words to their stems\n",
        "stemmed_by_porter = [PorterStemmer().stem(w) for w in words]\n",
        "print(stemmed_by_porter)"
      ],
      "metadata": {
        "colab": {
          "base_uri": "https://localhost:8080/"
        },
        "id": "j_svPcj5ROLR",
        "outputId": "54a48ef2-21d2-4757-bba9-f782333bde82"
      },
      "execution_count": 48,
      "outputs": [
        {
          "output_type": "stream",
          "name": "stdout",
          "text": [
            "['natur', 'languag', 'process', 'excit', 'area', 'huge', 'budget', 'alloc']\n"
          ]
        }
      ]
    },
    {
      "cell_type": "code",
      "source": [
        "from nltk.stem.lancaster import LancasterStemmer\n",
        "# Reduce words to their stems\n",
        "stemmed_by_lancaster = [LancasterStemmer().stem(w) for w in words]\n",
        "print(stemmed_by_lancaster)"
      ],
      "metadata": {
        "colab": {
          "base_uri": "https://localhost:8080/"
        },
        "id": "0_UX0XYBEelq",
        "outputId": "fe558024-86cd-4d25-d41b-b5981ed3787f"
      },
      "execution_count": 49,
      "outputs": [
        {
          "output_type": "stream",
          "name": "stdout",
          "text": [
            "['nat', 'langu', 'process', 'excit', 'are', 'hug', 'budget', 'alloc']\n"
          ]
        }
      ]
    },
    {
      "cell_type": "code",
      "source": [
        "from nltk.stem.snowball import SnowballStemmer\n",
        "# Reduce words to their stems\n",
        "stemmed_by_snowball = [SnowballStemmer(language = 'english').stem(w) for w in words]\n",
        "print(stemmed_by_snowball)"
      ],
      "metadata": {
        "colab": {
          "base_uri": "https://localhost:8080/"
        },
        "id": "X7GL0GDwPkGV",
        "outputId": "4245a4ec-dbfb-44ec-a36a-456b2d9359dd"
      },
      "execution_count": 50,
      "outputs": [
        {
          "output_type": "stream",
          "name": "stdout",
          "text": [
            "['natur', 'languag', 'process', 'excit', 'area', 'huge', 'budget', 'alloc']\n"
          ]
        }
      ]
    },
    {
      "cell_type": "markdown",
      "source": [
        "## Lemmatization"
      ],
      "metadata": {
        "id": "MUWm0UBOSV0W"
      }
    },
    {
      "cell_type": "code",
      "source": [
        "from nltk.stem.wordnet import WordNetLemmatizer\n",
        "# Reduce words to their root form\n",
        "lemmed = [WordNetLemmatizer().lemmatize(w) for w in words]\n",
        "print(lemmed)"
      ],
      "metadata": {
        "colab": {
          "base_uri": "https://localhost:8080/"
        },
        "id": "mxWbHdZaPkD1",
        "outputId": "9d7cbe18-feaa-44ac-a700-86a31790c805"
      },
      "execution_count": 51,
      "outputs": [
        {
          "output_type": "stream",
          "name": "stdout",
          "text": [
            "['natural', 'language', 'processing', 'exciting', 'area', 'huge', 'budget', 'allocated']\n"
          ]
        }
      ]
    },
    {
      "cell_type": "markdown",
      "source": [
        "## POS Tagger"
      ],
      "metadata": {
        "id": "fSXE25ucUdjz"
      }
    },
    {
      "cell_type": "code",
      "source": [
        "nltk.download('averaged_perceptron_tagger')\n",
        "from nltk.tokenize import word_tokenize, sent_tokenize\n",
        "stop_words = set(stopwords.words('english'))\n",
        "txt = \"Natural language processing is an exciting area.\"\n",
        "\n",
        "# sent_tokenize is one of instances of\n",
        "# PunktSentenceTokenizer from the nltk.tokenize.punkt module\n",
        "tokenized = sent_tokenize(txt)\n",
        "for i in tokenized:\n",
        "  # Word tokenizers is used to find the words\n",
        "  # and punctuation in a string\n",
        "  wordsList = nltk.word_tokenize(i)\n",
        "  # removing stop words from wordList\n",
        "  wordsList = [w for w in wordsList if not w in stop_words]\n",
        "  # Using a Tagger. Which is part-of-speech\n",
        "  # tagger or POS-tagger.\n",
        "  tagged = nltk.pos_tag(wordsList)\n",
        "  print(tagged)"
      ],
      "metadata": {
        "colab": {
          "base_uri": "https://localhost:8080/"
        },
        "id": "J5sitrDdSb0S",
        "outputId": "acb646f9-7406-485e-9a5c-469840fa8459"
      },
      "execution_count": 52,
      "outputs": [
        {
          "output_type": "stream",
          "name": "stderr",
          "text": [
            "[nltk_data] Downloading package averaged_perceptron_tagger to\n",
            "[nltk_data]     /root/nltk_data...\n",
            "[nltk_data]   Package averaged_perceptron_tagger is already up-to-\n",
            "[nltk_data]       date!\n"
          ]
        },
        {
          "output_type": "stream",
          "name": "stdout",
          "text": [
            "[('Natural', 'JJ'), ('language', 'NN'), ('processing', 'NN'), ('exciting', 'JJ'), ('area', 'NN'), ('.', '.')]\n"
          ]
        }
      ]
    },
    {
      "cell_type": "markdown",
      "source": [
        "---"
      ],
      "metadata": {
        "id": "nA0ZQDl0Ee01"
      }
    }
  ]
}